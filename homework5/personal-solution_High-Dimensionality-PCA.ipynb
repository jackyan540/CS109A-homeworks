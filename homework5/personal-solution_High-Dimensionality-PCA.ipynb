{
 "cells": [
  {
   "cell_type": "markdown",
   "metadata": {},
   "source": [
    "# <img style=\"float: left; padding-right: 10px; width: 45px\" src=\"https://raw.githubusercontent.com/Harvard-IACS/2018-CS109A/master/content/styles/iacs.png\"> CS109A Introduction to Data Science: \n",
    "## Homework 5: High Dimensionality and PCA\n",
    "\n",
    "**Harvard University**<br/>\n",
    "**Fall 2020**<br/>\n",
    "**Instructors**: Pavlos Protopapas, Kevin Rader, and Chris Tanner\n",
    "\n",
    "<hr style=\"height:2.4pt\">"
   ]
  },
  {
   "cell_type": "code",
   "execution_count": 1,
   "metadata": {},
   "outputs": [
    {
     "data": {
      "text/html": [
       "<style>\n",
       "blockquote { background: #AEDE94; }\n",
       "h1 { \n",
       "    padding-top: 25px;\n",
       "    padding-bottom: 25px;\n",
       "    text-align: left; \n",
       "    padding-left: 10px;\n",
       "    background-color: #DDDDDD; \n",
       "    color: black;\n",
       "}\n",
       "h2 { \n",
       "    padding-top: 10px;\n",
       "    padding-bottom: 10px;\n",
       "    text-align: left; \n",
       "    padding-left: 5px;\n",
       "    background-color: #EEEEEE; \n",
       "    color: black;\n",
       "}\n",
       "\n",
       "div.exercise {\n",
       "\tbackground-color: #ffcccc;\n",
       "\tborder-color: #E9967A; \t\n",
       "\tborder-left: 5px solid #800080; \n",
       "\tpadding: 0.5em;\n",
       "}\n",
       "\n",
       "div.exercise-r {\n",
       "\tbackground-color: #fce8e8;\n",
       "\tborder-color: #E9967A; \t\n",
       "\tborder-left: 5px solid #800080; \n",
       "\tpadding: 0.5em;\n",
       "}\n",
       "\n",
       "\n",
       "span.sub-q {\n",
       "\tfont-weight: bold;\n",
       "}\n",
       "div.theme {\n",
       "\tbackground-color: #DDDDDD;\n",
       "\tborder-color: #E9967A; \t\n",
       "\tborder-left: 5px solid #800080; \n",
       "\tpadding: 0.5em;\n",
       "\tfont-size: 18pt;\n",
       "}\n",
       "div.gc { \n",
       "\tbackground-color: #AEDE94;\n",
       "\tborder-color: #E9967A; \t \n",
       "\tborder-left: 5px solid #800080; \n",
       "\tpadding: 0.5em;\n",
       "\tfont-size: 12pt;\n",
       "}\n",
       "p.q1 { \n",
       "    padding-top: 5px;\n",
       "    padding-bottom: 5px;\n",
       "    text-align: left; \n",
       "    padding-left: 5px;\n",
       "    background-color: #EEEEEE; \n",
       "    color: black;\n",
       "}\n",
       "header {\n",
       "   padding-top: 35px;\n",
       "    padding-bottom: 35px;\n",
       "    text-align: left; \n",
       "    padding-left: 10px;\n",
       "    background-color: #DDDDDD; \n",
       "    color: black;\n",
       "}\n",
       "</style>\n",
       "\n"
      ],
      "text/plain": [
       "<IPython.core.display.HTML object>"
      ]
     },
     "execution_count": 1,
     "metadata": {},
     "output_type": "execute_result"
    }
   ],
   "source": [
    "#RUN THIS CELL \n",
    "import requests\n",
    "from IPython.core.display import HTML\n",
    "styles = requests.get(\"https://raw.githubusercontent.com/Harvard-IACS/2018-CS109A/master/content/styles/cs109.css\").text\n",
    "HTML(styles)"
   ]
  },
  {
   "cell_type": "code",
   "execution_count": 2,
   "metadata": {},
   "outputs": [
    {
     "data": {
      "text/html": [
       "<style>\n",
       ".jp-MarkdownCell {background-color: cornsilk;}\n",
       ".text_cell {background-color: cornsilk;}\n",
       "</style>\n"
      ],
      "text/plain": [
       "<IPython.core.display.HTML object>"
      ]
     },
     "metadata": {},
     "output_type": "display_data"
    }
   ],
   "source": [
    "%%html\n",
    "<style>\n",
    ".jp-MarkdownCell {background-color: cornsilk;}\n",
    ".text_cell {background-color: cornsilk;}\n",
    "</style>"
   ]
  },
  {
   "cell_type": "code",
   "execution_count": 3,
   "metadata": {},
   "outputs": [],
   "source": [
    "#RUN THIS CELL\n",
    "import os\n",
    "import pathlib\n",
    "working_dir = pathlib.Path().absolute()\n",
    "os.chdir(working_dir)"
   ]
  },
  {
   "cell_type": "markdown",
   "metadata": {
    "cell_id": "e3ac03bc-f0ec-4c6b-a41a-9c8eeaa80770",
    "colab_type": "text",
    "id": "-5WJkGo16514"
   },
   "source": [
    "<hr style=\"height:2pt\">\n",
    "\n",
    "### INSTRUCTIONS\n",
    "\n",
    "- To submit your assignment follow the instructions given in Canvas.\n",
    "\n",
    "- This homework can be submitted in pairs, and it is encouraged for you to do so. Especially during covid and distancing, this can be a way to work with other students and learn alongside one another. As future data scientists, you will often be expected to work with others, and working in pairs can help practice communicating data science concepts.\n",
    "\n",
    "- Please restart the kernel and run the entire notebook again before you submit.\n",
    "\n",
    "- Running cells out of order is a common pitfall in Jupyter Notebooks. To make sure your code works restart the kernel and run the whole notebook again before you submit. Exceptions should be made for code with a long execution time, of course.\n",
    "- We have tried to include all the libraries you may need to do the assignment in the imports statement at the top of this notebook. We strongly suggest that you use those and not others as we may not be familiar with them. .\n",
    "- Please use .head() when viewing data. Do not submit a notebook that is **excessively long**. \n",
    "- In questions that require code to answer, such as \"calculate the $R^2$\", do not just output the value from a cell. Write a `print()` function that includes a reference to the calculated value, **not hardcoded**. For example: \n",
    "```\n",
    "print(f'The R^2 is {R:.4f}')\n",
    "```\n",
    "\n",
    "<hr style=\"height:2pt\">"
   ]
  },
  {
   "cell_type": "code",
   "execution_count": 4,
   "metadata": {},
   "outputs": [],
   "source": [
    "import numpy as np\n",
    "import pandas as pd\n",
    "import seaborn as sns\n",
    "import matplotlib\n",
    "import matplotlib.pyplot as plt\n",
    "%matplotlib inline\n",
    "\n",
    "from sklearn.linear_model import LogisticRegression\n",
    "from sklearn.linear_model import LogisticRegressionCV\n",
    "\n",
    "from sklearn.model_selection import cross_val_score\n",
    "from sklearn.metrics import accuracy_score\n",
    "from sklearn.model_selection import KFold\n",
    "from sklearn.preprocessing import MinMaxScaler\n",
    "from sklearn.preprocessing import PolynomialFeatures\n",
    "from sklearn.model_selection import train_test_split\n",
    "from sklearn import metrics\n",
    "from sklearn.decomposition import PCA"
   ]
  },
  {
   "cell_type": "markdown",
   "metadata": {},
   "source": [
    "<div class='theme'> Cancer Classification from Gene Expressions </div>\n",
    "\n",
    "In this assignment, we will build several classification models to distinguish between two related classes of cancer, acute lymphoblastic leukemia (ALL) and acute myeloid leukemia (AML), using gene expression measurements. The .csv data file is provided in the compressed file `data/hw5_genes_multiclass.zip`. Each row in this file corresponds to a tumor tissue sample from a patient with one of the two forms of leukemia.  Note: there are two different forms of the response variable. \n",
    "\n",
    "- The first column contains `Cancer_type`: **0 = ALL** class and **1 = AML** class\n",
    "- Columns 2-7130 contain expression levels of 7129 genes recorded from each tissue sample \n",
    "- The last column `Cancer_subtype` additionally distinguishes between two subtypes of ALL, subtype T and subtype B (used in problem 5): **0 = ALL subtype T**, **1 = ALL subtype B**, **2 = type AML**. \n",
    "\n",
    "In the following questions, we will use logistic regression and PCA to build classification models for this data set. "
   ]
  },
  {
   "cell_type": "markdown",
   "metadata": {},
   "source": [
    "## Contents\n",
    "- [Question 1 [20 pts]: Data Exploration](#Question-1-[20-pts]:-Data-Exploration) \n",
    "- [Question 2 [25 pts]: Logistic Regression Modeling](#Question-2-[25-pts]:-Logistic-Regression-Modeling) \n",
    "- [Question 3 [20 pts]: Performing Principal Components Analysis](#Question-3-[20-pts]:-Performing-Principal-Components-Analysis)\n",
    "- [Question 4 [10 pts]: Principal Components Regression (PCR)](#Question-4-[10-pts]:-Principal-Components-Regression-(PCR))\n",
    "- [Question 5 [25 pts]: Multi-Class Response](#Question-5-[25-pts]:-Multi-Class-Response)"
   ]
  },
  {
   "cell_type": "markdown",
   "metadata": {},
   "source": [
    "#### <div class='exercise'><b>Question 1 [20 pts]: Data Exploration</b></div>"
   ]
  },
  {
   "cell_type": "markdown",
   "metadata": {},
   "source": [
    "[▲ Return to contents](#Contents)"
   ]
  },
  {
   "cell_type": "markdown",
   "metadata": {},
   "source": [
    "The first step is to split the observations into an approximate 75-25 train-test split.  Below we provide some code to do this for you (we want to make sure everyone has the same splits). It also prints the dataset shape before splitting and after splitting. `Cancer_type` is our response variable for problems 1-4, while `Cancer_subtype` is the response variable in problem 5.\n",
    "\n",
    "\n",
    "**1.1** Take a peek at your training set: you should notice the severe differences in the measurements from one gene to the next (some are negative, some hover around zero, and some are well into the thousands). To account for these differences in scale, normalize each predictor to vary between 0 and 1.   **NOTE: for the entirety of this homework assignment, you will use these normalized values, not the original, raw values**.\n",
    "\n",
    "\n",
    "**1.2** The training set contains more predictors than observations. What problem(s) can this lead to in fitting a classification model to such a dataset? Explain in 3 or fewer sentences.\n",
    "\n",
    "\n",
    "**1.3** Determine which 10 genes best individually discriminates between the two cancer classes (Note: consider every gene in the dataset).  Then determine the single best gene predictor.  Plot two sets of histograms of your `best_predictor` -- one using the training set and another using the test set.  The histograms should clearly distinguish two different `Cancer_type` classes.\n",
    "\n",
    "**Hint:** You may use any reasonable approach to determine the `best_predictor`, but please use something very simple (whether taught in this class or elsewhere).\n",
    "\n",
    "**1.4** Using `best_predictor`, create a classification model by eye-balling a value for this gene that would best discriminate the two cancer classes in the training set. (Note: Do not use an algorithm to determine for you the optimal coefficient or threshold; we are asking you to provide a rough estimate / model by manual inspection.) Justify your choice of value in 1-2 sentences. Report the accuracy of your hand-chosen model on the train and test sets."
   ]
  },
  {
   "cell_type": "markdown",
   "metadata": {},
   "source": [
    "---\n"
   ]
  },
  {
   "cell_type": "code",
   "execution_count": 5,
   "metadata": {},
   "outputs": [
    {
     "name": "stdout",
     "output_type": "stream",
     "text": [
      "(752, 7131)\n",
      "(564, 7129) (188, 7129) (564,) (188,)\n",
      "0.0    0.511968\n",
      "1.0    0.488032\n",
      "Name: Cancer_type, dtype: float64\n"
     ]
    }
   ],
   "source": [
    "#############################\n",
    "## DO NOT MODIFY THIS CODE ##\n",
    "#############################\n",
    "\n",
    "np.random.seed(109)\n",
    "#zf = zipfile.ZipFile('data/hw5_genes_multiclass.csv.zip') \n",
    "df = pd.read_csv('data/hw5_genes_multiclass.csv')\n",
    "X = df.drop(['Cancer_type','Cancer_subtype'], axis=1)\n",
    "X_train, X_test, y_train, y_test, y2_train, y2_test  = train_test_split(\n",
    "    X, df.Cancer_type, df.Cancer_subtype, test_size=0.25, random_state = 109,\n",
    "    stratify = df.Cancer_subtype)\n",
    "\n",
    "print(df.shape)\n",
    "print(X_train.shape, X_test.shape, y_train.shape, y_test.shape)\n",
    "print(df.Cancer_type.value_counts(normalize=True))"
   ]
  },
  {
   "cell_type": "markdown",
   "metadata": {},
   "source": [
    "\n",
    "## Answers"
   ]
  },
  {
   "cell_type": "markdown",
   "metadata": {
    "autograde": "1.1",
    "cell_id": "0a790850-87c6-4f46-b89e-048a2295c92b",
    "colab_type": "text",
    "id": "IGFtXJmQap2q"
   },
   "source": [
    "<div class='exercise-r'>  \n",
    " \n",
    "**1.1** Take a peek at your training set: you should notice the severe differences in the measurements from one gene to the next (some are negative, some hover around zero, and some are well into the thousands). To account for these differences in scale, normalize each predictor to vary between 0 and 1.   **NOTE: for the entirety of this homework assignment, you will use these normalized values, not the original, raw values**.\n",
    " \n",
    " \n",
    " </div>"
   ]
  },
  {
   "cell_type": "code",
   "execution_count": 6,
   "metadata": {},
   "outputs": [],
   "source": [
    "# your code here\n",
    "min_max_scaler = MinMaxScaler()\n",
    "min_max_scaler.fit(X_train.values)\n",
    "x_scaled_train = min_max_scaler.transform(X_train.values)\n",
    "x_scaled_test = min_max_scaler.transform(X_test.values)\n",
    "\n",
    "new_X_train = pd.DataFrame(x_scaled_train, columns=X_train.columns, index=X_train.index)\n",
    "new_X_test = pd.DataFrame(x_scaled_test, columns=X_test.columns, index=X_test.index)"
   ]
  },
  {
   "cell_type": "markdown",
   "metadata": {
    "autograde": "1.2",
    "cell_id": "0a790850-87c6-4f46-b89e-048a2295c92b",
    "colab_type": "text",
    "id": "IGFtXJmQap2q"
   },
   "source": [
    "<div class='exercise-r'>  \n",
    " \n",
    "**1.2** The training set contains more predictors than observations. What problem(s) can this lead to in fitting a classification model to such a dataset? Explain in 3 or fewer sentences.\n",
    " \n",
    " \n",
    " </div>"
   ]
  },
  {
   "cell_type": "markdown",
   "metadata": {},
   "source": [
    "*Your answer here*\n",
    "\n",
    "With P > N here our model no longer has a unique least squares coefficent meaning that it is possible to have infinite variance in our model.  Particularly when dealing with classification models such as this one, we are at risk for drastically overfitting our model leading to poor predictions. This is the problem of High Dimensionality that yields perfect collinearity of the predictors so the parameters are unidentifiable, meaning we can't uniquely determine all of our parameters which causes the overfitting since we can perfectly predict on the training dataset."
   ]
  },
  {
   "cell_type": "markdown",
   "metadata": {
    "autograde": "1.3",
    "cell_id": "0a790850-87c6-4f46-b89e-048a2295c92b",
    "colab_type": "text",
    "id": "IGFtXJmQap2q"
   },
   "source": [
    "<div class='exercise-r'>  \n",
    " \n",
    "**1.3** Determine which 10 genes best individually discriminates between the two cancer classes (Note: consider every gene in the dataset).  Then determine the single best gene predictor.  Plot two sets of histograms of your `best_predictor` -- one using the training set and another using the test set.  The histograms should clearly distinguish two different `Cancer_type` classes.\n",
    " \n",
    " **Hint:** You may use any reasonable approach to determine the `best_predictor`, but please use something very simple (whether taught in this class or elsewhere).\n",
    " \n",
    " </div>"
   ]
  },
  {
   "cell_type": "code",
   "execution_count": 7,
   "metadata": {},
   "outputs": [],
   "source": [
    "# your code here\n",
    "# Per Nabib Ahmed's post on Ed, we adapt our procedure from Exercise 10 to select the coefficients with\n",
    "# the 10 highest t-statistics after we bootstrap to get their coefficient distributions\n",
    "# https://us.edstem.org/courses/2332/discussion/157164\n",
    "\n",
    "# Helper function\n",
    "# t statistic calculator\n",
    "def get_t(arr):\n",
    "    means = np.abs(arr.mean(axis=0))\n",
    "    stds = arr.std(axis=0)\n",
    "    return np.divide(means,stds)"
   ]
  },
  {
   "cell_type": "code",
   "execution_count": 8,
   "metadata": {},
   "outputs": [],
   "source": [
    "# your code here\n",
    "# Bootstrap to find the distribution for the coefficients\n",
    "coef_dist = []\n",
    "numboot = 1000\n",
    "\n",
    "for i in range(numboot):\n",
    "    # Take frac=1 and replace=True to get a bootstrap.\n",
    "    X_new = new_X_train.sample(frac=1,replace=True)\n",
    "    y_new = y_train.loc[X_new.index]\n",
    "\n",
    "    lreg = LogisticRegression(penalty='none', max_iter = 5000).fit(X_new, y_new)\n",
    "    coef_dist.append(lreg.coef_)\n",
    "\n",
    "coef_dist = np.array(coef_dist)"
   ]
  },
  {
   "cell_type": "code",
   "execution_count": 9,
   "metadata": {},
   "outputs": [
    {
     "name": "stdout",
     "output_type": "stream",
     "text": [
      "Based on the highest t-statistics, the ten best predictors are:\n",
      "X59871_at with a t-statistic of: 2.3581\n",
      "Y07604_at with a t-statistic of: 2.3523\n",
      "AFFX-HUMTFRR/M11507_3_at with a t-statistic of: 2.3354\n",
      "X98172_at with a t-statistic of: 2.3208\n",
      "X63755_at with a t-statistic of: 2.2537\n",
      "U47414_at with a t-statistic of: 2.2517\n",
      "M19507_at with a t-statistic of: 2.2463\n",
      "X84908_at with a t-statistic of: 2.2336\n",
      "L40394_at with a t-statistic of: 2.2335\n",
      "HG2261-HT2351_s_at with a t-statistic of: 2.231\n",
      "\n",
      "The single best predictor is: X59871_at\n"
     ]
    }
   ],
   "source": [
    "# your code here\n",
    "\n",
    "# We use the helper function from above to find the T-test values\n",
    "\n",
    "tt = get_t(coef_dist)\n",
    "n = new_X_train.shape[0]\n",
    "\n",
    "tt_dict = dict(zip(new_X_train.columns[:-1], tt[0]))\n",
    "predictors, tvalues = list(zip(*sorted(tt_dict.items(),key=lambda x:x[1],reverse=True)))\n",
    "\n",
    "best_predictors = []\n",
    "print(\"Based on the highest t-statistics, the ten best predictors are:\")\n",
    "for i in range(10):\n",
    "    print(str(predictors[i]) + \" with a t-statistic of: \" + str(round(tvalues[i],4)))\n",
    "    best_predictors.append(predictors[i])\n",
    "    \n",
    "best_predictor = best_predictors[0]\n",
    "print(\"\\nThe single best predictor is: \"+ str(best_predictor))"
   ]
  },
  {
   "cell_type": "code",
   "execution_count": 10,
   "metadata": {},
   "outputs": [
    {
     "data": {
      "text/plain": [
       "<Figure size 432x288 with 0 Axes>"
      ]
     },
     "metadata": {},
     "output_type": "display_data"
    },
    {
     "data": {
      "image/png": "[encoded data removed]",
      "text/plain": [
       "<Figure size 1080x1080 with 4 Axes>"
      ]
     },
     "metadata": {
      "needs_background": "light"
     },
     "output_type": "display_data"
    }
   ],
   "source": [
    "# your code here\n",
    "fig = plt.figure()\n",
    "fig, ax = plt.subplots(2,2)\n",
    "fig.suptitle(best_predictor + \" Histograms sorted by Cancer Types\")\n",
    "fig.set_figwidth(15)\n",
    "fig.set_figheight(15)\n",
    "fig.tight_layout(pad=6,h_pad=4,w_pad=4)\n",
    "\n",
    "# Per the discussion on Ed, we plot two sets of histograms for training and testing data\n",
    "# And each set has two histograms, one for ALL Cancer Type, and one for AML Cancer Type\n",
    "# https://us.edstem.org/courses/2332/discussion/159117\n",
    "\n",
    "ax[0][0].hist(new_X_train[y_train==0][best_predictor])\n",
    "ax[0][0].set_title(\"Training Data with ALL Cancer Type\")\n",
    "ax[0][1].hist(new_X_train[y_train==1][best_predictor],color='r')\n",
    "ax[0][1].set_title(\"Training Data with AML Cancer Type\")\n",
    "ax[1][0].hist(new_X_test[y_test==0][best_predictor])\n",
    "ax[1][0].set_title(\"Testing Data with ALL Cancer Type\")\n",
    "ax[1][1].hist(new_X_test[y_test==1][best_predictor],color='r')\n",
    "ax[1][1].set_title(\"Testing Data with AML Cancer Type\")\n",
    "\n",
    "for i in range(2):\n",
    "    for j in range(2):\n",
    "        ax[i][j].set_xlabel(best_predictor + \" Normalized Gene Expression Levels\")\n",
    "        ax[i][j].set_ylabel(\"Frequency\")"
   ]
  },
  {
   "cell_type": "markdown",
   "metadata": {
    "autograde": "1.4",
    "cell_id": "0a790850-87c6-4f46-b89e-048a2295c92b",
    "colab_type": "text",
    "id": "IGFtXJmQap2q"
   },
   "source": [
    "<div class='exercise-r'>  \n",
    "    \n",
    "**1.4** Using `best_predictor`, create a classification model by eye-balling a value for this gene that would best discriminate the two cancer classes in the training set. (Note: Do not use an algorithm to determine for you the optimal coefficient or threshold; we are asking you to provide a rough estimate / model by manual inspection.) Justify your choice of value in 1-2 sentences. Report the accuracy of your hand-chosen model on the train and test sets."
   ]
  },
  {
   "cell_type": "code",
   "execution_count": 49,
   "metadata": {},
   "outputs": [
    {
     "name": "stdout",
     "output_type": "stream",
     "text": [
      "Train Accuracy: 0.5621\n",
      "Test Accuracy: 0.5798\n"
     ]
    }
   ],
   "source": [
    "# your code here\n",
    "threshold = 0.5\n",
    "\n",
    "training_predictions, test_predictions = [],[]\n",
    "\n",
    "for i in X_train[best_predictor]:\n",
    "    if i < threshold:\n",
    "        training_predictions.append(1)\n",
    "    else:\n",
    "        training_predictions.append(0)\n",
    "\n",
    "for i in X_test[best_predictor]:\n",
    "    if i < threshold:\n",
    "        test_predictions.append(1)\n",
    "    else:\n",
    "        test_predictions.append(0)\n",
    "\n",
    "train_accuracy = accuracy_score(y_train, training_predictions)\n",
    "test_accuracy = accuracy_score(y_test, test_predictions)\n",
    "\n",
    "print(\"Train Accuracy: \"+ str(round(train_accuracy, 4)))\n",
    "print(\"Test Accuracy: \"+ str(round(test_accuracy, 4)))"
   ]
  },
  {
   "cell_type": "markdown",
   "metadata": {},
   "source": [
    "*Your answer here*\n",
    "\n",
    "Looking at the histogram, we desire a threshold where for one cancer type most of the distribution in the histogram are to the left or right and for the other cancer type most of the distribution are to the other side of the threshold. A threshold of 0.5 seems to be a good choice since most of the training set distribution for ALL are to the right of the the threshold and most of the training set distribution for AML are to the left of the threshold."
   ]
  },
  {
   "cell_type": "markdown",
   "metadata": {},
   "source": [
    "#### <div class='exercise'><b>Question 2 [25 pts]: Logistic Regression Modeling</b></div>"
   ]
  },
  {
   "cell_type": "markdown",
   "metadata": {},
   "source": [
    "[▲ Return to contents](#Contents)"
   ]
  },
  {
   "cell_type": "markdown",
   "metadata": {},
   "source": [
    "**2.1** Fit a simple logistic regression model to the training set using the single gene predictor `best_predictor` to predict cancer type. Calculate and display the training and test classification accuracies of this model. \n",
    "How do accuracies compare to the eye-balled ones from 1.4? \n",
    "\n",
    "**2.2** Next, fit a multiple logistic regression model with **all** the gene predictors from the data set (reminder: for this assignment, we are always using the normalized values).  \n",
    "How does the classification accuracy of this model compare with the logistic and eyeballed models above which were fit with a single gene? Be sure to evaluate both the training and test sets.\n",
    "\n",
    "**2.3** Print out the logistic regression coefficients for  `best_predictor` from the simple logistic and multiple logistic regression models in part 1 and part 2 above.  Interpret the coefficients: Do they agree or disagree?  What does this indicate?\n",
    "\n",
    "**2.4** Now let's use regularization to improve the predictions from the multiple logistic regression model. Specifically, use LASSO-like regularization and 5-fold cross-validation to fit the model on the training set. \n",
    "Report the chosen best value of the regularization hyperparamter and the classification accuracy on both the training and test sets.\n",
    "\n",
    "**2.5** Compare the classification accuracies (both train and test) between the un-regularized multiple logistic regression model to the regularized one. Briefly explain why these results occur.\n",
    "\n",
    "**2.6** How many predictors are considered as important features in this regularized model?  What does that say about the full logistic regression model in problem 2.2?"
   ]
  },
  {
   "cell_type": "markdown",
   "metadata": {},
   "source": [
    "\n",
    "## Answers"
   ]
  },
  {
   "cell_type": "markdown",
   "metadata": {
    "autograde": "2.1",
    "cell_id": "0a790850-87c6-4f46-b89e-048a2295c92b",
    "colab_type": "text",
    "id": "IGFtXJmQap2q"
   },
   "source": [
    "<div class='exercise-r'>  \n",
    " \n",
    "**2.1** Fit a simple logistic regression model to the training set using the single gene predictor `best_predictor` to predict cancer type. Calculate and display the training and test classification accuracies of this model.\n",
    " How do accuracies compare to the eye-balled ones from 1.4?\n",
    " \n",
    " </div>"
   ]
  },
  {
   "cell_type": "code",
   "execution_count": 12,
   "metadata": {},
   "outputs": [
    {
     "name": "stdout",
     "output_type": "stream",
     "text": [
      "Training Classification Accuracy: 0.5603\n",
      "Test Classification Accuracy: 0.5904\n"
     ]
    }
   ],
   "source": [
    "# your code here\n",
    "# Create a logistic regression model, with 'none' as the penalty\n",
    "# Fit the model using the training set\n",
    "logit2_1 = LogisticRegression(penalty='none', max_iter=5000).fit(new_X_train[[best_predictor]],y_train)\n",
    "\n",
    "# Compute the training and testng accuracy\n",
    "logit2_1_train_accuracy = logit2_1.score(new_X_train[[best_predictor]],y_train)\n",
    "logit2_1_test_accuracy = logit2_1.score(new_X_test[[best_predictor]],y_test)\n",
    "\n",
    "print(\"Training Classification Accuracy: \" + str(round(logit2_1_train_accuracy,4)))\n",
    "print(\"Test Classification Accuracy: \" + str(round(logit2_1_test_accuracy,4)))"
   ]
  },
  {
   "cell_type": "markdown",
   "metadata": {},
   "source": [
    "*Your answer here*\n",
    "\n",
    "Our classification accuracies are worse on the training set but better on the testing set than the classification accuracies from 1.4, which makes sense since we simply eye-balled our threshold from the training set in 1.4 so we are likely to suffer from more overfitting than the simple logistic regression model above which is why the model in 2.1 performs better on the testing set."
   ]
  },
  {
   "cell_type": "markdown",
   "metadata": {
    "autograde": "2.2",
    "cell_id": "0a790850-87c6-4f46-b89e-048a2295c92b",
    "colab_type": "text",
    "id": "IGFtXJmQap2q"
   },
   "source": [
    "<div class='exercise-r'>  \n",
    " \n",
    "**2.2** Next, fit a multiple logistic regression model with **all** the gene predictors from the data set (reminder: for this assignment, we are always using the normalized values).\n",
    " How does the classification accuracy of this model compare with the logistic and eyeballed models above which were fit with a single gene? Be sure to evaluate both the training and test sets.\n",
    " \n",
    " </div>"
   ]
  },
  {
   "cell_type": "code",
   "execution_count": 13,
   "metadata": {},
   "outputs": [
    {
     "name": "stdout",
     "output_type": "stream",
     "text": [
      "Training Classification Accuracy: 1.0\n",
      "Test Classification Accuracy: 0.8351\n"
     ]
    }
   ],
   "source": [
    "# your code here\n",
    "# Create a logistic regression model, with 'none' as the penalty\n",
    "# Fit the model using the training set\n",
    "logit2_2 = LogisticRegression(penalty='none', max_iter=5000).fit(new_X_train,y_train)\n",
    "\n",
    "# Compute the training and testng accuracy\n",
    "logit2_2_train_accuracy = logit2_2.score(new_X_train,y_train)\n",
    "logit2_2_test_accuracy = logit2_2.score(new_X_test,y_test)\n",
    "\n",
    "print(\"Training Classification Accuracy: \" + str(round(logit2_2_train_accuracy,4)))\n",
    "print(\"Test Classification Accuracy: \" + str(round(logit2_2_test_accuracy,4)))"
   ]
  },
  {
   "cell_type": "markdown",
   "metadata": {},
   "source": [
    "*Your answer here*\n",
    "\n",
    "After fitting the multiple logistic model with all of the gene predictors we can see a significant increase in the accuracy of our model particulily for the test set.  Our model reports perfect accuracy for the training set which is understandable as we're utilizing all of the data available in the train set to build our model so the model should perfectly predict the train set.  However, our test set prediction accuracy is notibly higher with a 30% jump in accuracy."
   ]
  },
  {
   "cell_type": "markdown",
   "metadata": {
    "autograde": "2.3",
    "cell_id": "0a790850-87c6-4f46-b89e-048a2295c92b",
    "colab_type": "text",
    "id": "IGFtXJmQap2q"
   },
   "source": [
    "<div class='exercise-r'>  \n",
    " \n",
    "**2.3** Print out the logistic regression coefficients for  `best_predictor` from the simple logistic and multiple logistic regression models in part 1 and part 2 above.  Interpret the coefficients: Do they agree or disagree?  What does this indicate?\n",
    " \n",
    " </div>"
   ]
  },
  {
   "cell_type": "code",
   "execution_count": 14,
   "metadata": {},
   "outputs": [
    {
     "name": "stdout",
     "output_type": "stream",
     "text": [
      "X59871_at coefficient from simple logisitic regression model: -2.6323\n",
      "X59871_at coefficient from multiple logistic regression model: -6.8537\n"
     ]
    }
   ],
   "source": [
    "# your code here\n",
    "print(best_predictor + \" coefficient from simple logisitic regression model: \" + str(round(logit2_1.coef_[0][0],4)))\n",
    "print(best_predictor + \" coefficient from multiple logistic regression model: \" + str(round(logit2_2.coef_[0][new_X_train.columns.get_loc(best_predictor)],4)))"
   ]
  },
  {
   "cell_type": "markdown",
   "metadata": {},
   "source": [
    "*Your answer here*\n",
    "\n",
    "Both of the coefficients from our models are in agreement in terms of the sign of the coefficient and it makes sense that they'd both be negative.  The coefficient reported from model 2.2 is significantly more negative than that of 2.1 but this isn't worrying as a more negative coefficient here is likely just the result of a more accurately fit model."
   ]
  },
  {
   "cell_type": "markdown",
   "metadata": {
    "autograde": "2.4",
    "cell_id": "0a790850-87c6-4f46-b89e-048a2295c92b",
    "colab_type": "text",
    "id": "IGFtXJmQap2q"
   },
   "source": [
    "<div class='exercise-r'>  \n",
    " \n",
    "**2.4** Now let's use regularization to improve the predictions from the multiple logistic regression model. Specifically, use LASSO-like regularization and 5-fold cross-validation to fit the model on the training set.\n",
    " Report the chosen best value of the regularization hyperparamter and the classification accuracy on both the training and test sets.\n",
    " \n",
    " </div>"
   ]
  },
  {
   "cell_type": "code",
   "execution_count": 15,
   "metadata": {},
   "outputs": [
    {
     "name": "stdout",
     "output_type": "stream",
     "text": [
      "Best Regularization Hyperparameter: 0.3594\n",
      "Training Classification Accuracy: 0.9025\n",
      "Test Classification Accuracy: 0.8989\n"
     ]
    }
   ],
   "source": [
    "# your code here\n",
    "\n",
    "# Per Yuen Ting Chow's response on the Ed post, we leave sklearn's default for regularization hyperparameters\n",
    "# https://us.edstem.org/courses/2332/discussion/159679\n",
    "\n",
    "# define the model\n",
    "logit2_4 = LogisticRegressionCV(cv=5,max_iter=5000,scoring='accuracy',penalty='l1',solver='liblinear')\n",
    "\n",
    "# fit to the data\n",
    "logit2_4.fit(new_X_train, y_train)\n",
    "\n",
    "# Compute the training and testng accuracy\n",
    "logit2_4_train_accuracy = logit2_4.score(new_X_train,y_train)\n",
    "logit2_4_test_accuracy = logit2_4.score(new_X_test,y_test)\n",
    "\n",
    "print(\"Best Regularization Hyperparameter: \" + str(round(logit2_4.C_[0],4)))\n",
    "print(\"Training Classification Accuracy: \" + str(round(logit2_4_train_accuracy,4)))\n",
    "print(\"Test Classification Accuracy: \" + str(round(logit2_4_test_accuracy,4)))"
   ]
  },
  {
   "cell_type": "markdown",
   "metadata": {
    "autograde": "2.5",
    "cell_id": "0a790850-87c6-4f46-b89e-048a2295c92b",
    "colab_type": "text",
    "id": "IGFtXJmQap2q"
   },
   "source": [
    "<div class='exercise-r'>  \n",
    " \n",
    "**2.5** Compare the classification accuracies (both train and test) between the un-regularized multiple logistic regression model to the regularized one. Briefly explain why these results occur.\n",
    " \n",
    " </div>"
   ]
  },
  {
   "cell_type": "markdown",
   "metadata": {},
   "source": [
    "*Your answer here*\n",
    "\n",
    "The training set accuracy after the regularization is sightly worse than it had been in the previous unregularized model but again the test set prediction accuracy is higher than it had been.  Regularization aims to lower the error on predictive models by hampering the ability for the model to overfit the training data.  By regularizing we are forcing the model to not be perfectly fit to the training set which means a decrease in the training accuracy is expected.  The corresponding increase in accuracy for the test set indicates that the regularization was successful in improving the predictive power of the model on new data.  "
   ]
  },
  {
   "cell_type": "markdown",
   "metadata": {
    "autograde": "2.6",
    "cell_id": "0a790850-87c6-4f46-b89e-048a2295c92b",
    "colab_type": "text",
    "id": "IGFtXJmQap2q"
   },
   "source": [
    "<div class='exercise-r'>  \n",
    "    \n",
    "**2.6** How many predictors are considered as important features in this regularized model?  What does that say about the full logistic regression model in problem 2.2?"
   ]
  },
  {
   "cell_type": "code",
   "execution_count": 16,
   "metadata": {},
   "outputs": [
    {
     "name": "stdout",
     "output_type": "stream",
     "text": [
      "Number of important features: 82\n"
     ]
    }
   ],
   "source": [
    "# your code here\n",
    "num_important = 0\n",
    "\n",
    "for i in range(len(new_X_train.columns)):\n",
    "    if logit2_4.coef_[0][i]!=0:\n",
    "        num_important = num_important + 1\n",
    "        \n",
    "print(\"Number of important features: \" + str(num_important))"
   ]
  },
  {
   "cell_type": "markdown",
   "metadata": {},
   "source": [
    "*Your answer here*\n",
    "\n",
    "We found that all of the gene predictors were significant features in the regularized model.  This indicates that the full logistic regression model of question 2.2 likely quite accurate as all predictors were used and have been shown to be significant when predicting new data.  "
   ]
  },
  {
   "cell_type": "markdown",
   "metadata": {},
   "source": [
    "---"
   ]
  },
  {
   "cell_type": "markdown",
   "metadata": {},
   "source": [
    "#### <div class='exercise'><b>Question 3 [20 pts]: Performing Principal Components Analysis</b></div>"
   ]
  },
  {
   "cell_type": "markdown",
   "metadata": {},
   "source": [
    "[▲ Return to contents](#Contents)"
   ]
  },
  {
   "cell_type": "markdown",
   "metadata": {},
   "source": [
    "**3.1** Create the full PCA decomposition of `X_train` and apply the transformation to both `X_train` and `X_test`.  Report the shape of both of these.  What is the limiting factor for the maximum number of PCA components for this data set? \n",
    "\n",
    "**3.2** PCA is often solely used to help in visualizing high-dimensional problems.  Plot the scatterplot of the second PCA vector of train on the $Y$-axis and the first PCA vector of train on the $X$-axis (be sure to denote the classes via different colors and markings).  In 2-3 sentences, explain why using the scatterplot of the top two PCA vectors is a useful approach to visualize a high dimensional classification problem.\n",
    "\n",
    "**3.3** Determine and report the variance explained in `X_train` based on the top two PCA vectors.  Determine and report how many PCA vectors are needed so that 90\\% of the variability in the predictors is explained, and create a plot to illustrate this result (Hint: look at cumulative explained variability vs. number of PCA components used).\n",
    "\n",
    "**3.4** Plot explained variability in the predictors on the $Y$-axis and the PCA component number on the $X$-axis. Select a reasonable value for the number of components that balances representativeness (of the predictors) with parsimony."
   ]
  },
  {
   "cell_type": "markdown",
   "metadata": {},
   "source": [
    "<hr>"
   ]
  },
  {
   "cell_type": "markdown",
   "metadata": {},
   "source": [
    "\n",
    "## Answers"
   ]
  },
  {
   "cell_type": "markdown",
   "metadata": {
    "autograde": "3.1",
    "cell_id": "0a790850-87c6-4f46-b89e-048a2295c92b",
    "colab_type": "text",
    "id": "IGFtXJmQap2q"
   },
   "source": [
    "<div class='exercise-r'>  \n",
    " \n",
    "**3.1** Create the full PCA decomposition of `X_train` and apply the transformation to both `X_train` and `X_test`.  Report the shape of both of these.  What is the limiting factor for the maximum number of PCA components for this data set?\n",
    " \n",
    " </div>"
   ]
  },
  {
   "cell_type": "code",
   "execution_count": 42,
   "metadata": {},
   "outputs": [],
   "source": [
    "# your code here\n",
    "from sklearn.preprocessing import StandardScaler\n",
    "\n",
    "# Per this discussion on Ed we will standardize the original data set\n",
    "# https://us.edstem.org/courses/2332/discussion/157759\n",
    "scaler = StandardScaler()\n",
    "scaler.fit(X_train)\n",
    "X_train_scaled = scaler.transform(X_train)\n",
    "X_test_scaled = scaler.transform(X_test)"
   ]
  },
  {
   "cell_type": "code",
   "execution_count": 18,
   "metadata": {},
   "outputs": [
    {
     "name": "stdout",
     "output_type": "stream",
     "text": [
      "Shape of PCA decomposition for the training set: (564, 564)\n",
      "Shape of PCA decomposition for the test set: (188, 564)\n"
     ]
    }
   ],
   "source": [
    "# your code here\n",
    "# create/fit the 'full' pca transformation\n",
    "pca = PCA().fit(X_train_scaled,y_train)\n",
    "\n",
    "# apply the pca transformation to the full predictor set\n",
    "pcaX_train = pca.transform(X_train_scaled)\n",
    "pcaX_test = pca.transform(X_test_scaled)\n",
    "\n",
    "# convert to a data frame\n",
    "pcaX_df_train = pd.DataFrame(pcaX_train)\n",
    "pcaX_df_test = pd.DataFrame(pcaX_test)\n",
    "\n",
    "print(\"Shape of PCA decomposition for the training set: \" + str(pcaX_df_train.shape))\n",
    "print(\"Shape of PCA decomposition for the test set: \" + str(pcaX_df_test.shape))"
   ]
  },
  {
   "cell_type": "markdown",
   "metadata": {},
   "source": [
    "*Your answer here*\n",
    "\n",
    "For this particular data set the limiting factor for the maximum number of PCA components is chooseing componets that have eigenvalue greater than 1.  There are multiple ways of determinging the maximum number of PCA components but with this particular implementation the eigenvalue >1 (the most standard practice for limiting PCA components) was utilized."
   ]
  },
  {
   "cell_type": "markdown",
   "metadata": {
    "autograde": "3.2",
    "cell_id": "0a790850-87c6-4f46-b89e-048a2295c92b",
    "colab_type": "text",
    "id": "IGFtXJmQap2q"
   },
   "source": [
    "<div class='exercise-r'>  \n",
    " \n",
    "**3.2** PCA is often solely used to help in visualizing high-dimensional problems.  Plot the scatterplot of the second PCA vector of train on the $Y$-axis and the first PCA vector of train on the $X$-axis (be sure to denote the classes via different colors and markings).  In 2-3 sentences, explain why using the scatterplot of the top two PCA vectors is a useful approach to visualize a high dimensional classification problem.\n",
    " \n",
    " </div>"
   ]
  },
  {
   "cell_type": "code",
   "execution_count": 19,
   "metadata": {},
   "outputs": [
    {
     "data": {
      "text/plain": [
       "Text(0, 0.5, 'Second PCA Component Vector')"
      ]
     },
     "execution_count": 19,
     "metadata": {},
     "output_type": "execute_result"
    },
    {
     "data": {
      "image/png": "[encoded data removed]",
      "text/plain": [
       "<Figure size 1080x1080 with 1 Axes>"
      ]
     },
     "metadata": {
      "needs_background": "light"
     },
     "output_type": "display_data"
    }
   ],
   "source": [
    "# your code here\n",
    "plt.figure(figsize=(15,15))\n",
    "plt.scatter(pcaX_train[:,0][y_train == 0], pcaX_train[:,1][y_train == 0],color='b',label='ALL')\n",
    "plt.scatter(pcaX_train[:,0][y_train == 1], pcaX_train[:,1][y_train == 1],color='r',label='AML')\n",
    "plt.legend()\n",
    "plt.title('Scatterplot of First & Second PCA component vectors denoted by ALL & AML Classes')\n",
    "plt.xlabel('First PCA Component Vector')\n",
    "plt.ylabel('Second PCA Component Vector')"
   ]
  },
  {
   "cell_type": "markdown",
   "metadata": {},
   "source": [
    "*Your answer here*\n",
    "\n",
    "PCA's main aim is to reduce the dimensionality of our data set so we can better tease out trends.  By utilizing scatter plots on the top two vectors we can more easily see the clustering of the points aswell as when the two vectors begin to diverge from one another."
   ]
  },
  {
   "cell_type": "markdown",
   "metadata": {
    "autograde": "3.3",
    "cell_id": "0a790850-87c6-4f46-b89e-048a2295c92b",
    "colab_type": "text",
    "id": "IGFtXJmQap2q"
   },
   "source": [
    "<div class='exercise-r'>  \n",
    " \n",
    "**3.3** Determine and report the variance explained in `X_train` based on the top two PCA vectors.  Determine and report how many PCA vectors are needed so that 90\\% of the variability in the predictors is explained, and create a plot to illustrate this result (Hint: look at cumulative explained variability vs. number of PCA components used).\n",
    " \n",
    " </div>"
   ]
  },
  {
   "cell_type": "code",
   "execution_count": 20,
   "metadata": {},
   "outputs": [
    {
     "name": "stdout",
     "output_type": "stream",
     "text": [
      "Explained Variance explained by top two vectors: 0.1157\n"
     ]
    }
   ],
   "source": [
    "# your code here\n",
    "total_var = sum(np.var(pcaX_df_train))\n",
    "v1_var = np.var(pcaX_df_train[0])\n",
    "v2_var = np.var(pcaX_df_train[1])\n",
    "\n",
    "print(\"Explained Variance explained by top two vectors: \"+ str(round(((v1_var +v2_var)/total_var),4)))"
   ]
  },
  {
   "cell_type": "code",
   "execution_count": 21,
   "metadata": {},
   "outputs": [
    {
     "name": "stdout",
     "output_type": "stream",
     "text": [
      "Number of Vectors to explain 90% Variance: 222\n"
     ]
    }
   ],
   "source": [
    "# your code here\n",
    "num_vectors = 0\n",
    "current_var = 0\n",
    "cum_var = 0\n",
    "\n",
    "for i in range(len(pcaX_df_train.columns)):\n",
    "    current_var = (np.var(pcaX_df_train[i]))/total_var\n",
    "    if cum_var < 0.9:\n",
    "       num_vectors = num_vectors + 1\n",
    "       cum_var = cum_var + current_var\n",
    "       current_var = current_var + (np.var(pcaX_df_train[i+1]))/total_var\n",
    "    \n",
    "print(\"Number of Vectors to explain 90% Variance: \"+ str(num_vectors))"
   ]
  },
  {
   "cell_type": "markdown",
   "metadata": {
    "autograde": "3.4",
    "cell_id": "0a790850-87c6-4f46-b89e-048a2295c92b",
    "colab_type": "text",
    "id": "IGFtXJmQap2q"
   },
   "source": [
    "<div class='exercise-r'>  \n",
    "    \n",
    "**3.4** Plot explained variability in the predictors on the $Y$-axis and the PCA component number on the $X$-axis. Select a reasonable value for the number of components that balances representativeness (of the predictors) with parsimony."
   ]
  },
  {
   "cell_type": "code",
   "execution_count": 37,
   "metadata": {},
   "outputs": [
    {
     "data": {
      "text/plain": [
       "<function matplotlib.pyplot.show(*args, **kw)>"
      ]
     },
     "execution_count": 37,
     "metadata": {},
     "output_type": "execute_result"
    },
    {
     "data": {
      "image/png": "[encoded data removed]",
      "text/plain": [
       "<Figure size 1440x1080 with 1 Axes>"
      ]
     },
     "metadata": {
      "needs_background": "light"
     },
     "output_type": "display_data"
    }
   ],
   "source": [
    "# your code here\n",
    "explained_vars = []\n",
    "current = 0\n",
    "cumulative = 0\n",
    "num_components = 50\n",
    "\n",
    "for i in range(num_components+1):\n",
    "    current = (np.var(pcaX_df_train[i]))/total_var\n",
    "    if cumulative != 1:\n",
    "        cumulative = cumulative + current\n",
    "        explained_vars.append(cumulative)\n",
    "        current = current + (np.var(pcaX_df_train[i+1]))/total_var\n",
    "        \n",
    "plt.figure(figsize=(20,15))\n",
    "plt.plot(range(num_components+1),explained_vars)\n",
    "plt.xlim(0,num_components)\n",
    "plt.ylim(0,1)\n",
    "plt.axhline(y=0.9, color='r', linestyle='-')\n",
    "plt.xlabel(\"PCA component number\")\n",
    "plt.ylabel(\"Explained Variablilty\")\n",
    "\n",
    "plt.show"
   ]
  },
  {
   "cell_type": "code",
   "execution_count": 41,
   "metadata": {},
   "outputs": [
    {
     "name": "stdout",
     "output_type": "stream",
     "text": [
      "Explained Variance explained by top 50 vectors: 0.604\n"
     ]
    }
   ],
   "source": [
    "# your code here\n",
    "partial_var = sum(np.var(pcaX_df_train[list(range(num_components))]))\n",
    "\n",
    "print(\"Explained Variance explained by top \" + str(num_components) + \" vectors: \"+ str(round((partial_var/total_var),4)))"
   ]
  },
  {
   "cell_type": "markdown",
   "metadata": {},
   "source": [
    "*Your answer here*\n",
    "\n",
    "Choosing the top 50 PCA vectors seems to be a good choice since it covers 60\\% of total variance in the training set but isn't an excessive number of PCA vectors like the 222 needed to cover 90\\% of total variance in the training set. We see from the chart that as we add more PCA vectors, there is diminishing returns on how much total variance is explained by each additional PCA vector."
   ]
  },
  {
   "cell_type": "markdown",
   "metadata": {},
   "source": [
    "#### <div class='exercise'><b>Question 4 [10 pts]: Principal Components Regression (PCR)</b></div>"
   ]
  },
  {
   "cell_type": "markdown",
   "metadata": {},
   "source": [
    "[▲ Return to contents](#Contents)"
   ]
  },
  {
   "cell_type": "markdown",
   "metadata": {},
   "source": [
    "**4.1** Fit three separate Logistic Regression models using principal components as the predictors: (1) with just the first two PCA vectors, (2) with the number of component vectors you chose from problem 3 above, and (3) with the number of components that explain at least 90% of the variability in the predictor set. How do the classification accuracy values on both the training and test sets compare with the models fit in Question 2?\n",
    "\n",
    "**4.2** Use cross-validation to determine the best number of principal components. Try out the 3 values from the previous sub-part and optionally include other values as well. \n"
   ]
  },
  {
   "cell_type": "markdown",
   "metadata": {},
   "source": [
    "<hr>"
   ]
  },
  {
   "cell_type": "markdown",
   "metadata": {},
   "source": [
    "\n",
    "## Answers"
   ]
  },
  {
   "cell_type": "markdown",
   "metadata": {
    "autograde": "4.1",
    "cell_id": "0a790850-87c6-4f46-b89e-048a2295c92b",
    "colab_type": "text",
    "id": "IGFtXJmQap2q"
   },
   "source": [
    "<div class='exercise-r'>  \n",
    " \n",
    "**4.1** Fit three separate Logistic Regression models using principal components as the predictors: (1) with just the first two PCA vectors, (2) with the number of component vectors you chose from problem 3 above, and (3) with the number of components that explain at least 90% of the variability in the predictor set. How do the classification accuracy values on both the training and test sets compare with the models fit in Question 2?\n",
    " \n",
    " </div>"
   ]
  },
  {
   "cell_type": "code",
   "execution_count": 32,
   "metadata": {},
   "outputs": [
    {
     "name": "stdout",
     "output_type": "stream",
     "text": [
      "Training Classification Accuracy for 1st Model with just two PCA Vectors: 0.7553\n",
      "Test Classification Accuracy for 1st Model with just two PCA Vectors: 0.7766\n",
      "Training Classification Accuracy for 2nd Model with 100 PCA Vectors: 0.9113\n",
      "Test Classification Accuracy for 2nd Model with 100 PCA Vectors: 0.8564\n",
      "Training Classification Accuracy for 3rd Model with 222 PCA Vectors: 1.0\n",
      "Test Classification Accuracy for 3rd Model with 222 PCA Vectors: 0.8032\n"
     ]
    }
   ],
   "source": [
    "# your code here\n",
    "# Select vectors for each model\n",
    "vectors1 = [0,1]\n",
    "vectors2 = list(range(num_components))\n",
    "vectors3 = list(range(num_vectors))\n",
    "\n",
    "# Create and fit the three Logistic Regression Models\n",
    "logit4_1_1 = LogisticRegression(penalty='none', max_iter=5000).fit(pcaX_df_train[vectors1],y_train)\n",
    "logit4_1_2 = LogisticRegression(penalty='none', max_iter=5000).fit(pcaX_df_train[vectors2],y_train)\n",
    "logit4_1_3 = LogisticRegression(penalty='none', max_iter=5000).fit(pcaX_df_train[vectors3],y_train)\n",
    "\n",
    "# Compute the training and testing accuracy\n",
    "logit4_1_1_train_accuracy = logit4_1_1.score(pcaX_df_train[vectors1],y_train)\n",
    "logit4_1_1_test_accuracy = logit4_1_1.score(pcaX_df_test[vectors1],y_test)\n",
    "logit4_1_2_train_accuracy = logit4_1_2.score(pcaX_df_train[vectors2],y_train)\n",
    "logit4_1_2_test_accuracy = logit4_1_2.score(pcaX_df_test[vectors2],y_test)\n",
    "logit4_1_3_train_accuracy = logit4_1_3.score(pcaX_df_train[vectors3],y_train)\n",
    "logit4_1_3_test_accuracy = logit4_1_3.score(pcaX_df_test[vectors3],y_test)\n",
    "\n",
    "print(\"Training Classification Accuracy for 1st Model with just two PCA Vectors: \" + str(round(logit4_1_1_train_accuracy,4)))\n",
    "print(\"Test Classification Accuracy for 1st Model with just two PCA Vectors: \" + str(round(logit4_1_1_test_accuracy,4)))\n",
    "print(\"Training Classification Accuracy for 2nd Model with \" + str(num_components) + \" PCA Vectors: \" + str(round(logit4_1_2_train_accuracy,4)))\n",
    "print(\"Test Classification Accuracy for 2nd Model with \" + str(num_components) + \" PCA Vectors: \" + str(round(logit4_1_2_test_accuracy,4)))\n",
    "print(\"Training Classification Accuracy for 3rd Model with \" + str(num_vectors) + \" PCA Vectors: \" + str(round(logit4_1_3_train_accuracy,4)))\n",
    "print(\"Test Classification Accuracy for 3rd Model with \" + str(num_vectors) + \" PCA Vectors: \" + str(round(logit4_1_3_test_accuracy,4)))"
   ]
  },
  {
   "cell_type": "markdown",
   "metadata": {},
   "source": [
    "*Your answer here*\n",
    "\n",
    "Compaired to our model in 2.2 where our training accuracy was 1 due to massive overfitting the accuracies of all 3 of these models for the training set is either the same or slightly worse. Additionally the test set accuracy for all 3 of these models is still worse than the acccuracy values we obtained from the 2.2 model.  When we compare these new models to the regularized model of 2.4 we see for the most part that the training accuracies reported in the 4.1 models are better,  but again the test set accuracy is worse.  Either way, all of the 4.1 models have both better training and test accuracies when compaired to the 2.1 model.  "
   ]
  },
  {
   "cell_type": "markdown",
   "metadata": {
    "autograde": "4.2",
    "cell_id": "0a790850-87c6-4f46-b89e-048a2295c92b",
    "colab_type": "text",
    "id": "IGFtXJmQap2q"
   },
   "source": [
    "<div class='exercise-r'>  \n",
    "    \n",
    "**4.2** Use cross-validation to determine the best number of principal components. Try out the 3 values from the previous sub-part and optionally include other values as well."
   ]
  },
  {
   "cell_type": "code",
   "execution_count": 33,
   "metadata": {},
   "outputs": [],
   "source": [
    "# your code here\n",
    "# List of vectors and models from above\n",
    "vectors = [vectors1, vectors2, vectors3]\n",
    "logits = [logit4_1_1,logit4_1_2,logit4_1_3]\n",
    "\n",
    "# Empty lists to store training and cross-validation scores\n",
    "cv_scores = []\n",
    "\n",
    "for v,l in zip(vectors, logits):\n",
    "    # Compute the cross-validation scores\n",
    "    logit_cv_score = cross_val_score(l,pcaX_df_train[v],y_train,cv=5,scoring='accuracy')\n",
    "    \n",
    "    cv_scores.append(np.mean(abs(logit_cv_score)))"
   ]
  },
  {
   "cell_type": "code",
   "execution_count": 34,
   "metadata": {},
   "outputs": [
    {
     "name": "stdout",
     "output_type": "stream",
     "text": [
      "Best number of principal components from the results of cross-validation on the 3 models is: 100\n"
     ]
    }
   ],
   "source": [
    "# your code here\n",
    "# The best model with the best cross validation score\n",
    "best_score = max(cv_scores)\n",
    "best_logit = logits[cv_scores.index(best_score)]\n",
    "best_vector = vectors[cv_scores.index(best_score)]\n",
    "\n",
    "print(\"Best number of principal components from the results of cross-validation on the 3 models is: \" + str(len(best_vector)))"
   ]
  },
  {
   "cell_type": "markdown",
   "metadata": {},
   "source": [
    "#### <div class='exercise'><b>Question 5 [25 pts]: Multi-Class Response</b></div>"
   ]
  },
  {
   "cell_type": "markdown",
   "metadata": {},
   "source": [
    "[▲ Return to contents](#Contents)"
   ]
  },
  {
   "cell_type": "markdown",
   "metadata": {},
   "source": [
    "As mentioned earlier, there are actually two subtypes of `ALL` cancer: B-cell and T-cell.  The variable `Cancer_subtype` designates the 3 cancer cubtypes: \n",
    "- 0 = ALL Type T, \n",
    "- 1 = ALL Type B, and \n",
    "- 2 = AML.  \n",
    "Use this updated response variable to answer the following questions:\n",
    "\n",
    "**5.1** Fit two separate well-tuned, regularized (Ridge-like), multinomial logistic regression models to predict `Cancer_subtype`. For the first model, use the first two PCA components as predictors. For the second model, include  the quadratic and interaction terms for the first two PCA components, for a total of five predictors. Print and evaluate (with two or three sentences) the classification accuracy of the two models, on both train and test.\n",
    "\n",
    "**5.2** Create two separate scatter plots (one will be for each model above) of the first two principal components of the test data and denote the three cancer types by different color and marker.  Plot the decision boundaries separately on the two scatterplots and interpret the results:  which model appears to draw more reasonable decision boundaries?  Do the first two principal components appear to provide enough predictive power for this classification problem?\n",
    "\n",
    "**Hint: you can use the `meshgrid` as seen in lecture exercises to generate the decision boundaries.**\n",
    "\n",
    "**5.3** Use cross-validation to determine the best number of principal components for this multiclass problem. Consider the set of [2, 5, 10, 15, 20, 50, and 100] components.  Be sure to clearly substantiate your choice.\n",
    "\n",
    "**5.4** For your best model in the previous part, determine the classification accuracies within each observed (not predicted) subtype in test: which group is the most difficult to classify accurately?  Is this surprising?  Why or why not?\n",
    "\n",
    "**5.5** In the 2-class problem the classification threshold can be altered from 0.5 to affect the number of false positives and false negatives (this is what the ROC curve is based on). In the multiclass setting, the predicted class probabilities can be weighted to determine the winning class (so that a smaller class will not be 'ignored' by the algorithm): essentially, each class's predicted probability can be multiplied by this class weight and compared to determine the classification.\n",
    " \n",
    "Determine the classification accuracies in each observed subtype in test if instead the observations were weighted more 'fairly': they are inversely weighted based on the observed sample sizes in train (so that if there were just 2 groups in the response with 75% of the response in one class and 25% in the other, the smaller class should be weighted 3 times as much as the larger class).  \n",
    "\n",
    "Report the weights you used and the resulting classification accuracies in each subtype.  In what way have the results improved?  In what way have the results not improved?  Comment with 2-3 sentences."
   ]
  },
  {
   "cell_type": "markdown",
   "metadata": {},
   "source": [
    "<hr>"
   ]
  },
  {
   "cell_type": "markdown",
   "metadata": {},
   "source": [
    "\n",
    "## Answers"
   ]
  },
  {
   "cell_type": "markdown",
   "metadata": {
    "autograde": "5.1",
    "cell_id": "0a790850-87c6-4f46-b89e-048a2295c92b",
    "colab_type": "text",
    "id": "IGFtXJmQap2q"
   },
   "source": [
    "<div class='exercise-r'>  \n",
    " \n",
    "**5.1** Fit two separate well-tuned, regularized (Ridge-like), multinomial logistic regression models to predict `Cancer_subtype`. For the first model, use the first two PCA components as predictors. For the second model, include  the quadratic and interaction terms for the first two PCA components, for a total of five predictors. Print and evaluate (with two or three sentences) the classification accuracy of the two models, on both train and test.\n",
    " \n",
    " </div>"
   ]
  },
  {
   "cell_type": "code",
   "execution_count": 26,
   "metadata": {},
   "outputs": [
    {
     "name": "stdout",
     "output_type": "stream",
     "text": [
      "Training Classification Accuracy for 1st Model with first two PCA Vectors: 0.6525\n",
      "Testing Classification Accuracy for 1st Model with first two PCA Vectors: 0.6489\n",
      "Training Classification Accuracy for 2nd Model with five Vectors: 0.6915\n",
      "Testing Classification Accuracy for 2nd Model with five Vectors: 0.6968\n"
     ]
    }
   ],
   "source": [
    "# your code here\n",
    "# Create predictor variables\n",
    "X_train1 = pcaX_train[:,[0,1]]\n",
    "X_test1 = pcaX_test[:,[0,1]]\n",
    "X_train2 = PolynomialFeatures(degree=2,include_bias=False).fit_transform(X_train1)\n",
    "X_test2 = PolynomialFeatures(degree=2,include_bias=False).fit_transform(X_test1)\n",
    "\n",
    "# Create and fit two multinomial models\n",
    "mlogit5_1_1 = LogisticRegressionCV(cv=5,penalty='l2', solver='lbfgs', multi_class='multinomial',max_iter = 1000).fit(X_train1, y2_train)\n",
    "mlogit5_1_2 = LogisticRegressionCV(cv=5,penalty='l2', solver='lbfgs', multi_class='multinomial',max_iter = 1000).fit(X_train2, y2_train)\n",
    "\n",
    "# Compute the training and testing accuracy\n",
    "mlogit5_1_1_train_accuracy = mlogit5_1_1.score(X_train1,y2_train)\n",
    "mlogit5_1_1_test_accuracy = mlogit5_1_1.score(X_test1,y2_test)\n",
    "mlogit5_1_2_train_accuracy = mlogit5_1_2.score(X_train2,y2_train)\n",
    "mlogit5_1_2_test_accuracy = mlogit5_1_2.score(X_test2,y2_test)\n",
    "\n",
    "print(\"Training Classification Accuracy for 1st Model with first two PCA Vectors: \" + str(round(mlogit5_1_1_train_accuracy,4)))\n",
    "print(\"Testing Classification Accuracy for 1st Model with first two PCA Vectors: \" + str(round(mlogit5_1_1_test_accuracy,4)))\n",
    "print(\"Training Classification Accuracy for 2nd Model with five Vectors: \" + str(round(mlogit5_1_2_train_accuracy,4)))\n",
    "print(\"Testing Classification Accuracy for 2nd Model with five Vectors: \" + str(round(mlogit5_1_2_test_accuracy,4)))"
   ]
  },
  {
   "cell_type": "markdown",
   "metadata": {},
   "source": [
    "*Your answer here*\n",
    "\n",
    "On both the training and testing dataset, our second model that includes quadratic and interaction terms of our first two PCA components perform better on a classification accuracy basis than our first model that only includes the first two PCA components without the quadratic and interaction terms. In fact, for the second model we actually have a higher testing classification accuracy than training classification accuracy, which isn't true of the first model. That suggests that the quadratic and interaction terms are adding signficant predictive power to our model and thus are good predictors to regress on."
   ]
  },
  {
   "cell_type": "markdown",
   "metadata": {
    "autograde": "5.2",
    "cell_id": "0a790850-87c6-4f46-b89e-048a2295c92b",
    "colab_type": "text",
    "id": "IGFtXJmQap2q"
   },
   "source": [
    "<div class='exercise-r'>  \n",
    " \n",
    "**5.2** Create two separate scatter plots (one will be for each model above) of the first two principal components of the test data and denote the three cancer types by different color and marker.  Plot the decision boundaries separately on the two scatterplots and interpret the results:  which model appears to draw more reasonable decision boundaries?  Do the first two principal components appear to provide enough predictive power for this classification problem?\n",
    " \n",
    " **Hint: you can use the `meshgrid` as seen in lecture exercises to generate the decision boundaries.**\n",
    " \n",
    " </div>"
   ]
  },
  {
   "cell_type": "code",
   "execution_count": 75,
   "metadata": {},
   "outputs": [
    {
     "data": {
      "image/png": "[encoded data removed]",
      "text/plain": [
       "<Figure size 1080x432 with 2 Axes>"
      ]
     },
     "metadata": {
      "needs_background": "light"
     },
     "output_type": "display_data"
    }
   ],
   "source": [
    "# your code here\n",
    "# Plot the decision boundary\n",
    "x1_range = pcaX_test[:,0].max() - pcaX_test[:,0].min()\n",
    "x2_range = pcaX_test[:,1].max() - pcaX_test[:,1].min()\n",
    "\n",
    "x1_min, x1_max = pcaX_test[:,0].min()-0.1*x1_range, pcaX_test[:,0].max() +0.1*x1_range\n",
    "x2_min, x2_max = pcaX_test[:,1].min()-0.1*x2_range, pcaX_test[:,1].max() +0.1*x2_range\n",
    "\n",
    "step = .05\n",
    "x1x, x2x = np.meshgrid(np.arange(x1_min, x1_max, step), np.arange(x2_min, x2_max, step))\n",
    "\n",
    "x1x, x2x = np.meshgrid(np.arange(x1_min, x1_max, step), np.arange(x2_min, x2_max, step))\n",
    "y_hat1 = mlogit5_1_1.predict(np.c_[x1x.ravel(), x2x.ravel()])\n",
    "y_hat2 = mlogit5_1_2.predict(np.c_[x1x.ravel(), x2x.ravel(),\n",
    "                                   x1x.ravel()**2, x2x.ravel()**2, x1x.ravel()*x2x.ravel()])\n",
    "\n",
    "\n",
    "fig, (ax1, ax2) = plt.subplots(1, 2,  figsize=(15, 6))\n",
    "fig.suptitle(\"Scatterplots and Decision Boundaries for Two Models from part 5.1\")\n",
    "\n",
    "ax1.pcolormesh(x1x, x2x, y_hat1.reshape(x1x.shape), cmap=plt.cm.Paired,alpha = 0.5)\n",
    "ax1.scatter(pcaX_test[:,0][y2_test==0], pcaX_test[:,1][y2_test==0], c='b',\n",
    "            edgecolors='k', cmap=plt.cm.Paired, label = \"ALL T\")\n",
    "ax1.scatter(pcaX_test[:,0][y2_test==1], pcaX_test[:,1][y2_test==1], c='y',\n",
    "            edgecolors='k', cmap=plt.cm.Paired, label = \"ALL B\")\n",
    "ax1.scatter(pcaX_test[:,0][y2_test==2], pcaX_test[:,1][y2_test==2], c=\"brown\",\n",
    "            edgecolors='k', cmap=plt.cm.Paired, label = \"ALM\")\n",
    "ax1.legend()\n",
    "ax1.set_title(\"First Model with only Top Two PCA Components\")\n",
    "ax1.set_xlabel(\"First PCA Component Vector\")\n",
    "ax1.set_ylabel(\"Second PCA Component Vector\")\n",
    "\n",
    "ax2.pcolormesh(x1x, x2x, y_hat2.reshape(x1x.shape), cmap=plt.cm.Paired,alpha = 0.5)\n",
    "ax2.scatter(pcaX_test[:,0][y2_test==0], pcaX_test[:,1][y2_test==0], c='b',\n",
    "            edgecolors='k', cmap=plt.cm.Paired, label = \"ALL T\")\n",
    "ax2.scatter(pcaX_test[:,0][y2_test==1], pcaX_test[:,1][y2_test==1], c='y',\n",
    "            edgecolors='k', cmap=plt.cm.Paired, label = \"ALL B\")\n",
    "ax2.scatter(pcaX_test[:,0][y2_test==2], pcaX_test[:,1][y2_test==2], c=\"brown\",\n",
    "            edgecolors='k', cmap=plt.cm.Paired, label = \"ALM\")\n",
    "ax2.legend()\n",
    "ax2.set_title(\"Second Model with Top Two PCA Components, Quadratic, and Interaction Terms\")\n",
    "ax2.set_xlabel(\"First PCA Component Vector\")\n",
    "ax2.set_ylabel(\"Second PCA Component Vector\")\n",
    "\n",
    "\n",
    "plt.show()"
   ]
  },
  {
   "cell_type": "markdown",
   "metadata": {},
   "source": [
    "*Your Answer Here*\n",
    "\n",
    "The first scatter plot appears to draw a more reasonable decision boundry as our second graph appears to be much more visually chaotic.  The first one follows the logical split of the two vectors and better splits the sub-types.  Even with these splits in mind the first two vectors don't appear to provide enough predictive power for this data set.  "
   ]
  },
  {
   "cell_type": "markdown",
   "metadata": {
    "autograde": "5.3",
    "cell_id": "0a790850-87c6-4f46-b89e-048a2295c92b",
    "colab_type": "text",
    "id": "IGFtXJmQap2q"
   },
   "source": [
    "<div class='exercise-r'>  \n",
    " \n",
    "**5.3** Use cross-validation to determine the best number of principal components for this multiclass problem. Consider the set of [2, 5, 10, 15, 20, 50, and 100] components.  Be sure to clearly substantiate your choice.\n",
    " \n",
    " </div>"
   ]
  },
  {
   "cell_type": "code",
   "execution_count": 52,
   "metadata": {},
   "outputs": [],
   "source": [
    "# your code here\n",
    "n_components = [2, 5, 10, 15, 20, 50, 100]\n",
    "# Empty list to hold the CV Scores\n",
    "cv_scores = []\n",
    "\n",
    "for n in n_components:\n",
    "    # Create Model\n",
    "    logit5_3 = LogisticRegression(penalty='none', multi_class='multinomial',max_iter = 5000)\n",
    "    # Fit model\n",
    "    logit5_3.fit(pcaX_df_train[list(range(n))], y2_train)\n",
    "    \n",
    "    # Compute the cross-validation scores\n",
    "    logit5_3_cv_score = cross_val_score(logit5_3,pcaX_df_train[list(range(n))],y_train,cv=5,scoring='accuracy')\n",
    "    \n",
    "    cv_scores.append(np.mean(abs(logit5_3_cv_score)))"
   ]
  },
  {
   "cell_type": "code",
   "execution_count": 53,
   "metadata": {},
   "outputs": [
    {
     "name": "stdout",
     "output_type": "stream",
     "text": [
      "Best number of principal components from the results of cross-validation is: 20\n"
     ]
    }
   ],
   "source": [
    "# your code here\n",
    "# The best number of componenets with the best cross validation score\n",
    "best_score = max(cv_scores)\n",
    "best_components = n_components[cv_scores.index(best_score)]\n",
    "\n",
    "print(\"Best number of principal components from the results of cross-validation is: \" + str(best_components))"
   ]
  },
  {
   "cell_type": "markdown",
   "metadata": {},
   "source": [
    "*Your answer here*\n",
    "\n",
    "Using five-fold cross-validation, we select the number of PCA components that results in the model with the best cross-validation score. It turns out that this model is the one that predicts over the first 20 PCA components."
   ]
  },
  {
   "cell_type": "markdown",
   "metadata": {
    "autograde": "5.4",
    "cell_id": "0a790850-87c6-4f46-b89e-048a2295c92b",
    "colab_type": "text",
    "id": "IGFtXJmQap2q"
   },
   "source": [
    "<div class='exercise-r'>  \n",
    " \n",
    "**5.4** For your best model in the previous part, determine the classification accuracies within each observed (not predicted) subtype in test: which group is the most difficult to classify accurately?  Is this surprising?  Why or why not?\n",
    " \n",
    " </div>"
   ]
  },
  {
   "cell_type": "code",
   "execution_count": 58,
   "metadata": {},
   "outputs": [
    {
     "name": "stdout",
     "output_type": "stream",
     "text": [
      "Test Classification Accuracy for subtype ALL T: 0.3333\n",
      "Test Classification Accuracy for subtype ALL B: 0.8095\n",
      "Test Classification Accuracy for subtype ALM: 0.913\n"
     ]
    }
   ],
   "source": [
    "# your code here\n",
    "# Reset indices of y2_test to use for indexing\n",
    "y2_test2 = y2_test.reset_index().drop(labels='index',axis=1)['Cancer_subtype']\n",
    "\n",
    "# Refit model from 5.3\n",
    "logit5_3 = LogisticRegression(multi_class='multinomial',max_iter = 1000)\n",
    "logit5_3.fit(pcaX_df_train[list(range(20))], y2_train)\n",
    "\n",
    "y_hat = pd.Series(logit5_3.predict(pcaX_df_test[list(range(20))]))\n",
    "\n",
    "# Compute the testing accuracy for each subtype\n",
    "logit5_3_subtype0_accuracy = accuracy_score(y2_test2[y2_test2==0],y_hat[y2_test2==0])\n",
    "logit5_3_subtype1_accuracy = accuracy_score(y2_test2[y2_test2==1],y_hat[y2_test2==1])\n",
    "logit5_3_subtype2_accuracy = accuracy_score(y2_test2[y2_test2==2],y_hat[y2_test2==2])\n",
    "\n",
    "print(\"Test Classification Accuracy for subtype ALL T: \" + str(round(logit5_3_subtype0_accuracy,4)))\n",
    "print(\"Test Classification Accuracy for subtype ALL B: \" + str(round(logit5_3_subtype1_accuracy,4)))\n",
    "print(\"Test Classification Accuracy for subtype ALM: \" + str(round(logit5_3_subtype2_accuracy,4)))"
   ]
  },
  {
   "cell_type": "markdown",
   "metadata": {},
   "source": [
    "*Your answer here*\n",
    "\n",
    "The subtype group that is most difficult to classify is subtype 0, or the cancer subtype ALL T. This is unsurprising since if we examine our training and our testing dataset, ALL T is signficantly more rare in our observations that the other two cancer subtypes. So our model has difficulty accurately predicting for that subtype because it is so underrepresented in our sample of observations which causes it to be inaccurately classified often on our testing dataset, since the model has little information (from few observations) about ALL T to fit our predictors to accurately predict it."
   ]
  },
  {
   "cell_type": "markdown",
   "metadata": {
    "autograde": "5.5",
    "cell_id": "0a790850-87c6-4f46-b89e-048a2295c92b",
    "colab_type": "text",
    "id": "IGFtXJmQap2q"
   },
   "source": [
    "<div class='exercise-r'>  \n",
    " \n",
    "**5.5** In the 2-class problem the classification threshold can be altered from 0.5 to affect the number of false positives and false negatives (this is what the ROC curve is based on). In the multiclass setting, the predicted class probabilities can be weighted to determine the winning class (so that a smaller class will not be 'ignored' by the algorithm): essentially, each class's predicted probability can be multiplied by this class weight and compared to determine the classification.\n",
    " \n",
    " Determine the classification accuracies in each observed subtype in test if instead the observations were weighted more 'fairly': they are inversely weighted based on the observed sample sizes in train (so that if there were just 2 groups in the response with 75% of the response in one class and 25% in the other, the smaller class should be weighted 3 times as much as the larger class).\n",
    " \n",
    " Report the weights you used and the resulting classification accuracies in each subtype.  In what way have the results improved?  In what way have the results not improved?  Comment with 2-3 sentences.\n",
    " </div>"
   ]
  },
  {
   "cell_type": "code",
   "execution_count": 55,
   "metadata": {},
   "outputs": [],
   "source": [
    "# your code here\n",
    "# Find proportion of Training Set corresponding to each subtype\n",
    "proportion_subtype0 = len(y2_train[y2_train==0])/len(y2_train)\n",
    "proportion_subtype1 = len(y2_train[y2_train==1])/len(y2_train)\n",
    "proportion_subtype2 = len(y2_train[y2_train==2])/len(y2_train)\n",
    "\n",
    "# Calculate the weights to use for each subtype\n",
    "weight0 = 1/proportion_subtype0\n",
    "weight1 = 1/proportion_subtype1\n",
    "weight2 = 1/proportion_subtype2\n",
    "\n",
    "probs = logit5_3.predict_proba(pcaX_df_test[list(range(20))])\n",
    "weighted_probs = np.multiply(probs,[weight0, weight1, weight2])\n",
    "\n",
    "y_pred = []\n",
    "for p in weighted_probs:\n",
    "    y_pred.append(np.argmax(p))"
   ]
  },
  {
   "cell_type": "code",
   "execution_count": 59,
   "metadata": {},
   "outputs": [
    {
     "name": "stdout",
     "output_type": "stream",
     "text": [
      "Test Classification Accuracy for subtype ALL T: 0.5758\n",
      "Test Classification Accuracy for subtype ALL B: 0.5873\n",
      "Test Classification Accuracy for subtype ALM: 0.8587\n"
     ]
    }
   ],
   "source": [
    "# your code here\n",
    "y_hat = pd.Series(y_pred)\n",
    "\n",
    "# Compute the testing accuracy for each subtype\n",
    "subtype0_accuracy = accuracy_score(y2_test2[y2_test2==0],y_hat[y2_test2==0])\n",
    "subtype1_accuracy = accuracy_score(y2_test2[y2_test2==1],y_hat[y2_test2==1])\n",
    "subtype2_accuracy = accuracy_score(y2_test2[y2_test2==2],y_hat[y2_test2==2])\n",
    "\n",
    "print(\"Test Classification Accuracy for subtype ALL T: \" + str(round(subtype0_accuracy,4)))\n",
    "print(\"Test Classification Accuracy for subtype ALL B: \" + str(round(subtype1_accuracy,4)))\n",
    "print(\"Test Classification Accuracy for subtype ALM: \" + str(round(subtype2_accuracy,4)))"
   ]
  },
  {
   "cell_type": "markdown",
   "metadata": {},
   "source": [
    "*Your answer here*\n",
    "\n",
    "Our results have improved on the testing classification accuracy for cancer subtype ALL T, but has worsened in testing classification accuracy for the other two subtypes: ALL B and ALM. There is asymmetry in this worsening as the classification accuracy has worsened much more for ALL B than ALM. This makes intuitive sense because we are increasing the weighting on ALL T, since it was underrepresented in our observations, which causes it to be predicted more often so its classification accuracy improves while the classification accuracy worsens for the other two cancer subtypes as a trade-off. Perhaps the testing classification accuracy for ALL B worsens more than ALM because ALL B is more related to ALL T than ALM is."
   ]
  },
  {
   "cell_type": "code",
   "execution_count": null,
   "metadata": {},
   "outputs": [],
   "source": []
  }
 ],
 "metadata": {
  "colab": {
   "collapsed_sections": [],
   "name": "hw1-part1.ipynb",
   "provenance": []
  },
  "deepnote_execution_queue": [],
  "deepnote_notebook_id": "5e5027d5-1cf7-4394-a1d5-c57eaedde1db",
  "kernelspec": {
   "display_name": "Python 3",
   "language": "python",
   "name": "python3"
  },
  "language_info": {
   "codemirror_mode": {
    "name": "ipython",
    "version": 3
   },
   "file_extension": ".py",
   "mimetype": "text/x-python",
   "name": "python",
   "nbconvert_exporter": "python",
   "pygments_lexer": "ipython3",
   "version": "3.7.4"
  }
 },
 "nbformat": 4,
 "nbformat_minor": 4
}
