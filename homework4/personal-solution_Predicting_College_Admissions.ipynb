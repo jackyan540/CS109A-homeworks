{
 "cells": [
  {
   "cell_type": "markdown",
   "metadata": {},
   "source": [
    "# <img style=\"float: left; padding-right: 10px; width: 45px\" src=\"https://raw.githubusercontent.com/Harvard-IACS/2018-CS109A/master/content/styles/iacs.png\"> CS109A Introduction to Data Science: \n",
    "## Homework 4: Predicting College Admissions\n",
    "\n",
    "**Harvard University**<br/>\n",
    "**Fall 2020**<br/>\n",
    "**Instructors**: Pavlos Protopapas, Kevin Rader, and Chris Tanner\n",
    "\n",
    "<hr style=\"height:2.4pt\">"
   ]
  },
  {
   "cell_type": "code",
   "execution_count": 1,
   "metadata": {},
   "outputs": [
    {
     "data": {
      "text/html": [
       "<style>\n",
       "blockquote { background: #AEDE94; }\n",
       "h1 { \n",
       "    padding-top: 25px;\n",
       "    padding-bottom: 25px;\n",
       "    text-align: left; \n",
       "    padding-left: 10px;\n",
       "    background-color: #DDDDDD; \n",
       "    color: black;\n",
       "}\n",
       "h2 { \n",
       "    padding-top: 10px;\n",
       "    padding-bottom: 10px;\n",
       "    text-align: left; \n",
       "    padding-left: 5px;\n",
       "    background-color: #EEEEEE; \n",
       "    color: black;\n",
       "}\n",
       "\n",
       "div.exercise {\n",
       "\tbackground-color: #ffcccc;\n",
       "\tborder-color: #E9967A; \t\n",
       "\tborder-left: 5px solid #800080; \n",
       "\tpadding: 0.5em;\n",
       "}\n",
       "\n",
       "div.exercise-r {\n",
       "\tbackground-color: #fce8e8;\n",
       "\tborder-color: #E9967A; \t\n",
       "\tborder-left: 5px solid #800080; \n",
       "\tpadding: 0.5em;\n",
       "}\n",
       "\n",
       "\n",
       "span.sub-q {\n",
       "\tfont-weight: bold;\n",
       "}\n",
       "div.theme {\n",
       "\tbackground-color: #DDDDDD;\n",
       "\tborder-color: #E9967A; \t\n",
       "\tborder-left: 5px solid #800080; \n",
       "\tpadding: 0.5em;\n",
       "\tfont-size: 18pt;\n",
       "}\n",
       "div.gc { \n",
       "\tbackground-color: #AEDE94;\n",
       "\tborder-color: #E9967A; \t \n",
       "\tborder-left: 5px solid #800080; \n",
       "\tpadding: 0.5em;\n",
       "\tfont-size: 12pt;\n",
       "}\n",
       "p.q1 { \n",
       "    padding-top: 5px;\n",
       "    padding-bottom: 5px;\n",
       "    text-align: left; \n",
       "    padding-left: 5px;\n",
       "    background-color: #EEEEEE; \n",
       "    color: black;\n",
       "}\n",
       "header {\n",
       "   padding-top: 35px;\n",
       "    padding-bottom: 35px;\n",
       "    text-align: left; \n",
       "    padding-left: 10px;\n",
       "    background-color: #DDDDDD; \n",
       "    color: black;\n",
       "}\n",
       "</style>\n",
       "\n"
      ],
      "text/plain": [
       "<IPython.core.display.HTML object>"
      ]
     },
     "execution_count": 1,
     "metadata": {},
     "output_type": "execute_result"
    }
   ],
   "source": [
    "#RUN THIS CELL \n",
    "import requests\n",
    "from IPython.core.display import HTML\n",
    "styles = requests.get(\n",
    "    \"https://raw.githubusercontent.com/Harvard-IACS/2018-CS109A/master/content/styles/cs109.css\"\n",
    ").text\n",
    "HTML(styles)"
   ]
  },
  {
   "cell_type": "code",
   "execution_count": 2,
   "metadata": {},
   "outputs": [],
   "source": [
    "%matplotlib inline\n",
    "import math\n",
    "import numpy as np\n",
    "import pandas as pd\n",
    "import seaborn as sns\n",
    "import matplotlib.pyplot as plt\n",
    "\n",
    "from sklearn.model_selection import train_test_split\n",
    "from sklearn.preprocessing import PolynomialFeatures\n",
    "from sklearn.preprocessing import StandardScaler\n",
    "from sklearn.model_selection import cross_validate\n",
    "\n",
    "from sklearn.linear_model import LogisticRegression\n",
    "from sklearn.neighbors import KNeighborsClassifier\n",
    "from sklearn.linear_model import LogisticRegressionCV\n",
    "\n",
    "from sklearn.metrics import accuracy_score\n",
    "from sklearn.metrics import roc_curve\n",
    "from sklearn.metrics import roc_auc_score\n"
   ]
  },
  {
   "cell_type": "markdown",
   "metadata": {},
   "source": [
    "<hr style=\"height:2pt\">\n",
    "\n",
    "### INSTRUCTIONS\n",
    "\n",
    "- **THIS IS AN INDIVIDUAL ASSIGNMENT**. \n",
    "\n",
    "- To submit your assignment follow the instructions given in Canvas.\n",
    "\n",
    "- This assignment **must be done individually**.\n",
    "\n",
    "- Please restart the kernel and run the entire notebook again before you submit.\n",
    "\n",
    "- Running cells out of order is a common pitfall in Jupyter Notebooks. To make sure your code works restart the kernel and run the whole notebook again before you submit. Exceptions should be made for code with a long execution time, of course.\n",
    "- We have tried to include all the libraries you may need to do the assignment in the imports statement at the top of this notebook. We strongly suggest that you use those and not others as we may not be familiar with them.\n",
    "- Please use .head() when viewing data. Do not submit a notebook that is **excessively long**. \n",
    "- In questions that require code to answer, such as \"calculate the $R^2$\", do not just output the value from a cell. Write a `print()` function that includes a reference to the calculated value, **not hardcoded**. For example: \n",
    "```\n",
    "print(f'The R^2 is {R:.4f}')\n",
    "```\n",
    "- Your plots should include clear labels for the $x$ and $y$ axes as well as a descriptive title (\"MSE plot\" is not a descriptive title; \"95 % confidence interval of coefficients of polynomial degree 5\" is).\n",
    "<hr style=\"height:2pt\">"
   ]
  },
  {
   "cell_type": "markdown",
   "metadata": {},
   "source": [
    "## Overview and Data Description\n",
    "\n",
    "### Predicting admissions into elite universities\n",
    "\n",
    "In this problem set we will model the chances of high school students being accepted into two different elite undergraduate colleges (one is elite at least :) ): Harvard and Yale.  The data are provided in the file `data/college_admissions.csv` and were scraped from [collegedata.com](https://www.collegedata.com/) (where applicants volunteer to share their information).  Each observation corresponds to an applicant to one of the two different colleges (note: the same applicant may show up in two rows: once for each college).  The main response is the `admitted` variable (1 = admitted, 0 = denied), and there are are several predictors to consider:\n",
    "\n",
    "- **id**: a unique identifier for the applicant \n",
    "- **test**: a standardized measurement of the applicants highest ACT or SAT combined score (2400 is the maximum). \n",
    "- **ap**: the number of AP tests taken\n",
    "- **avg_ap**: the average score on the AP tests taken (0 if no tests were taken)\n",
    "- **sat_subjects**: the number of SAT subject tests taken\n",
    "- **gpa**: the unweighted GPA of applicant (max of 4.0)\n",
    "- **female**:  a binary indicator for gender: 1 = female, 0 = otherwise \n",
    "- **minority**: a binary indicator for under-represented minority: 1 = minority, 0 = otherwise \n",
    "- **international**: a binary indicator for international status: 1 = international, 0 = US\n",
    "- **sports**: a binary indicator for HS All-American: 1 = all-American athlete, 0 = otherwise\n",
    "- **school**: a categorical variable for school applied to: \"Harvard\" or \"Yale\"\n",
    "- **early_app**: a binary indicator for application type: 1 = early action, 0 = regular\n",
    "- **alumni**:  a binary indicator for parents' alumni status of school: 1 = a parent is an alumnus, 0 = otherwise\n",
    "- **program**: the program applied to by the student with many choices (we will not use this as a predictor)\n",
    "- **add_info**: additional (optional) info provided by applicant (we will not use this as a predictor)\n",
    "\n",
    "The main set of 12 predictors is (note: you may need to modify this list when fitting different models, and your will be replacing the `school` variable with a binary `harvard` variable early in the questions below):\n",
    "\n",
    "```python\n",
    "[\n",
    "    'test','ap','avg_ap','sat_subjects','gpa','female',\n",
    "    'minority','international','sports','school','early_app','alumni'\n",
    "]\n",
    "```\n",
    "\n",
    "Please use this dataset to answer the following questions below.\n",
    "\n",
    "**Important notes:**\n",
    "\n",
    "- **Unless stated otherwise, all logistic regression models should be unregularized (use `penalty=\"none\"`) and include the intercept (which is the default in `sklearn`).**\n",
    "\n",
    "\n",
    "- **When printing your output (e.g. coefficients, accuracy scores, etc.), DO NOT just print numbers without context. Please be certain provide clarifying labels for all printed numbers and limit the number of digits showing after decimals to a reasonable length (e.g. 4 decimal points for coefficients and accuracy scores).**\n",
    "\n",
    "\n",
    "- **Also be sure to practice good data science principles: always use train to do analysis and never touch the test set until the very end.**"
   ]
  },
  {
   "cell_type": "markdown",
   "metadata": {},
   "source": [
    "---"
   ]
  },
  {
   "cell_type": "markdown",
   "metadata": {},
   "source": [
    "<div class='exercise'><b> Question 1 [16 pts]: Data Exploration using train and basic models </b></div>\n",
    "\n",
    "The first step is to split the observations into an approximate 80-20 train-test split.  Below is some code to do this for you (we want to make sure everyone has the same splits). It also prints the dataset's shape before splitting and after splitting. \n",
    "\n",
    "**IMPORTANT:** While a valid argument could be made to scale our predictors here, please **DO NOT** do so **UNTIL** it is requested of you in **question 4.1**.\n",
    "\n",
    "**1.1** What proportion of observations were admitted overall?  What would be the classification accuracy for a baseline \"naive\" model where we classified ALL applicants as either admitted or not admitted using just this overall proportion to make our decision (i.e. we apply the same outcome to all applicants based on this proportion)?\n",
    "\n",
    "\n",
    "**1.2** Create a binary ('dummy') variable named `harvard` that takes on the value 1 if `school == \"Harvard\"` and 0 otherwise. Now, explore the marginal association of each of our 12 predictors with whether or not an applicant is admitted into the college they applied (`admitted`).  Create a separate **visual** for each predictor to investigage their relationship with college admissions.  **Suggestion:** place these 12 visuals in a *matrix* of subplots with 3 columns and 4 rows.\n",
    "\n",
    "**Note:** We will be using our dummified `harvard` predictor instead of `school` throughout the remainder of this problem set.\n",
    "\n",
    "**1.3** Based on the visuals above, which predictor seems to have the most potential for predicting `admitted`? Why do you think this it the best potential single predictor?\n",
    "\n",
    "\n",
    "**1.4** Fit a logistic regression to predict `admitted` from `harvard` (call it `logit1_4`).  Interpret the coefficient estimates: which college is estimated to be easier to get into?  What are the estimated chances of getting into each school?\n",
    "\n",
    "\n",
    "**1.5** Create a contingency table between `admitted` and `harvard`.  Use this table to calculate and confirm the coefficient estimates in the `logit1_4` model (both the intercept and slope).\n",
    "\n",
    "\n",
    "**1.6** Compare the estimated probabilities of being admitted into the schools to the overall acceptance rate (as seen [here](https://www.ivycoach.com/2023-ivy-league-admissions-statistics/)).  Why may what you've observed in this comparison be the case?\n"
   ]
  },
  {
   "cell_type": "code",
   "execution_count": 3,
   "metadata": {},
   "outputs": [
    {
     "name": "stdout",
     "output_type": "stream",
     "text": [
      "(1871, 16)\n",
      "(1496, 16) (375, 16)\n"
     ]
    }
   ],
   "source": [
    "#############################\n",
    "## DO NOT MODIFY THIS CODE ##\n",
    "#############################\n",
    "\n",
    "college = pd.read_csv('data/college_admissions.csv')\n",
    "np.random.seed(121)\n",
    "\n",
    "college_train, college_test, = train_test_split(\n",
    "    college, test_size=0.2,  random_state = 121, shuffle=True, stratify = college['school']\n",
    ")\n",
    "\n",
    "print(college.shape)\n",
    "print(college_train.shape, college_test.shape)"
   ]
  },
  {
   "cell_type": "markdown",
   "metadata": {
    "autograde": "1.1",
    "cell_id": "0a790850-87c6-4f46-b89e-048a2295c92b",
    "colab_type": "text",
    "id": "IGFtXJmQap2q"
   },
   "source": [
    "<div class='exercise-r'>  \n",
    " \n",
    "**1.1** What proportion of observations were admitted overall?  What would be the classification accuracy for a baseline \"naive\" model where we classified ALL applicants as either admitted or not admitted using just this overall proportion to make our decision (i.e. we apply the same outcome to all applicants based on this proportion)?\n",
    " \n",
    " \n",
    " </div>"
   ]
  },
  {
   "cell_type": "code",
   "execution_count": 4,
   "metadata": {},
   "outputs": [
    {
     "name": "stdout",
     "output_type": "stream",
     "text": [
      "The overall proportion of observations that were admitted: 0.2627\n",
      "The train set classification accuracy for our naive model is: 0.7373\n",
      "The test set classification accuracy for our naive model is: 0.7013\n"
     ]
    }
   ],
   "source": [
    "# your code here\n",
    "# We use only the training dataset per Shucheng Yan's suggestion on Ed to calculate the proportion\n",
    "# https://us.edstem.org/courses/2332/discussion/147620\n",
    "proportion = college_train.admitted.mean()\n",
    "print(\"The overall proportion of observations that were admitted: \" + str(round(proportion,4)))\n",
    "print(\"The train set classification accuracy for our naive model is: \" + str(round(1-proportion,4)))\n",
    "print(\"The test set classification accuracy for our naive model is: \" + str(round(1-college_test.admitted.mean(),4)))"
   ]
  },
  {
   "cell_type": "markdown",
   "metadata": {},
   "source": [
    "Since the overall proportion of observations that were admitted is 0.2627 which is lower than 0.5, we would apply the same outcome of not admitted to all applicants. Since we know the overall proportion that was admitted, our naive model of predicting all applicants of having an outcome of not admitted would have a classification accuracy of 1-0.2627=0.7373 on the training set and on the test set we have a classification accuracy of 0.7013."
   ]
  },
  {
   "cell_type": "markdown",
   "metadata": {
    "autograde": "1.2",
    "cell_id": "0a790850-87c6-4f46-b89e-048a2295c92b",
    "colab_type": "text",
    "id": "IGFtXJmQap2q"
   },
   "source": [
    "<div class='exercise-r'>  \n",
    " \n",
    "**1.2** Create a binary ('dummy') variable named `harvard` that takes on the value 1 if `school == \"Harvard\"` and 0 otherwise. Now, explore the marginal association of each of our 12 predictors with whether or not an applicant is admitted into the college they applied (`admitted`).  Create a separate **visual** for each predictor to investigage their relationship with college admissions.  **Suggestion:** place these 12 visuals in a *matrix* of subplots with 3 columns and 4 rows.\n",
    " \n",
    " **Note:** We will be using our dummified `harvard` predictor instead of `school` throughout the remainder of this problem set.\n",
    " \n",
    " </div>"
   ]
  },
  {
   "cell_type": "code",
   "execution_count": 5,
   "metadata": {},
   "outputs": [],
   "source": [
    "# your code here\n",
    "# We create this dummy variables for all three data frames per Mike Sedelmeyer's suggestion on Ed\n",
    "# https://us.edstem.org/courses/2332/discussion/144691\n",
    "# Use pd.insert() to avoid SettingWithCopy warnings\n",
    "# https://us.edstem.org/courses/2332/discussion/150709\n",
    "for df in [college,college_train,college_test]:\n",
    "    df.insert(loc=len(df.columns),column='harvard',value=pd.get_dummies(df['school']).Harvard)"
   ]
  },
  {
   "cell_type": "code",
   "execution_count": 6,
   "metadata": {},
   "outputs": [
    {
     "data": {
      "text/plain": [
       "(0.23, 0.45)"
      ]
     },
     "execution_count": 6,
     "metadata": {},
     "output_type": "execute_result"
    },
    {
     "data": {
      "text/plain": [
       "<Figure size 432x288 with 0 Axes>"
      ]
     },
     "metadata": {},
     "output_type": "display_data"
    },
    {
     "data": {
      "image/png": "[encoded data removed]",
      "text/plain": [
       "<Figure size 1080x1080 with 12 Axes>"
      ]
     },
     "metadata": {
      "needs_background": "light"
     },
     "output_type": "display_data"
    }
   ],
   "source": [
    "# your code here\n",
    "fig = plt.figure()\n",
    "fig, ax = plt.subplots(4,3)\n",
    "fig.suptitle(\"Marginal Associations of 12 predictors with applicants' admission status\")\n",
    "fig.set_figwidth(15)\n",
    "fig.set_figheight(15)\n",
    "fig.tight_layout(pad=6,h_pad=4,w_pad=4)\n",
    "\n",
    "for i in range(4):\n",
    "    for j in range(3):\n",
    "        ax[i][j].set_ylabel(\"Admission Status\")\n",
    "\n",
    "ax[0][0].scatter(college_train.test,college_train.admitted)\n",
    "ax[0][0].set_xlabel(\"Standardized ACT or SAT Test Score\")\n",
    "ax[0][0].set_yticks([0,1])\n",
    "ax[0][0].set_yticklabels(['Not Admitted', 'Admitted'],rotation=90,va='center')\n",
    "\n",
    "ax[0][1].bar(college_train.ap.sort_values().unique(),college_train.groupby('ap').admitted.mean())\n",
    "ax[0][1].set_xlabel(\"Number of AP Tests Taken\")\n",
    "ax[0][1].set_ylabel(\"Proportion Admitted\")\n",
    "ax[0][1].set_ylim(0.2,0.3)\n",
    "\n",
    "ax[0][2].scatter(college_train.avg_ap,college_train.admitted)\n",
    "ax[0][2].set_xlabel(\"Average AP Score\")\n",
    "ax[0][2].set_yticks([0,1])\n",
    "ax[0][2].set_yticklabels(['Not Admitted', 'Admitted'],rotation=90,va='center')\n",
    "\n",
    "ax[1][0].bar(college_train.sat_subjects.sort_values().unique(),college_train.groupby('sat_subjects').admitted.mean())\n",
    "ax[1][0].set_xlabel(\"Number of SAT Subject Tests Taken\")\n",
    "ax[1][0].set_ylabel(\"Proportion Admitted\")\n",
    "ax[1][0].set_ylim(0.2,0.34)\n",
    "\n",
    "ax[1][1].scatter(college_train.gpa,college_train.admitted)\n",
    "ax[1][1].set_xlabel(\"Unweighted GPA\")\n",
    "ax[1][1].set_yticks([0,1])\n",
    "ax[1][1].set_yticklabels(['Not Admitted', 'Admitted'],rotation=90,va='center')\n",
    "\n",
    "ax[1][2].bar(college_train.female.sort_values().unique(),college_train.groupby('female').admitted.mean())\n",
    "ax[1][2].set_xlabel(\"Gender\")\n",
    "ax[1][2].set_ylabel(\"Proportion Admitted\")\n",
    "ax[1][2].set_xticks([0,1])\n",
    "ax[1][2].set_xticklabels(['Female', 'Male'],va='center')\n",
    "ax[1][2].set_ylim(0.25,0.27)\n",
    "\n",
    "ax[2][0].bar(college_train.minority.sort_values().unique(),college_train.groupby('minority').admitted.mean())\n",
    "ax[2][0].set_xlabel(\"Under-represented Minority Status\")\n",
    "ax[2][0].set_ylabel(\"Proportion Admitted\")\n",
    "ax[2][0].set_xticks([0,1])\n",
    "ax[2][0].set_xticklabels(['Non-Minority', 'Minority'],va='center')\n",
    "ax[2][0].set_ylim(0.22,0.35)\n",
    "\n",
    "ax[2][1].bar(college_train.international.sort_values().unique(),college_train.groupby('international').admitted.mean())\n",
    "ax[2][1].set_xlabel(\"International Status\")\n",
    "ax[2][1].set_ylabel(\"Proportion Admitted\")\n",
    "ax[2][1].set_xticks([0,1])\n",
    "ax[2][1].set_xticklabels(['US', 'International'],va='center')\n",
    "ax[2][1].set_ylim(0.24,0.32)\n",
    "\n",
    "ax[2][2].bar(college_train.sports.sort_values().unique(),college_train.groupby('sports').admitted.mean())\n",
    "ax[2][2].set_xlabel(\"HS All-American Status\")\n",
    "ax[2][2].set_ylabel(\"Proportion Admitted\")\n",
    "ax[2][2].set_xticks([0,1])\n",
    "ax[2][2].set_xticklabels(['Non HS All-American', 'HS All-American Athlete'],va='center')\n",
    "ax[2][2].set_ylim(0.2,0.5)\n",
    "\n",
    "ax[3][0].bar(college_train.harvard.sort_values().unique(),college_train.groupby('harvard').admitted.mean())\n",
    "ax[3][0].set_xlabel(\"School Applied to\")\n",
    "ax[3][0].set_ylabel(\"Proportion Admitted\")\n",
    "ax[3][0].set_xticks([0,1])\n",
    "ax[3][0].set_xticklabels(['Yale', 'Harvard'],va='center')\n",
    "ax[3][0].set_ylim(0.23,0.29)\n",
    "\n",
    "ax[3][1].bar(college_train.early_app.sort_values().unique(),college_train.groupby('early_app').admitted.mean())\n",
    "ax[3][1].set_xlabel(\"Application Type\")\n",
    "ax[3][1].set_ylabel(\"Proportion Admitted\")\n",
    "ax[3][1].set_xticks([0,1])\n",
    "ax[3][1].set_xticklabels(['Regular', 'Early Action'],va='center')\n",
    "ax[3][1].set_ylim(0.23,0.36)\n",
    "\n",
    "ax[3][2].bar(college_train.alumni.sort_values().unique(),college_train.groupby('alumni').admitted.mean())\n",
    "ax[3][2].set_xlabel(\"Parent Alum Status\")\n",
    "ax[3][2].set_ylabel(\"Proportion Admitted\")\n",
    "ax[3][2].set_xticks([0,1])\n",
    "ax[3][2].set_xticklabels(['Parent is not alum', 'Parent is alum'],va='center')\n",
    "ax[3][2].set_ylim(0.23,0.45)"
   ]
  },
  {
   "cell_type": "markdown",
   "metadata": {
    "autograde": "1.3",
    "cell_id": "0a790850-87c6-4f46-b89e-048a2295c92b",
    "colab_type": "text",
    "id": "IGFtXJmQap2q"
   },
   "source": [
    "<div class='exercise-r'>  \n",
    " \n",
    "**1.3** Based on the visuals above, which predictor seems to have the most potential for predicting `admitted`? Why do you think this it the best potential single predictor?\n",
    " \n",
    " \n",
    " </div>"
   ]
  },
  {
   "cell_type": "markdown",
   "metadata": {},
   "source": [
    "**INTERPRETATION:**"
   ]
  },
  {
   "cell_type": "markdown",
   "metadata": {},
   "source": [
    "The sports predictor seems to have the most potential for predicting admitted because, as we can see in the bar plot above, applicants in our test set who were a High School All-American Athlete were admitted at almost twice the rate of those who were not a High School All-American Athlete. This difference is the most extreme of any of the categorical variables. Our continous variables don't seem to be as effective predictors because even though at the low ends of their ranges it seems that they may be effective at predicting admission status, at the high ends of their ranges there doesn't seem to be any discernable difference in admission status. The intuition would be that perhaps these continuous variables are like thresholds where if an applicant is on the low end of the range we can have confidence in predicting that they won't be admitted, but if an applicant is on the high end of the range we are more uncertan of their admission status. Moreover, as a categorical variable this predictor also has the advantage of allowing us to explore interaction effects with other predictors."
   ]
  },
  {
   "cell_type": "markdown",
   "metadata": {
    "autograde": "1.4",
    "cell_id": "0a790850-87c6-4f46-b89e-048a2295c92b",
    "colab_type": "text",
    "id": "IGFtXJmQap2q"
   },
   "source": [
    "<div class='exercise-r'>  \n",
    " \n",
    "**1.4** Fit a logistic regression to predict `admitted` from `harvard` (call it `logit1_4`).  Interpret the coefficient estimates: which college is estimated to be easier to get into?  What are the estimated chances of getting into each school?\n",
    " \n",
    " \n",
    " </div>"
   ]
  },
  {
   "cell_type": "code",
   "execution_count": 7,
   "metadata": {},
   "outputs": [
    {
     "name": "stdout",
     "output_type": "stream",
     "text": [
      "Logistic Regression Estimated Beta (B0): -1.1137\n",
      "Logistic Regression Estimated Beta (B1) for harvard: 0.1532\n"
     ]
    }
   ],
   "source": [
    "# your code here\n",
    "predictors = ['harvard']\n",
    "\n",
    "# Create a logistic regression model, with 'none' as the penalty\n",
    "# Fit the model using the training set\n",
    "logit1_4 = LogisticRegression(penalty='none', max_iter = 5000).fit(college_train[predictors], college_train['admitted'])\n",
    "\n",
    "# Get the coefficient estimates\n",
    "print(\"Logistic Regression Estimated Beta (B0):\",round(logit1_4.intercept_[0],4))\n",
    "for i in range(len(predictors)):\n",
    "    print(\"Logistic Regression Estimated Beta (B\" + str(i+1) + \") for \" + predictors[i] + \":\",round(logit1_4.coef_[0][i],4))"
   ]
  },
  {
   "cell_type": "markdown",
   "metadata": {},
   "source": [
    "**INTERPRETATION:**"
   ]
  },
  {
   "cell_type": "markdown",
   "metadata": {},
   "source": [
    "Our simple logistic regression is:\n",
    "$$\\log(\\frac{P(Y=1)}{1-P(Y=1)})=-1.1137+0.1532X$$\n",
    "where $Y=1$ is the event that an applicant is admitted and $X=1$ is the predictor variable for if the applicant applied to Harvard or $X=0$ is the predictor variable for if the applicant applied to Yale. Our intercept $\\beta_0=-1.1137$ has the interpretation of the log odds of admission for applicants to Yale while our coefficient $\\beta_1=0.1532$ has the interpretation of the difference in log odds of admission for applicants to Harvard versus applicants to Yale. Since log-odds are monotonically increasing and $\\beta_1>0$, that implies that Harvard is estimated to be easier to get into. We can find the estimated chances by exponentiating our log odds for each categorical group. For Yale:\n",
    "$$\\exp(-1.1137)=\\frac{P(Y=1)}{1-P(Y=1)}=0.328\\to P(Y=1)=0.247$$\n",
    "So there is a 0.328 estimated odds of getting into Yale, or an estimated chance (probability) of 0.247 of getting into Yale. For Harvard:\n",
    "$$\\exp(-1.1137+0.1532)=\\frac{P(Y=1)}{1-P(Y=1)}=0.383\\to P(Y=1)=0.277$$\n",
    "So there is a 0.383 estimated odds of getting into Harvard, or an estimated chance (probability) of 0.277 of getting into Harvard."
   ]
  },
  {
   "cell_type": "markdown",
   "metadata": {
    "autograde": "1.5",
    "cell_id": "0a790850-87c6-4f46-b89e-048a2295c92b",
    "colab_type": "text",
    "id": "IGFtXJmQap2q"
   },
   "source": [
    "<div class='exercise-r'>  \n",
    " \n",
    "**1.5** Create a contingency table between `admitted` and `harvard`.  Use this table to calculate and confirm the coefficient estimates in the `logit1_4` model (both the intercept and slope).\n",
    " \n",
    " \n",
    " </div>"
   ]
  },
  {
   "cell_type": "code",
   "execution_count": 8,
   "metadata": {},
   "outputs": [
    {
     "data": {
      "text/html": [
       "<div>\n",
       "<style scoped>\n",
       "    .dataframe tbody tr th:only-of-type {\n",
       "        vertical-align: middle;\n",
       "    }\n",
       "\n",
       "    .dataframe tbody tr th {\n",
       "        vertical-align: top;\n",
       "    }\n",
       "\n",
       "    .dataframe thead th {\n",
       "        text-align: right;\n",
       "    }\n",
       "</style>\n",
       "<table border=\"1\" class=\"dataframe\">\n",
       "  <thead>\n",
       "    <tr style=\"text-align: right;\">\n",
       "      <th>admitted</th>\n",
       "      <th>0</th>\n",
       "      <th>1</th>\n",
       "    </tr>\n",
       "    <tr>\n",
       "      <th>harvard</th>\n",
       "      <th></th>\n",
       "      <th></th>\n",
       "    </tr>\n",
       "  </thead>\n",
       "  <tbody>\n",
       "    <tr>\n",
       "      <th>0</th>\n",
       "      <td>536</td>\n",
       "      <td>176</td>\n",
       "    </tr>\n",
       "    <tr>\n",
       "      <th>1</th>\n",
       "      <td>567</td>\n",
       "      <td>217</td>\n",
       "    </tr>\n",
       "  </tbody>\n",
       "</table>\n",
       "</div>"
      ],
      "text/plain": [
       "admitted    0    1\n",
       "harvard           \n",
       "0         536  176\n",
       "1         567  217"
      ]
     },
     "execution_count": 8,
     "metadata": {},
     "output_type": "execute_result"
    }
   ],
   "source": [
    "# your code here\n",
    "pd.crosstab(college_train.harvard,college_train.admitted)"
   ]
  },
  {
   "cell_type": "markdown",
   "metadata": {},
   "source": [
    "We can directly compute our probabilities as:\n",
    "$$P(Y=1|X=0)=\\frac{176}{536+176}=0.247\\quad\\quad P(Y=1|X=1)=\\frac{217}{567+217}=0.277$$\n",
    "which directly match our probabilities that we found in part 1.4, so we may mathematically compute the coefficient estimates to confirm them:\n",
    "$$\\hat{\\beta}_0=\\ln\\Big(\\frac{P(Y=1|X=0)}{1-P(Y=1|X=0)}\\Big)=\\ln\\Big(\\frac{0.247}{1-0.247}\\Big)=-1.1147$$\n",
    "$$\\hat{\\beta}_1=\\ln\\Big(\\frac{P(Y=1|X=1)}{1-P(Y=1|X=1)}\\Big)-\\hat{\\beta}_0=\\ln\\Big(\\frac{0.277}{1-0.277}\\Big)-(-1.1147)=0.1553$$\n",
    "As we can see our mathematically computed coefficient estimates are approximately equal to the coefficient estimates in the model from 1.4, confirming our estimates."
   ]
  },
  {
   "cell_type": "markdown",
   "metadata": {
    "autograde": "1.6",
    "cell_id": "0a790850-87c6-4f46-b89e-048a2295c92b",
    "colab_type": "text",
    "id": "IGFtXJmQap2q"
   },
   "source": [
    "**1.6** Compare the estimated probabilities of being admitted into the schools to the overall acceptance rate (as seen [here](https://www.ivycoach.com/2023-ivy-league-admissions-statistics/)).  Why may what you've observed in this comparison be the case?"
   ]
  },
  {
   "cell_type": "markdown",
   "metadata": {},
   "source": [
    "**INTERPRETATION:**"
   ]
  },
  {
   "cell_type": "markdown",
   "metadata": {},
   "source": [
    "Our estimated probability of being admitted into Yale is 0.247 and our estimated probability of being admitted into Harvard is 0.2777. However, the actual overall acceptance rate into these schools are about 5 times lower with Yale having an overall acceptance rate of 5.9\\% and Harvard having an overall acceptance rate of 4.5\\%. A likely explanation is that there is selection bias in our original dataset. After all, all applicants in the data set volunteered to share their information. We expect that applicants who are voluntarily sharing their information, even though it is anonymous, are generally the most qualified applicants and those who are engaged and interested enough in the college application process to be a contributor to the college application site \"collegedata.com\" resulting in our selection bias and higher estimated probabilities when compared to the true overall acceptance rate."
   ]
  },
  {
   "cell_type": "markdown",
   "metadata": {},
   "source": [
    "---"
   ]
  },
  {
   "cell_type": "markdown",
   "metadata": {},
   "source": [
    "<div class='exercise'><b> Question 2 [18 pts]: Interpretable Modeling </b></div>\n",
    "\n",
    "**2.1** Fit a logistic regression model to predict `admitted` from `test` alone (call it `logit2_1`).  Print out the coefficient estimates (both intercept and slope) along with the classification accuracies for this model (on both train and test data). \n",
    "\n",
    "**2.2** What are the estimated chances of an applicant being admitted with an *average* `test` score of 2200?  What about if they had a perfect test score of 2400?  What test score would be needed to have a 50-50 chance of being admitted?\n",
    "\n",
    "**2.3**  Fit a logistic regression model to predict `admitted` from `test` and `avg_ap` (call it `logit2_3`).  Print out the coefficient estimates (both intercept and slope) along with the classification accuracies for this model (on both train and test data). \n",
    "\n",
    "**2.4** Interpret the coefficient estimates in `logit2_3` (not the intercept) and compare the coefficient estimate for `test` to the one from `logit2_1`.  Why has this estimate changed?\n",
    "\n",
    "**Hint:** You may want to inspect the relationship between `test` and `avg_ap` to help get a better sense for what might be happening here.\n",
    "\n",
    "**2.5** Interpret and compare the classification accuracies for the two models (`logit2_1` and `logit2_3`).  Explain why these accuracies are the same or different, and what about the data makes these accuracies so similar of different? \n"
   ]
  },
  {
   "cell_type": "markdown",
   "metadata": {
    "autograde": "2.1",
    "cell_id": "0a790850-87c6-4f46-b89e-048a2295c92b",
    "colab_type": "text",
    "id": "IGFtXJmQap2q"
   },
   "source": [
    "<div class='exercise-r'>  \n",
    " \n",
    "**2.1** Fit a logistic regression model to predict `admitted` from `test` alone (call it `logit2_1`).  Print out the coefficient estimates (both intercept and slope) along with the classification accuracies for this model (on both train and test data).\n",
    " \n",
    " </div>"
   ]
  },
  {
   "cell_type": "code",
   "execution_count": 9,
   "metadata": {},
   "outputs": [
    {
     "name": "stdout",
     "output_type": "stream",
     "text": [
      "Logistic Regression Estimated Beta (B0): -9.4136\n",
      "Logistic Regression Estimated Beta (B1) for test: 0.0038\n",
      "Train Accuracy: 0.7373\n",
      "Test Accuracy: 0.7013\n"
     ]
    }
   ],
   "source": [
    "# your code here\n",
    "# your code here\n",
    "predictors = ['test']\n",
    "\n",
    "# Create a logistic regression model, with 'none' as the penalty\n",
    "# Fit the model using the training set\n",
    "logit2_1 = LogisticRegression(penalty='none', max_iter = 5000).fit(college_train[predictors], college_train['admitted'])\n",
    "\n",
    "# Get the coefficient estimates\n",
    "print(\"Logistic Regression Estimated Beta (B0):\",round(logit2_1.intercept_[0],4))\n",
    "for i in range(len(predictors)):\n",
    "    print(\"Logistic Regression Estimated Beta (B\" + str(i+1) + \") for \" + predictors[i] + \":\",round(logit2_1.coef_[0][i],4))\n",
    "\n",
    "# Compute the training and testng accuracy\n",
    "logit2_1_train_accuracy = logit2_1.score(college_train[['test']],college_train.admitted)\n",
    "logit2_1_test_accuracy = logit2_1.score(college_test[['test']],college_test.admitted)\n",
    "\n",
    "print(\"Train Accuracy: \" + str(round(logit2_1_train_accuracy,4)))\n",
    "print(\"Test Accuracy: \" + str(round(logit2_1_test_accuracy,4)))"
   ]
  },
  {
   "cell_type": "markdown",
   "metadata": {
    "autograde": "2.2",
    "cell_id": "0a790850-87c6-4f46-b89e-048a2295c92b",
    "colab_type": "text",
    "id": "IGFtXJmQap2q"
   },
   "source": [
    "<div class='exercise-r'>  \n",
    " \n",
    "**2.2** What are the estimated chances of an applicant being admitted with an *average* `test` score of 2200?  What about if they had a perfect test score of 2400?  What test score would be needed to have a 50-50 chance of being admitted?\n",
    " \n",
    " </div>"
   ]
  },
  {
   "cell_type": "code",
   "execution_count": 10,
   "metadata": {},
   "outputs": [
    {
     "name": "stdout",
     "output_type": "stream",
     "text": [
      "Estimated chance of an applicant being admitted with an average test score of 2200: 0.2553\n",
      "Estimated chance of an applicant being admitted with a perfect test score of 2400: 0.4226\n"
     ]
    }
   ],
   "source": [
    "# your code here\n",
    "predictions = logit2_1.predict_proba([[2200],[2400]])\n",
    "\n",
    "print(\"Estimated chance of an applicant being admitted with an average test score of 2200: \" \n",
    "    + str(round(predictions[0][1],4)))\n",
    "print(\"Estimated chance of an applicant being admitted with a perfect test score of 2400: \" \n",
    "    + str(round(predictions[1][1],4)))"
   ]
  },
  {
   "cell_type": "markdown",
   "metadata": {},
   "source": [
    "*Your answer here*\n",
    "We can directly calculate the test score using the estimated betas:\n",
    "$$\\ln\\Big(\\frac{P(Y=1)}{1-P(Y=1)}\\Big)=\\hat{\\beta}_0+\\hat{\\beta}_1X$$\n",
    "$$X=\\frac{\\Big(\\ln\\Big(\\frac{P(Y=1)}{1-P(Y=1)}\\Big)-\\hat{\\beta}_0\\Big)}{\\hat{\\beta}_1}$$\n",
    "Since we are looking for the 50-50 chance of being admitted we have $P(Y=1)=0.5$ so $\\ln(\\frac{P(Y=1)}{1-P(Y=1)})=\\ln(\\frac{0.5}{0.5})=0$. Thus we can solve for $X$ as:\n",
    "$$X=\\frac{-\\hat{\\beta}_0}{\\hat{\\beta}_1}$$"
   ]
  },
  {
   "cell_type": "code",
   "execution_count": 11,
   "metadata": {},
   "outputs": [
    {
     "name": "stdout",
     "output_type": "stream",
     "text": [
      "Test score needed to have a 50-50 chance of being admitted is: 2482.3446\n"
     ]
    }
   ],
   "source": [
    "# your code here\n",
    "print(\"Test score needed to have a 50-50 chance of being admitted is: \"\n",
    "      + str(round(-logit2_1.intercept_[0]/logit2_1.coef_[0][0],4)))"
   ]
  },
  {
   "cell_type": "markdown",
   "metadata": {},
   "source": [
    "**Interpretation:**"
   ]
  },
  {
   "cell_type": "markdown",
   "metadata": {},
   "source": [
    "*Your answer here*\n",
    "\n",
    "The applicant with an average test score of 2200 has the estimated chance of being admitted of 0.2553 while an applicant with a perfect test score of 2400 has an estimated chance of being admitted of 0.4226. Based on our model, we find that to have a 50-50 chance of being admitted, an applicant would need a test score of 2482.3446. Our maximum possible test score is 2400, so that means, based on our model, there is no possible test score that would achieve a 50-50 chance of being admitted and the best chance that one can achieve is 0.4226. So our range of possible chances of being admitted when estimated on test scores is (0, 0.4226). Moreover, it seems there is a significant increase in probabilities at the top range of test scores since the chance of being admitted almost doubles from 2200 to 2400."
   ]
  },
  {
   "cell_type": "markdown",
   "metadata": {
    "autograde": "2.3",
    "cell_id": "0a790850-87c6-4f46-b89e-048a2295c92b",
    "colab_type": "text",
    "id": "IGFtXJmQap2q"
   },
   "source": [
    "<div class='exercise-r'>  \n",
    " \n",
    "**2.3**  Fit a logistic regression model to predict `admitted` from `test` and `avg_ap` (call it `logit2_3`).  Print out the coefficient estimates (both intercept and slope) along with the classification accuracies for this model (on both train and test data).\n",
    " \n",
    " </div>"
   ]
  },
  {
   "cell_type": "code",
   "execution_count": 12,
   "metadata": {},
   "outputs": [
    {
     "name": "stdout",
     "output_type": "stream",
     "text": [
      "Logistic Regression Estimated Beta (B0): -0.0188\n",
      "Logistic Regression Estimated Beta (B1) for test: -0.0005\n",
      "Logistic Regression Estimated Beta (B2) for avg_ap: 0.0533\n",
      "Train Accuracy: 0.7373\n",
      "Test Accuracy: 0.7013\n"
     ]
    }
   ],
   "source": [
    "# your code here\n",
    "# your code here\n",
    "predictors = ['test','avg_ap']\n",
    "\n",
    "# Create a logistic regression model, with 'none' as the penalty\n",
    "# Fit the model using the training set\n",
    "logit2_3 = LogisticRegression(penalty='none', max_iter = 5000).fit(college_train[predictors], college_train['admitted'])\n",
    "\n",
    "# Get the coefficient estimates\n",
    "print(\"Logistic Regression Estimated Beta (B0):\",round(logit2_3.intercept_[0],4))\n",
    "for i in range(len(predictors)):\n",
    "    print(\"Logistic Regression Estimated Beta (B\" + str(i+1) + \") for \" + predictors[i] + \":\",round(logit2_3.coef_[0][i],4))\n",
    "\n",
    "# Compute the training and testng accuracy\n",
    "logit2_3_train_accuracy = logit2_3.score(college_train[['test','avg_ap']],college_train.admitted)\n",
    "logit2_3_test_accuracy = logit2_3.score(college_test[['test','avg_ap']],college_test.admitted)\n",
    "\n",
    "print(\"Train Accuracy: \" + str(round(logit2_3_train_accuracy,4)))\n",
    "print(\"Test Accuracy: \" + str(round(logit2_3_test_accuracy,4)))"
   ]
  },
  {
   "cell_type": "markdown",
   "metadata": {
    "autograde": "2.4",
    "cell_id": "0a790850-87c6-4f46-b89e-048a2295c92b",
    "colab_type": "text",
    "id": "IGFtXJmQap2q"
   },
   "source": [
    "<div class='exercise-r'>  \n",
    " \n",
    "**2.4** Interpret the coefficient estimates in `logit2_3` (not the intercept) and compare the coefficient estimate for `test` to the one from `logit2_1`.  Why has this estimate changed?\n",
    " \n",
    " **Hint:** You may want to inspect the relationship between `test` and `avg_ap` to help get a better sense for what might be happening here.\n",
    " \n",
    " </div>"
   ]
  },
  {
   "cell_type": "code",
   "execution_count": 13,
   "metadata": {},
   "outputs": [
    {
     "data": {
      "text/plain": [
       "Text(0, 0.5, 'Test Score')"
      ]
     },
     "execution_count": 13,
     "metadata": {},
     "output_type": "execute_result"
    },
    {
     "data": {
      "image/png": "[encoded data removed]",
      "text/plain": [
       "<Figure size 432x288 with 1 Axes>"
      ]
     },
     "metadata": {
      "needs_background": "light"
     },
     "output_type": "display_data"
    }
   ],
   "source": [
    "# your code here\n",
    "plt.scatter(college_train.avg_ap,college_train.test)\n",
    "plt.xlabel(\"Average AP Score\")\n",
    "plt.ylabel(\"Test Score\")"
   ]
  },
  {
   "cell_type": "markdown",
   "metadata": {},
   "source": [
    "**INTERPRETATION:**"
   ]
  },
  {
   "cell_type": "markdown",
   "metadata": {},
   "source": [
    "*Your answer here*\n",
    "\n",
    "For logit2_1 the coefficient estimate for test is 0.0038 and for logit2_3 the coefficient estimate for test is -0.0005. So it seems that our coefficient estimate became insignificant in logit2_3 while it was significant in logit2_1. The difference between the two models is that we've included avg_ap as an additional predictor variable in logit2_3. From the scatter plot above, we see that there is a fairly strong positive relationship between test and avg_ap. This makes intuitive sense, since if an applicant has a high test score they would also likely have a high average AP score as well. Because there is a strong relationship (in otherwords, collinearity) between these two predictor variables, including both of them in logit2_3 means that one of them will capture most of the effect of the other. In this case, the predictor variable avg_ap has a significant coefficient in logit2_3, while test has a near zero coefficient in logit2_3. Test became an insignificant predictor variable in logit2_3 because its strong relationship with avg_ap means that regressing avg_ap on admitted captures most of the effect of test on admitted."
   ]
  },
  {
   "cell_type": "markdown",
   "metadata": {
    "autograde": "2.5",
    "cell_id": "0a790850-87c6-4f46-b89e-048a2295c92b",
    "colab_type": "text",
    "id": "IGFtXJmQap2q"
   },
   "source": [
    "<div class='exercise-r'>  \n",
    "    \n",
    "**2.5** Interpret and compare the classification accuracies for the two models (`logit2_1` and `logit2_3`).  Explain why these accuracies are the same or different, and what about the data makes these accuracies so similar of different?\n",
    "</div>"
   ]
  },
  {
   "cell_type": "markdown",
   "metadata": {},
   "source": [
    "**INTERPRETATION:**"
   ]
  },
  {
   "cell_type": "markdown",
   "metadata": {},
   "source": [
    "*Your answer here*\n",
    "\n",
    "For logit2_1 the classification accuracy on the training set is 0.7373 and on the testing set is 0.7013. For logit2_3 the classification accuracy on the training set is 0.7373 and on the testing set is 0.7013. It turns out that for both of the models we have the exact same classification accuracies, so it must mean that the two models are very similar in how they've fitted the training data and how they're predicting on the testing data. As we discussed in 2.4, avg_ap in logit2_3 captures the effect of test on admitted, so that means that adding avg_ap as an additional predictor doesn't increase the predictive power of our model because of the collinearity problem. That means that our logit2_3 model actually doesn't classify anymore observations correctly than our logit2_1 model which results in them having the exact same classification accuracies."
   ]
  },
  {
   "cell_type": "markdown",
   "metadata": {},
   "source": [
    "---"
   ]
  },
  {
   "cell_type": "markdown",
   "metadata": {},
   "source": [
    "<div class='exercise'><b> Question 3 [30 pts]: Harvard and Yale? </b></div>\n",
    "\n",
    "\n",
    "**3.1** Fit a logistic regression model (call it `logit3_1`) to predict `admitted` from 7 predictors: `['harvard', 'test', 'ap', 'avg_ap', 'gpa', 'female', 'minority']`.  Output and interpret the coefficient estimates for the binary predictors in this model.\n",
    "\n",
    "**Hint:** If you have convergence warnings, increasing the maximum number of iterations to 500 (`max_iter=500`) will likely solve the issue.\n",
    "\n",
    "**3.2** Fit a logistic regression model (call it `logit3_2`) to predict `admitted` from 3 predictors: `['harvard', 'test', 'ap']` along with the 2 interaction terms: `harvard` with `test` and `harvard` with `ap`. Name the columns for these interaction terms something sensible.  Print out the coefficient estimates for this model.\n",
    "\n",
    "**3.3** Simplify and write out mathematically the above model from question 3.2 for 2 applicants: (1) someone who is applying to Harvard and for (2) someone who is applying to Yale (keep `test` and `ap` as the unknown $X$s).  The basic framework given to you below may be helpful:\n",
    "\n",
    "$$ \\ln \\left( \\frac{P(Y=1)}{1-P(Y=1)} \\right) = \\beta_0 + \\beta_1 X_1 + \\dots + \\beta_p X_p $$\n",
    "\n",
    "**Note:** All of your mathematical statements should be written out in your markdown cells [using LaTeX](https://towardsdatascience.com/write-markdown-latex-in-the-jupyter-notebook-10985edb91fd). Do not insert images of handwritten math!\n",
    "\n",
    "**3.4** Determine two classification boundaries mathematically for the model in the previous part (using the estimated coefficients): What range of values of `test` as a function of `ap` would an applicant be predicted to more likely than not be admitted into the college they applied? If a student scored a perfect 2400 on `test`, what is the minimum number of AP tests they should take in order to have a better than 50% chance of being admitted into Harvard?\n",
    "\n",
    "**3.5** Create two separate scatterplots (one for Harvard applicants and one for Yale applicants) with the predictor `test` on the y-axis and `ap` on the x-axis where `admitted` is color-coded and the marker denotes train vs. test data.  Then add the appropriate classification boundary from the previous part.  Compare these two plots (both the location of the boundaries and where the points lie around these boundaries).\n",
    "\n",
    "**Note:** As always, please be certain (a) your plot is titled, (b) everything is clearly labeled, and (c) the plot itself is formatted in a manner that makes it easy to read and interpret.\n",
    "\n",
    "**3.6** Fit a logistic regression model (call it `logit3_6`) to predict `admitted` from 4 predictors: `['harvard', 'test', 'female', 'minority']` along with 2 interaction terms: `harvard` with `female` and `harvard` with `minority`.  Print out the coefficient estimates for this model.\n",
    "\n",
    "**3.7** Interpret the coefficients associated with `female` and `minority` (the two main effects AND the two interaction terms).\n",
    "\n",
    "**3.8** Based on this sample, how does it appear that Harvard and Yale compare in admitting these groups?  Why would it be wrong to take this interpretation as truth?"
   ]
  },
  {
   "cell_type": "markdown",
   "metadata": {
    "autograde": "3.1",
    "cell_id": "0a790850-87c6-4f46-b89e-048a2295c92b",
    "colab_type": "text",
    "id": "IGFtXJmQap2q"
   },
   "source": [
    "<div class='exercise-r'>  \n",
    " \n",
    "**3.1** Fit a logistic regression model (call it `logit3_1`) to predict `admitted` from 7 predictors: `['harvard', 'test', 'ap', 'avg_ap', 'gpa', 'female', 'minority']`.  Output and interpret the coefficient estimates for the binary predictors in this model.\n",
    " \n",
    " **Hint:** If you have convergence warnings, increasing the maximum number of iterations to 500 (`max_iter=500`) will likely solve the issue.\n",
    " \n",
    " </div>"
   ]
  },
  {
   "cell_type": "code",
   "execution_count": 14,
   "metadata": {},
   "outputs": [
    {
     "name": "stdout",
     "output_type": "stream",
     "text": [
      "Logistic Regression Estimated Beta (B0): -1.1645\n",
      "Logistic Regression Estimated Beta (B1) for harvard: 0.1435\n",
      "Logistic Regression Estimated Beta (B2) for test: 0.003\n",
      "Logistic Regression Estimated Beta (B3) for ap: -0.0235\n",
      "Logistic Regression Estimated Beta (B4) for avg_ap: 0.0334\n",
      "Logistic Regression Estimated Beta (B5) for gpa: -1.736\n",
      "Logistic Regression Estimated Beta (B6) for female: -0.0349\n",
      "Logistic Regression Estimated Beta (B7) for minority: 0.4572\n"
     ]
    }
   ],
   "source": [
    "# your code here\n",
    "predictors = ['harvard','test','ap','avg_ap','gpa','female','minority']\n",
    "\n",
    "# Create a logistic regression model, with 'none' as the penalty\n",
    "# Fit the model using the training set\n",
    "logit3_1 = LogisticRegression(penalty='none', max_iter = 5000).fit(college_train[predictors], college_train['admitted'])\n",
    "\n",
    "# Get the coefficient estimates\n",
    "print(\"Logistic Regression Estimated Beta (B0):\",round(logit3_1.intercept_[0],4))\n",
    "for i in range(len(predictors)):\n",
    "    print(\"Logistic Regression Estimated Beta (B\" + str(i+1) + \") for \" + predictors[i] + \":\",round(logit3_1.coef_[0][i],4))"
   ]
  },
  {
   "cell_type": "markdown",
   "metadata": {},
   "source": [
    "**INTERPRETATION:**"
   ]
  },
  {
   "cell_type": "markdown",
   "metadata": {},
   "source": [
    "*Your answer here*\n",
    "\n",
    "Binary predictor variables can only take on values of 0s and 1s and we can imagine them as representing two different groups of observations. Therefore, the coefficient estimates for binary predictors are the difference in log-odds between the two groups. In logit3_1 we had three binary predictors: harvard, female, and minority. The coefficient estimate for harvard is 0.1435, so that means that applicants to Harvard have a 0.1435 greater log-odds of being admitted than applicants to Yale. The coefficient estimate for female is -0.0349, so that means that female applicants have a 0.0349 lower log-odds of being admitted than male applicants. The coefficient estimate for minority is 0.4572, so that means that minority applicants have a 0.4572 greater log-odds of being admitted than non-minority applicants."
   ]
  },
  {
   "cell_type": "markdown",
   "metadata": {
    "autograde": "3.2",
    "cell_id": "0a790850-87c6-4f46-b89e-048a2295c92b",
    "colab_type": "text",
    "id": "IGFtXJmQap2q"
   },
   "source": [
    "<div class='exercise-r'>  \n",
    " \n",
    "**3.2** Fit a logistic regression model (call it `logit3_2`) to predict `admitted` from 3 predictors: `['harvard', 'test', 'ap']` along with the 2 interaction terms: `harvard` with `test` and `harvard` with `ap`. Name the columns for these interaction terms something sensible.  Print out the coefficient estimates for this model.\n",
    " \n",
    " </div>"
   ]
  },
  {
   "cell_type": "code",
   "execution_count": 15,
   "metadata": {},
   "outputs": [],
   "source": [
    "# your code here\n",
    "# Create interaction terms and add them to our data frame\n",
    "for df in [college,college_train,college_test]:\n",
    "    df.insert(loc=len(df.columns),column='harvard_test',value=df.harvard*df.test)\n",
    "    df.insert(loc=len(df.columns),column='harvard_ap',value=df.harvard*df.ap)"
   ]
  },
  {
   "cell_type": "code",
   "execution_count": 16,
   "metadata": {},
   "outputs": [
    {
     "name": "stdout",
     "output_type": "stream",
     "text": [
      "Logistic Regression Estimated Beta (B0): -7.1344\n",
      "Logistic Regression Estimated Beta (B1) for harvard: -4.441\n",
      "Logistic Regression Estimated Beta (B2) for test: 0.0027\n",
      "Logistic Regression Estimated Beta (B3) for ap: 0.024\n",
      "Logistic Regression Estimated Beta (B4) for harvard_test: 0.0022\n",
      "Logistic Regression Estimated Beta (B5) for harvard_ap: -0.1101\n"
     ]
    }
   ],
   "source": [
    "# your code here\n",
    "predictors = ['harvard','test','ap','harvard_test','harvard_ap']\n",
    "\n",
    "# Create a logistic regression model, with 'none' as the penalty\n",
    "# Fit the model using the training set\n",
    "logit3_2 = LogisticRegression(penalty='none', max_iter = 5000).fit(college_train[predictors], college_train['admitted'])\n",
    "\n",
    "# Get the coefficient estimates\n",
    "print(\"Logistic Regression Estimated Beta (B0):\",round(logit3_2.intercept_[0],4))\n",
    "for i in range(len(predictors)):\n",
    "    print(\"Logistic Regression Estimated Beta (B\" + str(i+1) + \") for \" + predictors[i] + \":\",round(logit3_2.coef_[0][i],4))"
   ]
  },
  {
   "cell_type": "markdown",
   "metadata": {
    "autograde": "3.3",
    "cell_id": "0a790850-87c6-4f46-b89e-048a2295c92b",
    "colab_type": "text",
    "id": "IGFtXJmQap2q"
   },
   "source": [
    "<div class='exercise-r'>  \n",
    " \n",
    "**3.3** Simplify and write out mathematically the above model from question 3.2 for 2 applicants: (1) someone who is applying to Harvard and for (2) someone who is applying to Yale (keep `test` and `ap` as the unknown $X$s).  The basic framework given to you below may be helpful:\n",
    " \n",
    " $$ \\ln \\left( \\frac{P(Y=1)}{1-P(Y=1)} \\right) = \\beta_0 + \\beta_1 X_1 + \\dots + \\beta_p X_p $$\n",
    " \n",
    " **Note:** All of your mathematical statements should be written out in your markdown cells [using LaTeX](https://towardsdatascience.com/write-markdown-latex-in-the-jupyter-notebook-10985edb91fd). Do not insert images of handwritten math!\n",
    " \n",
    " </div>"
   ]
  },
  {
   "cell_type": "markdown",
   "metadata": {},
   "source": [
    "**ANSWER:**"
   ]
  },
  {
   "cell_type": "markdown",
   "metadata": {},
   "source": [
    "*Note: mathematical statements should be written using LaTeX.*"
   ]
  },
  {
   "cell_type": "markdown",
   "metadata": {},
   "source": [
    "*Your answer here*\n",
    "\n",
    "Let $[X_1,X_2,X_3]$ be our predictor variables for `['harvard', 'test', 'ap']`. Our general model is:\n",
    "$$ \\ln \\left( \\frac{P(Y=1)}{1-P(Y=1)} \\right) = \\beta_0 + \\beta_1X_1 + \\beta_2X_2 + \\beta_3X_3 + \\beta_4X_1*X_2 + \\beta_5X_1*X_3 $$\n",
    "The model for an applicant who is applying to Harvard is (note we can simplify since $X_1=1$ for all applicants who are applying to Harvard):\n",
    "$$ \\ln \\left( \\frac{P(Y=1|X=1)}{1-P(Y=1|X=1)} \\right) = \\beta_0 + \\beta_1 + (\\beta_2+\\beta_4)X_2 + (\\beta_3+\\beta_5)X_3 $$\n",
    "Using our values of Beta from above we have:\n",
    "$$ \\ln \\left( \\frac{P(Y=1|X=1)}{1-P(Y=1|X=1)} \\right) = -11.5754 + 0.0049X_2 -0.0861X_3 $$\n",
    "The model for an applicant who is applying to Yale is (note we can simplify since $X_1=0$ for all applicants who are applying to Yale):\n",
    "$$ \\ln \\left( \\frac{P(Y=1|X=0}{1-P(Y=1|X=0)}\\right) = \\beta_0 + \\beta_2X_2 + \\beta_3X_3 $$\n",
    "Using our values of Beta from above we have:\n",
    "$$ \\ln \\left( \\frac{P(Y=1|X=0}{1-P(Y=1|X=0)}\\right) = -7.1344+0.0027X_2+0.024X_3$$"
   ]
  },
  {
   "cell_type": "markdown",
   "metadata": {
    "autograde": "3.4",
    "cell_id": "0a790850-87c6-4f46-b89e-048a2295c92b",
    "colab_type": "text",
    "id": "IGFtXJmQap2q"
   },
   "source": [
    "<div class='exercise-r'>  \n",
    " \n",
    "**3.4** Determine two classification boundaries mathematically for the model in the previous part (using the estimated coefficients): What range of values of `test` as a function of `ap` would an applicant be predicted to more likely than not be admitted into the college they applied? If a student scored a perfect 2400 on `test`, what is the minimum number of AP tests they should take in order to have a better than 50% chance of being admitted into Harvard?\n",
    " \n",
    " </div>"
   ]
  },
  {
   "cell_type": "markdown",
   "metadata": {},
   "source": [
    "**ANSWER:**"
   ]
  },
  {
   "cell_type": "markdown",
   "metadata": {},
   "source": [
    "*Note: mathematical statements should be written using LaTeX.*"
   ]
  },
  {
   "cell_type": "markdown",
   "metadata": {},
   "source": [
    "*Your answer here*\n",
    "\n",
    "Recall from lecture 17 that our classification boundaries are found by setting $P(Y=1)=0.5$ so that our log-odds equal 0. We need to solve for two different classification boundaries depending on if an applicant applied to Harvard or Yale.\n",
    "\n",
    "For the range of values of test as a function of ap, we calculate using our models above:\n",
    "\n",
    "For Yale we have:\n",
    "$$-7.1344+0.0027X_2+0.024X_3>0$$\n",
    "And using our variable names we rewrite these as:\n",
    "$$-7.1344+0.0027test+0.024ap>0$$\n",
    "And we can rearrange to write test as a function of ap:\n",
    "$$0.0027test>7.1344-0.024ap$$\n",
    "$$test >\n",
    "2642.3704-8.8889ap$$\n",
    "This function gives a range of values of test as a function of ap. Our range of ap values for our dataset are (0,7) so if an applicant took no ap tests they would need a test score of over 2642.3704 to be more likely to be admitted than not admitted to Yale, which is the maximum of our range. If an applicant took 7 ap tests they would need a test score of over $2642.3704-8.8889(7)=2580.1481$ to be more likely to be admitted than not admitted to Yale, which is the minimum of our range.\n",
    "\n",
    "For Harvard we have:\n",
    "$$-11.5754 + 0.0049X_2 -0.0861X_3>0$$\n",
    "And using our variable names we rewrite these as:\n",
    "$$-11.5754 + 0.0049test -0.0861ap>0$$\n",
    "And we can rearrange to write test as a function of ap:\n",
    "$$0.0049test>11.5754 + 0.0861ap$$\n",
    "$$test>2362.3265 + 17.5714ap$$\n",
    "This function gives a range of values of test as a function of ap. Our range of ap values for our dataset are (0,7) so if an applicant took no ap tests they would need a test score of over 2,362.3265 to be more likely to be admitted than not admitted to Harvard, which is the minimum of our range. If an applicant took 7 ap tests they would need a test score of over $2362.3265+17.5714(7)=2485.3263$ to be more likely to be admitted than not admitted to Harvard, which is the maximum of our range.\n",
    "\n",
    "Observe in the model for Harvard that we have negative coefficient on number of ap tests, so we are solving for the maximum number of ap tests an applicant with a perfect 2400 on test should take to have a better than 50% chance of being admitted to Harvard. We can use the classification boundary we found above by substituting 2400 as our value for test:\n",
    "$$2400>2362.3265 + 17.5714ap$$\n",
    "And then solve for ap:\n",
    "$$17.5714ap<37.6735$$\n",
    "$$ap<2.1440$$\n",
    "Obviously, the number of ap tests is a discrete variable and since we are solving for the maximum number of ap tests, we round down our result and find that for an applicant with a perfect 2400 test score they can take a maximum of 2 ap tests to have a greater than 50% chance of being admitted to Harvard."
   ]
  },
  {
   "cell_type": "markdown",
   "metadata": {
    "autograde": "3.5",
    "cell_id": "0a790850-87c6-4f46-b89e-048a2295c92b",
    "colab_type": "text",
    "id": "IGFtXJmQap2q"
   },
   "source": [
    "<div class='exercise-r'>  \n",
    " \n",
    "**3.5** Create two separate scatterplots (one for Harvard applicants and one for Yale applicants) with the predictor `test` on the y-axis and `ap` on the x-axis where `admitted` is color-coded and the marker denotes train vs. test data.  Then add the appropriate classification boundary from the previous part.  Compare these two plots (both the location of the boundaries and where the points lie around these boundaries).\n",
    " \n",
    " **Note:** As always, please be certain (a) your plot is titled, (b) everything is clearly labeled, and (c) the plot itself is formatted in a manner that makes it easy to read and interpret.\n",
    " \n",
    " </div>"
   ]
  },
  {
   "cell_type": "code",
   "execution_count": 17,
   "metadata": {},
   "outputs": [
    {
     "name": "stderr",
     "output_type": "stream",
     "text": [
      "/Library/Frameworks/Python.framework/Versions/3.7/lib/python3.7/site-packages/ipykernel_launcher.py:12: UserWarning: Boolean Series key will be reindexed to match DataFrame index.\n",
      "  if sys.path[0] == '':\n",
      "/Library/Frameworks/Python.framework/Versions/3.7/lib/python3.7/site-packages/ipykernel_launcher.py:13: UserWarning: Boolean Series key will be reindexed to match DataFrame index.\n",
      "  del sys.path[0]\n",
      "/Library/Frameworks/Python.framework/Versions/3.7/lib/python3.7/site-packages/ipykernel_launcher.py:14: UserWarning: Boolean Series key will be reindexed to match DataFrame index.\n",
      "  \n",
      "/Library/Frameworks/Python.framework/Versions/3.7/lib/python3.7/site-packages/ipykernel_launcher.py:15: UserWarning: Boolean Series key will be reindexed to match DataFrame index.\n",
      "  from ipykernel import kernelapp as app\n",
      "/Library/Frameworks/Python.framework/Versions/3.7/lib/python3.7/site-packages/ipykernel_launcher.py:22: UserWarning: Boolean Series key will be reindexed to match DataFrame index.\n",
      "/Library/Frameworks/Python.framework/Versions/3.7/lib/python3.7/site-packages/ipykernel_launcher.py:23: UserWarning: Boolean Series key will be reindexed to match DataFrame index.\n",
      "/Library/Frameworks/Python.framework/Versions/3.7/lib/python3.7/site-packages/ipykernel_launcher.py:24: UserWarning: Boolean Series key will be reindexed to match DataFrame index.\n",
      "/Library/Frameworks/Python.framework/Versions/3.7/lib/python3.7/site-packages/ipykernel_launcher.py:25: UserWarning: Boolean Series key will be reindexed to match DataFrame index.\n"
     ]
    },
    {
     "data": {
      "text/plain": [
       "<matplotlib.legend.Legend at 0x12e5acd90>"
      ]
     },
     "execution_count": 17,
     "metadata": {},
     "output_type": "execute_result"
    },
    {
     "data": {
      "text/plain": [
       "<Figure size 432x288 with 0 Axes>"
      ]
     },
     "metadata": {},
     "output_type": "display_data"
    },
    {
     "data": {
      "image/png": "[encoded data removed]",
      "text/plain": [
       "<Figure size 1080x1080 with 2 Axes>"
      ]
     },
     "metadata": {
      "needs_background": "light"
     },
     "output_type": "display_data"
    }
   ],
   "source": [
    "# your code here\n",
    "fig = plt.figure()\n",
    "fig, ax = plt.subplots(2,1)\n",
    "fig.set_figwidth(15)\n",
    "fig.set_figheight(15)\n",
    "fig.tight_layout(pad=6,h_pad=4,w_pad=4)\n",
    "\n",
    "# Note, so that it may be easier to distinguish between admitted and non-admitted observations\n",
    "# We introduce slight horizontal deviations so that our scatter plot will be more interpretable\n",
    "\n",
    "ax[0].set_title(\"Harvard Applicants\")\n",
    "ax[0].scatter(college_train[college_train['admitted']==1][college_train['harvard']==1]['ap']+0.05,\n",
    "              college_train[college_train['admitted']==1][college_train['harvard']==1]['test'], label='Admitted')\n",
    "ax[0].scatter(college_train[college_train['admitted']==0][college_train['harvard']==1]['ap']-0.05,\n",
    "              college_train[college_train['admitted']==0][college_train['harvard']==1]['test'], label='Not Admitted')\n",
    "ax[0].plot([0,7],[2362.3265,2485.3263],label='Classification Boundary', color='r')\n",
    "ax[0].set_xlabel(\"Number of AP Tests\")\n",
    "ax[0].set_ylabel(\"Test Score\")\n",
    "ax[0].legend(loc=\"best\")\n",
    "\n",
    "ax[1].set_title(\"Yale Applicants\")\n",
    "ax[1].scatter(college_train[college_train['admitted']==1][college_train['harvard']==0]['ap']+0.05,\n",
    "              college_train[college_train['admitted']==1][college_train['harvard']==0]['test'], label='Admitted')\n",
    "ax[1].scatter(college_train[college_train['admitted']==0][college_train['harvard']==0]['ap']-0.05,\n",
    "              college_train[college_train['admitted']==0][college_train['harvard']==0]['test'], label='Not Admitted')\n",
    "ax[1].plot([0,7],[2642.3704,2580.1481],label='Classification Boundary', color='r')\n",
    "ax[1].set_xlabel(\"Number of AP Tests\")\n",
    "ax[1].set_ylabel(\"Test Score\")\n",
    "ax[1].legend(loc=\"best\")"
   ]
  },
  {
   "cell_type": "markdown",
   "metadata": {},
   "source": [
    "**INTERPRETATION:**"
   ]
  },
  {
   "cell_type": "markdown",
   "metadata": {},
   "source": [
    "*Your answer here*\n",
    "\n",
    "For both of the classification boundaries an applicant would want to be above the line to have a greater than 50\\% chance of being admitted. For both Harvard and Yale the location of the Classification Boundary is extremely high on the test values. From the scatterplots and the analysis above, it's impossible to be above the classification boundary for Yale, but possible for applicants to Harvard who've only take 0, 1, or 2 AP tests. The relationship between test scores and number of AP tests is also inverted between Harvard and Yale. Holding test scores constant, taking more AP tests increases your chances of being admitted while for Harvard the reverse is true, where holding test scores constant, taking more AP tests actually decreases your chances of being admitted."
   ]
  },
  {
   "cell_type": "markdown",
   "metadata": {
    "autograde": "3.6",
    "cell_id": "0a790850-87c6-4f46-b89e-048a2295c92b",
    "colab_type": "text",
    "id": "IGFtXJmQap2q"
   },
   "source": [
    "<div class='exercise-r'>  \n",
    " \n",
    "**3.6** Fit a logistic regression model (call it `logit3_6`) to predict `admitted` from 4 predictors: `['harvard', 'test', 'female', 'minority']` along with 2 interaction terms: `harvard` with `female` and `harvard` with `minority`.  Print out the coefficient estimates for this model.\n",
    " \n",
    " </div>"
   ]
  },
  {
   "cell_type": "code",
   "execution_count": 18,
   "metadata": {},
   "outputs": [],
   "source": [
    "# your code here\n",
    "# Create interaction terms and add them to our data frame\n",
    "for df in [college,college_train,college_test]:\n",
    "    df.insert(loc=len(df.columns),column='harvard_female',value=df.harvard*df.female)\n",
    "    df.insert(loc=len(df.columns),column='harvard_minority',value=df.harvard*df.minority)"
   ]
  },
  {
   "cell_type": "code",
   "execution_count": 19,
   "metadata": {},
   "outputs": [
    {
     "name": "stdout",
     "output_type": "stream",
     "text": [
      "Logistic Regression Estimated Beta (B0): -10.6615\n",
      "Logistic Regression Estimated Beta (B1) for harvard: 0.3864\n",
      "Logistic Regression Estimated Beta (B2) for test: 0.0042\n",
      "Logistic Regression Estimated Beta (B3) for female: 0.0184\n",
      "Logistic Regression Estimated Beta (B4) for minority: 1.4378\n",
      "Logistic Regression Estimated Beta (B5) for harvard_female: 0.0777\n",
      "Logistic Regression Estimated Beta (B6) for harvard_minority: -1.0612\n"
     ]
    }
   ],
   "source": [
    "# your code here\n",
    "predictors = ['harvard','test','female','minority','harvard_female','harvard_minority']\n",
    "\n",
    "# Create a logistic regression model, with 'none' as the penalty\n",
    "# Fit the model using the training set\n",
    "logit3_6 = LogisticRegression(penalty='none', max_iter = 5000).fit(college_train[predictors], college_train['admitted'])\n",
    "\n",
    "# Get the coefficient estimates\n",
    "print(\"Logistic Regression Estimated Beta (B0):\",round(logit3_6.intercept_[0],4))\n",
    "for i in range(len(predictors)):\n",
    "    print(\"Logistic Regression Estimated Beta (B\" + str(i+1) + \") for \" + predictors[i] + \":\",round(logit3_6.coef_[0][i],4))"
   ]
  },
  {
   "cell_type": "markdown",
   "metadata": {
    "autograde": "3.7",
    "cell_id": "0a790850-87c6-4f46-b89e-048a2295c92b",
    "colab_type": "text",
    "id": "IGFtXJmQap2q"
   },
   "source": [
    "<div class='exercise-r'>  \n",
    " \n",
    "**3.7** Interpret the coefficients associated with `female` and `minority` (the two main effects AND the two interaction terms).\n",
    " \n",
    " </div>"
   ]
  },
  {
   "cell_type": "markdown",
   "metadata": {},
   "source": [
    "**INTERPRETATION:**"
   ]
  },
  {
   "cell_type": "markdown",
   "metadata": {},
   "source": [
    "*Your answer here*\n",
    "\n",
    "Female and minority are binary predictor variables so the coefficients for their main effects have the same interpretation as described in problem 3.1. The coefficient for the main effect of female is 0.0184 is interpreted as female applicants have a 0.0184 greater log-odds of being admitted than male applicants. Similarly, the coefficient for the main effect of minority is 1.14378 is interpreted as minority applicants have a 1.4378 greater log-odds of being admitted than non-minority applicants. For the two interaction terms, their coefficients describe the change in log-odds effects of one predictor variable on another predictor variable. More concretely, the coefficient of 0.0777 on harvard_female means that a female applicant applying to Harvard has a 0.0777+0.0184=0.0961 greater log-odds of being admitted than a male applicant to Harvard or a 0.0777+0.3864=0.4641 greater log-odds of being admitted than a female applicant to Yale. Similarly, the coefficient of -1.0612 on harvard_minority means that a minority applicant to Harvard has a -1.0612+1.4378=0.3766 greater log-odds of being admitted than a non-minority applicant to Harvard an a -1.0612+0.3864=-0.6748 lower log-odds of being admitted than a minority applicant to Yale."
   ]
  },
  {
   "cell_type": "markdown",
   "metadata": {
    "autograde": "3.8",
    "cell_id": "0a790850-87c6-4f46-b89e-048a2295c92b",
    "colab_type": "text",
    "id": "IGFtXJmQap2q"
   },
   "source": [
    "**3.8** Based on this sample, how does it appear that Harvard and Yale compare in admitting these groups?  Why would it be wrong to take this interpretation as truth?"
   ]
  },
  {
   "cell_type": "markdown",
   "metadata": {},
   "source": [
    "**INTERPRETATION:**"
   ]
  },
  {
   "cell_type": "markdown",
   "metadata": {},
   "source": [
    "*Your answer here*\n",
    "\n",
    "From the main effects it appears that both female applicants and minority applicants have a greater chance of being admitted to Harvard and Yale than their counterparts. But it appears from the interaction terms that female applicants to Harvard have a greater chance of being admitted than female applicants to Yale. The reverse is true where minority applicants to Yale have a greater chance of being admitted than minority applicants to Harvard. It would be wrong to take this interpretation as the truth since, as we discussed before, there are significant problems with this data set. Also we haven't rigorously tested this model to see if it really is providing us with good results."
   ]
  },
  {
   "cell_type": "markdown",
   "metadata": {},
   "source": [
    "---"
   ]
  },
  {
   "cell_type": "markdown",
   "metadata": {},
   "source": [
    "<div class='exercise'><b> Question 4 [24 pts]: Building Predictive Models for admitted </b></div>\n",
    "\n",
    "**4.1** You were instructed to NOT scale predictors in the prior sections above. The primary reason for this was to focus instead on the interpretability of our logistic regression coefficients. However, as we're sure you noticed, the numeric scale among our different predictors varies greatly (i.e. `test` values are in the 1,000's while others are much, much smaller). In practice, we might want to put our predictors all on a similar scale, particularly for regression and/or distance-based algorithms such as $k$-NN classification. (1) Please explain why scaling under these circumstances might be important. Then, (2) actually apply standardized scaling to all of the **non-binary** predictors in our original set of 12 predictors (for both the training and test sets).\n",
    "\n",
    "**Note:** These scaled predictors should be used instead of the original unscaled versions of the predictors for the remainder of this problem set.\n",
    "\n",
    "**4.2** Fit a well-tuned $k$-NN classification model with main effects of all 12 predictors in it (call it `knn_model`).  Use `ks = [1,3,5,9,15,21,51,71,101,151,201]` and 3-fold cross-validation. Plot, on a single set of axes, your resulting cross-validation mean training and mean validation scores at each value $k$. Then, report your chosen $k$ and the classification accuracy on train and test for your final fitted model.\n",
    "\n",
    "**4.3** Fit the full logistic regression model with main effects of all 12 predictors in it (call it `logit_full`). Print out the coefficient estimates and report the classification accuracy on train and test for this model.\n",
    "\n",
    "**4.4** Fit a well-tuned Lasso-like logistic regression model from all 12 predictors in it (call it `logit_lasso`). Use `Cs = [1e-4,1e-3,1e-2,1e-1,1e0,1e1,1e2,1e3,1e4]` and 3-fold cross-validation.  Print out the coefficient estimates and report the classification accuracy on train and test for this model.\n",
    "\n",
    "**4.5** Which predictors were deemed important in `logit_lasso`?  Which were deemed unimportant? \n",
    "\n",
    "**4.6** Fit a well-tuned Lasso-like logistic regression model with all important predictors from `logit_lasso` and all the 2-way interactions between them (call it `logit_lasso_interact`).  Again use `Cs = [1e-4,1e-3,1e-2,1e-1,1e0,1e1,1e2,1e3,1e4]` and 3-fold cross-validation. Report the classification accuracy on train and test for this model.\n",
    "\n",
    "**4.7** How many of the predictors in our `logit_lasso_interact` model were deemed important and unimportant? (Feel free to just report on the number of them found to be important and unimportant. There is no need to list them all here.)\n",
    "\n",
    "**Hint:** If you have convergence warnings, increasing the maximum number of iterations to 500 (`max_iter=500`) will likely solve the issue."
   ]
  },
  {
   "cell_type": "markdown",
   "metadata": {
    "autograde": "4.1",
    "cell_id": "0a790850-87c6-4f46-b89e-048a2295c92b",
    "colab_type": "text",
    "id": "IGFtXJmQap2q"
   },
   "source": [
    "<div class='exercise-r'>  \n",
    " \n",
    "**4.1** You were instructed to NOT scale predictors in the prior sections above. The primary reason for this was to focus instead on the interpretability of our logistic regression coefficients. However, as we're sure you noticed, the numeric scale among our different predictors varies greatly (i.e. `test` values are in the 1,000's while others are much, much smaller). In practice, we might want to put our predictors all on a similar scale, particularly for regression and/or distance-based algorithms such as $k$-NN classification. (1) Please explain why scaling under these circumstances might be important. Then, (2) actually apply standardized scaling to all of the **non-binary** predictors in our original set of 12 predictors (for both the training and test sets).\n",
    " \n",
    " **Note:** These scaled predictors should be used instead of the original unscaled versions of the predictors for the remainder of this problem set.\n",
    " \n",
    " </div>"
   ]
  },
  {
   "cell_type": "markdown",
   "metadata": {},
   "source": [
    "**INTERPRETATION:**"
   ]
  },
  {
   "cell_type": "markdown",
   "metadata": {},
   "source": [
    "*your answer here*\n",
    "\n",
    "Standardizing data is important in making the intercept interpretable, since standardized data has mean zero whereas for non-standardized data there is no consistent interpretation for zero for all of our predictors. Moreover, it makes our predictor variables more comparable since they will all be on roughly the same scale, even for the binary predictor variables. For instance, test is on a 1200-2400 scale so the intercept of zero for test is not well-interpretable and the huge scale for test makes it difficult to offer good comparisons with the other predictor variables like gpa or average ap score. Finally, for KNN Regression this is very important since predictor variables with large scales will have much a greater effect on our KNN Regression than for other predictor variables, where as standardizing all our variables ensures that all our variables have about equal effects."
   ]
  },
  {
   "cell_type": "code",
   "execution_count": 20,
   "metadata": {},
   "outputs": [],
   "source": [
    "# your code here\n",
    "non_binary = ['test','ap','avg_ap','sat_subjects','gpa']\n",
    "\n",
    "# Used sklearn documentation for StandardScaler to standardize the 5 non-binary predictor variables\n",
    "# https://scikit-learn.org/stable/modules/generated/sklearn.preprocessing.StandardScaler.html\n",
    "# Per Mike Sedelmeyer's discussion on Ed, we fit our StandardScaler to the training data and then use\n",
    "# the fitted scaler to standardize our data for all three of our data frames\n",
    "# https://us.edstem.org/courses/2332/discussion/152877\n",
    "for predictor in non_binary:\n",
    "    scaler = StandardScaler()\n",
    "    scaler.fit(college_train[[predictor]])\n",
    "    for df in [college,college_train,college_test]:\n",
    "        df.insert(loc=len(df.columns),column='std_'+predictor,value=scaler.transform(df[[predictor]]))\n",
    "#        df[predictor] = scaler.transform(df[[predictor]])"
   ]
  },
  {
   "cell_type": "markdown",
   "metadata": {
    "autograde": "4.2",
    "cell_id": "0a790850-87c6-4f46-b89e-048a2295c92b",
    "colab_type": "text",
    "id": "IGFtXJmQap2q"
   },
   "source": [
    "<div class='exercise-r'>  \n",
    " \n",
    "**4.2** Fit a well-tuned $k$-NN classification model with main effects of all 12 predictors in it (call it `knn_model`).  Use `ks = [1,3,5,9,15,21,51,71,101,151,201]` and 3-fold cross-validation. Plot, on a single set of axes, your resulting cross-validation mean training and mean validation scores at each value $k$. Then, report your chosen $k$ and the classification accuracy on train and test for your final fitted model.\n",
    " \n",
    " </div>"
   ]
  },
  {
   "cell_type": "code",
   "execution_count": 21,
   "metadata": {},
   "outputs": [],
   "source": [
    "np.random.seed(121) # Do not delete or modify this line of code\n",
    "\n",
    "# your code here\n",
    "knn_predictors = ['std_test','std_ap','std_avg_ap','std_sat_subjects',\n",
    "              'std_gpa','female','minority','international',\n",
    "              'sports','harvard','early_app','alumni']\n",
    "ks = [1,3,5,9,15,21,51,71,101,151,201]\n",
    "\n",
    "# Empty lists to store training and cross-validation scores\n",
    "train_scores = []\n",
    "cv_scores = []\n",
    "\n",
    "for k in ks:\n",
    "    # define the model\n",
    "    knn_model = KNeighborsClassifier(n_neighbors=k)\n",
    "\n",
    "    # fit to the data\n",
    "    knn_model.fit(college_train[knn_predictors],college_train['admitted'])\n",
    "\n",
    "    # Compute the training & cross-validation scores\n",
    "    knn_model_train_score = knn_model.score(college_train[knn_predictors], college_train['admitted'])\n",
    "    knn_model_cv_score = cross_validate(knn_model,college_train[knn_predictors],college_train['admitted'],cv=3,scoring='accuracy')\n",
    "\n",
    "    train_scores.append(knn_model_train_score)\n",
    "    cv_scores.append(np.mean(abs(knn_model_cv_score['test_score'])))"
   ]
  },
  {
   "cell_type": "code",
   "execution_count": 22,
   "metadata": {},
   "outputs": [
    {
     "name": "stdout",
     "output_type": "stream",
     "text": [
      "The best k is: 15\n",
      "With a cross-validation classification accuracy of: 0.7393\n",
      "With a training classification accuracy of: 0.752\n",
      "With a testing classification accuracy of: 0.7307\n"
     ]
    },
    {
     "data": {
      "image/png": "[encoded data removed]",
      "text/plain": [
       "<Figure size 432x288 with 1 Axes>"
      ]
     },
     "metadata": {
      "needs_background": "light"
     },
     "output_type": "display_data"
    }
   ],
   "source": [
    "# your code here\n",
    "plt.plot(ks, train_scores, label = 'Training Score')\n",
    "plt.plot(ks, cv_scores, label = 'Cross-Validation Score')\n",
    "plt.legend()\n",
    "plt.title(\"Accuracy Scores for knn_model\")\n",
    "plt.xlabel('# of k Neighbors')\n",
    "plt.ylabel('Score')\n",
    "\n",
    "# The best k with the best cross validation score\n",
    "best_score = max(cv_scores)\n",
    "best_k = ks[cv_scores.index(best_score)]\n",
    "\n",
    "# Refit model using chosen k\n",
    "knn_model = KNeighborsClassifier(n_neighbors=best_k)\n",
    "knn_model.fit(college_train[knn_predictors],college_train['admitted'])\n",
    "\n",
    "# Compute the testing score\n",
    "knn_model_test_score = knn_model.score(college_test[knn_predictors], college_test['admitted'])\n",
    "\n",
    "print(\"The best k is: \" + str(best_k))\n",
    "print(\"With a cross-validation classification accuracy of: \" + str(round(best_score,4)))\n",
    "print(\"With a training classification accuracy of: \" + str(round(train_scores[cv_scores.index(best_score)],4)))\n",
    "print(\"With a testing classification accuracy of: \" + str(round(knn_model_test_score,4)))"
   ]
  },
  {
   "cell_type": "markdown",
   "metadata": {
    "autograde": "4.3",
    "cell_id": "0a790850-87c6-4f46-b89e-048a2295c92b",
    "colab_type": "text",
    "id": "IGFtXJmQap2q"
   },
   "source": [
    "<div class='exercise-r'>  \n",
    " \n",
    "**4.3** Fit the full logistic regression model with main effects of all 12 predictors in it (call it `logit_full`). Print out the coefficient estimates and report the classification accuracy on train and test for this model.\n",
    " \n",
    " </div>"
   ]
  },
  {
   "cell_type": "code",
   "execution_count": 23,
   "metadata": {},
   "outputs": [
    {
     "name": "stdout",
     "output_type": "stream",
     "text": [
      "Logistic Regression Estimated Beta (B0): -1.709\n",
      "Logistic Regression Estimated Beta (B1) for std_test: 0.7838\n",
      "Logistic Regression Estimated Beta (B2) for std_ap: -0.1403\n",
      "Logistic Regression Estimated Beta (B3) for std_avg_ap: 0.0975\n",
      "Logistic Regression Estimated Beta (B4) for std_sat_subjects: -0.0952\n",
      "Logistic Regression Estimated Beta (B5) for std_gpa: 0.1056\n",
      "Logistic Regression Estimated Beta (B6) for female: 0.0518\n",
      "Logistic Regression Estimated Beta (B7) for minority: 0.9165\n",
      "Logistic Regression Estimated Beta (B8) for international: 0.45\n",
      "Logistic Regression Estimated Beta (B9) for sports: 1.2334\n",
      "Logistic Regression Estimated Beta (B10) for harvard: 0.2581\n",
      "Logistic Regression Estimated Beta (B11) for early_app: 0.3737\n",
      "Logistic Regression Estimated Beta (B12) for alumni: 0.6629\n",
      "logit_full training classification accuracy: 0.7453\n",
      "logit_full testing classification accuracy: 0.7147\n"
     ]
    }
   ],
   "source": [
    "# your code here\n",
    "logit_predictors = ['std_test','std_ap','std_avg_ap','std_sat_subjects',\n",
    "              'std_gpa','female','minority','international',\n",
    "              'sports','harvard','early_app','alumni']\n",
    "\n",
    "# Create a logistic regression model, with 'none' as the penalty\n",
    "# Fit the model using the training set\n",
    "logit_full = LogisticRegression(penalty='none', max_iter = 5000).fit(college_train[logit_predictors], college_train['admitted'])\n",
    "\n",
    "# Get the coefficient estimates\n",
    "print(\"Logistic Regression Estimated Beta (B0):\",round(logit_full.intercept_[0],4))\n",
    "for i in range(len(logit_predictors)):\n",
    "    print(\"Logistic Regression Estimated Beta (B\" + str(i+1) + \") for \" + logit_predictors[i] + \":\",round(logit_full.coef_[0][i],4))\n",
    "    \n",
    "# Compute the training & testing scores\n",
    "logit_full_train_score = logit_full.score(college_train[logit_predictors],college_train['admitted'])\n",
    "logit_full_test_score = logit_full.score(college_test[logit_predictors],college_test['admitted'])\n",
    "\n",
    "print(\"logit_full training classification accuracy: \" + str(round(logit_full_train_score,4)))\n",
    "print(\"logit_full testing classification accuracy: \" + str(round(logit_full_test_score,4)))"
   ]
  },
  {
   "cell_type": "markdown",
   "metadata": {
    "autograde": "4.4",
    "cell_id": "0a790850-87c6-4f46-b89e-048a2295c92b",
    "colab_type": "text",
    "id": "IGFtXJmQap2q"
   },
   "source": [
    "<div class='exercise-r'>  \n",
    " \n",
    "**4.4** Fit a well-tuned Lasso-like logistic regression model from all 12 predictors in it (call it `logit_lasso`). Use `Cs = [1e-4,1e-3,1e-2,1e-1,1e0,1e1,1e2,1e3,1e4]` and 3-fold cross-validation.  Print out the coefficient estimates and report the classification accuracy on train and test for this model.\n",
    " \n",
    " </div>"
   ]
  },
  {
   "cell_type": "code",
   "execution_count": 24,
   "metadata": {},
   "outputs": [],
   "source": [
    "# your code here\n",
    "lasso_predictors = ['std_test','std_ap','std_avg_ap','std_sat_subjects',\n",
    "              'std_gpa','female','minority','international',\n",
    "              'sports','harvard','early_app','alumni']\n",
    "\n",
    "Cs = [1e-4,1e-3,1e-2,1e-1,1e0,1e1,1e2,1e3,1e4]\n",
    "\n",
    "# define the model\n",
    "#logit_lasso = LogisticRegressionCV(Cs=Cs,cv=3,max_iter=5000,scoring='accuracy')\n",
    "\n",
    "# fit to the data\n",
    "#logit_lasso.fit(college_train[predictors],college_train['admitted'])\n",
    "#print(logit_lasso.score(college_train[predictors],college_train['admitted']))\n",
    "\n",
    "# Empty lists to store training and cross-validation scores\n",
    "train_scores = []\n",
    "cv_scores = []\n",
    "\n",
    "for C in Cs:\n",
    "    # define the model\n",
    "    logit_lasso = LogisticRegression(C=C, max_iter=5000,penalty='l1',solver='liblinear')\n",
    "\n",
    "    # fit to the data\n",
    "    logit_lasso.fit(college_train[lasso_predictors],college_train['admitted'])\n",
    "\n",
    "    # Compute the training & cross-validation scores\n",
    "    logit_lasso_train_score = logit_lasso.score(college_train[lasso_predictors], college_train['admitted'])\n",
    "    logit_lasso_cv_score = cross_validate(logit_lasso,college_train[lasso_predictors],college_train['admitted'],cv=3,scoring='accuracy')\n",
    "\n",
    "    train_scores.append(logit_lasso_train_score)\n",
    "    cv_scores.append(np.mean(abs(logit_lasso_cv_score['test_score'])))"
   ]
  },
  {
   "cell_type": "code",
   "execution_count": 25,
   "metadata": {},
   "outputs": [
    {
     "name": "stdout",
     "output_type": "stream",
     "text": [
      "The best C is: 10.0\n",
      "Lasso-like Logistic Regression Estimated Beta (B0): -1.7014\n",
      "Logistic Regression Estimated Beta (B1) for std_test: 0.7819\n",
      "Logistic Regression Estimated Beta (B2) for std_ap: -0.1388\n",
      "Logistic Regression Estimated Beta (B3) for std_avg_ap: 0.0952\n",
      "Logistic Regression Estimated Beta (B4) for std_sat_subjects: -0.0943\n",
      "Logistic Regression Estimated Beta (B5) for std_gpa: 0.1045\n",
      "Logistic Regression Estimated Beta (B6) for female: 0.0493\n",
      "Logistic Regression Estimated Beta (B7) for minority: 0.9121\n",
      "Logistic Regression Estimated Beta (B8) for international: 0.4403\n",
      "Logistic Regression Estimated Beta (B9) for sports: 1.2214\n",
      "Logistic Regression Estimated Beta (B10) for harvard: 0.2545\n",
      "Logistic Regression Estimated Beta (B11) for early_app: 0.3701\n",
      "Logistic Regression Estimated Beta (B12) for alumni: 0.6563\n",
      "With a cross-validation classification accuracy of: 0.74\n",
      "With a training classification accuracy of: 0.7453\n",
      "With a testing classification accuracy of: 0.7147\n"
     ]
    }
   ],
   "source": [
    "# your code here\n",
    "# The best C with the best cross validation score\n",
    "best_score = max(cv_scores)\n",
    "best_C = Cs[cv_scores.index(best_score)]\n",
    "\n",
    "# Refit model using chosen C\n",
    "logit_lasso = LogisticRegression(C=best_C, max_iter=5000,penalty='l1',solver='liblinear')\n",
    "logit_lasso.fit(college_train[lasso_predictors],college_train['admitted'])\n",
    "\n",
    "# Compute the testing score\n",
    "logit_lasso_test_score = logit_lasso.score(college_test[lasso_predictors], college_test['admitted'])\n",
    "\n",
    "print(\"The best C is: \" + str(best_C))\n",
    "# Get the coefficient estimates\n",
    "print(\"Lasso-like Logistic Regression Estimated Beta (B0):\",round(logit_lasso.intercept_[0],4))\n",
    "for i in range(len(lasso_predictors)):\n",
    "    print(\"Logistic Regression Estimated Beta (B\" + str(i+1) + \") for \" + lasso_predictors[i] + \":\",round(logit_lasso.coef_[0][i],4))\n",
    "# Get the classification accuracies\n",
    "print(\"With a cross-validation classification accuracy of: \" + str(round(best_score,4)))\n",
    "print(\"With a training classification accuracy of: \" + str(round(train_scores[cv_scores.index(best_score)],4)))\n",
    "print(\"With a testing classification accuracy of: \" + str(round(logit_lasso_test_score,4)))"
   ]
  },
  {
   "cell_type": "markdown",
   "metadata": {
    "autograde": "4.5",
    "cell_id": "0a790850-87c6-4f46-b89e-048a2295c92b",
    "colab_type": "text",
    "id": "IGFtXJmQap2q"
   },
   "source": [
    "<div class='exercise-r'>  \n",
    " \n",
    "**4.5** Which predictors were deemed important in `logit_lasso`?  Which were deemed unimportant?\n",
    " \n",
    " </div>"
   ]
  },
  {
   "cell_type": "code",
   "execution_count": 26,
   "metadata": {},
   "outputs": [
    {
     "name": "stdout",
     "output_type": "stream",
     "text": [
      "Important predictors: ['std_test', 'std_ap', 'std_avg_ap', 'std_sat_subjects', 'std_gpa', 'female', 'minority', 'international', 'sports', 'harvard', 'early_app', 'alumni']\n",
      "Unimportant predictors: []\n"
     ]
    }
   ],
   "source": [
    "# your code here\n",
    "important = []\n",
    "unimportant = []\n",
    "\n",
    "for i in range(len(lasso_predictors)):\n",
    "    if abs(logit_lasso.coef_[0][i])==0:\n",
    "        unimportant.append(lasso_predictors[i])\n",
    "    else:\n",
    "        important.append(lasso_predictors[i])\n",
    "\n",
    "print(\"Important predictors: \" + str(important))\n",
    "print(\"Unimportant predictors: \" + str(unimportant))"
   ]
  },
  {
   "cell_type": "markdown",
   "metadata": {
    "autograde": "4.6",
    "cell_id": "0a790850-87c6-4f46-b89e-048a2295c92b",
    "colab_type": "text",
    "id": "IGFtXJmQap2q"
   },
   "source": [
    "<div class='exercise-r'>  \n",
    " \n",
    "**4.6** Fit a well-tuned Lasso-like logistic regression model with all important predictors from `logit_lasso` and all the 2-way interactions between them (call it `logit_lasso_interact`).  Again use `Cs = [1e-4,1e-3,1e-2,1e-1,1e0,1e1,1e2,1e3,1e4]` and 3-fold cross-validation. Report the classification accuracy on train and test for this model.\n",
    " \n",
    " </div>"
   ]
  },
  {
   "cell_type": "code",
   "execution_count": 27,
   "metadata": {},
   "outputs": [],
   "source": [
    "# your code here\n",
    "interactions = []\n",
    "# Create interaction terms and add them to our data frame\n",
    "for i, x1 in enumerate(important):\n",
    "    for j, x2 in enumerate(important):\n",
    "        # We desire to avoid repeating interaction terms\n",
    "        if i < j:\n",
    "            name = x1+'.'+x2\n",
    "            interactions.append(name)\n",
    "            for df in [college_train,college_test]:\n",
    "                df.insert(loc=len(df.columns),column=name,value=df[x1]*df[x2])"
   ]
  },
  {
   "cell_type": "code",
   "execution_count": 28,
   "metadata": {},
   "outputs": [],
   "source": [
    "# your code here\n",
    "interact_predictors = important + interactions\n",
    "\n",
    "Cs = [1e-4,1e-3,1e-2,1e-1,1e0,1e1,1e2,1e3,1e4]\n",
    "\n",
    "# Empty lists to store training and cross-validation scores\n",
    "train_scores = []\n",
    "cv_scores = []\n",
    "\n",
    "for C in Cs:\n",
    "    # define the model\n",
    "    logit_lasso_interact = LogisticRegression(C=C, max_iter=500,penalty='l1',solver='liblinear')\n",
    "\n",
    "    # fit to the data\n",
    "    logit_lasso_interact.fit(college_train[interact_predictors],college_train['admitted'])\n",
    "\n",
    "    # Compute the training & cross-validation scores\n",
    "    logit_lasso_interact_train_score = logit_lasso_interact.score(college_train[interact_predictors], college_train['admitted'])\n",
    "    logit_lasso_interact_cv_score = cross_validate(logit_lasso_interact,college_train[interact_predictors],college_train['admitted'],cv=3,scoring='accuracy')\n",
    "\n",
    "    train_scores.append(logit_lasso_interact_train_score)\n",
    "    cv_scores.append(np.mean(abs(logit_lasso_interact_cv_score['test_score'])))"
   ]
  },
  {
   "cell_type": "code",
   "execution_count": 29,
   "metadata": {},
   "outputs": [
    {
     "name": "stdout",
     "output_type": "stream",
     "text": [
      "The best C is: 1.0\n",
      "Lasso-like Logistic Regression Estimated Beta (B0): -1.6283\n",
      "Logistic Regression Estimated Beta (B1) for std_test: 0.57\n",
      "Logistic Regression Estimated Beta (B2) for std_ap: 0.0704\n",
      "Logistic Regression Estimated Beta (B3) for std_avg_ap: -0.1043\n",
      "Logistic Regression Estimated Beta (B4) for std_sat_subjects: -0.0094\n",
      "Logistic Regression Estimated Beta (B5) for std_gpa: 0.136\n",
      "Logistic Regression Estimated Beta (B6) for female: -0.1208\n",
      "Logistic Regression Estimated Beta (B7) for minority: 1.3332\n",
      "Logistic Regression Estimated Beta (B8) for international: 0.0\n",
      "Logistic Regression Estimated Beta (B9) for sports: 1.4553\n",
      "Logistic Regression Estimated Beta (B10) for harvard: 0.078\n",
      "Logistic Regression Estimated Beta (B11) for early_app: 0.3842\n",
      "Logistic Regression Estimated Beta (B12) for alumni: 0.0266\n",
      "Logistic Regression Estimated Beta (B13) for std_test.std_ap: -0.049\n",
      "Logistic Regression Estimated Beta (B14) for std_test.std_avg_ap: 0.0049\n",
      "Logistic Regression Estimated Beta (B15) for std_test.std_sat_subjects: -0.0636\n",
      "Logistic Regression Estimated Beta (B16) for std_test.std_gpa: 0.1295\n",
      "Logistic Regression Estimated Beta (B17) for std_test.female: 0.0805\n",
      "Logistic Regression Estimated Beta (B18) for std_test.minority: 0.0969\n",
      "Logistic Regression Estimated Beta (B19) for std_test.international: 0.1745\n",
      "Logistic Regression Estimated Beta (B20) for std_test.sports: 0.0\n",
      "Logistic Regression Estimated Beta (B21) for std_test.harvard: 0.2355\n",
      "Logistic Regression Estimated Beta (B22) for std_test.early_app: -0.3675\n",
      "Logistic Regression Estimated Beta (B23) for std_test.alumni: 1.0987\n",
      "Logistic Regression Estimated Beta (B24) for std_ap.std_avg_ap: 0.0\n",
      "Logistic Regression Estimated Beta (B25) for std_ap.std_sat_subjects: -0.0606\n",
      "Logistic Regression Estimated Beta (B26) for std_ap.std_gpa: 0.0655\n",
      "Logistic Regression Estimated Beta (B27) for std_ap.female: 0.0463\n",
      "Logistic Regression Estimated Beta (B28) for std_ap.minority: 0.0\n",
      "Logistic Regression Estimated Beta (B29) for std_ap.international: -0.5433\n",
      "Logistic Regression Estimated Beta (B30) for std_ap.sports: -0.1852\n",
      "Logistic Regression Estimated Beta (B31) for std_ap.harvard: -0.3243\n",
      "Logistic Regression Estimated Beta (B32) for std_ap.early_app: -0.1901\n",
      "Logistic Regression Estimated Beta (B33) for std_ap.alumni: 0.0534\n",
      "Logistic Regression Estimated Beta (B34) for std_avg_ap.std_sat_subjects: 0.137\n",
      "Logistic Regression Estimated Beta (B35) for std_avg_ap.std_gpa: -0.1851\n",
      "Logistic Regression Estimated Beta (B36) for std_avg_ap.female: 0.0548\n",
      "Logistic Regression Estimated Beta (B37) for std_avg_ap.minority: 0.2441\n",
      "Logistic Regression Estimated Beta (B38) for std_avg_ap.international: 0.1651\n",
      "Logistic Regression Estimated Beta (B39) for std_avg_ap.sports: -0.1008\n",
      "Logistic Regression Estimated Beta (B40) for std_avg_ap.harvard: 0.2988\n",
      "Logistic Regression Estimated Beta (B41) for std_avg_ap.early_app: 0.2094\n",
      "Logistic Regression Estimated Beta (B42) for std_avg_ap.alumni: 0.1594\n",
      "Logistic Regression Estimated Beta (B43) for std_sat_subjects.std_gpa: 0.0\n",
      "Logistic Regression Estimated Beta (B44) for std_sat_subjects.female: 0.0056\n",
      "Logistic Regression Estimated Beta (B45) for std_sat_subjects.minority: 0.0\n",
      "Logistic Regression Estimated Beta (B46) for std_sat_subjects.international: 1.1279\n",
      "Logistic Regression Estimated Beta (B47) for std_sat_subjects.sports: 0.0\n",
      "Logistic Regression Estimated Beta (B48) for std_sat_subjects.harvard: -0.2418\n",
      "Logistic Regression Estimated Beta (B49) for std_sat_subjects.early_app: 0.0107\n",
      "Logistic Regression Estimated Beta (B50) for std_sat_subjects.alumni: 0.0247\n",
      "Logistic Regression Estimated Beta (B51) for std_gpa.female: -0.0043\n",
      "Logistic Regression Estimated Beta (B52) for std_gpa.minority: 0.2198\n",
      "Logistic Regression Estimated Beta (B53) for std_gpa.international: 0.0\n",
      "Logistic Regression Estimated Beta (B54) for std_gpa.sports: -0.4001\n",
      "Logistic Regression Estimated Beta (B55) for std_gpa.harvard: 0.0\n",
      "Logistic Regression Estimated Beta (B56) for std_gpa.early_app: -0.0201\n",
      "Logistic Regression Estimated Beta (B57) for std_gpa.alumni: 0.0\n",
      "Logistic Regression Estimated Beta (B58) for female.minority: -0.2781\n",
      "Logistic Regression Estimated Beta (B59) for female.international: 0.1634\n",
      "Logistic Regression Estimated Beta (B60) for female.sports: -0.7097\n",
      "Logistic Regression Estimated Beta (B61) for female.harvard: 0.3413\n",
      "Logistic Regression Estimated Beta (B62) for female.early_app: 0.2474\n",
      "Logistic Regression Estimated Beta (B63) for female.alumni: 0.0\n",
      "Logistic Regression Estimated Beta (B64) for minority.international: -0.1395\n",
      "Logistic Regression Estimated Beta (B65) for minority.sports: -0.4237\n",
      "Logistic Regression Estimated Beta (B66) for minority.harvard: -0.4209\n",
      "Logistic Regression Estimated Beta (B67) for minority.early_app: 0.0\n",
      "Logistic Regression Estimated Beta (B68) for minority.alumni: 0.3286\n",
      "Logistic Regression Estimated Beta (B69) for international.sports: 0.0\n",
      "Logistic Regression Estimated Beta (B70) for international.harvard: 0.0\n",
      "Logistic Regression Estimated Beta (B71) for international.early_app: -0.095\n",
      "Logistic Regression Estimated Beta (B72) for international.alumni: 0.0\n",
      "Logistic Regression Estimated Beta (B73) for sports.harvard: 0.0\n",
      "Logistic Regression Estimated Beta (B74) for sports.early_app: 0.4383\n",
      "Logistic Regression Estimated Beta (B75) for sports.alumni: 0.0\n",
      "Logistic Regression Estimated Beta (B76) for harvard.early_app: -0.2006\n",
      "Logistic Regression Estimated Beta (B77) for harvard.alumni: 0.5302\n",
      "Logistic Regression Estimated Beta (B78) for early_app.alumni: 0.0\n",
      "With a cross-validation classification accuracy of: 0.7406\n",
      "With a training classification accuracy of: 0.7647\n",
      "With a testing classification accuracy of: 0.704\n"
     ]
    }
   ],
   "source": [
    "# your code here\n",
    "# The best C with the best cross validation score\n",
    "best_score = max(cv_scores)\n",
    "best_C = Cs[cv_scores.index(best_score)]\n",
    "\n",
    "# Refit model using chosen C\n",
    "logit_lasso_interact = LogisticRegression(C=best_C, max_iter=5000,penalty='l1',solver='liblinear')\n",
    "logit_lasso_interact.fit(college_train[interact_predictors],college_train['admitted'])\n",
    "\n",
    "# Compute the testing score\n",
    "logit_lasso_interact_test_score = logit_lasso_interact.score(college_test[interact_predictors], college_test['admitted'])\n",
    "\n",
    "print(\"The best C is: \" + str(best_C))\n",
    "# Get the coefficient estimates\n",
    "print(\"Lasso-like Logistic Regression Estimated Beta (B0):\",round(logit_lasso_interact.intercept_[0],4))\n",
    "for i in range(len(interact_predictors)):\n",
    "    print(\"Logistic Regression Estimated Beta (B\" + str(i+1) + \") for \" + interact_predictors[i] + \":\",round(logit_lasso_interact.coef_[0][i],4))\n",
    "# Get the classification accuracies\n",
    "print(\"With a cross-validation classification accuracy of: \" + str(round(best_score,4)))\n",
    "print(\"With a training classification accuracy of: \" + str(round(train_scores[cv_scores.index(best_score)],4)))\n",
    "print(\"With a testing classification accuracy of: \" + str(round(logit_lasso_interact_test_score,4)))"
   ]
  },
  {
   "cell_type": "markdown",
   "metadata": {
    "autograde": "4.7",
    "cell_id": "0a790850-87c6-4f46-b89e-048a2295c92b",
    "colab_type": "text",
    "id": "IGFtXJmQap2q"
   },
   "source": [
    "<div class='exercise-r'>  \n",
    " \n",
    "**4.7** How many of the predictors in our `logit_lasso_interact` model were deemed important and unimportant? (Feel free to just report on the number of them found to be important and unimportant. There is no need to list them all here.)\n",
    " \n",
    " **Hint:** If you have convergence warnings, increasing the maximum number of iterations to 500 (`max_iter=500`) will likely solve the issue.\n",
    " </div>"
   ]
  },
  {
   "cell_type": "code",
   "execution_count": 30,
   "metadata": {},
   "outputs": [
    {
     "name": "stdout",
     "output_type": "stream",
     "text": [
      "Number of important predictors: 60\n",
      "Number of unimportant predictors: 18\n"
     ]
    }
   ],
   "source": [
    "# your code here\n",
    "important = []\n",
    "unimportant = []\n",
    "\n",
    "for i in range(len(interact_predictors)):\n",
    "    if abs(logit_lasso_interact.coef_[0][i])==0:\n",
    "        unimportant.append(interact_predictors[i])\n",
    "    else:\n",
    "        important.append(interact_predictors[i])\n",
    "        \n",
    "print(\"Number of important predictors: \" + str(len(important)))\n",
    "print(\"Number of unimportant predictors: \" + str(len(unimportant)))"
   ]
  },
  {
   "cell_type": "markdown",
   "metadata": {},
   "source": [
    "---"
   ]
  },
  {
   "cell_type": "markdown",
   "metadata": {},
   "source": [
    "<div class='exercise'><b> Question 5 [12 pts]: Evaluating Results </b></div>\n",
    "\n",
    "\n",
    "**5.1** Which of the 4 models in problem 4 perform the best based on classification accuracy?  Which performs the worst? Based on these accuracies, how do these models perform compared to your baseline \"naive\" model back in question 1.1?\n",
    "\n",
    "**5.2** Draw the four ROC curves on the same set of axes using the test data.  How do these ROC curves compare?  Do the ROC curves support that the best model identified in question 5.1 is better than the worst model identified in 5.1?  How do you know?\n",
    "\n",
    "**5.3** Calculate and report AUC for all 4 models.  Do the rankings of these 4 models based on AUC match those for classification accuracy?  Why do you think this is the case?\n",
    "\n",
    "**5.4** If you were to use one of these 4 models to present as a prediction model for the website [collegedata.com](https://www.collegedata.com/), which would you use?  What may be the biggest issue if this was a publicly available tool for college applicants to use to determine their chances of getting into Harvard and/or Yale?\n"
   ]
  },
  {
   "cell_type": "markdown",
   "metadata": {
    "autograde": "5.1",
    "cell_id": "0a790850-87c6-4f46-b89e-048a2295c92b",
    "colab_type": "text",
    "id": "IGFtXJmQap2q"
   },
   "source": [
    "<div class='exercise-r'>  \n",
    " \n",
    "**5.1** Which of the 4 models in problem 4 perform the best based on classification accuracy?  Which performs the worst? Based on these accuracies, how do these models perform compared to your baseline \"naive\" model back in question 1.1?\n",
    " \n",
    " </div>"
   ]
  },
  {
   "cell_type": "code",
   "execution_count": 31,
   "metadata": {},
   "outputs": [
    {
     "name": "stdout",
     "output_type": "stream",
     "text": [
      "knn_model testing classification accuracy: 0.7307\n",
      "logit_full testing classification accuracy: 0.7147\n",
      "logit_lasso testing classification accuracy: 0.7147\n",
      "logit_lasso_interact testing classification accuracy: 0.704\n"
     ]
    }
   ],
   "source": [
    "# your code here\n",
    "names = ['knn_model','logit_full','logit_lasso','logit_lasso_interact']\n",
    "scores = [knn_model_test_score, logit_full_test_score, logit_lasso_test_score, logit_lasso_interact_test_score]\n",
    "\n",
    "for i in range(len(names)):\n",
    "    print(names[i]+ \" testing classification accuracy: \" + str(round(scores[i],4)))"
   ]
  },
  {
   "cell_type": "markdown",
   "metadata": {},
   "source": [
    "**INTERPRETATION:**"
   ]
  },
  {
   "cell_type": "markdown",
   "metadata": {},
   "source": [
    "*Your answer here*\n",
    "\n",
    "Recall from 1.1 that our test classification score for the naive model was 0.7013 which performs worse than any of the four models above. It turns out that our lasso interaction model actually performs worst on the testing dataset, although it seems that there is probably problems with over-fitting since there are 60 predictor variables for that model. Logit_full and logit_lasso both use the same 12 predictors so they both have the same classification accuracy and so they perform second best. The knn_model performs the best with a classification accuracy of 0.7307 on the test dataset."
   ]
  },
  {
   "cell_type": "markdown",
   "metadata": {
    "autograde": "5.2",
    "cell_id": "0a790850-87c6-4f46-b89e-048a2295c92b",
    "colab_type": "text",
    "id": "IGFtXJmQap2q"
   },
   "source": [
    "<div class='exercise-r'>  \n",
    " \n",
    "**5.2** Draw the four ROC curves on the same set of axes using the test data.  How do these ROC curves compare?  Do the ROC curves support that the best model identified in question 5.1 is better than the worst model identified in 5.1?  How do you know?\n",
    " \n",
    " </div>"
   ]
  },
  {
   "cell_type": "code",
   "execution_count": 32,
   "metadata": {},
   "outputs": [
    {
     "data": {
      "image/png": "[encoded data removed]",
      "text/plain": [
       "<Figure size 1080x1080 with 1 Axes>"
      ]
     },
     "metadata": {
      "needs_background": "light"
     },
     "output_type": "display_data"
    }
   ],
   "source": [
    "# your code here\n",
    "models = [knn_model,logit_full,logit_lasso,logit_lasso_interact]\n",
    "predictors = [knn_predictors, logit_predictors, lasso_predictors, interact_predictors]\n",
    "plt.figure(figsize=(15,15))\n",
    "\n",
    "# Empty list to store aucs for problem 5.3\n",
    "aucs = []\n",
    "\n",
    "for i in range(len(models)):\n",
    "    y_hat = models[i].predict_proba(college_test[predictors[i]])[:,1]\n",
    "    fpr, tpr, thresholds = roc_curve(college_test['admitted'], y_hat)\n",
    "    x=np.arange(0,100)/100\n",
    "    plt.plot(fpr,tpr,label=str(names[i]))\n",
    "    aucs.append(roc_auc_score(college_test['admitted'], y_hat))\n",
    "\n",
    "plt.plot(x,x,'--',color=\"gray\",alpha=0.3)\n",
    "plt.ylabel(\"True Positive Rate\")\n",
    "plt.xlabel(\"False Positive Rate\")\n",
    "plt.title(\"ROC Curve for Predicting Admission Rates in KNN, Logistic, and lasso-like Logistic Regression Model\")\n",
    "plt.legend(loc='best')\n",
    "plt.show()"
   ]
  },
  {
   "cell_type": "markdown",
   "metadata": {},
   "source": [
    "**INTERPRETATION:**"
   ]
  },
  {
   "cell_type": "markdown",
   "metadata": {},
   "source": [
    "*Your answer here*\n",
    "\n",
    "At a glance, the ROC curves do not support that the knn_model performs better than logit_lasso_interact model because the blue line associated with the knn_model is not higher (more upwards and leftwards) than the red line associated with the logit_lasso_interact model. In fact, it seems that in the middle of our plot the logit_lasso_interact model is performing consistently better than the knn_model, although the knn_model does perform better at the extreme ranges of the plot, that is for very low true positive and false postive rates and for very high true positive and false positive rates. The ROC curves do support that the logit_full and logit_lasso models do perform better than the logit_lasso_interact model because their lines are higher (more upwards and leftwards) than the line for the logit_lasso_interact model for most of the plot."
   ]
  },
  {
   "cell_type": "markdown",
   "metadata": {
    "autograde": "5.3",
    "cell_id": "0a790850-87c6-4f46-b89e-048a2295c92b",
    "colab_type": "text",
    "id": "IGFtXJmQap2q"
   },
   "source": [
    "<div class='exercise-r'>  \n",
    " \n",
    "**5.3** Calculate and report AUC for all 4 models.  Do the rankings of these 4 models based on AUC match those for classification accuracy?  Why do you think this is the case?\n",
    " \n",
    " </div>"
   ]
  },
  {
   "cell_type": "code",
   "execution_count": 33,
   "metadata": {},
   "outputs": [
    {
     "name": "stdout",
     "output_type": "stream",
     "text": [
      "AUC for knn_model: 0.6787\n",
      "AUC for logit_full: 0.6965\n",
      "AUC for logit_lasso: 0.6965\n",
      "AUC for logit_lasso_interact: 0.6826\n"
     ]
    }
   ],
   "source": [
    "# your code here\n",
    "# Note AUCs were calculated in the loop above\n",
    "for i in range(len(names)):\n",
    "    print(\"AUC for \"+ names[i]+ \": \" + str(round(aucs[i],4)))"
   ]
  },
  {
   "cell_type": "markdown",
   "metadata": {},
   "source": [
    "**INTERPRETATION:**"
   ]
  },
  {
   "cell_type": "markdown",
   "metadata": {},
   "source": [
    "*Your answer here*\n",
    "\n",
    "The rankings for the AUC don't match those for the classification accuracy. In fact, this time the knn_model performs the worst instead of the best like it did for classification accuracy. We still have that logit_full and logit_lasso outperform logit_lasso_interact like we did for classification accuracy, likely for the same reason of overfitting. Since the knn model does not actually assign effects to any of the predictor variables, it means that even though it can have a good classification accuracy, it also is more susceptible to false positives which hurt its performance on an AUC basis when compared to a logistic regression. In other words, on a sensitivity v specificity basis which is what AUC is measuring, KNN performs poorly since it doesn't predict using coefficient effects of the predictor variables."
   ]
  },
  {
   "cell_type": "markdown",
   "metadata": {
    "autograde": "5.4",
    "cell_id": "0a790850-87c6-4f46-b89e-048a2295c92b",
    "colab_type": "text",
    "id": "IGFtXJmQap2q"
   },
   "source": [
    "**5.4** If you were to use one of these 4 models to present as a prediction model for the website [collegedata.com](https://www.collegedata.com/), which would you use?  What may be the biggest issue if this was a publicly available tool for college applicants to use to determine their chances of getting into Harvard and/or Yale?"
   ]
  },
  {
   "cell_type": "markdown",
   "metadata": {},
   "source": [
    "**INTERPRETATION:**"
   ]
  },
  {
   "cell_type": "markdown",
   "metadata": {},
   "source": [
    "*Your answer here*\n",
    "\n",
    "Of the four models, I would use the lasso-like logistic regression since it performs consistently well on a classification accuracy and AUC basis. Moreover, it is preferable to the full Logistic Regression model because it can throw out any insignificant predictor variables wheras the full Logistic Regression model naively fits all the predictor variables. The biggest issue with using this model as a prediction model for the website would be that the data set that the model is based on is probably uncharacteristic of the real world. As we saw in question 1.6, this model has much higher admission rates than the true admission rates to Harvard and Yale, and because there is significant bias in the data set itself, we cannot be confident in our coefficient estimated effects of each of our predictor variables since those estimates themselves are likely biased too. In a sense, junk in will give junk out, and because there are obvious problems with our initial data set there are likely signficant underlying problems with our prediction model."
   ]
  },
  {
   "cell_type": "code",
   "execution_count": null,
   "metadata": {},
   "outputs": [],
   "source": []
  }
 ],
 "metadata": {
  "kernelspec": {
   "display_name": "Python 3",
   "language": "python",
   "name": "python3"
  },
  "language_info": {
   "codemirror_mode": {
    "name": "ipython",
    "version": 3
   },
   "file_extension": ".py",
   "mimetype": "text/x-python",
   "name": "python",
   "nbconvert_exporter": "python",
   "pygments_lexer": "ipython3",
   "version": "3.7.4"
  }
 },
 "nbformat": 4,
 "nbformat_minor": 4
}
