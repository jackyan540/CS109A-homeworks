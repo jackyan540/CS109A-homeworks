{
 "cells": [
  {
   "cell_type": "markdown",
   "metadata": {
    "deletable": false,
    "editable": false
   },
   "source": [
    "# <img style=\"float: left; padding-right: 10px; width: 45px\" src=\"https://raw.githubusercontent.com/Harvard-IACS/2018-CS109A/master/content/styles/iacs.png\"> CS109A Introduction to Data Science: \n",
    "## Homework 3: Regression Modeling and Bacteria Growing\n",
    "\n",
    "**Harvard University**<br/>\n",
    "**Fall 2020**<br/>\n",
    "**Instructors**: Pavlos Protopapas, Kevin Rader, and Chris Tanner\n",
    "\n",
    "<hr style=\"height:2.4pt\">"
   ]
  },
  {
   "cell_type": "code",
   "execution_count": 1,
   "metadata": {
    "deletable": false,
    "editable": false
   },
   "outputs": [
    {
     "data": {
      "text/html": [
       "<style>\n",
       "blockquote { background: #AEDE94; }\n",
       "h1 { \n",
       "    padding-top: 25px;\n",
       "    padding-bottom: 25px;\n",
       "    text-align: left; \n",
       "    padding-left: 10px;\n",
       "    background-color: #DDDDDD; \n",
       "    color: black;\n",
       "}\n",
       "h2 { \n",
       "    padding-top: 10px;\n",
       "    padding-bottom: 10px;\n",
       "    text-align: left; \n",
       "    padding-left: 5px;\n",
       "    background-color: #EEEEEE; \n",
       "    color: black;\n",
       "}\n",
       "\n",
       "div.exercise {\n",
       "\tbackground-color: #ffcccc;\n",
       "\tborder-color: #E9967A; \t\n",
       "\tborder-left: 5px solid #800080; \n",
       "\tpadding: 0.5em;\n",
       "}\n",
       "\n",
       "div.exercise-r {\n",
       "\tbackground-color: #fce8e8;\n",
       "\tborder-color: #E9967A; \t\n",
       "\tborder-left: 5px solid #800080; \n",
       "\tpadding: 0.5em;\n",
       "}\n",
       "\n",
       "\n",
       "span.sub-q {\n",
       "\tfont-weight: bold;\n",
       "}\n",
       "div.theme {\n",
       "\tbackground-color: #DDDDDD;\n",
       "\tborder-color: #E9967A; \t\n",
       "\tborder-left: 5px solid #800080; \n",
       "\tpadding: 0.5em;\n",
       "\tfont-size: 18pt;\n",
       "}\n",
       "div.gc { \n",
       "\tbackground-color: #AEDE94;\n",
       "\tborder-color: #E9967A; \t \n",
       "\tborder-left: 5px solid #800080; \n",
       "\tpadding: 0.5em;\n",
       "\tfont-size: 12pt;\n",
       "}\n",
       "p.q1 { \n",
       "    padding-top: 5px;\n",
       "    padding-bottom: 5px;\n",
       "    text-align: left; \n",
       "    padding-left: 5px;\n",
       "    background-color: #EEEEEE; \n",
       "    color: black;\n",
       "}\n",
       "header {\n",
       "   padding-top: 35px;\n",
       "    padding-bottom: 35px;\n",
       "    text-align: left; \n",
       "    padding-left: 10px;\n",
       "    background-color: #DDDDDD; \n",
       "    color: black;\n",
       "}\n",
       "</style>\n",
       "\n"
      ],
      "text/plain": [
       "<IPython.core.display.HTML object>"
      ]
     },
     "execution_count": 1,
     "metadata": {},
     "output_type": "execute_result"
    }
   ],
   "source": [
    "#RUN THIS CELL \n",
    "import requests\n",
    "from IPython.core.display import HTML\n",
    "styles = requests.get(\"https://raw.githubusercontent.com/Harvard-IACS/2018-CS109A/master/content/styles/cs109.css\").text\n",
    "HTML(styles)"
   ]
  },
  {
   "cell_type": "markdown",
   "metadata": {
    "cell_id": "3c67b69c-c35a-45ee-88ff-99c701edb0a0",
    "colab_type": "text",
    "deletable": false,
    "editable": false,
    "id": "BlViDCbxVtbG"
   },
   "source": [
    "### Import Libraries"
   ]
  },
  {
   "cell_type": "code",
   "execution_count": 2,
   "metadata": {
    "cell_id": "c81fe721-9f10-4eec-b9a3-3a2534d1c3a2",
    "colab": {
     "base_uri": "https://localhost:8080/",
     "height": 71
    },
    "colab_type": "code",
    "deletable": false,
    "editable": false,
    "id": "aQbflkbDOxbz",
    "outputId": "a93e76ad-1f12-45fa-ec35-7853e450a1ff"
   },
   "outputs": [],
   "source": [
    "%matplotlib inline\n",
    "import math\n",
    "import numpy as np\n",
    "import pandas as pd\n",
    "import seaborn as sns\n",
    "from collections import Counter\n",
    "import matplotlib.pyplot as plt\n",
    "from sklearn.utils import shuffle\n",
    "from sklearn.linear_model import Lasso\n",
    "from sklearn.metrics import mean_squared_error\n",
    "from sklearn.linear_model import LinearRegression\n",
    "from sklearn.model_selection import cross_validate\n",
    "from sklearn.model_selection import train_test_split\n",
    "from sklearn.preprocessing import PolynomialFeatures\n",
    "\n",
    "import warnings"
   ]
  },
  {
   "cell_type": "markdown",
   "metadata": {
    "deletable": false,
    "editable": false
   },
   "source": [
    "<hr style=\"height:2pt\">\n",
    "\n",
    "### INSTRUCTIONS\n",
    "\n",
    "- **THIS IS A TWO-WEEK HOMEWORK**. The material is indeed two-weeks-worth of work, so make sure you start it early!!\n",
    "\n",
    "- To submit your assignment follow the instructions given in Canvas.\n",
    "\n",
    "- This homework can be submitted in pairs.\n",
    "\n",
    "- Please restart the kernel and run the entire notebook again before you submit.\n",
    "\n",
    "- Running cells out of order is a common pitfall in Jupyter Notebooks. To make sure your code works restart the kernel and run the whole notebook again before you submit. Exceptions should be made for code with a long execution time, of course.\n",
    "- We have tried to include all the libraries you may need to do the assignment in the imports statement at the top of this notebook. We strongly suggest that you use those and not others as we may not be familiar with them.\n",
    "- Please use .head() when viewing data. Do not submit a notebook that is **excessively long**. \n",
    "- In questions that require code to answer, such as \"calculate the $R^2$\", do not just output the value from a cell. Write a `print()` function that includes a reference to the calculated value, **not hardcoded**. For example: \n",
    "```\n",
    "print(f'The R^2 is {R:.4f}')\n",
    "```\n",
    "- Your plots should include clear labels for the $x$ and $y$ axes as well as a descriptive title (\"MSE plot\" is not a descriptive title; \"95 % confidence interval of coefficients of polynomial degree 5\" is).\n",
    "<hr style=\"height:2pt\">"
   ]
  },
  {
   "cell_type": "markdown",
   "metadata": {
    "cell_id": "21e9f773-e015-44ec-88c8-7f24b9a8191f",
    "colab_type": "text",
    "deletable": false,
    "editable": false,
    "id": "Uo0FiNThV923"
   },
   "source": [
    "\n",
    "<div class=\"theme\"> Overview and Data Description</div> \n",
    "\n",
    "### Predicting percentage change in multiple bacteria populations given their spreading factor.\n",
    "\n",
    "\n",
    "In this homework, we will mainly explore polynomial regression for \n",
    "predicting a quantitative variable. Specifically, we will build \n",
    "regression models that can predict the percentage change in \n",
    "bacteria population after 4 hours based on their spreading factor. \n",
    "These prediction models can be useful in clustering of a novel bacteria to any class. \n",
    "\n",
    "If the percentage of change in population increases this indicates \n",
    "that the size of the bacteria population is growing. \n",
    "One important factor to note is that the percentage change could be negative. \n",
    "This indicates that within the specified time frame, \n",
    "the population of the bacteria decreases from the original size.\n",
    "\n",
    "The data set for this problem has already been split for you. You will find the train and test data sets in the files `data/bacteria_train.csv` and `data/bacteria_test.csv`, respectively. The first column in each file contains the spreading factor of bacteria populations and the second column gives information about the change in percentage of the population. \n",
    "\n",
    "\n",
    "\n",
    " ### Problem Description\n",
    "Given the bacteria data, we will predict the percentage change in population, giving the spreading factor. For this exercise, we will consider the `Spreading_factor` to be our predictor variable and `Perc_population` to be our response variable. We will fit a polynomial regression model for a specified degree that computes the respective degree predictors to fit a model on the training set, which will be evaluated on the test set. The performance of the models should be evaluated using their $MSE$.\n",
    "\n"
   ]
  },
  {
   "cell_type": "markdown",
   "metadata": {
    "cell_id": "12fa439c-9984-44e4-a4f7-581a3e01d520",
    "colab_type": "text",
    "deletable": false,
    "editable": false,
    "id": "Inn1d2Hv1pIK"
   },
   "source": [
    "<div class='exercise'><b> Question 1:   Data Visualization [10 points total]</b>\n",
    "    \n",
    "**1.1** [6 pts] Generate a scatter plot of the data points in the `bacteria_train.csv` \n",
    "file with the `Spreading factor` on the $X$-axis and the `Percentage change` on the $Y$-axis. Make sure you clearly label the $x$ and $y$ axes and include proper title. \n",
    "\n",
    "**1.2** [4 pts] Based on the graph, is there any discernable relationship between \n",
    "the spreading factor and percentage change in population?\n",
    "    \n",
    "</div>\n"
   ]
  },
  {
   "cell_type": "markdown",
   "metadata": {
    "deletable": false,
    "editable": false
   },
   "source": [
    "### Your Answers"
   ]
  },
  {
   "cell_type": "markdown",
   "metadata": {
    "autograde": "1.1",
    "deletable": false,
    "editable": false
   },
   "source": [
    "<div class='exercise-r'>  \n",
    " \n",
    "**1.1** [6 pts] Generate a scatter plot of the data points in the `bacteria_train.csv`\n",
    " file with the `Spreading factor` on the $X$-axis and the `Percentage change` on the $Y$-axis. Make sure you clearly label the $x$ and $y$ axes and include proper title.\n",
    " \n",
    " </div>"
   ]
  },
  {
   "cell_type": "code",
   "execution_count": 3,
   "metadata": {
    "deletable": false
   },
   "outputs": [
    {
     "data": {
      "text/plain": [
       "Text(0.5, 1.0, 'Bacteria Training Data')"
      ]
     },
     "execution_count": 3,
     "metadata": {},
     "output_type": "execute_result"
    },
    {
     "data": {
      "image/png": "[encoded data removed]",
      "text/plain": [
       "<Figure size 432x288 with 1 Axes>"
      ]
     },
     "metadata": {
      "needs_background": "light"
     },
     "output_type": "display_data"
    }
   ],
   "source": [
    "# your code here\n",
    "bacteria_train = pd.read_csv(r'data/bacteria_train.csv')\n",
    "bacteria_train.head()\n",
    "\n",
    "#simple scatter\n",
    "plt.scatter(bacteria_train.Spreading_factor, bacteria_train.Perc_population, color = 'g', alpha = 0.5)\n",
    "plt.xlabel(\"Spreading Factor\")\n",
    "plt.ylabel(\"Percentage Change\")\n",
    "plt.title(\"Bacteria Training Data\")"
   ]
  },
  {
   "cell_type": "code",
   "execution_count": 4,
   "metadata": {
    "deletable": false
   },
   "outputs": [
    {
     "data": {
      "text/plain": [
       "Text(0.5, 1.0, 'Bacteria Test Data')"
      ]
     },
     "execution_count": 4,
     "metadata": {},
     "output_type": "execute_result"
    },
    {
     "data": {
      "image/png": "[encoded data removed]",
      "text/plain": [
       "<Figure size 432x288 with 1 Axes>"
      ]
     },
     "metadata": {
      "needs_background": "light"
     },
     "output_type": "display_data"
    }
   ],
   "source": [
    "# your code here\n",
    "# we plot test data just for our convenience (it's nice to get a high-level view of the data before the problems)\n",
    "bacteria_test = pd.read_csv(r'data/bacteria_test.csv')\n",
    "bacteria_test.head()\n",
    "\n",
    "#simple scatter\n",
    "plt.scatter(bacteria_train.Spreading_factor, bacteria_train.Perc_population, color = 'b', alpha = 0.5)\n",
    "plt.xlabel(\"Spreading Factor\")\n",
    "plt.ylabel(\"Percentage Change\")\n",
    "plt.title(\"Bacteria Test Data\")"
   ]
  },
  {
   "cell_type": "markdown",
   "metadata": {
    "autograde": "1.2",
    "cell_id": "9f8a452f-c582-4403-afc7-e15ffe157d46",
    "deletable": false,
    "editable": false
   },
   "source": [
    "<div class='exercise-r'>  \n",
    " \n",
    "**1.2** [4 pts] Based on the graph, is there any discernable relationship between\n",
    " the spreading factor and percentage change in population?\n",
    " \n",
    " </div>"
   ]
  },
  {
   "cell_type": "markdown",
   "metadata": {
    "deletable": false
   },
   "source": [
    "There is a discernable relationship between spreading factor and percentage change in population. The relationship appears to be almost piecewise and seems consistent between the testing and training data. It seems that a spreading factor of 0 is the approximate point where the relationship changes. For negative Spreading Factors, the relationship with Percentage Change seems approximately flat, but for positive values of Spreading Factor there is clearly a positive relationship with Percentage Change."
   ]
  },
  {
   "cell_type": "markdown",
   "metadata": {
    "cell_id": "58d06521-c4cf-4304-b68a-595205946e44",
    "deletable": false,
    "editable": false,
    "tags": []
   },
   "source": [
    "<hr style='height:2px'> \n",
    "\n",
    "### Your HW3 Roadmap\n",
    "\n",
    "We will be following this roadmap for the rest of the homework.\n",
    "\n",
    "![](soln-roadmap.png)\n"
   ]
  },
  {
   "cell_type": "markdown",
   "metadata": {
    "cell_id": "5c60cdd3-9885-4ac2-8144-635a481460f4",
    "deletable": false,
    "editable": false,
    "tags": []
   },
   "source": [
    "<div class='exercise'><b> Question 2:   Model Building: Guesstimate the polynomial relationship [10 points total]</b>\n",
    "\n",
    "**2.1** [5 pts] Examine the relationship between the predictor & response variable, and guesstimate the degree of the polynomial regression that may best fit the data.\n",
    "- Create a dictionary called `best_mse_dict` to store the best test MSEs for each type of model. The keys of this dictionary will be the question number, and the values will be the MSE values. So, for this question, you will have `best_mse_dict[\"2,1\"] = ...` .\n",
    "- Fit a polynomial regression on the training set.\n",
    "- Compute and print the mean_squared_error on the test set.\n",
    "- Generate a scatterplot of the data (as in 1.1) and plot your model's predictions in a different color. Make sure to label axes and include a descriptive title. Comment on the fit.\n",
    "- Explain your guesstimation of the degree.\n",
    "\n",
    "**2.2** [5 pts] Compute the confidence intervals for the coefficients. For the model fit above plot the 95% confidence interval of the beta values obtained in the regression model above.\n",
    "- Display the coefficient values of the model fit above.\n",
    "- For each bootstrap store the coefficients of the model as a list\n",
    "- Using the bootstrap list compute the 2.5 and 97.5 confidence points.\n",
    "- Plot the bootstrap data as a histogram of `Value of beta` vs. `Distribution of beta` for each beta value. Each figure should indicate regions of 95% confidence interval. As always, each figure must have appropriate axis labels and title. Use `plt.subplots(...)` to arrange your plots.\n",
    "\n",
    "**Hints**\n",
    "- Bootstrap for entire fraction (100%) of the training data.\n",
    "- Limit the number of bootstraps to 100.\n",
    "    \n",
    "    \n",
    "</div>\n"
   ]
  },
  {
   "cell_type": "markdown",
   "metadata": {
    "deletable": false,
    "editable": false
   },
   "source": [
    "### Answers"
   ]
  },
  {
   "cell_type": "markdown",
   "metadata": {
    "autograde": "2.1",
    "cell_id": "8f9f6e8b-e477-4a40-8a72-b4031b111b56",
    "colab_type": "text",
    "deletable": false,
    "editable": false,
    "id": "Iwnsapke2CYu"
   },
   "source": [
    "<div class='exercise-r'>  \n",
    " \n",
    "**2.1** [5 pts] Examine the relationship between the predictor & response variable, and guesstimate the degree of the polynomial regression that may best fit the data.\n",
    " - Create a dictionary called `best_mse_dict` to store the best test MSEs for each type of model. The keys of this dictionary will be the question number, and the values will be the MSE values. So, for this question, you will have `best_mse_dict[\"2,1\"] = ...` .\n",
    " - Fit a polynomial regression on the training set.\n",
    " - Compute and print the mean_squared_error on the test set.\n",
    " - Generate a scatterplot of the data (as in 1.1) and plot your model's predictions in a different color. Make sure to label axes and include a descriptive title. Comment on the fit.\n",
    " - Explain your guesstimation of the degree.\n",
    " \n",
    " </div>"
   ]
  },
  {
   "cell_type": "code",
   "execution_count": 5,
   "metadata": {
    "deletable": false
   },
   "outputs": [],
   "source": [
    "# Make a global dictionary to save the MSE values\n",
    "# your code here\n",
    "best_mse_dict = {}"
   ]
  },
  {
   "cell_type": "code",
   "execution_count": 6,
   "metadata": {
    "deletable": false
   },
   "outputs": [],
   "source": [
    "# read the data \n",
    "# your code here\n",
    "bacteria_train = pd.read_csv(r'data/bacteria_train.csv')\n",
    "bacteria_test = pd.read_csv(r'data/bacteria_test.csv')\n",
    "\n",
    "x_train, y_train = bacteria_train[['Spreading_factor']].values, bacteria_train.Perc_population.values\n",
    "x_test, y_test = bacteria_test[['Spreading_factor']].values, bacteria_test.Perc_population.values"
   ]
  },
  {
   "cell_type": "code",
   "execution_count": 7,
   "metadata": {
    "deletable": false
   },
   "outputs": [],
   "source": [
    "# Guesstimate degree of the curve\n",
    "# your code here \n",
    "\n",
    "# Guess degree 2\n",
    "guess_degree = 2\n",
    "\n",
    "# Generate polynomial features on the training and test data\n",
    "x_poly_train = PolynomialFeatures(degree=guess_degree).fit_transform(x_train)\n",
    "x_poly_test = PolynomialFeatures(degree=guess_degree).fit_transform(x_test)\n",
    "\n",
    "# Fit a polynomial model on the data, using x_poly as features\n",
    "# Per Mike Sedelmeyer's comment on Ed, because PolynomialFeatures defaults to include_bias=True,\n",
    "# we should use fit_intercept=False in our LinearRegression\n",
    "polymodel = LinearRegression(fit_intercept=False)\n",
    "polymodel.fit(x_poly_train,y_train)\n",
    "\n",
    "# Predict using the test data\n",
    "y_poly_pred_test = polymodel.predict(x_poly_test)"
   ]
  },
  {
   "cell_type": "code",
   "execution_count": 8,
   "metadata": {
    "deletable": false
   },
   "outputs": [
    {
     "name": "stdout",
     "output_type": "stream",
     "text": [
      "MSE on the test set: 2.6748625754403093\n"
     ]
    }
   ],
   "source": [
    "# Compute the mean_squared_error on the test set and name it mse \n",
    "# Add it to best_mse_dict\n",
    "# your code here \n",
    "mse = mean_squared_error(y_test,y_poly_pred_test)\n",
    "\n",
    "best_mse_dict[2.1] = mse\n",
    "\n",
    "print(\"MSE on the test set: \" + str(best_mse_dict[2.1]))"
   ]
  },
  {
   "cell_type": "code",
   "execution_count": 9,
   "metadata": {
    "deletable": false
   },
   "outputs": [
    {
     "data": {
      "image/png": "[encoded data removed]",
      "text/plain": [
       "<Figure size 432x288 with 1 Axes>"
      ]
     },
     "metadata": {
      "needs_background": "light"
     },
     "output_type": "display_data"
    }
   ],
   "source": [
    "# your code here\n",
    "# To visualise the results, sort the x values\n",
    "idx = np.argsort(x_test[:,0])\n",
    "x_test = x_test[idx]\n",
    "\n",
    "# Use the above index to get the appropriate predicted values for y\n",
    "# y values corresponding to sorted x\n",
    "y_test = y_test[idx]\n",
    "\n",
    "#Non-linear predicted values\n",
    "y_poly_pred_test = y_poly_pred_test[idx]\n",
    "\n",
    "# scatter plot training data and the guesstimated polynomial model\n",
    "#Per Nabib's Ed comment, we scatter both train and test data\n",
    "plt.scatter(x_train, y_train, color = 'g', alpha = 0.5, label = \"Training Data\")\n",
    "plt.scatter(x_test, y_test, color = 'b', alpha = 0.5, label = \"Testing Data\")\n",
    "plt.plot(x_test, y_poly_pred_test, label = \"Polynomial fit (degree = 2)\")\n",
    "plt.legend()\n",
    "plt.xlabel(\"Spreading Factor\")\n",
    "plt.ylabel(\"Percentage Change\")\n",
    "plt.title(\"Bacteria Training and Testing Data\")\n",
    "plt.show()"
   ]
  },
  {
   "cell_type": "markdown",
   "metadata": {},
   "source": [
    "The fit seems pretty good for most of the train and test data. The degree of 2 was selected because a quadratic polynomial can capture most of the piecewise relationship mentioned in question 1.2, and a higher degree polynomial would likely not capture much more of the relationship in the data and we always run the risk of overfitting by increasing the degrees of the polynomial. Of course, the fit is best for the middle of our ranges in Spreading Factor, but even at the edges of the range the fit seems pretty strong. One area our fit could be improved would be in the range [1.5,2] of Spreading Factor."
   ]
  },
  {
   "cell_type": "markdown",
   "metadata": {
    "autograde": "2.2",
    "cell_id": "cc4960c5-9dad-46a4-a608-02b926bce340",
    "colab_type": "text",
    "deletable": false,
    "editable": false,
    "id": "uZB7o6VR6Nt6"
   },
   "source": [
    "<div class='exercise-r'>  \n",
    " \n",
    "**2.2** [5 pts] Compute the confidence intervals for the coefficients. For the model fit above plot the 95% confidence interval of the beta values obtained in the regression model above.\n",
    " - Display the coefficient values of the model fit above.\n",
    " - For each bootstrap store the coefficients of the model as a list\n",
    " - Using the bootstrap list compute the 2.5 and 97.5 confidence points.\n",
    " - Plot the bootstrap data as a histogram of `Value of beta` vs. `Distribution of beta` for each beta value. Each figure should indicate regions of 95% confidence interval. As always, each figure must have appropriate axis labels and title. Use `plt.subplots(...)` to arrange your plots.\n",
    " \n",
    " **Hints**\n",
    " - Bootstrap for entire fraction (100%) of the training data.\n",
    " - Limit the number of bootstraps to 100.\n",
    " \n",
    " \n",
    " </div>"
   ]
  },
  {
   "cell_type": "code",
   "execution_count": 10,
   "metadata": {
    "deletable": false
   },
   "outputs": [
    {
     "name": "stdout",
     "output_type": "stream",
     "text": [
      "Beta 0 coefficient: 1.5479189777983176\n",
      "Beta 1 coefficient: 1.9379680565747694\n",
      "Beta 2 coefficient: 0.7063789121219994\n"
     ]
    }
   ],
   "source": [
    "# your code here\n",
    "# Display the coefficients of the fitted model from 2.1\n",
    "for i in range(guess_degree + 1):\n",
    "    print(\"Beta \" + str(i) + \" coefficient: \" + str(polymodel.coef_[i]))"
   ]
  },
  {
   "cell_type": "code",
   "execution_count": 11,
   "metadata": {
    "deletable": false
   },
   "outputs": [],
   "source": [
    "# your code here\n",
    "# create empty dictionary to store lists of beta values for 100 bootstraps\n",
    "beta_dict = {}\n",
    "\n",
    "numBoots = 100\n",
    "\n",
    "for i in range(numBoots):\n",
    "    # Bootstrap using df.sample method.\n",
    "    df_new = bacteria_train.sample(frac=1,replace=True)\n",
    "    x = df_new[['Spreading_factor']]\n",
    "    y = df_new.Perc_population\n",
    "    \n",
    "    # Generate polynomial features\n",
    "    x_poly = PolynomialFeatures(degree=guess_degree).fit_transform(x)\n",
    "    \n",
    "    # Fit a polynomial model on the data, using x_poly as features\n",
    "    polymodel = LinearRegression(fit_intercept=False)\n",
    "    polymodel.fit(x_poly,y)\n",
    "    for j in range(guess_degree + 1):\n",
    "        if i == 0:\n",
    "            beta_dict[j] = [polymodel.coef_[j]]\n",
    "        else:\n",
    "            beta_dict[j].append(polymodel.coef_[j])"
   ]
  },
  {
   "cell_type": "code",
   "execution_count": 12,
   "metadata": {
    "deletable": false
   },
   "outputs": [
    {
     "data": {
      "image/png": "[encoded data removed]",
      "text/plain": [
       "<Figure size 1080x1080 with 3 Axes>"
      ]
     },
     "metadata": {
      "needs_background": "light"
     },
     "output_type": "display_data"
    }
   ],
   "source": [
    "beta_CI = {}\n",
    "\n",
    "fig, ax = plt.subplots(len(beta_dict.keys()),1)\n",
    "fig.suptitle(\"Distribution of Beta Coefficients\")\n",
    "fig.set_figwidth(15)\n",
    "fig.set_figheight(15)\n",
    "fig.tight_layout(pad=6,h_pad=4,w_pad=4)\n",
    "\n",
    "for i in range(len(beta_dict.keys())):\n",
    "    # sort the list of beta values from lowest to highest\n",
    "    beta_dict[i].sort()\n",
    "    # Find the 95% percent confidence interval using the percentile function\n",
    "    beta_CI[i] = (np.percentile(beta_dict[i],q=2.5),np.percentile(beta_dict[i],q=97.5))\n",
    "    # plot histogram\n",
    "    ax[i].hist(beta_dict[i], bins = 30, label = 'Beta distribution', align = 'left', density = True)\n",
    "    ax[i].axvline(beta_CI[i][1], 0, 1, color = 'r', label = 'Right Interval')\n",
    "    ax[i].axvline(beta_CI[i][0], 0, 1, color = 'red', label = 'Left Interval')\n",
    "    ax[i].set_xlabel('Beta coefficient')\n",
    "    ax[i].set_ylabel('Frequency')\n",
    "    ax[i].set_title('Beta '+ str(i))\n",
    "    ax[i].legend(frameon = False, loc = 'upper right')"
   ]
  },
  {
   "cell_type": "markdown",
   "metadata": {
    "cell_id": "5c60cdd3-9885-4ac2-8144-635a481460f4",
    "deletable": false,
    "editable": false,
    "tags": []
   },
   "source": [
    "<div class='exercise'><b> Question 3:   Use a validation set to find the most promising polynomial relationship [12 points total]</b>\n",
    "\n",
    "**3.1** [4 pts] Take out a small fraction of the training set for **validation**.\n",
    "- Compare degrees up to 30\n",
    "- For each degree of the polynomial\n",
    "     - Fit a polynomial regression on the training set.\n",
    "     - Calculate the mean_squared_error ($MSE$) on the *validation set*.\n",
    "    \n",
    "- Compare the values of the validation set, and select the degree for which the validation error is the least.\n",
    "\n",
    "**Hints**\n",
    "- Manually implement the validation - do not use `sklearn` for this question.\n",
    "\n",
    "**3.2** [4 pts] Now, with the best selected degree, again train the polynomial regression on the **complete training set** (including the small fraction that you took out to make the validation set). \n",
    "Compute and print the $MSE$ on the test set and add it to `best_mse_dict`.\n",
    "\n",
    "\n",
    "**3.3** [4 pts] Generate a scatterplot of the data (as in 1.1) and plot your model's predictions in a different color. Make sure to label axes and include a descriptive title. Comment on how your model fits the data.\n",
    "\n",
    "</div>  \n",
    "                                                                                                                                 "
   ]
  },
  {
   "cell_type": "markdown",
   "metadata": {
    "deletable": false,
    "editable": false
   },
   "source": [
    "### Your Answers"
   ]
  },
  {
   "cell_type": "markdown",
   "metadata": {
    "autograde": "3.1",
    "cell_id": "0a790850-87c6-4f46-b89e-048a2295c92b",
    "colab_type": "text",
    "deletable": false,
    "editable": false,
    "id": "IGFtXJmQap2q"
   },
   "source": [
    "<div class='exercise-r'>  \n",
    " \n",
    "**3.1** [4 pts] Take out a small fraction of the training set for **validation**.\n",
    " - Compare degrees up to 30\n",
    " - For each degree of the polynomial\n",
    " - Fit a polynomial regression on the training set.\n",
    " - Calculate the mean_squared_error ($MSE$) on the *validation set*.\n",
    " \n",
    " - Compare the values of the validation set, and select the degree for which the validation error is the least.\n",
    " \n",
    " **Hints**\n",
    " - Manually implement the validation - do not use `sklearn` for this question.\n",
    " \n",
    " </div>"
   ]
  },
  {
   "cell_type": "code",
   "execution_count": 13,
   "metadata": {
    "deletable": false
   },
   "outputs": [],
   "source": [
    "# your code here\n",
    "# read the data \n",
    "bacteria_train = pd.read_csv(r'data/bacteria_train.csv')\n",
    "bacteria_test = pd.read_csv(r'data/bacteria_test.csv')\n",
    "\n",
    "x_train, y_train = bacteria_train[['Spreading_factor']].values, bacteria_train.Perc_population.values\n",
    "x_test, y_test = bacteria_test[['Spreading_factor']].values, bacteria_test.Perc_population.values"
   ]
  },
  {
   "cell_type": "code",
   "execution_count": 14,
   "metadata": {
    "deletable": false
   },
   "outputs": [],
   "source": [
    "# split the train data into train and validation sets \n",
    "# with 80% of the data as the train data and random_state=44\n",
    "# your code here\n",
    "new_x_train, x_validation, new_y_train, y_validation  = train_test_split(x_train, y_train, test_size=0.2, random_state=44)"
   ]
  },
  {
   "cell_type": "code",
   "execution_count": 15,
   "metadata": {
    "deletable": false
   },
   "outputs": [],
   "source": [
    "# your code here\n",
    "maxdeg = 30 \n",
    "val_mse = {}\n",
    "train_mse = {}\n",
    "\n",
    "\n",
    "for i in range(maxdeg+1): #so that we have 30 as the maximum degree\n",
    "    new_x_poly_train = PolynomialFeatures(degree=i).fit_transform(new_x_train)\n",
    "    new_x_poly_val = PolynomialFeatures(degree=i).fit_transform(x_validation)\n",
    "    \n",
    "    polymodel = LinearRegression(fit_intercept=False)\n",
    "    polymodel.fit(new_x_poly_train,new_y_train)\n",
    "    \n",
    "    y_poly_pred_train = polymodel.predict(new_x_poly_train)\n",
    "    y_poly_pred = polymodel.predict(new_x_poly_val)\n",
    "    val_mse[i] = mean_squared_error(y_validation, y_poly_pred)\n",
    "    train_mse[i] = mean_squared_error(new_y_train, y_poly_pred_train)"
   ]
  },
  {
   "cell_type": "code",
   "execution_count": 16,
   "metadata": {
    "deletable": false
   },
   "outputs": [],
   "source": [
    "# your code here\n",
    "low_val = min(val_mse.values())\n",
    "\n",
    "for key, value in val_mse.items():\n",
    "    if value == low_val:\n",
    "        low_val_degree = key"
   ]
  },
  {
   "cell_type": "code",
   "execution_count": 17,
   "metadata": {
    "deletable": false
   },
   "outputs": [
    {
     "name": "stdout",
     "output_type": "stream",
     "text": [
      "The best degree is: 15 with a validation MSE of 2.7642741851813257, and a train MSE of 2.4418121174538845\n"
     ]
    }
   ],
   "source": [
    "# Print the train and validation MSE along with the degree of the best model. \n",
    "# To do this find the degree that gives the lowest MSE.\n",
    "# your code here \n",
    "\n",
    "print(\"The best degree is: {degree} with a validation MSE of {mse}, and a train MSE of {mse2}\".format(degree = low_val_degree, mse = low_val, mse2 = train_mse[low_val_degree]))"
   ]
  },
  {
   "cell_type": "markdown",
   "metadata": {
    "autograde": "3.2",
    "cell_id": "0a790850-87c6-4f46-b89e-048a2295c92b",
    "colab_type": "text",
    "deletable": false,
    "editable": false,
    "id": "IGFtXJmQap2q"
   },
   "source": [
    "<div class='exercise-r'>  \n",
    " \n",
    "**3.2** [4 pts] Now, with the best selected degree, again train the polynomial regression on the **complete training set** (including the small fraction that you took out to make the validation set).\n",
    " Compute and print the $MSE$ on the test set and add it to `best_mse_dict`.\n",
    " \n",
    " \n",
    " </div>"
   ]
  },
  {
   "cell_type": "code",
   "execution_count": 18,
   "metadata": {
    "deletable": false
   },
   "outputs": [],
   "source": [
    "# your code here\n",
    "best_degree = low_val_degree\n",
    "\n",
    "x_poly_train = PolynomialFeatures(degree=best_degree).fit_transform(x_train)\n",
    "x_poly_test = PolynomialFeatures(degree=best_degree).fit_transform(x_test)\n",
    "\n",
    "# Fit a polynomial model on the data, using x_poly as features\n",
    "polymodel = LinearRegression()\n",
    "polymodel.fit(x_poly_train,y_train)\n",
    "\n",
    "# Predict using the test data\n",
    "y_poly_pred = polymodel.predict(x_poly_test)"
   ]
  },
  {
   "cell_type": "code",
   "execution_count": 19,
   "metadata": {
    "deletable": false
   },
   "outputs": [
    {
     "name": "stdout",
     "output_type": "stream",
     "text": [
      "MSE on the test set: 2.7364825064084943\n"
     ]
    }
   ],
   "source": [
    "# your code here\n",
    "#compute MSE\n",
    "mse = mean_squared_error(y_test, y_poly_pred)\n",
    "print(\"MSE on the test set: \" + str(mse))\n",
    "\n",
    "best_mse_dict[3.2] = mse"
   ]
  },
  {
   "cell_type": "markdown",
   "metadata": {
    "autograde": "3.3",
    "cell_id": "d13f0498-7db8-4008-8209-e99ee4ff6b79",
    "colab_type": "text",
    "deletable": false,
    "editable": false,
    "id": "V0cd6shRfPjq"
   },
   "source": [
    "<div class='exercise-r'>  \n",
    " \n",
    "**3.3** [4 pts] Generate a scatterplot of the data (as in 1.1) and plot your model's predictions in a different color. Make sure to label axes and include a descriptive title. Comment on how your model fits the data.\n",
    " \n",
    " \n",
    " </div>"
   ]
  },
  {
   "cell_type": "code",
   "execution_count": 20,
   "metadata": {
    "deletable": false
   },
   "outputs": [
    {
     "data": {
      "image/png": "[encoded data removed]",
      "text/plain": [
       "<Figure size 432x288 with 1 Axes>"
      ]
     },
     "metadata": {
      "needs_background": "light"
     },
     "output_type": "display_data"
    }
   ],
   "source": [
    "# your code here\n",
    "# To visualise the results, sort the x values\n",
    "idx = np.argsort(x_test[:,0])\n",
    "x_test = x_test[idx]\n",
    "\n",
    "# Use the above index to get the appropriate predicted values for y\n",
    "# y values corresponding to sorted x\n",
    "y_test = y_test[idx]\n",
    "\n",
    "#Non-linear predicted values\n",
    "y_poly_pred= y_poly_pred[idx]\n",
    "\n",
    "plt.scatter(x_train, y_train, color = 'g', alpha = 0.5, label = \"Training Data\")\n",
    "plt.scatter(x_test, y_test, color = 'b', alpha = 0.5, label = \"Testing Data\")\n",
    "plt.plot(x_test, y_poly_pred, label = \"Polynomial fit (best degree = \" + str(low_val_degree) + \")\", alpha = 0.75)\n",
    "plt.legend()\n",
    "plt.xlabel(\"Spreading Factor\")\n",
    "plt.ylabel(\"Percentage Change\")\n",
    "plt.title(\"Bacteria Training and Testing Data\")\n",
    "plt.show()"
   ]
  },
  {
   "cell_type": "markdown",
   "metadata": {
    "deletable": false
   },
   "source": [
    "According to the MSEs, this model actually performs worse than our model from question 2 with a guesstimated degree of 2. A degree of 15 allows our model to capture much of the variability in our data, but it also causes our model to suffer from a high degree of overfitting which has caused our model to perform worse on the test dataset."
   ]
  },
  {
   "cell_type": "markdown",
   "metadata": {
    "cell_id": "5c60cdd3-9885-4ac2-8144-635a481460f4",
    "deletable": false,
    "editable": false,
    "tags": []
   },
   "source": [
    "<div class='exercise'><b> Question 4:   Finding the best model by k-fold cross-validation [15 points total]</b>\n",
    "\n",
    "**4.1** [5 pts] In this part we find the best degree of the polynomial regression by running the model on a range of degree values and using k-fold cross validation. Use the `bacteria_train.csv` to train the model and `bacteria_test.csv` to test the model.\n",
    "\n",
    "**Instructions**\n",
    "- Read the train and test csv files.\n",
    "- Assign the predictor and response variables appropriately\n",
    "- Compute polynomial features up to degree 30. \n",
    "- For each degree in this range perform the following:\n",
    "    - Compute the polynomial features for the data.\n",
    "    - Perform k-fold cross validation with k=10\n",
    "    - Compute the polynomial features for the data.\n",
    "    - Compute the $MSE$ of the train and validation data and store in separate lists. \n",
    "- Print the train and validation MSE along with the degree of the best model. To do this find the degree that gives the lowest validation MSE.\n",
    "\n",
    "\n",
    "#### Hints\n",
    "* Use sklearn `cross_validate()` to perform cross validation.\n",
    "\n",
    "**4.2** [5 pts] Fitting the best model on the test data and compute and print the $MSE$ on the test set.\n",
    "\n",
    "**Instructions**\n",
    "- For the best degree computed above, compute the polynomial features for the data in the test csv file.\n",
    "- Train on the entire data from the train csv file and predict on the test data.\n",
    "- Report the $MSE$ for the fitted models on both the training and test sets. Save the **test** MSE in `best_mse_dict`.\n",
    "- Print the coefficients of the model.\n",
    "\n",
    "**Hints**\n",
    "* Sort the $x$ values before making your plots.\n",
    "\n",
    "**4.3** [5 pts] Generate a scatterplot of the data (as in 1.1) and plot your model's predictions in a different color. Make sure to label axes and include a descriptive title. Comment on how your model fits the data and how your model compares relative to the prior best-fit model you generated.\n",
    "    \n",
    "</div>"
   ]
  },
  {
   "cell_type": "markdown",
   "metadata": {
    "deletable": false,
    "editable": false
   },
   "source": [
    "### Your Answers"
   ]
  },
  {
   "cell_type": "markdown",
   "metadata": {
    "autograde": "4.1",
    "cell_id": "e5f47820-486a-4ad4-9a05-261f6cbd1cdd",
    "colab_type": "text",
    "deletable": false,
    "editable": false,
    "id": "EMVwiaUxsPzF"
   },
   "source": [
    "<div class='exercise-r'>  \n",
    " \n",
    "**4.1** [5 pts] In this part we find the best degree of the polynomial regression by running the model on a range of degree values and using k-fold cross validation. Use the `bacteria_train.csv` to train the model and `bacteria_test.csv` to test the model.\n",
    " \n",
    " **Instructions**\n",
    " - Read the train and test csv files.\n",
    " - Assign the predictor and response variables appropriately\n",
    " - Compute polynomial features up to degree 30.\n",
    " - For each degree in this range perform the following:\n",
    " - Compute the polynomial features for the data.\n",
    " - Perform k-fold cross validation with k=10\n",
    " - Compute the polynomial features for the data.\n",
    " - Compute the $MSE$ of the train and validation data and store in separate lists.\n",
    " - Print the train and validation MSE along with the degree of the best model. To do this find the degree that gives the lowest validation MSE.\n",
    " \n",
    " \n",
    " #### Hints\n",
    " * Use sklearn `cross_validate()` to perform cross validation.\n",
    " \n",
    " </div>"
   ]
  },
  {
   "cell_type": "code",
   "execution_count": 21,
   "metadata": {
    "deletable": false
   },
   "outputs": [],
   "source": [
    "# your code here\n",
    "# Read the train and test csv files\n",
    "bacteria_train = pd.read_csv(r'data/bacteria_train.csv')\n",
    "bacteria_test = pd.read_csv(r'data/bacteria_test.csv')\n",
    "\n",
    "# Assign the predictor and response variables appropriately\n",
    "x_train, y_train = bacteria_train[['Spreading_factor']].values, bacteria_train.Perc_population.values\n",
    "x_test, y_test = bacteria_test[['Spreading_factor']].values, bacteria_test.Perc_population.values"
   ]
  },
  {
   "cell_type": "code",
   "execution_count": 22,
   "metadata": {
    "deletable": false
   },
   "outputs": [
    {
     "name": "stdout",
     "output_type": "stream",
     "text": [
      "[6.421273282072778, 3.0997346925481057, 2.661715130324049, 2.6534065590397877, 2.5709143393298977, 2.5708486745031984, 2.55939790303801, 2.5456979525219583, 2.512517457472788, 2.512517412701823, 2.511168115007783, 2.510854646349157, 2.5051010606551385, 2.4999307646753968, 2.494792165627698, 2.490945608870429, 2.490621553056282, 2.4897111186465697, 2.4885113718376997, 2.485886814711185, 2.4831812685408017, 2.483057816799043, 2.483054510930709, 2.4813480015771274, 2.479781436886132, 2.479630436588228, 2.4780703363176824, 2.4757547039129473, 2.4704508299839545, 2.467668621676715, 2.451511896685074]\n",
      "[6.437577187336556, 3.1210545089333666, 2.6973468049700733, 2.69925396875393, 2.6223667883319552, 2.6299637455758016, 2.629076074712998, 2.634179062808938, 2.5990753511998603, 2.6117089871162604, 2.620537025040356, 2.6305483513413805, 2.6234700955870793, 2.636918807092947, 2.6309130482174448, 2.6359045623067097, 2.644512948179859, 2.6551145815394253, 2.6734433444328998, 2.6646023446295075, 2.7208859253848194, 2.7465018326689, 2.7668442498792296, 2.974362348545676, 3.342431130096351, 5.465288607939394, 6.2823051432538595, 5.245548120685838, 2.779900819452934, 12.477655945879842, 12.971545855270392]\n"
     ]
    }
   ],
   "source": [
    "# your code here\n",
    "# To iterate over the range, select the maximum degree of the polynomial as degree 30\n",
    "maxdeg = 30\n",
    "\n",
    "# Create three empty lists to store training, validation and cross-validation MSEs\n",
    "training_error, cross_validation_error = [],[]\n",
    "\n",
    "#Run a for loop through the degrees of the polynomial, fit linear regression,\n",
    "#predict y values and calculate the training and validation errors and update it to the list\n",
    "for d in range(maxdeg+1): #so that we have 30 as the maximum degree\n",
    "    \n",
    "    #Compute the polynomial features for the training data\n",
    "    x_poly_train = PolynomialFeatures(d).fit_transform(x_train)\n",
    "\n",
    "    #Get a Linear Regression object\n",
    "    lreg = LinearRegression(fit_intercept=False)\n",
    "    \n",
    "    #Perform cross-validation on the training data with 10 folds and get the mse_scores\n",
    "    mse_score = cross_validate(lreg,x_poly_train,y_train,cv=10,scoring='neg_mean_squared_error')\n",
    "    \n",
    "    #Fit model on the training set\n",
    "    lreg.fit(x_poly_train, y_train)\n",
    "\n",
    "    #Predict of the training set\n",
    "    y_train_pred = lreg.predict(x_poly_train)\n",
    "    \n",
    "    #Compute the training and cross-validation MSE\n",
    "    training_error.append(mean_squared_error(y_train,y_train_pred))\n",
    "    cross_validation_error.append(np.mean(abs(mse_score['test_score'])))\n",
    "    \n",
    "#Print the train and cross-validation MSE\n",
    "print(training_error)\n",
    "print(cross_validation_error)"
   ]
  },
  {
   "cell_type": "code",
   "execution_count": 23,
   "metadata": {
    "deletable": false
   },
   "outputs": [],
   "source": [
    "# your code here\n",
    "# The best degree with the lowest cross validation error\n",
    "min_mse = min(cross_validation_error)\n",
    "best_degree = cross_validation_error.index(min_mse)"
   ]
  },
  {
   "cell_type": "code",
   "execution_count": 24,
   "metadata": {
    "deletable": false
   },
   "outputs": [
    {
     "name": "stdout",
     "output_type": "stream",
     "text": [
      "The best degree is: 8 with a cross-validation MSE of: 2.5990753511998603 and a train MSE of: 2.512517457472788\n"
     ]
    }
   ],
   "source": [
    "# your code here\n",
    "print(\"The best degree is: {degree} with a cross-validation MSE of: {mse} and a train MSE of: {mse2}\".format(degree = best_degree, mse = min_mse,mse2 = training_error[best_degree]))"
   ]
  },
  {
   "cell_type": "code",
   "execution_count": 25,
   "metadata": {
    "deletable": false
   },
   "outputs": [],
   "source": [
    "# Find the best value of d, which gives the least error on the test data\n",
    "# best_d = min(mse_error, key=mse_error.get)\n",
    "# your code here"
   ]
  },
  {
   "cell_type": "code",
   "execution_count": 26,
   "metadata": {
    "deletable": false
   },
   "outputs": [],
   "source": [
    "# your code here\n"
   ]
  },
  {
   "cell_type": "markdown",
   "metadata": {
    "autograde": "4.2",
    "cell_id": "8f9f6e8b-e477-4a40-8a72-b4031b111b56",
    "colab_type": "text",
    "deletable": false,
    "editable": false,
    "id": "Iwnsapke2CYu"
   },
   "source": [
    "<div class='exercise-r'>  \n",
    " \n",
    "**4.2** [5 pts] Fitting the best model on the test data and compute and print the $MSE$ on the test set.\n",
    " \n",
    " **Instructions**\n",
    " - For the best degree computed above, compute the polynomial features for the data in the test csv file.\n",
    " - Train on the entire data from the train csv file and predict on the test data.\n",
    " - Report the $MSE$ for the fitted models on both the training and test sets. Save the **test** MSE in `best_mse_dict`.\n",
    " - Print the coefficients of the model.\n",
    " \n",
    " **Hints**\n",
    " * Sort the $x$ values before making your plots.\n",
    " \n",
    " </div>"
   ]
  },
  {
   "cell_type": "code",
   "execution_count": 27,
   "metadata": {
    "deletable": false
   },
   "outputs": [],
   "source": [
    "#Compute the polynomial features\n",
    "# your code here\n",
    "x_poly_train = PolynomialFeatures(best_degree).fit_transform(x_train)\n",
    "x_poly_test = PolynomialFeatures(best_degree).fit_transform(x_test)\n",
    "\n",
    "#Get a Linear Regression object\n",
    "lreg = LinearRegression(fit_intercept=False)\n",
    "\n",
    "#Fit model on the training set\n",
    "lreg.fit(x_poly_train, y_train)\n",
    "\n",
    "#Predict of the traing set\n",
    "y_train_pred = lreg.predict(x_poly_train)\n",
    "#Predict of the testing set\n",
    "y_test_pred = lreg.predict(x_poly_test)"
   ]
  },
  {
   "cell_type": "code",
   "execution_count": 28,
   "metadata": {
    "deletable": false
   },
   "outputs": [
    {
     "name": "stdout",
     "output_type": "stream",
     "text": [
      "Train MSE: 2.512517457472788\n",
      "Test MSE: 2.613010637353011\n"
     ]
    }
   ],
   "source": [
    "# your code here\n",
    "train_mse = mean_squared_error(y_train, y_train_pred)\n",
    "best_mse_dict[4.2] = mean_squared_error(y_test,y_test_pred)\n",
    "print(\"Train MSE: \" + str(train_mse))\n",
    "print(\"Test MSE: \" + str(best_mse_dict[4.2]))"
   ]
  },
  {
   "cell_type": "code",
   "execution_count": 29,
   "metadata": {
    "deletable": false
   },
   "outputs": [
    {
     "name": "stdout",
     "output_type": "stream",
     "text": [
      "Beta 0 coefficient: 1.5353335725001427\n",
      "Beta 1 coefficient: 2.5970277751111728\n",
      "Beta 2 coefficient: -1.0948684730724736\n",
      "Beta 3 coefficient: -1.1891344117017746\n",
      "Beta 4 coefficient: 3.4831491377614556\n",
      "Beta 5 coefficient: 0.6528766407091469\n",
      "Beta 6 coefficient: -1.7130078660041193\n",
      "Beta 7 coefficient: -0.1153051629180405\n",
      "Beta 8 coefficient: 0.2404183735140446\n"
     ]
    }
   ],
   "source": [
    "# your code here\n",
    "for i in range(best_degree+1):\n",
    "    print(\"Beta \" + str(i)+ \" coefficient: \" + str(lreg.coef_[i]))"
   ]
  },
  {
   "cell_type": "markdown",
   "metadata": {
    "autograde": "4.3",
    "cell_id": "cc4960c5-9dad-46a4-a608-02b926bce340",
    "colab_type": "text",
    "deletable": false,
    "editable": false,
    "id": "uZB7o6VR6Nt6"
   },
   "source": [
    "<div class='exercise-r'>  \n",
    " \n",
    "**4.3** [5 pts] Generate a scatterplot of the data (as in 1.1) and plot your model's predictions in a different color. Make sure to label axes and include a descriptive title. Comment on how your model fits the data and how your model compares relative to the prior best-fit model you generated.\n",
    " \n",
    " </div>"
   ]
  },
  {
   "cell_type": "code",
   "execution_count": 30,
   "metadata": {
    "deletable": false
   },
   "outputs": [
    {
     "data": {
      "image/png": "[encoded data removed]",
      "text/plain": [
       "<Figure size 432x288 with 1 Axes>"
      ]
     },
     "metadata": {
      "needs_background": "light"
     },
     "output_type": "display_data"
    }
   ],
   "source": [
    "# your code here\n",
    "# To visualise the results, sort the x values\n",
    "idx = np.argsort(x_test[:,0])\n",
    "x_test = x_test[idx]\n",
    "\n",
    "# Use the above index to get the appropriate predicted values for y\n",
    "# y values corresponding to sorted x\n",
    "y_test = y_test[idx]\n",
    "\n",
    "#Non-linear predicted values\n",
    "y_test_pred= y_test_pred[idx]\n",
    "\n",
    "plt.scatter(x_train, y_train, color = 'g', alpha = 0.5, label = \"Training Data\")\n",
    "plt.scatter(x_test, y_test, color = 'b', alpha = 0.5, label = \"Testing Data\")\n",
    "plt.plot(x_test, y_test_pred, label = \"Polynomial fit (best degree = \" + str(best_degree) + \")\", alpha = 0.75)\n",
    "plt.legend()\n",
    "plt.xlabel(\"Spreading Factor\")\n",
    "plt.ylabel(\"Percentage Change\")\n",
    "plt.title(\"Bacteria Training and Testing Data\")\n",
    "plt.show()"
   ]
  },
  {
   "cell_type": "markdown",
   "metadata": {
    "deletable": false
   },
   "source": [
    "According to the MSEs, this model of degree 8 performs much better than our model of degree 15 from the question 3. This model also has a lower test MSE than our guesstimated model of degree 2 from question 2. A degree of 8 allows our model to fit more of the variability in the data than the model of degree 2, but also does not suffer as severly from the overfitting problems that the model of degree 15 did, explaining why this model has performed the best on our test MSEs. From inspecting the graph, the model seems to hold well for the middle value of our range of data, but seems to suffer from overfitting at the edges of our range of data. In particular, if we were to extrapolate for Spreading Factors beyond -2 and 2 our model seems to be providing a very poor prediction. At both 2 and -2 the model actually predicts decreasing Percentage Change, which from our intuition does not seem to be where the data implies our model should extrapolate (beyond the data set) to."
   ]
  },
  {
   "cell_type": "markdown",
   "metadata": {
    "cell_id": "5c60cdd3-9885-4ac2-8144-635a481460f4",
    "deletable": false,
    "editable": false,
    "tags": []
   },
   "source": [
    "<div class='exercise'><b> Question 5:   Finding the most <b>consistent</b> model; use k-fold cross validation along with bootstraps [13 points total]</b>\n",
    "\n",
    "**5.1** [5 pts] In the previous part, we used k-fold cross-validation to find the best model. But how confident are you of your estimated best degree? We have already used bootstraps earlier to estimate the confidence interval of our $\\beta_i$ values. In this segment, we will use *bootstrapping* to test the robustness of our estimation. As before, we use the `bacteria_train.csv` to train the model and `bacteria_test.csv` to test the model.\n",
    "\n",
    "**Instructions**\n",
    "- Read the train and test csv files.\n",
    "- Assign the predictor and response variables appropriately\n",
    "- Select the max degree for computing the polynomial features and number of bootstraps.\n",
    "- Create bootstraps of the data. For each bootstrap perform the following:\n",
    "    - For each degree in the range of max degree perform the following:\n",
    "        - Compute the polynomial features for the data.\n",
    "        - Perform k-fold cross validation with k=10\n",
    "        - Compute the polynomial features for the data.\n",
    "        - Compute the $MSE$ of the train and validation data and store in separate lists. \n",
    "    - Select the degree for which the mean of the k-fold **validation** $MSE$ is the least.\n",
    "    - Store the best degree in a list\n",
    "- Plot a histogram with `Degree of polynomial` on the $x$-axis and `Number of degrees voted best` on the $y$-axis, from the above steps.\n",
    "- The degree voted best the most times can be selected as the best degree\n",
    "- Retrain on the entire test set and report the $MSE$ on the test set.\n",
    "\n",
    "**Hints**\n",
    "- Limit the maximum degree to 50.\n",
    "- Limit the number of bootstraps to 100.\n",
    "- Use sklearn `cross_validate()` to perform cross validation.\n",
    "\n",
    "**5.2** [3 pts] What are your observations? \n",
    "\n",
    "- Why do you see so much variance in the `best_degree` over the bootstraps?\n",
    "- What will you choose as your `best_degree` for the test set? \n",
    "\n",
    "**5.3** [5 pts] Fitting the best model on the test data.\n",
    "\n",
    "**Instructions**\n",
    "- For the best degree computed above, compute the polynomial features for the data in the test csv file.\n",
    "- Train on the entire data from the train csv file and predict on the test data.\n",
    "- Print the MSE of the model on the test data, and save it in `best_mse_dict`\n",
    "- Make a scatter plot of `Spread factor` vs. `Percentage change in population` for your best degree. The figure should have plot of the test prediction from the regression and the actual values on the same figure. Plot the fit curve as well, and comment on how it fits the data, as well as how it compares to prior model fits.\n",
    "- Print the coefficients of the model\n",
    "    \n",
    "    \n",
    "</div>"
   ]
  },
  {
   "cell_type": "markdown",
   "metadata": {
    "deletable": false,
    "editable": false
   },
   "source": [
    "### Your Answers"
   ]
  },
  {
   "cell_type": "markdown",
   "metadata": {
    "autograde": "5.1",
    "cell_id": "0a790850-87c6-4f46-b89e-048a2295c92b",
    "colab_type": "text",
    "deletable": false,
    "editable": false,
    "id": "IGFtXJmQap2q"
   },
   "source": [
    "<div class='exercise-r'>  \n",
    " \n",
    "**5.1** [5 pts] In the previous part, we used k-fold cross-validation to find the best model. But how confident are you of your estimated best degree? We have already used bootstraps earlier to estimate the confidence interval of our $\\beta_i$ values. In this segment, we will use *bootstrapping* to test the robustness of our estimation. As before, we use the `bacteria_train.csv` to train the model and `bacteria_test.csv` to test the model.\n",
    " \n",
    " **Instructions**\n",
    " - Read the train and test csv files.\n",
    " - Assign the predictor and response variables appropriately\n",
    " - Select the max degree for computing the polynomial features and number of bootstraps.\n",
    " - Create bootstraps of the data. For each bootstrap perform the following:\n",
    " - For each degree in the range of max degree perform the following:\n",
    " - Compute the polynomial features for the data.\n",
    " - Perform k-fold cross validation with k=10\n",
    " - Compute the polynomial features for the data.\n",
    " - Compute the $MSE$ of the train and validation data and store in separate lists.\n",
    " - Select the degree for which the mean of the k-fold **validation** $MSE$ is the least.\n",
    " - Store the best degree in a list\n",
    " - Plot a histogram with `Degree of polynomial` on the $x$-axis and `Number of degrees voted best` on the $y$-axis, from the above steps.\n",
    " - The degree voted best the most times can be selected as the best degree\n",
    " - Retrain on the entire test set and report the $MSE$ on the test set.\n",
    " \n",
    " **Hints**\n",
    " - Limit the maximum degree to 50.\n",
    " - Limit the number of bootstraps to 100.\n",
    " - Use sklearn `cross_validate()` to perform cross validation.\n",
    " \n",
    " </div>"
   ]
  },
  {
   "cell_type": "code",
   "execution_count": 31,
   "metadata": {
    "deletable": false
   },
   "outputs": [],
   "source": [
    "# your code here\n",
    "# Read the train and test csv files\n",
    "bacteria_train = pd.read_csv(r'data/bacteria_train.csv')\n",
    "bacteria_test = pd.read_csv(r'data/bacteria_test.csv')\n",
    "\n",
    "# Assign the predictor and response variables appropriately\n",
    "x_train, y_train = bacteria_train[['Spreading_factor']].values, bacteria_train.Perc_population.values\n",
    "x_test, y_test = bacteria_test[['Spreading_factor']].values, bacteria_test.Perc_population.values\n",
    "\n",
    "# Select maximum degree 50\n",
    "maxdeg = 51 # so that 50 is the maximum degree"
   ]
  },
  {
   "cell_type": "code",
   "execution_count": 32,
   "metadata": {
    "deletable": false
   },
   "outputs": [],
   "source": [
    "# your code here\n",
    "# create empty list to store best degrees\n",
    "degree_list = []\n",
    "\n",
    "numBoots = 100\n",
    "\n",
    "for i in range(numBoots):\n",
    "    df_new = bacteria_train.sample(frac=1,replace=True)\n",
    "    x_train = df_new[['Spreading_factor']].values\n",
    "    y_train = df_new.Perc_population\n",
    "    # Create two empty lists to store training, validation and cross-validation MSEs\n",
    "    training_error, cross_validation_error = [],[]\n",
    "    for d in range(maxdeg):\n",
    "        #Compute the polynomial features for the data\n",
    "        x_poly_train = PolynomialFeatures(d).fit_transform(x_train)\n",
    "        \n",
    "        #Get a Linear Regression object\n",
    "        lreg = LinearRegression(fit_intercept=False)\n",
    "        \n",
    "        #Perform k-fold cross validation with k=10\n",
    "        mse_score = cross_validate(lreg,x_poly_train,y_train,cv=10,scoring='neg_mean_squared_error')\n",
    "        \n",
    "        #Fit model on the training set\n",
    "        lreg.fit(x_poly_train, y_train)\n",
    "\n",
    "        #Predict of the training set\n",
    "        y_train_pred = lreg.predict(x_poly_train)\n",
    "    \n",
    "        #Compute the training and cross-validation MSE\n",
    "        training_error.append(mean_squared_error(y_train,y_train_pred))\n",
    "        cross_validation_error.append(np.mean(abs(mse_score['test_score'])))\n",
    "        \n",
    "    #Select the degree for which the mean of the k-fold validation MSE is the least\n",
    "    min_mse = min(cross_validation_error)\n",
    "        \n",
    "    #Store the best degree in a list\n",
    "    degree_list.append(cross_validation_error.index(min_mse))"
   ]
  },
  {
   "cell_type": "code",
   "execution_count": 33,
   "metadata": {
    "deletable": false,
    "scrolled": true
   },
   "outputs": [
    {
     "name": "stdout",
     "output_type": "stream",
     "text": [
      "The most voted on degree is: 8\n"
     ]
    },
    {
     "data": {
      "image/png": "[encoded data removed]",
      "text/plain": [
       "<Figure size 432x288 with 1 Axes>"
      ]
     },
     "metadata": {
      "needs_background": "light"
     },
     "output_type": "display_data"
    }
   ],
   "source": [
    "# your code here\n",
    "plt.hist(degree_list)\n",
    "plt.xlabel(\"Degree\")\n",
    "plt.ylabel(\"Frequency\")\n",
    "plt.title(\"Best Degrees based on 100 Bootstraps\")\n",
    "\n",
    "# select the degree voted the most number of times as the best_degree\n",
    "best_degree = max(set(degree_list), key=degree_list.count)\n",
    "print(\"The most voted on degree is: \" + str(best_degree))"
   ]
  },
  {
   "cell_type": "markdown",
   "metadata": {
    "autograde": "5.2",
    "cell_id": "8f9f6e8b-e477-4a40-8a72-b4031b111b56",
    "colab_type": "text",
    "deletable": false,
    "editable": false,
    "id": "Iwnsapke2CYu"
   },
   "source": [
    "<div class='exercise-r'>  \n",
    " \n",
    "**5.2** [3 pts] What are your observations?\n",
    " \n",
    " - Why do you see so much variance in the `best_degree` over the bootstraps?\n",
    " - What will you choose as your `best_degree` for the test set?\n",
    " \n",
    " </div>"
   ]
  },
  {
   "cell_type": "markdown",
   "metadata": {
    "deletable": false
   },
   "source": [
    "8 by far is the most voted on best degree as seen in the histogram, so that's what we will select as our best_degree. Surprisingly, we see big variance in best_degree over the bootstrap, likely because of natural randomness from bootstrapping capturing how much variance there is in our train data. Observing our fitted model in question 4 with the polynomial model of degree 8, the train data has many points that have large deviations from our fitted line (model). Bootstrapping with replacement means that this variance leads to large variance in our best_degrees."
   ]
  },
  {
   "cell_type": "markdown",
   "metadata": {
    "autograde": "5.3",
    "cell_id": "8f9f6e8b-e477-4a40-8a72-b4031b111b56",
    "colab_type": "text",
    "deletable": false,
    "editable": false,
    "id": "Iwnsapke2CYu"
   },
   "source": [
    "<div class='exercise-r'>  \n",
    " \n",
    "**5.3** [5 pts] Fitting the best model on the test data.\n",
    " \n",
    " **Instructions**\n",
    " - For the best degree computed above, compute the polynomial features for the data in the test csv file.\n",
    " - Train on the entire data from the train csv file and predict on the test data.\n",
    " - Print the MSE of the model on the test data, and save it in `best_mse_dict`\n",
    " - Make a scatter plot of `Spread factor` vs. `Percentage change in population` for your best degree. The figure should have plot of the test prediction from the regression and the actual values on the same figure. Plot the fit curve as well, and comment on how it fits the data, as well as how it compares to prior model fits.\n",
    " - Print the coefficients of the model\n",
    " \n",
    " \n",
    " </div>"
   ]
  },
  {
   "cell_type": "code",
   "execution_count": 34,
   "metadata": {
    "deletable": false
   },
   "outputs": [],
   "source": [
    "# your code here\n",
    "# Read the train and test csv files\n",
    "bacteria_train = pd.read_csv(r'data/bacteria_train.csv')\n",
    "bacteria_test = pd.read_csv(r'data/bacteria_test.csv')\n",
    "\n",
    "# Assign the predictor and response variables appropriately\n",
    "x_train, y_train = bacteria_train[['Spreading_factor']].values, bacteria_train.Perc_population.values\n",
    "x_test, y_test = bacteria_test[['Spreading_factor']].values, bacteria_test.Perc_population.values"
   ]
  },
  {
   "cell_type": "code",
   "execution_count": 35,
   "metadata": {
    "deletable": false
   },
   "outputs": [],
   "source": [
    "# Select the best degree from the above exercise\n",
    "# your code here\n",
    "d = best_degree"
   ]
  },
  {
   "cell_type": "code",
   "execution_count": 36,
   "metadata": {
    "deletable": false
   },
   "outputs": [],
   "source": [
    "#Compute the polynomial features\n",
    "# your code here\n",
    "x_poly_train = PolynomialFeatures(d).fit_transform(x_train)\n",
    "x_poly_test = PolynomialFeatures(d).fit_transform(x_test)"
   ]
  },
  {
   "cell_type": "code",
   "execution_count": 37,
   "metadata": {
    "deletable": false
   },
   "outputs": [],
   "source": [
    "# your code here\n",
    "# Train on the entire data from the train csv file\n",
    "#Get a Linear Regression object\n",
    "lreg = LinearRegression(fit_intercept=False)\n",
    "\n",
    "# Fit a polynomial model\n",
    "lreg.fit(x_poly_train, y_train)\n",
    "\n",
    "# Predict using the test data\n",
    "y_poly_pred = lreg.predict(x_poly_test)"
   ]
  },
  {
   "cell_type": "code",
   "execution_count": 38,
   "metadata": {
    "deletable": false
   },
   "outputs": [
    {
     "name": "stdout",
     "output_type": "stream",
     "text": [
      "2.613010637353011\n"
     ]
    }
   ],
   "source": [
    "# your code here\n",
    "best_mse_dict[5.3] = mean_squared_error(y_test,y_poly_pred)\n",
    "print(best_mse_dict[5.3])"
   ]
  },
  {
   "cell_type": "code",
   "execution_count": 39,
   "metadata": {
    "deletable": false
   },
   "outputs": [
    {
     "data": {
      "image/png": "[encoded data removed]",
      "text/plain": [
       "<Figure size 432x288 with 1 Axes>"
      ]
     },
     "metadata": {
      "needs_background": "light"
     },
     "output_type": "display_data"
    }
   ],
   "source": [
    "# your code here\n",
    "# To visualise the results, sort the x values\n",
    "idx = np.argsort(x_test[:,0])\n",
    "x_test = x_test[idx]\n",
    "\n",
    "# Use the above index to get the appropriate predicted values for y\n",
    "# y values corresponding to sorted x\n",
    "y_test = y_test[idx]\n",
    "\n",
    "#Non-linear predicted values\n",
    "y_poly_pred= y_poly_pred[idx]\n",
    "\n",
    "plt.scatter(x_train, y_train, color = 'g', alpha = 0.5, label = \"Training Data\")\n",
    "plt.scatter(x_test, y_test, color = 'b', alpha = 0.5, label = \"Testing Data\")\n",
    "plt.plot(x_test, y_poly_pred, label = \"Polynomial fit (best degree = \" + str(d) + \")\", alpha = 0.75)\n",
    "plt.legend()\n",
    "plt.xlabel(\"Spreading Factor\")\n",
    "plt.ylabel(\"Percentage Change\")\n",
    "plt.title(\"Bacteria Training and Testing Data\")\n",
    "plt.show()"
   ]
  },
  {
   "cell_type": "markdown",
   "metadata": {
    "deletable": false
   },
   "source": [
    "Once again, just like in questions 4, we have a polynomial model of degree 8. So the same comments on question 4 also hold for this one. The main two comments were that the model seems to hold well for the middle value of our range of data, but seems to suffer from overfitting at the edges of our range of data."
   ]
  },
  {
   "cell_type": "markdown",
   "metadata": {
    "cell_id": "8a32aef5-65a6-426d-a7ca-1f6fd63b3b16",
    "deletable": false,
    "editable": false
   },
   "source": [
    "<div class='exercise'><b> Question 6:   Improving model consistency [30 points total]</b>\n",
    "\n",
    "In the previous sections, we compared many polynomial models to find the best degree. For each model of degree $n$, we considered all polynomial coefficients *up to* **degree `n`** using `Polynomial_features`. In this section $n=30$, and our **best model** can be chosen from any possible combination of the **30** degrees chosen.\n",
    "\n",
    "For eg. a model with degrees `1,2,4,6`\n",
    "\n",
    "The total number of such possible models is $2^{30}\\approx10^9$ and searching through all of them would be laborious and computationally inefficient. Instead, we can use $Lasso$ Regularization which *switches off* highly unstable degree coefficients and gives us the most efficient solution.\n",
    "\n",
    "**6.1** [10 pts] Find the best hyper-parameter `alpha`\n",
    "\n",
    "First, we will use `cross_validation` to find the the best regularization parameter `alpha`. As before, we use the `bacteria_train.csv` for cross validation.\n",
    "\n",
    "**NOTE**: You are free to experiment with the values of alpha. Our suggestion is to use in powers of 10 from $10^{-3}$ to $10^{3}$\n",
    "\n",
    "#### Instructions\n",
    "- Read the train csv file.\n",
    "- Assign the predictor and response variables appropriately\n",
    "- Select the max degree of the polynomial, and make a list of `alpha` values\n",
    "- For each value of `alpha`:\n",
    "    - Compute the polynomial features for the data.\n",
    "    - Create a `Lasso` regularization model with the value of `alpha`\n",
    "    - Perform k-fold cross validation with k=10 using `Lasso` as model.\n",
    "    - Compute and print the $MSE$ of the train and validation data and store in separate lists. \n",
    "- Select the `alpha` for which the mean of the k-fold $MSE$ is the least.\n",
    "- Store the previously selected values as `best_alpha` & print it.\n",
    "\n",
    "\n",
    "#### Hints\n",
    "- Limit the maximum degree to 30.\n",
    "- Take at least three different values of alpha.\n",
    "- Use sklearn `cross_validate()` to perform cross validation.\n",
    "\n",
    "**6.2** [10 pts] Find the most significant degrees.\n",
    "\n",
    "From the previous section, you will now have the `best_alpha` hyperparameter. Now, we will use this to find the most significant degrees over a given number of bootstraps. What we mean by the above is this:\n",
    "\n",
    "For each bootstrap of the data, you will get some degrees that are **significant** $(\\mid\\beta_i\\mid \\gt 0.1)$. You would like to see which degree coefficients are significant over several such iterations.\n",
    "\n",
    "As before, we use the `bacteria_train.csv` for cross validation.\n",
    "\n",
    "NOTE: You are free to experiment with the number of bootstraps.\n",
    "\n",
    "**Instructions**\n",
    "- Make a dictionary called `significant_degrees` to store count of degrees for each bootstrap\n",
    "- For each bootstrap:\n",
    "    - Take a sample the dataframe with `frac=1`\n",
    "    - Train a **Lasso** model with the `best_alpha` computed above.\n",
    "    - Find the most significant polynomial coefficients using ($\\mid\\beta_i\\mid \\lt 0.1 $)\n",
    "    - For each significant degree, update the count of that degree in `significant_degrees` \n",
    "- Plot the count of degrees for each bootstrap as a bar plot.\n",
    "\n",
    "\n",
    "#### Hints\n",
    "- Limit the maximum degree to 30.\n",
    "- Take at least three different values of alpha.\n",
    "- Use sklearn `cross_validate()` to perform cross validation.\n",
    "\n",
    "**6.3** [5 pts] Compute and print the MSE on the test set\n",
    "\n",
    "Now, from the previous plot, you can see that only some degrees are consistently significant over several bootstraps. You will now retrain the *L1* regularized model on the entire **training** data and find the test $MSE$\n",
    "\n",
    "#### Instructions\n",
    "\n",
    "- Based on the plot from 6.2, choose the maximum degree of the polynomial you will fit for your final model.\n",
    "- Retrain the *regularized* ***LASSO*** model with your chosen degree on the entire test set and report the $MSE$ on the test set.\n",
    "- Find and print the degrees of the polynomial that have cofficients with absolute value greater than 0.1\n",
    "- Save the test $MSE$ to `best_mse_dict`.\n",
    "\n",
    "**6.4** [5 pts] What are your observations?\n",
    "\n",
    "- Compare your `best_degree` from question 5 with your chosen degree in 6.3 above and comment on the difference.\n",
    "- Which degree coefficients in your best fit model from above are significant? If not all coefficients are significant, why?\n",
    "- Compare your test $MSE$ in this question with the result from question 5. Which one is smaller, and by how much?\n",
    "- Is your current model more reliable than the models in question 5 and prior? On what basis do you claim its robustness?\n",
    "    \n",
    "    \n",
    "</div>"
   ]
  },
  {
   "cell_type": "markdown",
   "metadata": {
    "deletable": false,
    "editable": false
   },
   "source": [
    "### Your Answers"
   ]
  },
  {
   "cell_type": "markdown",
   "metadata": {
    "autograde": "6.1",
    "deletable": false,
    "editable": false
   },
   "source": [
    "<div class='exercise-r'>  \n",
    " \n",
    "**6.1** [10 pts] Find the best hyper-parameter `alpha`\n",
    " \n",
    " First, we will use `cross_validation` to find the the best regularization parameter `alpha`. As before, we use the `bacteria_train.csv` for cross validation.\n",
    " \n",
    " **NOTE**: You are free to experiment with the values of alpha. Our suggestion is to use in powers of 10 from $10^{-3}$ to $10^{3}$\n",
    " \n",
    " #### Instructions\n",
    " - Read the train csv file.\n",
    " - Assign the predictor and response variables appropriately\n",
    " - Select the max degree of the polynomial, and make a list of `alpha` values\n",
    " - For each value of `alpha`:\n",
    " - Compute the polynomial features for the data.\n",
    " - Create a `Lasso` regularization model with the value of `alpha`\n",
    " - Perform k-fold cross validation with k=10 using `Lasso` as model.\n",
    " - Compute and print the $MSE$ of the train and validation data and store in separate lists.\n",
    " - Select the `alpha` for which the mean of the k-fold $MSE$ is the least.\n",
    " - Store the previously selected values as `best_alpha` & print it.\n",
    " \n",
    " \n",
    " #### Hints\n",
    " - Limit the maximum degree to 30.\n",
    " - Take at least three different values of alpha.\n",
    " - Use sklearn `cross_validate()` to perform cross validation.\n",
    " \n",
    " </div>"
   ]
  },
  {
   "cell_type": "code",
   "execution_count": 40,
   "metadata": {
    "deletable": false
   },
   "outputs": [],
   "source": [
    "# Train data\n",
    "# your code here\n",
    "# Read the train and test csv files\n",
    "bacteria_train = pd.read_csv(r'data/bacteria_train.csv')\n",
    "bacteria_test = pd.read_csv(r'data/bacteria_test.csv')\n",
    "\n",
    "# Assign the predictor and response variables appropriately\n",
    "x_train, y_train = bacteria_train[['Spreading_factor']].values, bacteria_train.Perc_population.values\n",
    "x_test, y_test = bacteria_test[['Spreading_factor']].values, bacteria_test.Perc_population.values\n",
    "\n",
    "maxdeg = 30 # maximum degree 30\n",
    "\n",
    "# List of hyper-parameter values\n",
    "alphas = [1e-3,1e-2,1e-1,1e0,1e1,1e2,1e3]"
   ]
  },
  {
   "cell_type": "code",
   "execution_count": 41,
   "metadata": {
    "deletable": false
   },
   "outputs": [
    {
     "name": "stderr",
     "output_type": "stream",
     "text": [
      "/Library/Frameworks/Python.framework/Versions/3.7/lib/python3.7/site-packages/sklearn/linear_model/_coordinate_descent.py:531: ConvergenceWarning: Objective did not converge. You might want to increase the number of iterations. Duality gap: 468.7059024501486, tolerance: 0.24346217784710536\n",
      "  positive)\n",
      "/Library/Frameworks/Python.framework/Versions/3.7/lib/python3.7/site-packages/sklearn/linear_model/_coordinate_descent.py:531: ConvergenceWarning: Objective did not converge. You might want to increase the number of iterations. Duality gap: 475.8443880682876, tolerance: 0.2442329022786841\n",
      "  positive)\n",
      "/Library/Frameworks/Python.framework/Versions/3.7/lib/python3.7/site-packages/sklearn/linear_model/_coordinate_descent.py:531: ConvergenceWarning: Objective did not converge. You might want to increase the number of iterations. Duality gap: 500.4608574200379, tolerance: 0.2405408422576316\n",
      "  positive)\n",
      "/Library/Frameworks/Python.framework/Versions/3.7/lib/python3.7/site-packages/sklearn/linear_model/_coordinate_descent.py:531: ConvergenceWarning: Objective did not converge. You might want to increase the number of iterations. Duality gap: 470.8139859787629, tolerance: 0.24509175627296587\n",
      "  positive)\n",
      "/Library/Frameworks/Python.framework/Versions/3.7/lib/python3.7/site-packages/sklearn/linear_model/_coordinate_descent.py:531: ConvergenceWarning: Objective did not converge. You might want to increase the number of iterations. Duality gap: 487.7085468420766, tolerance: 0.24548225488713915\n",
      "  positive)\n",
      "/Library/Frameworks/Python.framework/Versions/3.7/lib/python3.7/site-packages/sklearn/linear_model/_coordinate_descent.py:531: ConvergenceWarning: Objective did not converge. You might want to increase the number of iterations. Duality gap: 482.10126238897163, tolerance: 0.24583051998162725\n",
      "  positive)\n",
      "/Library/Frameworks/Python.framework/Versions/3.7/lib/python3.7/site-packages/sklearn/linear_model/_coordinate_descent.py:531: ConvergenceWarning: Objective did not converge. You might want to increase the number of iterations. Duality gap: 436.6172622782207, tolerance: 0.2387733593291339\n",
      "  positive)\n",
      "/Library/Frameworks/Python.framework/Versions/3.7/lib/python3.7/site-packages/sklearn/linear_model/_coordinate_descent.py:531: ConvergenceWarning: Objective did not converge. You might want to increase the number of iterations. Duality gap: 486.08010358162363, tolerance: 0.24409724879107614\n",
      "  positive)\n",
      "/Library/Frameworks/Python.framework/Versions/3.7/lib/python3.7/site-packages/sklearn/linear_model/_coordinate_descent.py:531: ConvergenceWarning: Objective did not converge. You might want to increase the number of iterations. Duality gap: 475.294177202828, tolerance: 0.248915116655643\n",
      "  positive)\n",
      "/Library/Frameworks/Python.framework/Versions/3.7/lib/python3.7/site-packages/sklearn/linear_model/_coordinate_descent.py:531: ConvergenceWarning: Objective did not converge. You might want to increase the number of iterations. Duality gap: 484.1268097891983, tolerance: 0.24778492824881893\n",
      "  positive)\n"
     ]
    },
    {
     "name": "stdout",
     "output_type": "stream",
     "text": [
      "training error for alpha 0.001: 2.4952891293564683\n",
      "cross-validation error for alpha 0.001: 2.593663403415122\n"
     ]
    },
    {
     "name": "stderr",
     "output_type": "stream",
     "text": [
      "/Library/Frameworks/Python.framework/Versions/3.7/lib/python3.7/site-packages/sklearn/linear_model/_coordinate_descent.py:531: ConvergenceWarning: Objective did not converge. You might want to increase the number of iterations. Duality gap: 479.78964167120694, tolerance: 0.24346217784710536\n",
      "  positive)\n",
      "/Library/Frameworks/Python.framework/Versions/3.7/lib/python3.7/site-packages/sklearn/linear_model/_coordinate_descent.py:531: ConvergenceWarning: Objective did not converge. You might want to increase the number of iterations. Duality gap: 486.786144705712, tolerance: 0.2442329022786841\n",
      "  positive)\n",
      "/Library/Frameworks/Python.framework/Versions/3.7/lib/python3.7/site-packages/sklearn/linear_model/_coordinate_descent.py:531: ConvergenceWarning: Objective did not converge. You might want to increase the number of iterations. Duality gap: 512.6221392221917, tolerance: 0.2405408422576316\n",
      "  positive)\n",
      "/Library/Frameworks/Python.framework/Versions/3.7/lib/python3.7/site-packages/sklearn/linear_model/_coordinate_descent.py:531: ConvergenceWarning: Objective did not converge. You might want to increase the number of iterations. Duality gap: 482.1406313542865, tolerance: 0.24509175627296587\n",
      "  positive)\n",
      "/Library/Frameworks/Python.framework/Versions/3.7/lib/python3.7/site-packages/sklearn/linear_model/_coordinate_descent.py:531: ConvergenceWarning: Objective did not converge. You might want to increase the number of iterations. Duality gap: 499.4056188566355, tolerance: 0.24548225488713915\n",
      "  positive)\n",
      "/Library/Frameworks/Python.framework/Versions/3.7/lib/python3.7/site-packages/sklearn/linear_model/_coordinate_descent.py:531: ConvergenceWarning: Objective did not converge. You might want to increase the number of iterations. Duality gap: 493.3102797843111, tolerance: 0.24583051998162725\n",
      "  positive)\n",
      "/Library/Frameworks/Python.framework/Versions/3.7/lib/python3.7/site-packages/sklearn/linear_model/_coordinate_descent.py:531: ConvergenceWarning: Objective did not converge. You might want to increase the number of iterations. Duality gap: 447.8943838434702, tolerance: 0.2387733593291339\n",
      "  positive)\n",
      "/Library/Frameworks/Python.framework/Versions/3.7/lib/python3.7/site-packages/sklearn/linear_model/_coordinate_descent.py:531: ConvergenceWarning: Objective did not converge. You might want to increase the number of iterations. Duality gap: 496.9871625664191, tolerance: 0.24409724879107614\n",
      "  positive)\n",
      "/Library/Frameworks/Python.framework/Versions/3.7/lib/python3.7/site-packages/sklearn/linear_model/_coordinate_descent.py:531: ConvergenceWarning: Objective did not converge. You might want to increase the number of iterations. Duality gap: 488.78143865842344, tolerance: 0.248915116655643\n",
      "  positive)\n",
      "/Library/Frameworks/Python.framework/Versions/3.7/lib/python3.7/site-packages/sklearn/linear_model/_coordinate_descent.py:531: ConvergenceWarning: Objective did not converge. You might want to increase the number of iterations. Duality gap: 495.1264959320089, tolerance: 0.24778492824881893\n",
      "  positive)\n"
     ]
    },
    {
     "name": "stdout",
     "output_type": "stream",
     "text": [
      "training error for alpha 0.01: 2.503497118370894\n",
      "cross-validation error for alpha 0.01: 2.582721255088724\n"
     ]
    },
    {
     "name": "stderr",
     "output_type": "stream",
     "text": [
      "/Library/Frameworks/Python.framework/Versions/3.7/lib/python3.7/site-packages/sklearn/linear_model/_coordinate_descent.py:531: ConvergenceWarning: Objective did not converge. You might want to increase the number of iterations. Duality gap: 565.2907394508004, tolerance: 0.24346217784710536\n",
      "  positive)\n",
      "/Library/Frameworks/Python.framework/Versions/3.7/lib/python3.7/site-packages/sklearn/linear_model/_coordinate_descent.py:531: ConvergenceWarning: Objective did not converge. You might want to increase the number of iterations. Duality gap: 573.8257644860873, tolerance: 0.2442329022786841\n",
      "  positive)\n",
      "/Library/Frameworks/Python.framework/Versions/3.7/lib/python3.7/site-packages/sklearn/linear_model/_coordinate_descent.py:531: ConvergenceWarning: Objective did not converge. You might want to increase the number of iterations. Duality gap: 596.5527816260476, tolerance: 0.2405408422576316\n",
      "  positive)\n",
      "/Library/Frameworks/Python.framework/Versions/3.7/lib/python3.7/site-packages/sklearn/linear_model/_coordinate_descent.py:531: ConvergenceWarning: Objective did not converge. You might want to increase the number of iterations. Duality gap: 567.6660857637206, tolerance: 0.24509175627296587\n",
      "  positive)\n",
      "/Library/Frameworks/Python.framework/Versions/3.7/lib/python3.7/site-packages/sklearn/linear_model/_coordinate_descent.py:531: ConvergenceWarning: Objective did not converge. You might want to increase the number of iterations. Duality gap: 584.6811320659077, tolerance: 0.24548225488713915\n",
      "  positive)\n",
      "/Library/Frameworks/Python.framework/Versions/3.7/lib/python3.7/site-packages/sklearn/linear_model/_coordinate_descent.py:531: ConvergenceWarning: Objective did not converge. You might want to increase the number of iterations. Duality gap: 580.6718192731448, tolerance: 0.24583051998162725\n",
      "  positive)\n",
      "/Library/Frameworks/Python.framework/Versions/3.7/lib/python3.7/site-packages/sklearn/linear_model/_coordinate_descent.py:531: ConvergenceWarning: Objective did not converge. You might want to increase the number of iterations. Duality gap: 538.7108315216725, tolerance: 0.2387733593291339\n",
      "  positive)\n",
      "/Library/Frameworks/Python.framework/Versions/3.7/lib/python3.7/site-packages/sklearn/linear_model/_coordinate_descent.py:531: ConvergenceWarning: Objective did not converge. You might want to increase the number of iterations. Duality gap: 582.4041286398216, tolerance: 0.24409724879107614\n",
      "  positive)\n",
      "/Library/Frameworks/Python.framework/Versions/3.7/lib/python3.7/site-packages/sklearn/linear_model/_coordinate_descent.py:531: ConvergenceWarning: Objective did not converge. You might want to increase the number of iterations. Duality gap: 571.7032239280298, tolerance: 0.248915116655643\n",
      "  positive)\n",
      "/Library/Frameworks/Python.framework/Versions/3.7/lib/python3.7/site-packages/sklearn/linear_model/_coordinate_descent.py:531: ConvergenceWarning: Objective did not converge. You might want to increase the number of iterations. Duality gap: 580.7267960093698, tolerance: 0.24778492824881893\n",
      "  positive)\n"
     ]
    },
    {
     "name": "stdout",
     "output_type": "stream",
     "text": [
      "training error for alpha 0.1: 2.562885260104116\n",
      "cross-validation error for alpha 0.1: 2.6211574068918315\n"
     ]
    },
    {
     "name": "stderr",
     "output_type": "stream",
     "text": [
      "/Library/Frameworks/Python.framework/Versions/3.7/lib/python3.7/site-packages/sklearn/linear_model/_coordinate_descent.py:531: ConvergenceWarning: Objective did not converge. You might want to increase the number of iterations. Duality gap: 854.403770160541, tolerance: 0.24346217784710536\n",
      "  positive)\n",
      "/Library/Frameworks/Python.framework/Versions/3.7/lib/python3.7/site-packages/sklearn/linear_model/_coordinate_descent.py:531: ConvergenceWarning: Objective did not converge. You might want to increase the number of iterations. Duality gap: 878.3483943713134, tolerance: 0.2442329022786841\n",
      "  positive)\n",
      "/Library/Frameworks/Python.framework/Versions/3.7/lib/python3.7/site-packages/sklearn/linear_model/_coordinate_descent.py:531: ConvergenceWarning: Objective did not converge. You might want to increase the number of iterations. Duality gap: 878.527451648167, tolerance: 0.2405408422576316\n",
      "  positive)\n",
      "/Library/Frameworks/Python.framework/Versions/3.7/lib/python3.7/site-packages/sklearn/linear_model/_coordinate_descent.py:531: ConvergenceWarning: Objective did not converge. You might want to increase the number of iterations. Duality gap: 848.2216046304209, tolerance: 0.24509175627296587\n",
      "  positive)\n",
      "/Library/Frameworks/Python.framework/Versions/3.7/lib/python3.7/site-packages/sklearn/linear_model/_coordinate_descent.py:531: ConvergenceWarning: Objective did not converge. You might want to increase the number of iterations. Duality gap: 865.5701682545728, tolerance: 0.24548225488713915\n",
      "  positive)\n",
      "/Library/Frameworks/Python.framework/Versions/3.7/lib/python3.7/site-packages/sklearn/linear_model/_coordinate_descent.py:531: ConvergenceWarning: Objective did not converge. You might want to increase the number of iterations. Duality gap: 880.5494459436611, tolerance: 0.24583051998162725\n",
      "  positive)\n",
      "/Library/Frameworks/Python.framework/Versions/3.7/lib/python3.7/site-packages/sklearn/linear_model/_coordinate_descent.py:531: ConvergenceWarning: Objective did not converge. You might want to increase the number of iterations. Duality gap: 843.6504555645156, tolerance: 0.2387733593291339\n",
      "  positive)\n",
      "/Library/Frameworks/Python.framework/Versions/3.7/lib/python3.7/site-packages/sklearn/linear_model/_coordinate_descent.py:531: ConvergenceWarning: Objective did not converge. You might want to increase the number of iterations. Duality gap: 872.5651365951395, tolerance: 0.24409724879107614\n",
      "  positive)\n",
      "/Library/Frameworks/Python.framework/Versions/3.7/lib/python3.7/site-packages/sklearn/linear_model/_coordinate_descent.py:531: ConvergenceWarning: Objective did not converge. You might want to increase the number of iterations. Duality gap: 869.3486467905709, tolerance: 0.248915116655643\n",
      "  positive)\n",
      "/Library/Frameworks/Python.framework/Versions/3.7/lib/python3.7/site-packages/sklearn/linear_model/_coordinate_descent.py:531: ConvergenceWarning: Objective did not converge. You might want to increase the number of iterations. Duality gap: 875.0768398351647, tolerance: 0.24778492824881893\n",
      "  positive)\n"
     ]
    },
    {
     "name": "stdout",
     "output_type": "stream",
     "text": [
      "training error for alpha 1.0: 4.117647501012324\n",
      "cross-validation error for alpha 1.0: 4.217334628582754\n"
     ]
    },
    {
     "name": "stderr",
     "output_type": "stream",
     "text": [
      "/Library/Frameworks/Python.framework/Versions/3.7/lib/python3.7/site-packages/sklearn/linear_model/_coordinate_descent.py:531: ConvergenceWarning: Objective did not converge. You might want to increase the number of iterations. Duality gap: 949.4502797195561, tolerance: 0.24346217784710536\n",
      "  positive)\n",
      "/Library/Frameworks/Python.framework/Versions/3.7/lib/python3.7/site-packages/sklearn/linear_model/_coordinate_descent.py:531: ConvergenceWarning: Objective did not converge. You might want to increase the number of iterations. Duality gap: 941.1611661739611, tolerance: 0.2442329022786841\n",
      "  positive)\n",
      "/Library/Frameworks/Python.framework/Versions/3.7/lib/python3.7/site-packages/sklearn/linear_model/_coordinate_descent.py:531: ConvergenceWarning: Objective did not converge. You might want to increase the number of iterations. Duality gap: 956.734919171012, tolerance: 0.2405408422576316\n",
      "  positive)\n",
      "/Library/Frameworks/Python.framework/Versions/3.7/lib/python3.7/site-packages/sklearn/linear_model/_coordinate_descent.py:531: ConvergenceWarning: Objective did not converge. You might want to increase the number of iterations. Duality gap: 954.8497021220094, tolerance: 0.24509175627296587\n",
      "  positive)\n",
      "/Library/Frameworks/Python.framework/Versions/3.7/lib/python3.7/site-packages/sklearn/linear_model/_coordinate_descent.py:531: ConvergenceWarning: Objective did not converge. You might want to increase the number of iterations. Duality gap: 961.2586412670888, tolerance: 0.24548225488713915\n",
      "  positive)\n",
      "/Library/Frameworks/Python.framework/Versions/3.7/lib/python3.7/site-packages/sklearn/linear_model/_coordinate_descent.py:531: ConvergenceWarning: Objective did not converge. You might want to increase the number of iterations. Duality gap: 966.8866536242222, tolerance: 0.24583051998162725\n",
      "  positive)\n",
      "/Library/Frameworks/Python.framework/Versions/3.7/lib/python3.7/site-packages/sklearn/linear_model/_coordinate_descent.py:531: ConvergenceWarning: Objective did not converge. You might want to increase the number of iterations. Duality gap: 954.230720769854, tolerance: 0.2387733593291339\n",
      "  positive)\n",
      "/Library/Frameworks/Python.framework/Versions/3.7/lib/python3.7/site-packages/sklearn/linear_model/_coordinate_descent.py:531: ConvergenceWarning: Objective did not converge. You might want to increase the number of iterations. Duality gap: 963.6470619313219, tolerance: 0.24409724879107614\n",
      "  positive)\n",
      "/Library/Frameworks/Python.framework/Versions/3.7/lib/python3.7/site-packages/sklearn/linear_model/_coordinate_descent.py:531: ConvergenceWarning: Objective did not converge. You might want to increase the number of iterations. Duality gap: 978.2306984481943, tolerance: 0.248915116655643\n",
      "  positive)\n",
      "/Library/Frameworks/Python.framework/Versions/3.7/lib/python3.7/site-packages/sklearn/linear_model/_coordinate_descent.py:531: ConvergenceWarning: Objective did not converge. You might want to increase the number of iterations. Duality gap: 976.118580442312, tolerance: 0.24778492824881893\n",
      "  positive)\n"
     ]
    },
    {
     "name": "stdout",
     "output_type": "stream",
     "text": [
      "training error for alpha 10.0: 4.922998210201372\n",
      "cross-validation error for alpha 10.0: 5.2489592584130715\n"
     ]
    },
    {
     "name": "stderr",
     "output_type": "stream",
     "text": [
      "/Library/Frameworks/Python.framework/Versions/3.7/lib/python3.7/site-packages/sklearn/linear_model/_coordinate_descent.py:531: ConvergenceWarning: Objective did not converge. You might want to increase the number of iterations. Duality gap: 966.6853962086559, tolerance: 0.24346217784710536\n",
      "  positive)\n",
      "/Library/Frameworks/Python.framework/Versions/3.7/lib/python3.7/site-packages/sklearn/linear_model/_coordinate_descent.py:531: ConvergenceWarning: Objective did not converge. You might want to increase the number of iterations. Duality gap: 979.8217333150059, tolerance: 0.2442329022786841\n",
      "  positive)\n",
      "/Library/Frameworks/Python.framework/Versions/3.7/lib/python3.7/site-packages/sklearn/linear_model/_coordinate_descent.py:531: ConvergenceWarning: Objective did not converge. You might want to increase the number of iterations. Duality gap: 968.450059668222, tolerance: 0.2405408422576316\n",
      "  positive)\n",
      "/Library/Frameworks/Python.framework/Versions/3.7/lib/python3.7/site-packages/sklearn/linear_model/_coordinate_descent.py:531: ConvergenceWarning: Objective did not converge. You might want to increase the number of iterations. Duality gap: 966.4886390858467, tolerance: 0.24509175627296587\n",
      "  positive)\n",
      "/Library/Frameworks/Python.framework/Versions/3.7/lib/python3.7/site-packages/sklearn/linear_model/_coordinate_descent.py:531: ConvergenceWarning: Objective did not converge. You might want to increase the number of iterations. Duality gap: 986.9452464681002, tolerance: 0.24548225488713915\n",
      "  positive)\n",
      "/Library/Frameworks/Python.framework/Versions/3.7/lib/python3.7/site-packages/sklearn/linear_model/_coordinate_descent.py:531: ConvergenceWarning: Objective did not converge. You might want to increase the number of iterations. Duality gap: 986.2490006072237, tolerance: 0.24583051998162725\n",
      "  positive)\n",
      "/Library/Frameworks/Python.framework/Versions/3.7/lib/python3.7/site-packages/sklearn/linear_model/_coordinate_descent.py:531: ConvergenceWarning: Objective did not converge. You might want to increase the number of iterations. Duality gap: 959.4953964036836, tolerance: 0.2387733593291339\n",
      "  positive)\n",
      "/Library/Frameworks/Python.framework/Versions/3.7/lib/python3.7/site-packages/sklearn/linear_model/_coordinate_descent.py:531: ConvergenceWarning: Objective did not converge. You might want to increase the number of iterations. Duality gap: 1021.7140332844506, tolerance: 0.24409724879107614\n",
      "  positive)\n",
      "/Library/Frameworks/Python.framework/Versions/3.7/lib/python3.7/site-packages/sklearn/linear_model/_coordinate_descent.py:531: ConvergenceWarning: Objective did not converge. You might want to increase the number of iterations. Duality gap: 994.50516298751, tolerance: 0.248915116655643\n",
      "  positive)\n",
      "/Library/Frameworks/Python.framework/Versions/3.7/lib/python3.7/site-packages/sklearn/linear_model/_coordinate_descent.py:531: ConvergenceWarning: Objective did not converge. You might want to increase the number of iterations. Duality gap: 986.840693237656, tolerance: 0.24778492824881893\n",
      "  positive)\n",
      "/Library/Frameworks/Python.framework/Versions/3.7/lib/python3.7/site-packages/sklearn/linear_model/_coordinate_descent.py:531: ConvergenceWarning: Objective did not converge. You might want to increase the number of iterations. Duality gap: 352.4978604115013, tolerance: 0.24346217784710536\n",
      "  positive)\n",
      "/Library/Frameworks/Python.framework/Versions/3.7/lib/python3.7/site-packages/sklearn/linear_model/_coordinate_descent.py:531: ConvergenceWarning: Objective did not converge. You might want to increase the number of iterations. Duality gap: 310.9346139497825, tolerance: 0.2442329022786841\n",
      "  positive)\n"
     ]
    },
    {
     "name": "stdout",
     "output_type": "stream",
     "text": [
      "training error for alpha 100.0: 5.385086269231296\n",
      "cross-validation error for alpha 100.0: 5.437186881184713\n"
     ]
    },
    {
     "name": "stderr",
     "output_type": "stream",
     "text": [
      "/Library/Frameworks/Python.framework/Versions/3.7/lib/python3.7/site-packages/sklearn/linear_model/_coordinate_descent.py:531: ConvergenceWarning: Objective did not converge. You might want to increase the number of iterations. Duality gap: 286.1248144778624, tolerance: 0.2405408422576316\n",
      "  positive)\n",
      "/Library/Frameworks/Python.framework/Versions/3.7/lib/python3.7/site-packages/sklearn/linear_model/_coordinate_descent.py:531: ConvergenceWarning: Objective did not converge. You might want to increase the number of iterations. Duality gap: 316.2097945430602, tolerance: 0.24509175627296587\n",
      "  positive)\n",
      "/Library/Frameworks/Python.framework/Versions/3.7/lib/python3.7/site-packages/sklearn/linear_model/_coordinate_descent.py:531: ConvergenceWarning: Objective did not converge. You might want to increase the number of iterations. Duality gap: 284.06542506874666, tolerance: 0.24548225488713915\n",
      "  positive)\n",
      "/Library/Frameworks/Python.framework/Versions/3.7/lib/python3.7/site-packages/sklearn/linear_model/_coordinate_descent.py:531: ConvergenceWarning: Objective did not converge. You might want to increase the number of iterations. Duality gap: 361.6033649336043, tolerance: 0.24583051998162725\n",
      "  positive)\n",
      "/Library/Frameworks/Python.framework/Versions/3.7/lib/python3.7/site-packages/sklearn/linear_model/_coordinate_descent.py:531: ConvergenceWarning: Objective did not converge. You might want to increase the number of iterations. Duality gap: 0.2423417642125969, tolerance: 0.2387733593291339\n",
      "  positive)\n",
      "/Library/Frameworks/Python.framework/Versions/3.7/lib/python3.7/site-packages/sklearn/linear_model/_coordinate_descent.py:531: ConvergenceWarning: Objective did not converge. You might want to increase the number of iterations. Duality gap: 408.8152409600965, tolerance: 0.24409724879107614\n",
      "  positive)\n"
     ]
    },
    {
     "name": "stdout",
     "output_type": "stream",
     "text": [
      "training error for alpha 1000.0: 5.7490783659686215\n",
      "cross-validation error for alpha 1000.0: 5.906584625279091\n"
     ]
    },
    {
     "name": "stderr",
     "output_type": "stream",
     "text": [
      "/Library/Frameworks/Python.framework/Versions/3.7/lib/python3.7/site-packages/sklearn/linear_model/_coordinate_descent.py:531: ConvergenceWarning: Objective did not converge. You might want to increase the number of iterations. Duality gap: 274.8770435287472, tolerance: 0.248915116655643\n",
      "  positive)\n",
      "/Library/Frameworks/Python.framework/Versions/3.7/lib/python3.7/site-packages/sklearn/linear_model/_coordinate_descent.py:531: ConvergenceWarning: Objective did not converge. You might want to increase the number of iterations. Duality gap: 284.9586604540732, tolerance: 0.24778492824881893\n",
      "  positive)\n"
     ]
    }
   ],
   "source": [
    "# Bootstrap first & then find the best regularization coefficient\n",
    "# Per Alex Spiride's comment on Ed, we will ignore the Bootstrap\n",
    "# your code here\n",
    "\n",
    "# Create two empty lists to store training, validation and cross-validation MSEs\n",
    "training_error, cross_validation_error = [],[]\n",
    "# Compute the polynomial features for the training sets\n",
    "# Per the following discussion on Ed, we set include_bias=False and leave fit_intercept as defaulted to True\n",
    "# https://us.edstem.org/courses/2332/discussion/139210\n",
    "x_poly_train = PolynomialFeatures(degree=maxdeg,include_bias=False).fit_transform(x_train.reshape(-1,1))\n",
    "    \n",
    "for i, alpha in enumerate(alphas):\n",
    "    # For each i, fit a ridge regression on training set\n",
    "    lasso = Lasso(alpha=alpha, max_iter=1e4)\n",
    "        \n",
    "    #Perform k-fold cross validation with k=10\n",
    "    mse_score = cross_validate(lasso,x_poly_train,y_train,cv=10,scoring='neg_mean_squared_error',return_train_score=True)\n",
    "\n",
    "    # Compute the training and cross-validation MSE and print\n",
    "    mse_train = np.mean(abs(mse_score['train_score']))\n",
    "    mse_cross = np.mean(abs(mse_score['test_score']))\n",
    "    print(\"training error \" + \"for alpha \" + str(alpha) +\": \" + str(mse_train))\n",
    "    print(\"cross-validation error \" + \"for alpha \" + str(alpha) +\": \" + str(mse_cross))\n",
    "                                       \n",
    "    # Append to list\n",
    "    training_error.append(mse_train)\n",
    "    cross_validation_error.append(mse_cross)\n",
    "# Note we still get ConvergenceWarning but per Mike Sedelmeyer's comment on Ed, these warnings are fine"
   ]
  },
  {
   "cell_type": "code",
   "execution_count": 42,
   "metadata": {},
   "outputs": [
    {
     "name": "stdout",
     "output_type": "stream",
     "text": [
      "The best alpha is: 0.01\n"
     ]
    }
   ],
   "source": [
    "# your code here\n",
    "#Store the previously selected values as best_alpha & print it.\n",
    "# Select which the mean of the k-fold validation MSE is the least\n",
    "min_mse = np.argmin(cross_validation_error)\n",
    "# Select the alpha for which the mean of the k-fold  𝑀𝑆𝐸  is the least.\n",
    "best_alpha = alphas[min_mse]\n",
    "print(\"The best alpha is: \" + str(best_alpha))"
   ]
  },
  {
   "cell_type": "markdown",
   "metadata": {
    "autograde": "6.2",
    "deletable": false,
    "editable": false
   },
   "source": [
    "<div class='exercise-r'>  \n",
    " \n",
    "**6.2** [10 pts] Find the most significant degrees.\n",
    " \n",
    " From the previous section, you will now have the `best_alpha` hyperparameter. Now, we will use this to find the most significant degrees over a given number of bootstraps. What we mean by the above is this:\n",
    " \n",
    " For each bootstrap of the data, you will get some degrees that are **significant** $(\\mid\\beta_i\\mid \\gt 0.1)$. You would like to see which degree coefficients are significant over several such iterations.\n",
    " \n",
    " As before, we use the `bacteria_train.csv` for cross validation.\n",
    " \n",
    " NOTE: You are free to experiment with the number of bootstraps.\n",
    " \n",
    " **Instructions**\n",
    " - Make a dictionary called `significant_degrees` to store count of degrees for each bootstrap\n",
    " - For each bootstrap:\n",
    " - Take a sample the dataframe with `frac=1`\n",
    " - Train a **Lasso** model with the `best_alpha` computed above.\n",
    " - Find the most significant polynomial coefficients using ($\\mid\\beta_i\\mid \\lt 0.1 $)\n",
    " - For each significant degree, update the count of that degree in `significant_degrees`\n",
    " - Plot the count of degrees for each bootstrap as a bar plot.\n",
    " \n",
    " \n",
    " #### Hints\n",
    " - Limit the maximum degree to 30.\n",
    " - Take at least three different values of alpha.\n",
    " - Use sklearn `cross_validate()` to perform cross validation.\n",
    " \n",
    " </div>"
   ]
  },
  {
   "cell_type": "code",
   "execution_count": 43,
   "metadata": {
    "deletable": false
   },
   "outputs": [
    {
     "name": "stderr",
     "output_type": "stream",
     "text": [
      "/Library/Frameworks/Python.framework/Versions/3.7/lib/python3.7/site-packages/sklearn/linear_model/_coordinate_descent.py:531: ConvergenceWarning: Objective did not converge. You might want to increase the number of iterations. Duality gap: 579.073160953799, tolerance: 0.2540338461323877\n",
      "  positive)\n",
      "/Library/Frameworks/Python.framework/Versions/3.7/lib/python3.7/site-packages/sklearn/linear_model/_coordinate_descent.py:531: ConvergenceWarning: Objective did not converge. You might want to increase the number of iterations. Duality gap: 590.3226769559204, tolerance: 0.27909043108132386\n",
      "  positive)\n",
      "/Library/Frameworks/Python.framework/Versions/3.7/lib/python3.7/site-packages/sklearn/linear_model/_coordinate_descent.py:531: ConvergenceWarning: Objective did not converge. You might want to increase the number of iterations. Duality gap: 532.8206811137084, tolerance: 0.2539457964770686\n",
      "  positive)\n",
      "/Library/Frameworks/Python.framework/Versions/3.7/lib/python3.7/site-packages/sklearn/linear_model/_coordinate_descent.py:531: ConvergenceWarning: Objective did not converge. You might want to increase the number of iterations. Duality gap: 572.2321341202567, tolerance: 0.29682557140614657\n",
      "  positive)\n",
      "/Library/Frameworks/Python.framework/Versions/3.7/lib/python3.7/site-packages/sklearn/linear_model/_coordinate_descent.py:531: ConvergenceWarning: Objective did not converge. You might want to increase the number of iterations. Duality gap: 629.3701248402327, tolerance: 0.2972663654316785\n",
      "  positive)\n",
      "/Library/Frameworks/Python.framework/Versions/3.7/lib/python3.7/site-packages/sklearn/linear_model/_coordinate_descent.py:531: ConvergenceWarning: Objective did not converge. You might want to increase the number of iterations. Duality gap: 573.9145162359729, tolerance: 0.26947931443877077\n",
      "  positive)\n",
      "/Library/Frameworks/Python.framework/Versions/3.7/lib/python3.7/site-packages/sklearn/linear_model/_coordinate_descent.py:531: ConvergenceWarning: Objective did not converge. You might want to increase the number of iterations. Duality gap: 600.8383933220921, tolerance: 0.2546652780330969\n",
      "  positive)\n",
      "/Library/Frameworks/Python.framework/Versions/3.7/lib/python3.7/site-packages/sklearn/linear_model/_coordinate_descent.py:531: ConvergenceWarning: Objective did not converge. You might want to increase the number of iterations. Duality gap: 522.2318431456345, tolerance: 0.2697654314713948\n",
      "  positive)\n",
      "/Library/Frameworks/Python.framework/Versions/3.7/lib/python3.7/site-packages/sklearn/linear_model/_coordinate_descent.py:531: ConvergenceWarning: Objective did not converge. You might want to increase the number of iterations. Duality gap: 489.363624553491, tolerance: 0.26100481498723405\n",
      "  positive)\n",
      "/Library/Frameworks/Python.framework/Versions/3.7/lib/python3.7/site-packages/sklearn/linear_model/_coordinate_descent.py:531: ConvergenceWarning: Objective did not converge. You might want to increase the number of iterations. Duality gap: 467.9073678608961, tolerance: 0.26020164850118205\n",
      "  positive)\n",
      "/Library/Frameworks/Python.framework/Versions/3.7/lib/python3.7/site-packages/sklearn/linear_model/_coordinate_descent.py:531: ConvergenceWarning: Objective did not converge. You might want to increase the number of iterations. Duality gap: 558.1482556115457, tolerance: 0.267116128691253\n",
      "  positive)\n",
      "/Library/Frameworks/Python.framework/Versions/3.7/lib/python3.7/site-packages/sklearn/linear_model/_coordinate_descent.py:531: ConvergenceWarning: Objective did not converge. You might want to increase the number of iterations. Duality gap: 567.7212007079413, tolerance: 0.2724085753182033\n",
      "  positive)\n",
      "/Library/Frameworks/Python.framework/Versions/3.7/lib/python3.7/site-packages/sklearn/linear_model/_coordinate_descent.py:531: ConvergenceWarning: Objective did not converge. You might want to increase the number of iterations. Duality gap: 536.4536975656364, tolerance: 0.27567722143451534\n",
      "  positive)\n",
      "/Library/Frameworks/Python.framework/Versions/3.7/lib/python3.7/site-packages/sklearn/linear_model/_coordinate_descent.py:531: ConvergenceWarning: Objective did not converge. You might want to increase the number of iterations. Duality gap: 536.1850792969508, tolerance: 0.26825987167281323\n",
      "  positive)\n",
      "/Library/Frameworks/Python.framework/Versions/3.7/lib/python3.7/site-packages/sklearn/linear_model/_coordinate_descent.py:531: ConvergenceWarning: Objective did not converge. You might want to increase the number of iterations. Duality gap: 597.533428753688, tolerance: 0.2815876205404256\n",
      "  positive)\n",
      "/Library/Frameworks/Python.framework/Versions/3.7/lib/python3.7/site-packages/sklearn/linear_model/_coordinate_descent.py:531: ConvergenceWarning: Objective did not converge. You might want to increase the number of iterations. Duality gap: 568.6216904377692, tolerance: 0.28142951511111114\n",
      "  positive)\n",
      "/Library/Frameworks/Python.framework/Versions/3.7/lib/python3.7/site-packages/sklearn/linear_model/_coordinate_descent.py:531: ConvergenceWarning: Objective did not converge. You might want to increase the number of iterations. Duality gap: 545.1682124446903, tolerance: 0.27690850881891255\n",
      "  positive)\n",
      "/Library/Frameworks/Python.framework/Versions/3.7/lib/python3.7/site-packages/sklearn/linear_model/_coordinate_descent.py:531: ConvergenceWarning: Objective did not converge. You might want to increase the number of iterations. Duality gap: 521.959337521779, tolerance: 0.2627880988345154\n",
      "  positive)\n",
      "/Library/Frameworks/Python.framework/Versions/3.7/lib/python3.7/site-packages/sklearn/linear_model/_coordinate_descent.py:531: ConvergenceWarning: Objective did not converge. You might want to increase the number of iterations. Duality gap: 538.0868224814185, tolerance: 0.2594446351295508\n",
      "  positive)\n",
      "/Library/Frameworks/Python.framework/Versions/3.7/lib/python3.7/site-packages/sklearn/linear_model/_coordinate_descent.py:531: ConvergenceWarning: Objective did not converge. You might want to increase the number of iterations. Duality gap: 567.26882204941, tolerance: 0.2814466358387707\n",
      "  positive)\n",
      "/Library/Frameworks/Python.framework/Versions/3.7/lib/python3.7/site-packages/sklearn/linear_model/_coordinate_descent.py:531: ConvergenceWarning: Objective did not converge. You might want to increase the number of iterations. Duality gap: 562.1981032728497, tolerance: 0.28304644202742324\n",
      "  positive)\n",
      "/Library/Frameworks/Python.framework/Versions/3.7/lib/python3.7/site-packages/sklearn/linear_model/_coordinate_descent.py:531: ConvergenceWarning: Objective did not converge. You might want to increase the number of iterations. Duality gap: 620.9027505780789, tolerance: 0.25942993048085106\n",
      "  positive)\n",
      "/Library/Frameworks/Python.framework/Versions/3.7/lib/python3.7/site-packages/sklearn/linear_model/_coordinate_descent.py:531: ConvergenceWarning: Objective did not converge. You might want to increase the number of iterations. Duality gap: 575.1317286808484, tolerance: 0.293005339772104\n",
      "  positive)\n",
      "/Library/Frameworks/Python.framework/Versions/3.7/lib/python3.7/site-packages/sklearn/linear_model/_coordinate_descent.py:531: ConvergenceWarning: Objective did not converge. You might want to increase the number of iterations. Duality gap: 498.78170985620676, tolerance: 0.2609101109692672\n",
      "  positive)\n",
      "/Library/Frameworks/Python.framework/Versions/3.7/lib/python3.7/site-packages/sklearn/linear_model/_coordinate_descent.py:531: ConvergenceWarning: Objective did not converge. You might want to increase the number of iterations. Duality gap: 488.0615543439607, tolerance: 0.25516328904302604\n",
      "  positive)\n",
      "/Library/Frameworks/Python.framework/Versions/3.7/lib/python3.7/site-packages/sklearn/linear_model/_coordinate_descent.py:531: ConvergenceWarning: Objective did not converge. You might want to increase the number of iterations. Duality gap: 530.8465073657862, tolerance: 0.24769606672955083\n",
      "  positive)\n",
      "/Library/Frameworks/Python.framework/Versions/3.7/lib/python3.7/site-packages/sklearn/linear_model/_coordinate_descent.py:531: ConvergenceWarning: Objective did not converge. You might want to increase the number of iterations. Duality gap: 530.3225165075368, tolerance: 0.2689130027323878\n",
      "  positive)\n",
      "/Library/Frameworks/Python.framework/Versions/3.7/lib/python3.7/site-packages/sklearn/linear_model/_coordinate_descent.py:531: ConvergenceWarning: Objective did not converge. You might want to increase the number of iterations. Duality gap: 507.365428354272, tolerance: 0.26338220245862887\n",
      "  positive)\n",
      "/Library/Frameworks/Python.framework/Versions/3.7/lib/python3.7/site-packages/sklearn/linear_model/_coordinate_descent.py:531: ConvergenceWarning: Objective did not converge. You might want to increase the number of iterations. Duality gap: 563.4058336431341, tolerance: 0.3012384398425532\n",
      "  positive)\n",
      "/Library/Frameworks/Python.framework/Versions/3.7/lib/python3.7/site-packages/sklearn/linear_model/_coordinate_descent.py:531: ConvergenceWarning: Objective did not converge. You might want to increase the number of iterations. Duality gap: 536.612850382992, tolerance: 0.27682745741891257\n",
      "  positive)\n",
      "/Library/Frameworks/Python.framework/Versions/3.7/lib/python3.7/site-packages/sklearn/linear_model/_coordinate_descent.py:531: ConvergenceWarning: Objective did not converge. You might want to increase the number of iterations. Duality gap: 575.6204087742766, tolerance: 0.2533494073650119\n",
      "  positive)\n",
      "/Library/Frameworks/Python.framework/Versions/3.7/lib/python3.7/site-packages/sklearn/linear_model/_coordinate_descent.py:531: ConvergenceWarning: Objective did not converge. You might want to increase the number of iterations. Duality gap: 541.2945954489345, tolerance: 0.2633500158\n",
      "  positive)\n",
      "/Library/Frameworks/Python.framework/Versions/3.7/lib/python3.7/site-packages/sklearn/linear_model/_coordinate_descent.py:531: ConvergenceWarning: Objective did not converge. You might want to increase the number of iterations. Duality gap: 566.6456764892669, tolerance: 0.2617657963323877\n",
      "  positive)\n",
      "/Library/Frameworks/Python.framework/Versions/3.7/lib/python3.7/site-packages/sklearn/linear_model/_coordinate_descent.py:531: ConvergenceWarning: Objective did not converge. You might want to increase the number of iterations. Duality gap: 563.6201945059058, tolerance: 0.25379000419621756\n",
      "  positive)\n",
      "/Library/Frameworks/Python.framework/Versions/3.7/lib/python3.7/site-packages/sklearn/linear_model/_coordinate_descent.py:531: ConvergenceWarning: Objective did not converge. You might want to increase the number of iterations. Duality gap: 533.688785050034, tolerance: 0.26293077263593373\n",
      "  positive)\n",
      "/Library/Frameworks/Python.framework/Versions/3.7/lib/python3.7/site-packages/sklearn/linear_model/_coordinate_descent.py:531: ConvergenceWarning: Objective did not converge. You might want to increase the number of iterations. Duality gap: 565.5093656967583, tolerance: 0.2633127711659575\n",
      "  positive)\n",
      "/Library/Frameworks/Python.framework/Versions/3.7/lib/python3.7/site-packages/sklearn/linear_model/_coordinate_descent.py:531: ConvergenceWarning: Objective did not converge. You might want to increase the number of iterations. Duality gap: 546.3305653837065, tolerance: 0.2738740259522459\n",
      "  positive)\n",
      "/Library/Frameworks/Python.framework/Versions/3.7/lib/python3.7/site-packages/sklearn/linear_model/_coordinate_descent.py:531: ConvergenceWarning: Objective did not converge. You might want to increase the number of iterations. Duality gap: 532.8281005957066, tolerance: 0.2894465170387707\n",
      "  positive)\n",
      "/Library/Frameworks/Python.framework/Versions/3.7/lib/python3.7/site-packages/sklearn/linear_model/_coordinate_descent.py:531: ConvergenceWarning: Objective did not converge. You might want to increase the number of iterations. Duality gap: 522.8610147459167, tolerance: 0.2706669190189125\n",
      "  positive)\n"
     ]
    },
    {
     "name": "stderr",
     "output_type": "stream",
     "text": [
      "/Library/Frameworks/Python.framework/Versions/3.7/lib/python3.7/site-packages/sklearn/linear_model/_coordinate_descent.py:531: ConvergenceWarning: Objective did not converge. You might want to increase the number of iterations. Duality gap: 516.0411186807966, tolerance: 0.25920856349125293\n",
      "  positive)\n",
      "/Library/Frameworks/Python.framework/Versions/3.7/lib/python3.7/site-packages/sklearn/linear_model/_coordinate_descent.py:531: ConvergenceWarning: Objective did not converge. You might want to increase the number of iterations. Duality gap: 554.3545575912349, tolerance: 0.281299938420331\n",
      "  positive)\n",
      "/Library/Frameworks/Python.framework/Versions/3.7/lib/python3.7/site-packages/sklearn/linear_model/_coordinate_descent.py:531: ConvergenceWarning: Objective did not converge. You might want to increase the number of iterations. Duality gap: 434.0990354548025, tolerance: 0.24003896096926716\n",
      "  positive)\n",
      "/Library/Frameworks/Python.framework/Versions/3.7/lib/python3.7/site-packages/sklearn/linear_model/_coordinate_descent.py:531: ConvergenceWarning: Objective did not converge. You might want to increase the number of iterations. Duality gap: 534.3061645432155, tolerance: 0.28094496492671395\n",
      "  positive)\n",
      "/Library/Frameworks/Python.framework/Versions/3.7/lib/python3.7/site-packages/sklearn/linear_model/_coordinate_descent.py:531: ConvergenceWarning: Objective did not converge. You might want to increase the number of iterations. Duality gap: 575.5774820018854, tolerance: 0.2688711786212766\n",
      "  positive)\n",
      "/Library/Frameworks/Python.framework/Versions/3.7/lib/python3.7/site-packages/sklearn/linear_model/_coordinate_descent.py:531: ConvergenceWarning: Objective did not converge. You might want to increase the number of iterations. Duality gap: 526.3487234233896, tolerance: 0.27776098430118207\n",
      "  positive)\n",
      "/Library/Frameworks/Python.framework/Versions/3.7/lib/python3.7/site-packages/sklearn/linear_model/_coordinate_descent.py:531: ConvergenceWarning: Objective did not converge. You might want to increase the number of iterations. Duality gap: 526.5245265555452, tolerance: 0.2652183311659575\n",
      "  positive)\n",
      "/Library/Frameworks/Python.framework/Versions/3.7/lib/python3.7/site-packages/sklearn/linear_model/_coordinate_descent.py:531: ConvergenceWarning: Objective did not converge. You might want to increase the number of iterations. Duality gap: 630.3925464191163, tolerance: 0.2675009455423169\n",
      "  positive)\n",
      "/Library/Frameworks/Python.framework/Versions/3.7/lib/python3.7/site-packages/sklearn/linear_model/_coordinate_descent.py:531: ConvergenceWarning: Objective did not converge. You might want to increase the number of iterations. Duality gap: 549.5598759558575, tolerance: 0.27575915117494093\n",
      "  positive)\n",
      "/Library/Frameworks/Python.framework/Versions/3.7/lib/python3.7/site-packages/sklearn/linear_model/_coordinate_descent.py:531: ConvergenceWarning: Objective did not converge. You might want to increase the number of iterations. Duality gap: 606.7465874427568, tolerance: 0.2877227132416076\n",
      "  positive)\n",
      "/Library/Frameworks/Python.framework/Versions/3.7/lib/python3.7/site-packages/sklearn/linear_model/_coordinate_descent.py:531: ConvergenceWarning: Objective did not converge. You might want to increase the number of iterations. Duality gap: 644.2055076713417, tolerance: 0.28099746758487\n",
      "  positive)\n",
      "/Library/Frameworks/Python.framework/Versions/3.7/lib/python3.7/site-packages/sklearn/linear_model/_coordinate_descent.py:531: ConvergenceWarning: Objective did not converge. You might want to increase the number of iterations. Duality gap: 545.0853806908978, tolerance: 0.28206621112671404\n",
      "  positive)\n",
      "/Library/Frameworks/Python.framework/Versions/3.7/lib/python3.7/site-packages/sklearn/linear_model/_coordinate_descent.py:531: ConvergenceWarning: Objective did not converge. You might want to increase the number of iterations. Duality gap: 535.4561278383195, tolerance: 0.27206673570969275\n",
      "  positive)\n",
      "/Library/Frameworks/Python.framework/Versions/3.7/lib/python3.7/site-packages/sklearn/linear_model/_coordinate_descent.py:531: ConvergenceWarning: Objective did not converge. You might want to increase the number of iterations. Duality gap: 623.0803645836947, tolerance: 0.2914407945423168\n",
      "  positive)\n",
      "/Library/Frameworks/Python.framework/Versions/3.7/lib/python3.7/site-packages/sklearn/linear_model/_coordinate_descent.py:531: ConvergenceWarning: Objective did not converge. You might want to increase the number of iterations. Duality gap: 593.7772716165263, tolerance: 0.24349098832765964\n",
      "  positive)\n",
      "/Library/Frameworks/Python.framework/Versions/3.7/lib/python3.7/site-packages/sklearn/linear_model/_coordinate_descent.py:531: ConvergenceWarning: Objective did not converge. You might want to increase the number of iterations. Duality gap: 560.6292957500832, tolerance: 0.2883039284345154\n",
      "  positive)\n",
      "/Library/Frameworks/Python.framework/Versions/3.7/lib/python3.7/site-packages/sklearn/linear_model/_coordinate_descent.py:531: ConvergenceWarning: Objective did not converge. You might want to increase the number of iterations. Duality gap: 603.272874877442, tolerance: 0.284328139293617\n",
      "  positive)\n",
      "/Library/Frameworks/Python.framework/Versions/3.7/lib/python3.7/site-packages/sklearn/linear_model/_coordinate_descent.py:531: ConvergenceWarning: Objective did not converge. You might want to increase the number of iterations. Duality gap: 512.7357297582756, tolerance: 0.26221759869408984\n",
      "  positive)\n",
      "/Library/Frameworks/Python.framework/Versions/3.7/lib/python3.7/site-packages/sklearn/linear_model/_coordinate_descent.py:531: ConvergenceWarning: Objective did not converge. You might want to increase the number of iterations. Duality gap: 535.4627942202461, tolerance: 0.2638079902855793\n",
      "  positive)\n",
      "/Library/Frameworks/Python.framework/Versions/3.7/lib/python3.7/site-packages/sklearn/linear_model/_coordinate_descent.py:531: ConvergenceWarning: Objective did not converge. You might want to increase the number of iterations. Duality gap: 522.3112824490318, tolerance: 0.2553437682212767\n",
      "  positive)\n",
      "/Library/Frameworks/Python.framework/Versions/3.7/lib/python3.7/site-packages/sklearn/linear_model/_coordinate_descent.py:531: ConvergenceWarning: Objective did not converge. You might want to increase the number of iterations. Duality gap: 589.1258117182422, tolerance: 0.27003896728132387\n",
      "  positive)\n",
      "/Library/Frameworks/Python.framework/Versions/3.7/lib/python3.7/site-packages/sklearn/linear_model/_coordinate_descent.py:531: ConvergenceWarning: Objective did not converge. You might want to increase the number of iterations. Duality gap: 516.3708565317569, tolerance: 0.2488952526345154\n",
      "  positive)\n",
      "/Library/Frameworks/Python.framework/Versions/3.7/lib/python3.7/site-packages/sklearn/linear_model/_coordinate_descent.py:531: ConvergenceWarning: Objective did not converge. You might want to increase the number of iterations. Duality gap: 585.9315082459303, tolerance: 0.27343320436170204\n",
      "  positive)\n",
      "/Library/Frameworks/Python.framework/Versions/3.7/lib/python3.7/site-packages/sklearn/linear_model/_coordinate_descent.py:531: ConvergenceWarning: Objective did not converge. You might want to increase the number of iterations. Duality gap: 639.1834473675501, tolerance: 0.26530419354373524\n",
      "  positive)\n",
      "/Library/Frameworks/Python.framework/Versions/3.7/lib/python3.7/site-packages/sklearn/linear_model/_coordinate_descent.py:531: ConvergenceWarning: Objective did not converge. You might want to increase the number of iterations. Duality gap: 465.5147781420757, tolerance: 0.2733796893234043\n",
      "  positive)\n",
      "/Library/Frameworks/Python.framework/Versions/3.7/lib/python3.7/site-packages/sklearn/linear_model/_coordinate_descent.py:531: ConvergenceWarning: Objective did not converge. You might want to increase the number of iterations. Duality gap: 557.3871283180783, tolerance: 0.27602172426004734\n",
      "  positive)\n",
      "/Library/Frameworks/Python.framework/Versions/3.7/lib/python3.7/site-packages/sklearn/linear_model/_coordinate_descent.py:531: ConvergenceWarning: Objective did not converge. You might want to increase the number of iterations. Duality gap: 487.0087558456991, tolerance: 0.27519311534893615\n",
      "  positive)\n",
      "/Library/Frameworks/Python.framework/Versions/3.7/lib/python3.7/site-packages/sklearn/linear_model/_coordinate_descent.py:531: ConvergenceWarning: Objective did not converge. You might want to increase the number of iterations. Duality gap: 507.2574265346209, tolerance: 0.27554626743593386\n",
      "  positive)\n",
      "/Library/Frameworks/Python.framework/Versions/3.7/lib/python3.7/site-packages/sklearn/linear_model/_coordinate_descent.py:531: ConvergenceWarning: Objective did not converge. You might want to increase the number of iterations. Duality gap: 506.29115776673007, tolerance: 0.2891616013026005\n",
      "  positive)\n"
     ]
    },
    {
     "name": "stderr",
     "output_type": "stream",
     "text": [
      "/Library/Frameworks/Python.framework/Versions/3.7/lib/python3.7/site-packages/sklearn/linear_model/_coordinate_descent.py:531: ConvergenceWarning: Objective did not converge. You might want to increase the number of iterations. Duality gap: 488.2741208503006, tolerance: 0.28049137290969267\n",
      "  positive)\n",
      "/Library/Frameworks/Python.framework/Versions/3.7/lib/python3.7/site-packages/sklearn/linear_model/_coordinate_descent.py:531: ConvergenceWarning: Objective did not converge. You might want to increase the number of iterations. Duality gap: 478.8074808224684, tolerance: 0.2685156789096927\n",
      "  positive)\n",
      "/Library/Frameworks/Python.framework/Versions/3.7/lib/python3.7/site-packages/sklearn/linear_model/_coordinate_descent.py:531: ConvergenceWarning: Objective did not converge. You might want to increase the number of iterations. Duality gap: 630.5655305983895, tolerance: 0.2907427030869977\n",
      "  positive)\n",
      "/Library/Frameworks/Python.framework/Versions/3.7/lib/python3.7/site-packages/sklearn/linear_model/_coordinate_descent.py:531: ConvergenceWarning: Objective did not converge. You might want to increase the number of iterations. Duality gap: 485.6039542830612, tolerance: 0.2690106866345154\n",
      "  positive)\n",
      "/Library/Frameworks/Python.framework/Versions/3.7/lib/python3.7/site-packages/sklearn/linear_model/_coordinate_descent.py:531: ConvergenceWarning: Objective did not converge. You might want to increase the number of iterations. Duality gap: 520.4373162195426, tolerance: 0.25700315069408985\n",
      "  positive)\n",
      "/Library/Frameworks/Python.framework/Versions/3.7/lib/python3.7/site-packages/sklearn/linear_model/_coordinate_descent.py:531: ConvergenceWarning: Objective did not converge. You might want to increase the number of iterations. Duality gap: 537.5024104313853, tolerance: 0.2399019132\n",
      "  positive)\n",
      "/Library/Frameworks/Python.framework/Versions/3.7/lib/python3.7/site-packages/sklearn/linear_model/_coordinate_descent.py:531: ConvergenceWarning: Objective did not converge. You might want to increase the number of iterations. Duality gap: 601.7405746513435, tolerance: 0.30383719267565007\n",
      "  positive)\n",
      "/Library/Frameworks/Python.framework/Versions/3.7/lib/python3.7/site-packages/sklearn/linear_model/_coordinate_descent.py:531: ConvergenceWarning: Objective did not converge. You might want to increase the number of iterations. Duality gap: 566.0773664803456, tolerance: 0.2635001575437353\n",
      "  positive)\n",
      "/Library/Frameworks/Python.framework/Versions/3.7/lib/python3.7/site-packages/sklearn/linear_model/_coordinate_descent.py:531: ConvergenceWarning: Objective did not converge. You might want to increase the number of iterations. Duality gap: 584.0512156606636, tolerance: 0.27113158124018916\n",
      "  positive)\n",
      "/Library/Frameworks/Python.framework/Versions/3.7/lib/python3.7/site-packages/sklearn/linear_model/_coordinate_descent.py:531: ConvergenceWarning: Objective did not converge. You might want to increase the number of iterations. Duality gap: 513.5734223880752, tolerance: 0.26661486194042555\n",
      "  positive)\n",
      "/Library/Frameworks/Python.framework/Versions/3.7/lib/python3.7/site-packages/sklearn/linear_model/_coordinate_descent.py:531: ConvergenceWarning: Objective did not converge. You might want to increase the number of iterations. Duality gap: 559.9799507685153, tolerance: 0.2871699765763593\n",
      "  positive)\n",
      "/Library/Frameworks/Python.framework/Versions/3.7/lib/python3.7/site-packages/sklearn/linear_model/_coordinate_descent.py:531: ConvergenceWarning: Objective did not converge. You might want to increase the number of iterations. Duality gap: 520.4974946577477, tolerance: 0.27679459956075647\n",
      "  positive)\n",
      "/Library/Frameworks/Python.framework/Versions/3.7/lib/python3.7/site-packages/sklearn/linear_model/_coordinate_descent.py:531: ConvergenceWarning: Objective did not converge. You might want to increase the number of iterations. Duality gap: 522.7985381326391, tolerance: 0.28805321728510636\n",
      "  positive)\n",
      "/Library/Frameworks/Python.framework/Versions/3.7/lib/python3.7/site-packages/sklearn/linear_model/_coordinate_descent.py:531: ConvergenceWarning: Objective did not converge. You might want to increase the number of iterations. Duality gap: 544.3787586251234, tolerance: 0.2723185459437353\n",
      "  positive)\n",
      "/Library/Frameworks/Python.framework/Versions/3.7/lib/python3.7/site-packages/sklearn/linear_model/_coordinate_descent.py:531: ConvergenceWarning: Objective did not converge. You might want to increase the number of iterations. Duality gap: 548.6136183659914, tolerance: 0.2639607371744681\n",
      "  positive)\n",
      "/Library/Frameworks/Python.framework/Versions/3.7/lib/python3.7/site-packages/sklearn/linear_model/_coordinate_descent.py:531: ConvergenceWarning: Objective did not converge. You might want to increase the number of iterations. Duality gap: 507.4469205882391, tolerance: 0.2655501501252955\n",
      "  positive)\n",
      "/Library/Frameworks/Python.framework/Versions/3.7/lib/python3.7/site-packages/sklearn/linear_model/_coordinate_descent.py:531: ConvergenceWarning: Objective did not converge. You might want to increase the number of iterations. Duality gap: 571.7404674194122, tolerance: 0.2731730485319149\n",
      "  positive)\n",
      "/Library/Frameworks/Python.framework/Versions/3.7/lib/python3.7/site-packages/sklearn/linear_model/_coordinate_descent.py:531: ConvergenceWarning: Objective did not converge. You might want to increase the number of iterations. Duality gap: 592.4342549779714, tolerance: 0.27298619857494094\n",
      "  positive)\n",
      "/Library/Frameworks/Python.framework/Versions/3.7/lib/python3.7/site-packages/sklearn/linear_model/_coordinate_descent.py:531: ConvergenceWarning: Objective did not converge. You might want to increase the number of iterations. Duality gap: 640.1072153453205, tolerance: 0.27124052476075655\n",
      "  positive)\n",
      "/Library/Frameworks/Python.framework/Versions/3.7/lib/python3.7/site-packages/sklearn/linear_model/_coordinate_descent.py:531: ConvergenceWarning: Objective did not converge. You might want to increase the number of iterations. Duality gap: 553.1845973543531, tolerance: 0.2674518185617022\n",
      "  positive)\n",
      "/Library/Frameworks/Python.framework/Versions/3.7/lib/python3.7/site-packages/sklearn/linear_model/_coordinate_descent.py:531: ConvergenceWarning: Objective did not converge. You might want to increase the number of iterations. Duality gap: 483.03213010669793, tolerance: 0.24878465950543738\n",
      "  positive)\n",
      "/Library/Frameworks/Python.framework/Versions/3.7/lib/python3.7/site-packages/sklearn/linear_model/_coordinate_descent.py:531: ConvergenceWarning: Objective did not converge. You might want to increase the number of iterations. Duality gap: 590.3724166528341, tolerance: 0.29363660456926727\n",
      "  positive)\n",
      "/Library/Frameworks/Python.framework/Versions/3.7/lib/python3.7/site-packages/sklearn/linear_model/_coordinate_descent.py:531: ConvergenceWarning: Objective did not converge. You might want to increase the number of iterations. Duality gap: 487.45165839289916, tolerance: 0.25078354332671393\n",
      "  positive)\n",
      "/Library/Frameworks/Python.framework/Versions/3.7/lib/python3.7/site-packages/sklearn/linear_model/_coordinate_descent.py:531: ConvergenceWarning: Objective did not converge. You might want to increase the number of iterations. Duality gap: 591.2194822210715, tolerance: 0.28425266897021273\n",
      "  positive)\n",
      "/Library/Frameworks/Python.framework/Versions/3.7/lib/python3.7/site-packages/sklearn/linear_model/_coordinate_descent.py:531: ConvergenceWarning: Objective did not converge. You might want to increase the number of iterations. Duality gap: 551.4869512898207, tolerance: 0.2579466211735225\n",
      "  positive)\n",
      "/Library/Frameworks/Python.framework/Versions/3.7/lib/python3.7/site-packages/sklearn/linear_model/_coordinate_descent.py:531: ConvergenceWarning: Objective did not converge. You might want to increase the number of iterations. Duality gap: 490.66587046371274, tolerance: 0.2621876283550828\n",
      "  positive)\n",
      "/Library/Frameworks/Python.framework/Versions/3.7/lib/python3.7/site-packages/sklearn/linear_model/_coordinate_descent.py:531: ConvergenceWarning: Objective did not converge. You might want to increase the number of iterations. Duality gap: 548.8980746636302, tolerance: 0.2873028136756502\n",
      "  positive)\n",
      "/Library/Frameworks/Python.framework/Versions/3.7/lib/python3.7/site-packages/sklearn/linear_model/_coordinate_descent.py:531: ConvergenceWarning: Objective did not converge. You might want to increase the number of iterations. Duality gap: 510.16447960912546, tolerance: 0.27653775621040183\n",
      "  positive)\n",
      "/Library/Frameworks/Python.framework/Versions/3.7/lib/python3.7/site-packages/sklearn/linear_model/_coordinate_descent.py:531: ConvergenceWarning: Objective did not converge. You might want to increase the number of iterations. Duality gap: 531.5569178513408, tolerance: 0.25954254368557916\n",
      "  positive)\n",
      "/Library/Frameworks/Python.framework/Versions/3.7/lib/python3.7/site-packages/sklearn/linear_model/_coordinate_descent.py:531: ConvergenceWarning: Objective did not converge. You might want to increase the number of iterations. Duality gap: 429.10667110853484, tolerance: 0.26953888361891254\n",
      "  positive)\n",
      "/Library/Frameworks/Python.framework/Versions/3.7/lib/python3.7/site-packages/sklearn/linear_model/_coordinate_descent.py:531: ConvergenceWarning: Objective did not converge. You might want to increase the number of iterations. Duality gap: 537.0179515532699, tolerance: 0.2848446985267139\n",
      "  positive)\n",
      "/Library/Frameworks/Python.framework/Versions/3.7/lib/python3.7/site-packages/sklearn/linear_model/_coordinate_descent.py:531: ConvergenceWarning: Objective did not converge. You might want to increase the number of iterations. Duality gap: 591.3800043601797, tolerance: 0.2732838954430261\n",
      "  positive)\n",
      "/Library/Frameworks/Python.framework/Versions/3.7/lib/python3.7/site-packages/sklearn/linear_model/_coordinate_descent.py:531: ConvergenceWarning: Objective did not converge. You might want to increase the number of iterations. Duality gap: 614.638918916379, tolerance: 0.2636792393829787\n",
      "  positive)\n"
     ]
    },
    {
     "name": "stderr",
     "output_type": "stream",
     "text": [
      "/Library/Frameworks/Python.framework/Versions/3.7/lib/python3.7/site-packages/sklearn/linear_model/_coordinate_descent.py:531: ConvergenceWarning: Objective did not converge. You might want to increase the number of iterations. Duality gap: 537.3392712752544, tolerance: 0.2811762585990544\n",
      "  positive)\n",
      "/Library/Frameworks/Python.framework/Versions/3.7/lib/python3.7/site-packages/sklearn/linear_model/_coordinate_descent.py:531: ConvergenceWarning: Objective did not converge. You might want to increase the number of iterations. Duality gap: 502.41442309664274, tolerance: 0.2776680002638298\n",
      "  positive)\n",
      "/Library/Frameworks/Python.framework/Versions/3.7/lib/python3.7/site-packages/sklearn/linear_model/_coordinate_descent.py:531: ConvergenceWarning: Objective did not converge. You might want to increase the number of iterations. Duality gap: 526.2879908074233, tolerance: 0.26063520086288416\n",
      "  positive)\n",
      "/Library/Frameworks/Python.framework/Versions/3.7/lib/python3.7/site-packages/sklearn/linear_model/_coordinate_descent.py:531: ConvergenceWarning: Objective did not converge. You might want to increase the number of iterations. Duality gap: 520.7980222250667, tolerance: 0.2440588610430261\n",
      "  positive)\n",
      "/Library/Frameworks/Python.framework/Versions/3.7/lib/python3.7/site-packages/sklearn/linear_model/_coordinate_descent.py:531: ConvergenceWarning: Objective did not converge. You might want to increase the number of iterations. Duality gap: 452.02519646475486, tolerance: 0.2555963863777778\n",
      "  positive)\n",
      "/Library/Frameworks/Python.framework/Versions/3.7/lib/python3.7/site-packages/sklearn/linear_model/_coordinate_descent.py:531: ConvergenceWarning: Objective did not converge. You might want to increase the number of iterations. Duality gap: 468.37577963385877, tolerance: 0.2780224801664302\n",
      "  positive)\n",
      "/Library/Frameworks/Python.framework/Versions/3.7/lib/python3.7/site-packages/sklearn/linear_model/_coordinate_descent.py:531: ConvergenceWarning: Objective did not converge. You might want to increase the number of iterations. Duality gap: 566.7598951883206, tolerance: 0.24890786950118204\n",
      "  positive)\n",
      "/Library/Frameworks/Python.framework/Versions/3.7/lib/python3.7/site-packages/sklearn/linear_model/_coordinate_descent.py:531: ConvergenceWarning: Objective did not converge. You might want to increase the number of iterations. Duality gap: 479.5264151885426, tolerance: 0.28861471608132383\n",
      "  positive)\n",
      "/Library/Frameworks/Python.framework/Versions/3.7/lib/python3.7/site-packages/sklearn/linear_model/_coordinate_descent.py:531: ConvergenceWarning: Objective did not converge. You might want to increase the number of iterations. Duality gap: 517.8681488053287, tolerance: 0.28656006217021285\n",
      "  positive)\n",
      "/Library/Frameworks/Python.framework/Versions/3.7/lib/python3.7/site-packages/sklearn/linear_model/_coordinate_descent.py:531: ConvergenceWarning: Objective did not converge. You might want to increase the number of iterations. Duality gap: 494.60477776712764, tolerance: 0.2690191673522459\n",
      "  positive)\n",
      "/Library/Frameworks/Python.framework/Versions/3.7/lib/python3.7/site-packages/sklearn/linear_model/_coordinate_descent.py:531: ConvergenceWarning: Objective did not converge. You might want to increase the number of iterations. Duality gap: 450.44335443690227, tolerance: 0.26732564936075653\n",
      "  positive)\n",
      "/Library/Frameworks/Python.framework/Versions/3.7/lib/python3.7/site-packages/sklearn/linear_model/_coordinate_descent.py:531: ConvergenceWarning: Objective did not converge. You might want to increase the number of iterations. Duality gap: 605.8109727484107, tolerance: 0.26994811169125305\n",
      "  positive)\n",
      "/Library/Frameworks/Python.framework/Versions/3.7/lib/python3.7/site-packages/sklearn/linear_model/_coordinate_descent.py:531: ConvergenceWarning: Objective did not converge. You might want to increase the number of iterations. Duality gap: 429.8202928617726, tolerance: 0.28344953766004727\n",
      "  positive)\n",
      "/Library/Frameworks/Python.framework/Versions/3.7/lib/python3.7/site-packages/sklearn/linear_model/_coordinate_descent.py:531: ConvergenceWarning: Objective did not converge. You might want to increase the number of iterations. Duality gap: 496.3335689630489, tolerance: 0.2683793178468086\n",
      "  positive)\n",
      "/Library/Frameworks/Python.framework/Versions/3.7/lib/python3.7/site-packages/sklearn/linear_model/_coordinate_descent.py:531: ConvergenceWarning: Objective did not converge. You might want to increase the number of iterations. Duality gap: 487.75239172244045, tolerance: 0.2790159753957447\n",
      "  positive)\n",
      "/Library/Frameworks/Python.framework/Versions/3.7/lib/python3.7/site-packages/sklearn/linear_model/_coordinate_descent.py:531: ConvergenceWarning: Objective did not converge. You might want to increase the number of iterations. Duality gap: 618.2639027598773, tolerance: 0.2714042182869977\n",
      "  positive)\n",
      "/Library/Frameworks/Python.framework/Versions/3.7/lib/python3.7/site-packages/sklearn/linear_model/_coordinate_descent.py:531: ConvergenceWarning: Objective did not converge. You might want to increase the number of iterations. Duality gap: 519.721901673045, tolerance: 0.26825968936595745\n",
      "  positive)\n",
      "/Library/Frameworks/Python.framework/Versions/3.7/lib/python3.7/site-packages/sklearn/linear_model/_coordinate_descent.py:531: ConvergenceWarning: Objective did not converge. You might want to increase the number of iterations. Duality gap: 495.2794093842106, tolerance: 0.2560638530425533\n",
      "  positive)\n",
      "/Library/Frameworks/Python.framework/Versions/3.7/lib/python3.7/site-packages/sklearn/linear_model/_coordinate_descent.py:531: ConvergenceWarning: Objective did not converge. You might want to increase the number of iterations. Duality gap: 571.5953016339336, tolerance: 0.28646073177352244\n",
      "  positive)\n",
      "/Library/Frameworks/Python.framework/Versions/3.7/lib/python3.7/site-packages/sklearn/linear_model/_coordinate_descent.py:531: ConvergenceWarning: Objective did not converge. You might want to increase the number of iterations. Duality gap: 595.530601859679, tolerance: 0.2857499387106383\n",
      "  positive)\n",
      "/Library/Frameworks/Python.framework/Versions/3.7/lib/python3.7/site-packages/sklearn/linear_model/_coordinate_descent.py:531: ConvergenceWarning: Objective did not converge. You might want to increase the number of iterations. Duality gap: 560.834801955074, tolerance: 0.26556728955508274\n",
      "  positive)\n",
      "/Library/Frameworks/Python.framework/Versions/3.7/lib/python3.7/site-packages/sklearn/linear_model/_coordinate_descent.py:531: ConvergenceWarning: Objective did not converge. You might want to increase the number of iterations. Duality gap: 513.8126373926236, tolerance: 0.23748441279905433\n",
      "  positive)\n",
      "/Library/Frameworks/Python.framework/Versions/3.7/lib/python3.7/site-packages/sklearn/linear_model/_coordinate_descent.py:531: ConvergenceWarning: Objective did not converge. You might want to increase the number of iterations. Duality gap: 588.4364190037478, tolerance: 0.2839378130387708\n",
      "  positive)\n",
      "/Library/Frameworks/Python.framework/Versions/3.7/lib/python3.7/site-packages/sklearn/linear_model/_coordinate_descent.py:531: ConvergenceWarning: Objective did not converge. You might want to increase the number of iterations. Duality gap: 505.7897946256721, tolerance: 0.2595297601323877\n",
      "  positive)\n",
      "/Library/Frameworks/Python.framework/Versions/3.7/lib/python3.7/site-packages/sklearn/linear_model/_coordinate_descent.py:531: ConvergenceWarning: Objective did not converge. You might want to increase the number of iterations. Duality gap: 490.9498162975773, tolerance: 0.26980725314373516\n",
      "  positive)\n",
      "/Library/Frameworks/Python.framework/Versions/3.7/lib/python3.7/site-packages/sklearn/linear_model/_coordinate_descent.py:531: ConvergenceWarning: Objective did not converge. You might want to increase the number of iterations. Duality gap: 545.4354585775178, tolerance: 0.2692253403267139\n",
      "  positive)\n",
      "/Library/Frameworks/Python.framework/Versions/3.7/lib/python3.7/site-packages/sklearn/linear_model/_coordinate_descent.py:531: ConvergenceWarning: Objective did not converge. You might want to increase the number of iterations. Duality gap: 505.5525918456651, tolerance: 0.24662610446382985\n",
      "  positive)\n",
      "/Library/Frameworks/Python.framework/Versions/3.7/lib/python3.7/site-packages/sklearn/linear_model/_coordinate_descent.py:531: ConvergenceWarning: Objective did not converge. You might want to increase the number of iterations. Duality gap: 515.8286573216905, tolerance: 0.2774309399550828\n",
      "  positive)\n",
      "/Library/Frameworks/Python.framework/Versions/3.7/lib/python3.7/site-packages/sklearn/linear_model/_coordinate_descent.py:531: ConvergenceWarning: Objective did not converge. You might want to increase the number of iterations. Duality gap: 530.3764106267341, tolerance: 0.2657282967957447\n",
      "  positive)\n",
      "/Library/Frameworks/Python.framework/Versions/3.7/lib/python3.7/site-packages/sklearn/linear_model/_coordinate_descent.py:531: ConvergenceWarning: Objective did not converge. You might want to increase the number of iterations. Duality gap: 573.1493328182445, tolerance: 0.2912288094061466\n",
      "  positive)\n",
      "/Library/Frameworks/Python.framework/Versions/3.7/lib/python3.7/site-packages/sklearn/linear_model/_coordinate_descent.py:531: ConvergenceWarning: Objective did not converge. You might want to increase the number of iterations. Duality gap: 493.63489055024417, tolerance: 0.2821749444316785\n",
      "  positive)\n"
     ]
    },
    {
     "name": "stderr",
     "output_type": "stream",
     "text": [
      "/Library/Frameworks/Python.framework/Versions/3.7/lib/python3.7/site-packages/sklearn/linear_model/_coordinate_descent.py:531: ConvergenceWarning: Objective did not converge. You might want to increase the number of iterations. Duality gap: 634.412452152867, tolerance: 0.29555372408510644\n",
      "  positive)\n",
      "/Library/Frameworks/Python.framework/Versions/3.7/lib/python3.7/site-packages/sklearn/linear_model/_coordinate_descent.py:531: ConvergenceWarning: Objective did not converge. You might want to increase the number of iterations. Duality gap: 538.6411257298283, tolerance: 0.26531866564680856\n",
      "  positive)\n",
      "/Library/Frameworks/Python.framework/Versions/3.7/lib/python3.7/site-packages/sklearn/linear_model/_coordinate_descent.py:531: ConvergenceWarning: Objective did not converge. You might want to increase the number of iterations. Duality gap: 489.4604805947287, tolerance: 0.2785147862387707\n",
      "  positive)\n",
      "/Library/Frameworks/Python.framework/Versions/3.7/lib/python3.7/site-packages/sklearn/linear_model/_coordinate_descent.py:531: ConvergenceWarning: Objective did not converge. You might want to increase the number of iterations. Duality gap: 619.4832810585654, tolerance: 0.26268227770827424\n",
      "  positive)\n",
      "/Library/Frameworks/Python.framework/Versions/3.7/lib/python3.7/site-packages/sklearn/linear_model/_coordinate_descent.py:531: ConvergenceWarning: Objective did not converge. You might want to increase the number of iterations. Duality gap: 594.2393227628556, tolerance: 0.2833526425182033\n",
      "  positive)\n",
      "/Library/Frameworks/Python.framework/Versions/3.7/lib/python3.7/site-packages/sklearn/linear_model/_coordinate_descent.py:531: ConvergenceWarning: Objective did not converge. You might want to increase the number of iterations. Duality gap: 564.4436578028163, tolerance: 0.28670903005153664\n",
      "  positive)\n",
      "/Library/Frameworks/Python.framework/Versions/3.7/lib/python3.7/site-packages/sklearn/linear_model/_coordinate_descent.py:531: ConvergenceWarning: Objective did not converge. You might want to increase the number of iterations. Duality gap: 509.7397210284961, tolerance: 0.2671996958940898\n",
      "  positive)\n",
      "/Library/Frameworks/Python.framework/Versions/3.7/lib/python3.7/site-packages/sklearn/linear_model/_coordinate_descent.py:531: ConvergenceWarning: Objective did not converge. You might want to increase the number of iterations. Duality gap: 538.9157317702461, tolerance: 0.29181535217021276\n",
      "  positive)\n",
      "/Library/Frameworks/Python.framework/Versions/3.7/lib/python3.7/site-packages/sklearn/linear_model/_coordinate_descent.py:531: ConvergenceWarning: Objective did not converge. You might want to increase the number of iterations. Duality gap: 569.8248393993247, tolerance: 0.26780802896595746\n",
      "  positive)\n",
      "/Library/Frameworks/Python.framework/Versions/3.7/lib/python3.7/site-packages/sklearn/linear_model/_coordinate_descent.py:531: ConvergenceWarning: Objective did not converge. You might want to increase the number of iterations. Duality gap: 535.7637235274588, tolerance: 0.25342952932529555\n",
      "  positive)\n",
      "/Library/Frameworks/Python.framework/Versions/3.7/lib/python3.7/site-packages/sklearn/linear_model/_coordinate_descent.py:531: ConvergenceWarning: Objective did not converge. You might want to increase the number of iterations. Duality gap: 589.3229297105522, tolerance: 0.2749660763323877\n",
      "  positive)\n",
      "/Library/Frameworks/Python.framework/Versions/3.7/lib/python3.7/site-packages/sklearn/linear_model/_coordinate_descent.py:531: ConvergenceWarning: Objective did not converge. You might want to increase the number of iterations. Duality gap: 538.672101282188, tolerance: 0.23903190202174948\n",
      "  positive)\n",
      "/Library/Frameworks/Python.framework/Versions/3.7/lib/python3.7/site-packages/sklearn/linear_model/_coordinate_descent.py:531: ConvergenceWarning: Objective did not converge. You might want to increase the number of iterations. Duality gap: 538.686320951484, tolerance: 0.23566951728085106\n",
      "  positive)\n",
      "/Library/Frameworks/Python.framework/Versions/3.7/lib/python3.7/site-packages/sklearn/linear_model/_coordinate_descent.py:531: ConvergenceWarning: Objective did not converge. You might want to increase the number of iterations. Duality gap: 449.21268827141836, tolerance: 0.2659665782978724\n",
      "  positive)\n",
      "/Library/Frameworks/Python.framework/Versions/3.7/lib/python3.7/site-packages/sklearn/linear_model/_coordinate_descent.py:531: ConvergenceWarning: Objective did not converge. You might want to increase the number of iterations. Duality gap: 509.89103690226, tolerance: 0.24820593634893615\n",
      "  positive)\n",
      "/Library/Frameworks/Python.framework/Versions/3.7/lib/python3.7/site-packages/sklearn/linear_model/_coordinate_descent.py:531: ConvergenceWarning: Objective did not converge. You might want to increase the number of iterations. Duality gap: 586.2037327364949, tolerance: 0.2975985924586288\n",
      "  positive)\n",
      "/Library/Frameworks/Python.framework/Versions/3.7/lib/python3.7/site-packages/sklearn/linear_model/_coordinate_descent.py:531: ConvergenceWarning: Objective did not converge. You might want to increase the number of iterations. Duality gap: 556.5074059552397, tolerance: 0.2783942457735224\n",
      "  positive)\n",
      "/Library/Frameworks/Python.framework/Versions/3.7/lib/python3.7/site-packages/sklearn/linear_model/_coordinate_descent.py:531: ConvergenceWarning: Objective did not converge. You might want to increase the number of iterations. Duality gap: 561.4339514700375, tolerance: 0.27175088839574474\n",
      "  positive)\n",
      "/Library/Frameworks/Python.framework/Versions/3.7/lib/python3.7/site-packages/sklearn/linear_model/_coordinate_descent.py:531: ConvergenceWarning: Objective did not converge. You might want to increase the number of iterations. Duality gap: 513.1489971961145, tolerance: 0.27337172003877064\n",
      "  positive)\n",
      "/Library/Frameworks/Python.framework/Versions/3.7/lib/python3.7/site-packages/sklearn/linear_model/_coordinate_descent.py:531: ConvergenceWarning: Objective did not converge. You might want to increase the number of iterations. Duality gap: 423.36389018982925, tolerance: 0.25563863990969266\n",
      "  positive)\n",
      "/Library/Frameworks/Python.framework/Versions/3.7/lib/python3.7/site-packages/sklearn/linear_model/_coordinate_descent.py:531: ConvergenceWarning: Objective did not converge. You might want to increase the number of iterations. Duality gap: 526.8446633953321, tolerance: 0.26327266390543735\n",
      "  positive)\n",
      "/Library/Frameworks/Python.framework/Versions/3.7/lib/python3.7/site-packages/sklearn/linear_model/_coordinate_descent.py:531: ConvergenceWarning: Objective did not converge. You might want to increase the number of iterations. Duality gap: 535.0187439372797, tolerance: 0.2800871079536643\n",
      "  positive)\n",
      "/Library/Frameworks/Python.framework/Versions/3.7/lib/python3.7/site-packages/sklearn/linear_model/_coordinate_descent.py:531: ConvergenceWarning: Objective did not converge. You might want to increase the number of iterations. Duality gap: 533.7230932695926, tolerance: 0.24456507309787237\n",
      "  positive)\n",
      "/Library/Frameworks/Python.framework/Versions/3.7/lib/python3.7/site-packages/sklearn/linear_model/_coordinate_descent.py:531: ConvergenceWarning: Objective did not converge. You might want to increase the number of iterations. Duality gap: 508.32275402252645, tolerance: 0.28405507685531917\n",
      "  positive)\n",
      "/Library/Frameworks/Python.framework/Versions/3.7/lib/python3.7/site-packages/sklearn/linear_model/_coordinate_descent.py:531: ConvergenceWarning: Objective did not converge. You might want to increase the number of iterations. Duality gap: 602.2141448414206, tolerance: 0.26441586914799053\n",
      "  positive)\n",
      "/Library/Frameworks/Python.framework/Versions/3.7/lib/python3.7/site-packages/sklearn/linear_model/_coordinate_descent.py:531: ConvergenceWarning: Objective did not converge. You might want to increase the number of iterations. Duality gap: 628.2126134606893, tolerance: 0.27349257946572103\n",
      "  positive)\n",
      "/Library/Frameworks/Python.framework/Versions/3.7/lib/python3.7/site-packages/sklearn/linear_model/_coordinate_descent.py:531: ConvergenceWarning: Objective did not converge. You might want to increase the number of iterations. Duality gap: 527.3528174504961, tolerance: 0.2701699300212766\n",
      "  positive)\n",
      "/Library/Frameworks/Python.framework/Versions/3.7/lib/python3.7/site-packages/sklearn/linear_model/_coordinate_descent.py:531: ConvergenceWarning: Objective did not converge. You might want to increase the number of iterations. Duality gap: 496.39939310792886, tolerance: 0.2753868012245863\n",
      "  positive)\n",
      "/Library/Frameworks/Python.framework/Versions/3.7/lib/python3.7/site-packages/sklearn/linear_model/_coordinate_descent.py:531: ConvergenceWarning: Objective did not converge. You might want to increase the number of iterations. Duality gap: 544.3761934001603, tolerance: 0.26856473942127657\n",
      "  positive)\n",
      "/Library/Frameworks/Python.framework/Versions/3.7/lib/python3.7/site-packages/sklearn/linear_model/_coordinate_descent.py:531: ConvergenceWarning: Objective did not converge. You might want to increase the number of iterations. Duality gap: 556.3327045689877, tolerance: 0.2748806677404255\n",
      "  positive)\n",
      "/Library/Frameworks/Python.framework/Versions/3.7/lib/python3.7/site-packages/sklearn/linear_model/_coordinate_descent.py:531: ConvergenceWarning: Objective did not converge. You might want to increase the number of iterations. Duality gap: 480.28981798317164, tolerance: 0.2687715817829788\n",
      "  positive)\n",
      "/Library/Frameworks/Python.framework/Versions/3.7/lib/python3.7/site-packages/sklearn/linear_model/_coordinate_descent.py:531: ConvergenceWarning: Objective did not converge. You might want to increase the number of iterations. Duality gap: 508.946185981205, tolerance: 0.2670646627437352\n",
      "  positive)\n",
      "/Library/Frameworks/Python.framework/Versions/3.7/lib/python3.7/site-packages/sklearn/linear_model/_coordinate_descent.py:531: ConvergenceWarning: Objective did not converge. You might want to increase the number of iterations. Duality gap: 557.1839047727447, tolerance: 0.2731291491990543\n",
      "  positive)\n",
      "/Library/Frameworks/Python.framework/Versions/3.7/lib/python3.7/site-packages/sklearn/linear_model/_coordinate_descent.py:531: ConvergenceWarning: Objective did not converge. You might want to increase the number of iterations. Duality gap: 566.677361379545, tolerance: 0.29035094961465724\n",
      "  positive)\n"
     ]
    },
    {
     "name": "stderr",
     "output_type": "stream",
     "text": [
      "/Library/Frameworks/Python.framework/Versions/3.7/lib/python3.7/site-packages/sklearn/linear_model/_coordinate_descent.py:531: ConvergenceWarning: Objective did not converge. You might want to increase the number of iterations. Duality gap: 587.1767518569359, tolerance: 0.29401626976170214\n",
      "  positive)\n",
      "/Library/Frameworks/Python.framework/Versions/3.7/lib/python3.7/site-packages/sklearn/linear_model/_coordinate_descent.py:531: ConvergenceWarning: Objective did not converge. You might want to increase the number of iterations. Duality gap: 580.4475500539494, tolerance: 0.2931630001106384\n",
      "  positive)\n",
      "/Library/Frameworks/Python.framework/Versions/3.7/lib/python3.7/site-packages/sklearn/linear_model/_coordinate_descent.py:531: ConvergenceWarning: Objective did not converge. You might want to increase the number of iterations. Duality gap: 508.5773415879298, tolerance: 0.272279868701182\n",
      "  positive)\n",
      "/Library/Frameworks/Python.framework/Versions/3.7/lib/python3.7/site-packages/sklearn/linear_model/_coordinate_descent.py:531: ConvergenceWarning: Objective did not converge. You might want to increase the number of iterations. Duality gap: 460.06061676116565, tolerance: 0.2696038031437352\n",
      "  positive)\n",
      "/Library/Frameworks/Python.framework/Versions/3.7/lib/python3.7/site-packages/sklearn/linear_model/_coordinate_descent.py:531: ConvergenceWarning: Objective did not converge. You might want to increase the number of iterations. Duality gap: 540.9283521105924, tolerance: 0.26058949109976365\n",
      "  positive)\n",
      "/Library/Frameworks/Python.framework/Versions/3.7/lib/python3.7/site-packages/sklearn/linear_model/_coordinate_descent.py:531: ConvergenceWarning: Objective did not converge. You might want to increase the number of iterations. Duality gap: 666.9539655969407, tolerance: 0.2608858824401891\n",
      "  positive)\n",
      "/Library/Frameworks/Python.framework/Versions/3.7/lib/python3.7/site-packages/sklearn/linear_model/_coordinate_descent.py:531: ConvergenceWarning: Objective did not converge. You might want to increase the number of iterations. Duality gap: 554.7321620684694, tolerance: 0.2697094657659575\n",
      "  positive)\n",
      "/Library/Frameworks/Python.framework/Versions/3.7/lib/python3.7/site-packages/sklearn/linear_model/_coordinate_descent.py:531: ConvergenceWarning: Objective did not converge. You might want to increase the number of iterations. Duality gap: 541.9215103468041, tolerance: 0.2646635089848699\n",
      "  positive)\n",
      "/Library/Frameworks/Python.framework/Versions/3.7/lib/python3.7/site-packages/sklearn/linear_model/_coordinate_descent.py:531: ConvergenceWarning: Objective did not converge. You might want to increase the number of iterations. Duality gap: 529.4866413658012, tolerance: 0.26830554610260043\n",
      "  positive)\n",
      "/Library/Frameworks/Python.framework/Versions/3.7/lib/python3.7/site-packages/sklearn/linear_model/_coordinate_descent.py:531: ConvergenceWarning: Objective did not converge. You might want to increase the number of iterations. Duality gap: 542.959170615743, tolerance: 0.2758675282600473\n",
      "  positive)\n",
      "/Library/Frameworks/Python.framework/Versions/3.7/lib/python3.7/site-packages/sklearn/linear_model/_coordinate_descent.py:531: ConvergenceWarning: Objective did not converge. You might want to increase the number of iterations. Duality gap: 462.27235294862294, tolerance: 0.2708827515650118\n",
      "  positive)\n",
      "/Library/Frameworks/Python.framework/Versions/3.7/lib/python3.7/site-packages/sklearn/linear_model/_coordinate_descent.py:531: ConvergenceWarning: Objective did not converge. You might want to increase the number of iterations. Duality gap: 558.375746591532, tolerance: 0.2760978632728132\n",
      "  positive)\n",
      "/Library/Frameworks/Python.framework/Versions/3.7/lib/python3.7/site-packages/sklearn/linear_model/_coordinate_descent.py:531: ConvergenceWarning: Objective did not converge. You might want to increase the number of iterations. Duality gap: 432.02218251926325, tolerance: 0.26738137607281326\n",
      "  positive)\n",
      "/Library/Frameworks/Python.framework/Versions/3.7/lib/python3.7/site-packages/sklearn/linear_model/_coordinate_descent.py:531: ConvergenceWarning: Objective did not converge. You might want to increase the number of iterations. Duality gap: 507.5024482045435, tolerance: 0.2622648186245862\n",
      "  positive)\n",
      "/Library/Frameworks/Python.framework/Versions/3.7/lib/python3.7/site-packages/sklearn/linear_model/_coordinate_descent.py:531: ConvergenceWarning: Objective did not converge. You might want to increase the number of iterations. Duality gap: 480.90223218916526, tolerance: 0.2699512569380615\n",
      "  positive)\n",
      "/Library/Frameworks/Python.framework/Versions/3.7/lib/python3.7/site-packages/sklearn/linear_model/_coordinate_descent.py:531: ConvergenceWarning: Objective did not converge. You might want to increase the number of iterations. Duality gap: 520.7621645886834, tolerance: 0.25898467612765963\n",
      "  positive)\n",
      "/Library/Frameworks/Python.framework/Versions/3.7/lib/python3.7/site-packages/sklearn/linear_model/_coordinate_descent.py:531: ConvergenceWarning: Objective did not converge. You might want to increase the number of iterations. Duality gap: 614.282942815371, tolerance: 0.29250875785862884\n",
      "  positive)\n",
      "/Library/Frameworks/Python.framework/Versions/3.7/lib/python3.7/site-packages/sklearn/linear_model/_coordinate_descent.py:531: ConvergenceWarning: Objective did not converge. You might want to increase the number of iterations. Duality gap: 526.9777639018034, tolerance: 0.2663627937664302\n",
      "  positive)\n",
      "/Library/Frameworks/Python.framework/Versions/3.7/lib/python3.7/site-packages/sklearn/linear_model/_coordinate_descent.py:531: ConvergenceWarning: Objective did not converge. You might want to increase the number of iterations. Duality gap: 512.0013639450167, tolerance: 0.2608721422770685\n",
      "  positive)\n",
      "/Library/Frameworks/Python.framework/Versions/3.7/lib/python3.7/site-packages/sklearn/linear_model/_coordinate_descent.py:531: ConvergenceWarning: Objective did not converge. You might want to increase the number of iterations. Duality gap: 605.1856536338212, tolerance: 0.27639847682033103\n",
      "  positive)\n",
      "/Library/Frameworks/Python.framework/Versions/3.7/lib/python3.7/site-packages/sklearn/linear_model/_coordinate_descent.py:531: ConvergenceWarning: Objective did not converge. You might want to increase the number of iterations. Duality gap: 585.5654872324731, tolerance: 0.2551734436600473\n",
      "  positive)\n",
      "/Library/Frameworks/Python.framework/Versions/3.7/lib/python3.7/site-packages/sklearn/linear_model/_coordinate_descent.py:531: ConvergenceWarning: Objective did not converge. You might want to increase the number of iterations. Duality gap: 536.3009089470049, tolerance: 0.26602196526572114\n",
      "  positive)\n",
      "/Library/Frameworks/Python.framework/Versions/3.7/lib/python3.7/site-packages/sklearn/linear_model/_coordinate_descent.py:531: ConvergenceWarning: Objective did not converge. You might want to increase the number of iterations. Duality gap: 574.0159246848121, tolerance: 0.2801454707082743\n",
      "  positive)\n",
      "/Library/Frameworks/Python.framework/Versions/3.7/lib/python3.7/site-packages/sklearn/linear_model/_coordinate_descent.py:531: ConvergenceWarning: Objective did not converge. You might want to increase the number of iterations. Duality gap: 488.48128306700926, tolerance: 0.26464729241465723\n",
      "  positive)\n",
      "/Library/Frameworks/Python.framework/Versions/3.7/lib/python3.7/site-packages/sklearn/linear_model/_coordinate_descent.py:531: ConvergenceWarning: Objective did not converge. You might want to increase the number of iterations. Duality gap: 581.8020074649398, tolerance: 0.28453195179905444\n",
      "  positive)\n",
      "/Library/Frameworks/Python.framework/Versions/3.7/lib/python3.7/site-packages/sklearn/linear_model/_coordinate_descent.py:531: ConvergenceWarning: Objective did not converge. You might want to increase the number of iterations. Duality gap: 608.335881280282, tolerance: 0.2878810000212766\n",
      "  positive)\n",
      "/Library/Frameworks/Python.framework/Versions/3.7/lib/python3.7/site-packages/sklearn/linear_model/_coordinate_descent.py:531: ConvergenceWarning: Objective did not converge. You might want to increase the number of iterations. Duality gap: 558.3909038979326, tolerance: 0.2763993574713949\n",
      "  positive)\n",
      "/Library/Frameworks/Python.framework/Versions/3.7/lib/python3.7/site-packages/sklearn/linear_model/_coordinate_descent.py:531: ConvergenceWarning: Objective did not converge. You might want to increase the number of iterations. Duality gap: 573.2229127262218, tolerance: 0.2791283386515367\n",
      "  positive)\n",
      "/Library/Frameworks/Python.framework/Versions/3.7/lib/python3.7/site-packages/sklearn/linear_model/_coordinate_descent.py:531: ConvergenceWarning: Objective did not converge. You might want to increase the number of iterations. Duality gap: 620.9106989757867, tolerance: 0.25508038688841606\n",
      "  positive)\n",
      "/Library/Frameworks/Python.framework/Versions/3.7/lib/python3.7/site-packages/sklearn/linear_model/_coordinate_descent.py:531: ConvergenceWarning: Objective did not converge. You might want to increase the number of iterations. Duality gap: 489.2522592671899, tolerance: 0.25278506681465723\n",
      "  positive)\n"
     ]
    },
    {
     "name": "stderr",
     "output_type": "stream",
     "text": [
      "/Library/Frameworks/Python.framework/Versions/3.7/lib/python3.7/site-packages/sklearn/linear_model/_coordinate_descent.py:531: ConvergenceWarning: Objective did not converge. You might want to increase the number of iterations. Duality gap: 609.478802887985, tolerance: 0.30407230554042547\n",
      "  positive)\n",
      "/Library/Frameworks/Python.framework/Versions/3.7/lib/python3.7/site-packages/sklearn/linear_model/_coordinate_descent.py:531: ConvergenceWarning: Objective did not converge. You might want to increase the number of iterations. Duality gap: 500.6731106993446, tolerance: 0.28190814822174937\n",
      "  positive)\n",
      "/Library/Frameworks/Python.framework/Versions/3.7/lib/python3.7/site-packages/sklearn/linear_model/_coordinate_descent.py:531: ConvergenceWarning: Objective did not converge. You might want to increase the number of iterations. Duality gap: 593.6742765613791, tolerance: 0.2814319059744681\n",
      "  positive)\n",
      "/Library/Frameworks/Python.framework/Versions/3.7/lib/python3.7/site-packages/sklearn/linear_model/_coordinate_descent.py:531: ConvergenceWarning: Objective did not converge. You might want to increase the number of iterations. Duality gap: 547.0397621945848, tolerance: 0.26987867774373525\n",
      "  positive)\n",
      "/Library/Frameworks/Python.framework/Versions/3.7/lib/python3.7/site-packages/sklearn/linear_model/_coordinate_descent.py:531: ConvergenceWarning: Objective did not converge. You might want to increase the number of iterations. Duality gap: 573.4474935506781, tolerance: 0.28878143056501177\n",
      "  positive)\n",
      "/Library/Frameworks/Python.framework/Versions/3.7/lib/python3.7/site-packages/sklearn/linear_model/_coordinate_descent.py:531: ConvergenceWarning: Objective did not converge. You might want to increase the number of iterations. Duality gap: 569.2177381308113, tolerance: 0.27966186169834517\n",
      "  positive)\n",
      "/Library/Frameworks/Python.framework/Versions/3.7/lib/python3.7/site-packages/sklearn/linear_model/_coordinate_descent.py:531: ConvergenceWarning: Objective did not converge. You might want to increase the number of iterations. Duality gap: 475.4347290164662, tolerance: 0.2675570658425532\n",
      "  positive)\n",
      "/Library/Frameworks/Python.framework/Versions/3.7/lib/python3.7/site-packages/sklearn/linear_model/_coordinate_descent.py:531: ConvergenceWarning: Objective did not converge. You might want to increase the number of iterations. Duality gap: 592.8521513155333, tolerance: 0.2743972131550828\n",
      "  positive)\n",
      "/Library/Frameworks/Python.framework/Versions/3.7/lib/python3.7/site-packages/sklearn/linear_model/_coordinate_descent.py:531: ConvergenceWarning: Objective did not converge. You might want to increase the number of iterations. Duality gap: 506.81088449871027, tolerance: 0.257117588693617\n",
      "  positive)\n",
      "/Library/Frameworks/Python.framework/Versions/3.7/lib/python3.7/site-packages/sklearn/linear_model/_coordinate_descent.py:531: ConvergenceWarning: Objective did not converge. You might want to increase the number of iterations. Duality gap: 468.83123328638135, tolerance: 0.23638602551063834\n",
      "  positive)\n",
      "/Library/Frameworks/Python.framework/Versions/3.7/lib/python3.7/site-packages/sklearn/linear_model/_coordinate_descent.py:531: ConvergenceWarning: Objective did not converge. You might want to increase the number of iterations. Duality gap: 654.3739545330279, tolerance: 0.284450218126714\n",
      "  positive)\n",
      "/Library/Frameworks/Python.framework/Versions/3.7/lib/python3.7/site-packages/sklearn/linear_model/_coordinate_descent.py:531: ConvergenceWarning: Objective did not converge. You might want to increase the number of iterations. Duality gap: 605.0950124805645, tolerance: 0.2848263590983452\n",
      "  positive)\n",
      "/Library/Frameworks/Python.framework/Versions/3.7/lib/python3.7/site-packages/sklearn/linear_model/_coordinate_descent.py:531: ConvergenceWarning: Objective did not converge. You might want to increase the number of iterations. Duality gap: 565.9078100331801, tolerance: 0.2601262194468085\n",
      "  positive)\n",
      "/Library/Frameworks/Python.framework/Versions/3.7/lib/python3.7/site-packages/sklearn/linear_model/_coordinate_descent.py:531: ConvergenceWarning: Objective did not converge. You might want to increase the number of iterations. Duality gap: 610.9922464879893, tolerance: 0.2861488703182033\n",
      "  positive)\n",
      "/Library/Frameworks/Python.framework/Versions/3.7/lib/python3.7/site-packages/sklearn/linear_model/_coordinate_descent.py:531: ConvergenceWarning: Objective did not converge. You might want to increase the number of iterations. Duality gap: 510.8146658315129, tolerance: 0.27640705119196224\n",
      "  positive)\n",
      "/Library/Frameworks/Python.framework/Versions/3.7/lib/python3.7/site-packages/sklearn/linear_model/_coordinate_descent.py:531: ConvergenceWarning: Objective did not converge. You might want to increase the number of iterations. Duality gap: 505.95117132132754, tolerance: 0.2620079903423168\n",
      "  positive)\n",
      "/Library/Frameworks/Python.framework/Versions/3.7/lib/python3.7/site-packages/sklearn/linear_model/_coordinate_descent.py:531: ConvergenceWarning: Objective did not converge. You might want to increase the number of iterations. Duality gap: 550.9717974063016, tolerance: 0.26719707109787244\n",
      "  positive)\n",
      "/Library/Frameworks/Python.framework/Versions/3.7/lib/python3.7/site-packages/sklearn/linear_model/_coordinate_descent.py:531: ConvergenceWarning: Objective did not converge. You might want to increase the number of iterations. Duality gap: 473.60483259276674, tolerance: 0.2789446054628842\n",
      "  positive)\n",
      "/Library/Frameworks/Python.framework/Versions/3.7/lib/python3.7/site-packages/sklearn/linear_model/_coordinate_descent.py:531: ConvergenceWarning: Objective did not converge. You might want to increase the number of iterations. Duality gap: 538.9123618292136, tolerance: 0.2852846319744681\n",
      "  positive)\n",
      "/Library/Frameworks/Python.framework/Versions/3.7/lib/python3.7/site-packages/sklearn/linear_model/_coordinate_descent.py:531: ConvergenceWarning: Objective did not converge. You might want to increase the number of iterations. Duality gap: 502.07831573221097, tolerance: 0.28598492716784885\n",
      "  positive)\n",
      "/Library/Frameworks/Python.framework/Versions/3.7/lib/python3.7/site-packages/sklearn/linear_model/_coordinate_descent.py:531: ConvergenceWarning: Objective did not converge. You might want to increase the number of iterations. Duality gap: 503.3464074197266, tolerance: 0.27360190718723404\n",
      "  positive)\n",
      "/Library/Frameworks/Python.framework/Versions/3.7/lib/python3.7/site-packages/sklearn/linear_model/_coordinate_descent.py:531: ConvergenceWarning: Objective did not converge. You might want to increase the number of iterations. Duality gap: 585.936936335732, tolerance: 0.25977212008841616\n",
      "  positive)\n",
      "/Library/Frameworks/Python.framework/Versions/3.7/lib/python3.7/site-packages/sklearn/linear_model/_coordinate_descent.py:531: ConvergenceWarning: Objective did not converge. You might want to increase the number of iterations. Duality gap: 630.1116283437069, tolerance: 0.2876009003252955\n",
      "  positive)\n",
      "/Library/Frameworks/Python.framework/Versions/3.7/lib/python3.7/site-packages/sklearn/linear_model/_coordinate_descent.py:531: ConvergenceWarning: Objective did not converge. You might want to increase the number of iterations. Duality gap: 506.39093631735307, tolerance: 0.26153673921040194\n",
      "  positive)\n",
      "/Library/Frameworks/Python.framework/Versions/3.7/lib/python3.7/site-packages/sklearn/linear_model/_coordinate_descent.py:531: ConvergenceWarning: Objective did not converge. You might want to increase the number of iterations. Duality gap: 563.3861568448445, tolerance: 0.2806512318387707\n",
      "  positive)\n",
      "/Library/Frameworks/Python.framework/Versions/3.7/lib/python3.7/site-packages/sklearn/linear_model/_coordinate_descent.py:531: ConvergenceWarning: Objective did not converge. You might want to increase the number of iterations. Duality gap: 499.28183451886235, tolerance: 0.26705058976595747\n",
      "  positive)\n",
      "/Library/Frameworks/Python.framework/Versions/3.7/lib/python3.7/site-packages/sklearn/linear_model/_coordinate_descent.py:531: ConvergenceWarning: Objective did not converge. You might want to increase the number of iterations. Duality gap: 525.0963367349285, tolerance: 0.2925007851957448\n",
      "  positive)\n",
      "/Library/Frameworks/Python.framework/Versions/3.7/lib/python3.7/site-packages/sklearn/linear_model/_coordinate_descent.py:531: ConvergenceWarning: Objective did not converge. You might want to increase the number of iterations. Duality gap: 512.7449996546381, tolerance: 0.27074497450260054\n",
      "  positive)\n",
      "/Library/Frameworks/Python.framework/Versions/3.7/lib/python3.7/site-packages/sklearn/linear_model/_coordinate_descent.py:531: ConvergenceWarning: Objective did not converge. You might want to increase the number of iterations. Duality gap: 427.6450942951449, tolerance: 0.26858653401465726\n",
      "  positive)\n",
      "/Library/Frameworks/Python.framework/Versions/3.7/lib/python3.7/site-packages/sklearn/linear_model/_coordinate_descent.py:531: ConvergenceWarning: Objective did not converge. You might want to increase the number of iterations. Duality gap: 544.4919218421426, tolerance: 0.2635663072869976\n",
      "  positive)\n",
      "/Library/Frameworks/Python.framework/Versions/3.7/lib/python3.7/site-packages/sklearn/linear_model/_coordinate_descent.py:531: ConvergenceWarning: Objective did not converge. You might want to increase the number of iterations. Duality gap: 505.2814443263129, tolerance: 0.26877400072765967\n",
      "  positive)\n",
      "/Library/Frameworks/Python.framework/Versions/3.7/lib/python3.7/site-packages/sklearn/linear_model/_coordinate_descent.py:531: ConvergenceWarning: Objective did not converge. You might want to increase the number of iterations. Duality gap: 504.6533180173812, tolerance: 0.26693174268699765\n",
      "  positive)\n"
     ]
    },
    {
     "name": "stderr",
     "output_type": "stream",
     "text": [
      "/Library/Frameworks/Python.framework/Versions/3.7/lib/python3.7/site-packages/sklearn/linear_model/_coordinate_descent.py:531: ConvergenceWarning: Objective did not converge. You might want to increase the number of iterations. Duality gap: 564.3424620590104, tolerance: 0.2705495951763593\n",
      "  positive)\n",
      "/Library/Frameworks/Python.framework/Versions/3.7/lib/python3.7/site-packages/sklearn/linear_model/_coordinate_descent.py:531: ConvergenceWarning: Objective did not converge. You might want to increase the number of iterations. Duality gap: 542.9234032791637, tolerance: 0.258730628587234\n",
      "  positive)\n",
      "/Library/Frameworks/Python.framework/Versions/3.7/lib/python3.7/site-packages/sklearn/linear_model/_coordinate_descent.py:531: ConvergenceWarning: Objective did not converge. You might want to increase the number of iterations. Duality gap: 550.7705958439898, tolerance: 0.2707110319319149\n",
      "  positive)\n",
      "/Library/Frameworks/Python.framework/Versions/3.7/lib/python3.7/site-packages/sklearn/linear_model/_coordinate_descent.py:531: ConvergenceWarning: Objective did not converge. You might want to increase the number of iterations. Duality gap: 543.5423671476705, tolerance: 0.2601754188245862\n",
      "  positive)\n",
      "/Library/Frameworks/Python.framework/Versions/3.7/lib/python3.7/site-packages/sklearn/linear_model/_coordinate_descent.py:531: ConvergenceWarning: Objective did not converge. You might want to increase the number of iterations. Duality gap: 545.7017564534901, tolerance: 0.2890902402940898\n",
      "  positive)\n",
      "/Library/Frameworks/Python.framework/Versions/3.7/lib/python3.7/site-packages/sklearn/linear_model/_coordinate_descent.py:531: ConvergenceWarning: Objective did not converge. You might want to increase the number of iterations. Duality gap: 636.1678324032351, tolerance: 0.2832670444770686\n",
      "  positive)\n",
      "/Library/Frameworks/Python.framework/Versions/3.7/lib/python3.7/site-packages/sklearn/linear_model/_coordinate_descent.py:531: ConvergenceWarning: Objective did not converge. You might want to increase the number of iterations. Duality gap: 498.86589341587495, tolerance: 0.28648639202742315\n",
      "  positive)\n",
      "/Library/Frameworks/Python.framework/Versions/3.7/lib/python3.7/site-packages/sklearn/linear_model/_coordinate_descent.py:531: ConvergenceWarning: Objective did not converge. You might want to increase the number of iterations. Duality gap: 606.4314252478134, tolerance: 0.2734307478638298\n",
      "  positive)\n",
      "/Library/Frameworks/Python.framework/Versions/3.7/lib/python3.7/site-packages/sklearn/linear_model/_coordinate_descent.py:531: ConvergenceWarning: Objective did not converge. You might want to increase the number of iterations. Duality gap: 558.4926335432748, tolerance: 0.2957736533678488\n",
      "  positive)\n",
      "/Library/Frameworks/Python.framework/Versions/3.7/lib/python3.7/site-packages/sklearn/linear_model/_coordinate_descent.py:531: ConvergenceWarning: Objective did not converge. You might want to increase the number of iterations. Duality gap: 522.9307809882935, tolerance: 0.28367578144255307\n",
      "  positive)\n",
      "/Library/Frameworks/Python.framework/Versions/3.7/lib/python3.7/site-packages/sklearn/linear_model/_coordinate_descent.py:531: ConvergenceWarning: Objective did not converge. You might want to increase the number of iterations. Duality gap: 644.9555651218559, tolerance: 0.27220166430260045\n",
      "  positive)\n",
      "/Library/Frameworks/Python.framework/Versions/3.7/lib/python3.7/site-packages/sklearn/linear_model/_coordinate_descent.py:531: ConvergenceWarning: Objective did not converge. You might want to increase the number of iterations. Duality gap: 500.4666682309178, tolerance: 0.2674773822245863\n",
      "  positive)\n",
      "/Library/Frameworks/Python.framework/Versions/3.7/lib/python3.7/site-packages/sklearn/linear_model/_coordinate_descent.py:531: ConvergenceWarning: Objective did not converge. You might want to increase the number of iterations. Duality gap: 637.1012833579895, tolerance: 0.2723877295082743\n",
      "  positive)\n",
      "/Library/Frameworks/Python.framework/Versions/3.7/lib/python3.7/site-packages/sklearn/linear_model/_coordinate_descent.py:531: ConvergenceWarning: Objective did not converge. You might want to increase the number of iterations. Duality gap: 494.9615266768318, tolerance: 0.2638731330330969\n",
      "  positive)\n",
      "/Library/Frameworks/Python.framework/Versions/3.7/lib/python3.7/site-packages/sklearn/linear_model/_coordinate_descent.py:531: ConvergenceWarning: Objective did not converge. You might want to increase the number of iterations. Duality gap: 589.4196782923302, tolerance: 0.2714903761702128\n",
      "  positive)\n",
      "/Library/Frameworks/Python.framework/Versions/3.7/lib/python3.7/site-packages/sklearn/linear_model/_coordinate_descent.py:531: ConvergenceWarning: Objective did not converge. You might want to increase the number of iterations. Duality gap: 565.6247400178688, tolerance: 0.27388640271820336\n",
      "  positive)\n",
      "/Library/Frameworks/Python.framework/Versions/3.7/lib/python3.7/site-packages/sklearn/linear_model/_coordinate_descent.py:531: ConvergenceWarning: Objective did not converge. You might want to increase the number of iterations. Duality gap: 554.8996175176201, tolerance: 0.27859611180472815\n",
      "  positive)\n",
      "/Library/Frameworks/Python.framework/Versions/3.7/lib/python3.7/site-packages/sklearn/linear_model/_coordinate_descent.py:531: ConvergenceWarning: Objective did not converge. You might want to increase the number of iterations. Duality gap: 604.6731119380938, tolerance: 0.2838429669962175\n",
      "  positive)\n",
      "/Library/Frameworks/Python.framework/Versions/3.7/lib/python3.7/site-packages/sklearn/linear_model/_coordinate_descent.py:531: ConvergenceWarning: Objective did not converge. You might want to increase the number of iterations. Duality gap: 534.2388012761168, tolerance: 0.25245070896170213\n",
      "  positive)\n",
      "/Library/Frameworks/Python.framework/Versions/3.7/lib/python3.7/site-packages/sklearn/linear_model/_coordinate_descent.py:531: ConvergenceWarning: Objective did not converge. You might want to increase the number of iterations. Duality gap: 537.7416779481423, tolerance: 0.27954561490118207\n",
      "  positive)\n",
      "/Library/Frameworks/Python.framework/Versions/3.7/lib/python3.7/site-packages/sklearn/linear_model/_coordinate_descent.py:531: ConvergenceWarning: Objective did not converge. You might want to increase the number of iterations. Duality gap: 577.7695314127811, tolerance: 0.27813555185531913\n",
      "  positive)\n",
      "/Library/Frameworks/Python.framework/Versions/3.7/lib/python3.7/site-packages/sklearn/linear_model/_coordinate_descent.py:531: ConvergenceWarning: Objective did not converge. You might want to increase the number of iterations. Duality gap: 555.3171999631209, tolerance: 0.27677635198297873\n",
      "  positive)\n",
      "/Library/Frameworks/Python.framework/Versions/3.7/lib/python3.7/site-packages/sklearn/linear_model/_coordinate_descent.py:531: ConvergenceWarning: Objective did not converge. You might want to increase the number of iterations. Duality gap: 517.494670014326, tolerance: 0.2565572132416076\n",
      "  positive)\n",
      "/Library/Frameworks/Python.framework/Versions/3.7/lib/python3.7/site-packages/sklearn/linear_model/_coordinate_descent.py:531: ConvergenceWarning: Objective did not converge. You might want to increase the number of iterations. Duality gap: 670.4289379986105, tolerance: 0.28600055851820333\n",
      "  positive)\n",
      "/Library/Frameworks/Python.framework/Versions/3.7/lib/python3.7/site-packages/sklearn/linear_model/_coordinate_descent.py:531: ConvergenceWarning: Objective did not converge. You might want to increase the number of iterations. Duality gap: 587.4893514253475, tolerance: 0.29493578870543735\n",
      "  positive)\n",
      "/Library/Frameworks/Python.framework/Versions/3.7/lib/python3.7/site-packages/sklearn/linear_model/_coordinate_descent.py:531: ConvergenceWarning: Objective did not converge. You might want to increase the number of iterations. Duality gap: 542.6097898642132, tolerance: 0.2748119608359339\n",
      "  positive)\n",
      "/Library/Frameworks/Python.framework/Versions/3.7/lib/python3.7/site-packages/sklearn/linear_model/_coordinate_descent.py:531: ConvergenceWarning: Objective did not converge. You might want to increase the number of iterations. Duality gap: 608.8896750717603, tolerance: 0.28441161958723404\n",
      "  positive)\n",
      "/Library/Frameworks/Python.framework/Versions/3.7/lib/python3.7/site-packages/sklearn/linear_model/_coordinate_descent.py:531: ConvergenceWarning: Objective did not converge. You might want to increase the number of iterations. Duality gap: 538.2736289791569, tolerance: 0.28600886266004727\n",
      "  positive)\n",
      "/Library/Frameworks/Python.framework/Versions/3.7/lib/python3.7/site-packages/sklearn/linear_model/_coordinate_descent.py:531: ConvergenceWarning: Objective did not converge. You might want to increase the number of iterations. Duality gap: 511.60731424604626, tolerance: 0.27928722953947993\n",
      "  positive)\n",
      "/Library/Frameworks/Python.framework/Versions/3.7/lib/python3.7/site-packages/sklearn/linear_model/_coordinate_descent.py:531: ConvergenceWarning: Objective did not converge. You might want to increase the number of iterations. Duality gap: 493.326291881686, tolerance: 0.2644402755276596\n",
      "  positive)\n"
     ]
    },
    {
     "name": "stderr",
     "output_type": "stream",
     "text": [
      "/Library/Frameworks/Python.framework/Versions/3.7/lib/python3.7/site-packages/sklearn/linear_model/_coordinate_descent.py:531: ConvergenceWarning: Objective did not converge. You might want to increase the number of iterations. Duality gap: 606.5448778597306, tolerance: 0.28452779279338064\n",
      "  positive)\n",
      "/Library/Frameworks/Python.framework/Versions/3.7/lib/python3.7/site-packages/sklearn/linear_model/_coordinate_descent.py:531: ConvergenceWarning: Objective did not converge. You might want to increase the number of iterations. Duality gap: 568.4028310360519, tolerance: 0.2819961284600473\n",
      "  positive)\n",
      "/Library/Frameworks/Python.framework/Versions/3.7/lib/python3.7/site-packages/sklearn/linear_model/_coordinate_descent.py:531: ConvergenceWarning: Objective did not converge. You might want to increase the number of iterations. Duality gap: 544.9262398090253, tolerance: 0.24583717917352244\n",
      "  positive)\n",
      "/Library/Frameworks/Python.framework/Versions/3.7/lib/python3.7/site-packages/sklearn/linear_model/_coordinate_descent.py:531: ConvergenceWarning: Objective did not converge. You might want to increase the number of iterations. Duality gap: 515.5826228383941, tolerance: 0.27647574499148936\n",
      "  positive)\n",
      "/Library/Frameworks/Python.framework/Versions/3.7/lib/python3.7/site-packages/sklearn/linear_model/_coordinate_descent.py:531: ConvergenceWarning: Objective did not converge. You might want to increase the number of iterations. Duality gap: 472.18645718465586, tolerance: 0.2619361200212766\n",
      "  positive)\n",
      "/Library/Frameworks/Python.framework/Versions/3.7/lib/python3.7/site-packages/sklearn/linear_model/_coordinate_descent.py:531: ConvergenceWarning: Objective did not converge. You might want to increase the number of iterations. Duality gap: 554.3344163674112, tolerance: 0.2833006281054374\n",
      "  positive)\n",
      "/Library/Frameworks/Python.framework/Versions/3.7/lib/python3.7/site-packages/sklearn/linear_model/_coordinate_descent.py:531: ConvergenceWarning: Objective did not converge. You might want to increase the number of iterations. Duality gap: 513.2211255139603, tolerance: 0.28199390072340424\n",
      "  positive)\n",
      "/Library/Frameworks/Python.framework/Versions/3.7/lib/python3.7/site-packages/sklearn/linear_model/_coordinate_descent.py:531: ConvergenceWarning: Objective did not converge. You might want to increase the number of iterations. Duality gap: 467.94111624112566, tolerance: 0.24233297458297876\n",
      "  positive)\n",
      "/Library/Frameworks/Python.framework/Versions/3.7/lib/python3.7/site-packages/sklearn/linear_model/_coordinate_descent.py:531: ConvergenceWarning: Objective did not converge. You might want to increase the number of iterations. Duality gap: 598.1928314348545, tolerance: 0.2687353374553191\n",
      "  positive)\n",
      "/Library/Frameworks/Python.framework/Versions/3.7/lib/python3.7/site-packages/sklearn/linear_model/_coordinate_descent.py:531: ConvergenceWarning: Objective did not converge. You might want to increase the number of iterations. Duality gap: 521.6886315269205, tolerance: 0.2885207518756502\n",
      "  positive)\n",
      "/Library/Frameworks/Python.framework/Versions/3.7/lib/python3.7/site-packages/sklearn/linear_model/_coordinate_descent.py:531: ConvergenceWarning: Objective did not converge. You might want to increase the number of iterations. Duality gap: 618.4637214462326, tolerance: 0.2845015986756501\n",
      "  positive)\n",
      "/Library/Frameworks/Python.framework/Versions/3.7/lib/python3.7/site-packages/sklearn/linear_model/_coordinate_descent.py:531: ConvergenceWarning: Objective did not converge. You might want to increase the number of iterations. Duality gap: 547.3222145502739, tolerance: 0.27464702969787225\n",
      "  positive)\n",
      "/Library/Frameworks/Python.framework/Versions/3.7/lib/python3.7/site-packages/sklearn/linear_model/_coordinate_descent.py:531: ConvergenceWarning: Objective did not converge. You might want to increase the number of iterations. Duality gap: 469.43223385037857, tolerance: 0.24612335557494086\n",
      "  positive)\n",
      "/Library/Frameworks/Python.framework/Versions/3.7/lib/python3.7/site-packages/sklearn/linear_model/_coordinate_descent.py:531: ConvergenceWarning: Objective did not converge. You might want to increase the number of iterations. Duality gap: 591.239894494628, tolerance: 0.2733230459659575\n",
      "  positive)\n",
      "/Library/Frameworks/Python.framework/Versions/3.7/lib/python3.7/site-packages/sklearn/linear_model/_coordinate_descent.py:531: ConvergenceWarning: Objective did not converge. You might want to increase the number of iterations. Duality gap: 661.5351097626534, tolerance: 0.2815636283650119\n",
      "  positive)\n",
      "/Library/Frameworks/Python.framework/Versions/3.7/lib/python3.7/site-packages/sklearn/linear_model/_coordinate_descent.py:531: ConvergenceWarning: Objective did not converge. You might want to increase the number of iterations. Duality gap: 492.16021604146187, tolerance: 0.27333589728841606\n",
      "  positive)\n",
      "/Library/Frameworks/Python.framework/Versions/3.7/lib/python3.7/site-packages/sklearn/linear_model/_coordinate_descent.py:531: ConvergenceWarning: Objective did not converge. You might want to increase the number of iterations. Duality gap: 587.4620936427623, tolerance: 0.2964803902047281\n",
      "  positive)\n",
      "/Library/Frameworks/Python.framework/Versions/3.7/lib/python3.7/site-packages/sklearn/linear_model/_coordinate_descent.py:531: ConvergenceWarning: Objective did not converge. You might want to increase the number of iterations. Duality gap: 628.0995519457098, tolerance: 0.2856386251182033\n",
      "  positive)\n",
      "/Library/Frameworks/Python.framework/Versions/3.7/lib/python3.7/site-packages/sklearn/linear_model/_coordinate_descent.py:531: ConvergenceWarning: Objective did not converge. You might want to increase the number of iterations. Duality gap: 518.8924225950449, tolerance: 0.27036258150685577\n",
      "  positive)\n",
      "/Library/Frameworks/Python.framework/Versions/3.7/lib/python3.7/site-packages/sklearn/linear_model/_coordinate_descent.py:531: ConvergenceWarning: Objective did not converge. You might want to increase the number of iterations. Duality gap: 586.4933039865385, tolerance: 0.2756173213437353\n",
      "  positive)\n",
      "/Library/Frameworks/Python.framework/Versions/3.7/lib/python3.7/site-packages/sklearn/linear_model/_coordinate_descent.py:531: ConvergenceWarning: Objective did not converge. You might want to increase the number of iterations. Duality gap: 579.9556488493599, tolerance: 0.2564464747437352\n",
      "  positive)\n",
      "/Library/Frameworks/Python.framework/Versions/3.7/lib/python3.7/site-packages/sklearn/linear_model/_coordinate_descent.py:531: ConvergenceWarning: Objective did not converge. You might want to increase the number of iterations. Duality gap: 541.5698335131768, tolerance: 0.2463436537106383\n",
      "  positive)\n",
      "/Library/Frameworks/Python.framework/Versions/3.7/lib/python3.7/site-packages/sklearn/linear_model/_coordinate_descent.py:531: ConvergenceWarning: Objective did not converge. You might want to increase the number of iterations. Duality gap: 565.1081851915891, tolerance: 0.27983526654231683\n",
      "  positive)\n",
      "/Library/Frameworks/Python.framework/Versions/3.7/lib/python3.7/site-packages/sklearn/linear_model/_coordinate_descent.py:531: ConvergenceWarning: Objective did not converge. You might want to increase the number of iterations. Duality gap: 553.6717875280925, tolerance: 0.27842842512529553\n",
      "  positive)\n",
      "/Library/Frameworks/Python.framework/Versions/3.7/lib/python3.7/site-packages/sklearn/linear_model/_coordinate_descent.py:531: ConvergenceWarning: Objective did not converge. You might want to increase the number of iterations. Duality gap: 543.1394973473016, tolerance: 0.2643578356978723\n",
      "  positive)\n",
      "/Library/Frameworks/Python.framework/Versions/3.7/lib/python3.7/site-packages/sklearn/linear_model/_coordinate_descent.py:531: ConvergenceWarning: Objective did not converge. You might want to increase the number of iterations. Duality gap: 566.7699085415758, tolerance: 0.27739090954799045\n",
      "  positive)\n",
      "/Library/Frameworks/Python.framework/Versions/3.7/lib/python3.7/site-packages/sklearn/linear_model/_coordinate_descent.py:531: ConvergenceWarning: Objective did not converge. You might want to increase the number of iterations. Duality gap: 517.3621972527926, tolerance: 0.2740433845962176\n",
      "  positive)\n",
      "/Library/Frameworks/Python.framework/Versions/3.7/lib/python3.7/site-packages/sklearn/linear_model/_coordinate_descent.py:531: ConvergenceWarning: Objective did not converge. You might want to increase the number of iterations. Duality gap: 554.9460711028556, tolerance: 0.27188346380472816\n",
      "  positive)\n"
     ]
    },
    {
     "name": "stderr",
     "output_type": "stream",
     "text": [
      "/Library/Frameworks/Python.framework/Versions/3.7/lib/python3.7/site-packages/sklearn/linear_model/_coordinate_descent.py:531: ConvergenceWarning: Objective did not converge. You might want to increase the number of iterations. Duality gap: 512.183712859556, tolerance: 0.2666767409933807\n",
      "  positive)\n",
      "/Library/Frameworks/Python.framework/Versions/3.7/lib/python3.7/site-packages/sklearn/linear_model/_coordinate_descent.py:531: ConvergenceWarning: Objective did not converge. You might want to increase the number of iterations. Duality gap: 507.85965544255606, tolerance: 0.26304728890969264\n",
      "  positive)\n",
      "/Library/Frameworks/Python.framework/Versions/3.7/lib/python3.7/site-packages/sklearn/linear_model/_coordinate_descent.py:531: ConvergenceWarning: Objective did not converge. You might want to increase the number of iterations. Duality gap: 549.4797790132368, tolerance: 0.26964070609834523\n",
      "  positive)\n",
      "/Library/Frameworks/Python.framework/Versions/3.7/lib/python3.7/site-packages/sklearn/linear_model/_coordinate_descent.py:531: ConvergenceWarning: Objective did not converge. You might want to increase the number of iterations. Duality gap: 588.0291654571697, tolerance: 0.29608708101465714\n",
      "  positive)\n",
      "/Library/Frameworks/Python.framework/Versions/3.7/lib/python3.7/site-packages/sklearn/linear_model/_coordinate_descent.py:531: ConvergenceWarning: Objective did not converge. You might want to increase the number of iterations. Duality gap: 538.5273860371623, tolerance: 0.303590266374468\n",
      "  positive)\n",
      "/Library/Frameworks/Python.framework/Versions/3.7/lib/python3.7/site-packages/sklearn/linear_model/_coordinate_descent.py:531: ConvergenceWarning: Objective did not converge. You might want to increase the number of iterations. Duality gap: 587.9884181155014, tolerance: 0.27243423162127667\n",
      "  positive)\n",
      "/Library/Frameworks/Python.framework/Versions/3.7/lib/python3.7/site-packages/sklearn/linear_model/_coordinate_descent.py:531: ConvergenceWarning: Objective did not converge. You might want to increase the number of iterations. Duality gap: 553.2873127488334, tolerance: 0.27129769157446815\n",
      "  positive)\n",
      "/Library/Frameworks/Python.framework/Versions/3.7/lib/python3.7/site-packages/sklearn/linear_model/_coordinate_descent.py:531: ConvergenceWarning: Objective did not converge. You might want to increase the number of iterations. Duality gap: 501.44640378604197, tolerance: 0.2752750820851064\n",
      "  positive)\n",
      "/Library/Frameworks/Python.framework/Versions/3.7/lib/python3.7/site-packages/sklearn/linear_model/_coordinate_descent.py:531: ConvergenceWarning: Objective did not converge. You might want to increase the number of iterations. Duality gap: 625.6439460749419, tolerance: 0.27802170589787234\n",
      "  positive)\n",
      "/Library/Frameworks/Python.framework/Versions/3.7/lib/python3.7/site-packages/sklearn/linear_model/_coordinate_descent.py:531: ConvergenceWarning: Objective did not converge. You might want to increase the number of iterations. Duality gap: 542.0947127589691, tolerance: 0.27436666725531916\n",
      "  positive)\n",
      "/Library/Frameworks/Python.framework/Versions/3.7/lib/python3.7/site-packages/sklearn/linear_model/_coordinate_descent.py:531: ConvergenceWarning: Objective did not converge. You might want to increase the number of iterations. Duality gap: 523.8823642073321, tolerance: 0.29993510833238773\n",
      "  positive)\n",
      "/Library/Frameworks/Python.framework/Versions/3.7/lib/python3.7/site-packages/sklearn/linear_model/_coordinate_descent.py:531: ConvergenceWarning: Objective did not converge. You might want to increase the number of iterations. Duality gap: 416.00555177585915, tolerance: 0.26457762142174945\n",
      "  positive)\n",
      "/Library/Frameworks/Python.framework/Versions/3.7/lib/python3.7/site-packages/sklearn/linear_model/_coordinate_descent.py:531: ConvergenceWarning: Objective did not converge. You might want to increase the number of iterations. Duality gap: 469.7894434681498, tolerance: 0.25803207161465713\n",
      "  positive)\n",
      "/Library/Frameworks/Python.framework/Versions/3.7/lib/python3.7/site-packages/sklearn/linear_model/_coordinate_descent.py:531: ConvergenceWarning: Objective did not converge. You might want to increase the number of iterations. Duality gap: 630.2051655674763, tolerance: 0.28554431878486997\n",
      "  positive)\n"
     ]
    }
   ],
   "source": [
    "# your code here\n",
    "# Make empty dictionary to store count of degrees for each bootstrap\n",
    "significant_degrees = {}\n",
    "for i in range(maxdeg+1):\n",
    "    significant_degrees[i+1] = 0\n",
    "\n",
    "numBoots = 300\n",
    "\n",
    "for a in range(numBoots):\n",
    "    df_new = bacteria_train.sample(replace = True,frac = 1)\n",
    "    \n",
    "    # Assign the values of the 'x' column as the predictor from your sampled dataframe\n",
    "    x = df_new[['Spreading_factor']].values\n",
    "    # Assign the values of the 'y' column as the response from your sampled dataframe\n",
    "    y = df_new['Perc_population'].values\n",
    "    \n",
    "    # Compute the polynomial features\n",
    "    x_poly = PolynomialFeatures(degree = maxdeg, include_bias = False).fit_transform(x.reshape(-1,1))\n",
    "    \n",
    "    # Train a Lasso model with the best alpha computed above\n",
    "    lasso = Lasso(alpha=best_alpha)\n",
    "    lasso.fit(x_poly,y)\n",
    "    \n",
    "    for i, beta in enumerate(lasso.coef_):\n",
    "        if abs(beta)>0.1:\n",
    "            significant_degrees[i+1] = significant_degrees[i+1] + 1"
   ]
  },
  {
   "cell_type": "code",
   "execution_count": 44,
   "metadata": {
    "deletable": false
   },
   "outputs": [
    {
     "data": {
      "text/plain": [
       "(0, 10)"
      ]
     },
     "execution_count": 44,
     "metadata": {},
     "output_type": "execute_result"
    },
    {
     "data": {
      "image/png": "[encoded data removed]",
      "text/plain": [
       "<Figure size 432x288 with 1 Axes>"
      ]
     },
     "metadata": {
      "needs_background": "light"
     },
     "output_type": "display_data"
    }
   ],
   "source": [
    "# your code here\n",
    "# Plot bar chart of significant degrees\n",
    "plt.bar(significant_degrees.keys(),significant_degrees.values())\n",
    "plt.ylabel(\"Counts\")\n",
    "plt.xlabel(\"Degree\")\n",
    "plt.title(\"Distribution of Significant Degrees in Bootstrap LASSO Regressions\")\n",
    "plt.xlim(0,10)"
   ]
  },
  {
   "cell_type": "markdown",
   "metadata": {
    "autograde": "6.3",
    "deletable": false,
    "editable": false
   },
   "source": [
    "<div class='exercise-r'>  \n",
    " \n",
    "**6.3** [5 pts] Compute and print the MSE on the test set\n",
    " \n",
    " Now, from the previous plot, you can see that only some degrees are consistently significant over several bootstraps. You will now retrain the *L1* regularized model on the entire **training** data and find the test $MSE$\n",
    " \n",
    " #### Instructions\n",
    " \n",
    " - Based on the plot from 6.2, choose the maximum degree of the polynomial you will fit for your final model.\n",
    " - Retrain the *regularized* ***LASSO*** model with your chosen degree on the entire test set and report the $MSE$ on the test set.\n",
    " - Find and print the degrees of the polynomial that have cofficients with absolute value greater than 0.1\n",
    " - Save the test $MSE$ to `best_mse_dict`.\n",
    " \n",
    " </div>"
   ]
  },
  {
   "cell_type": "code",
   "execution_count": 45,
   "metadata": {
    "deletable": false,
    "scrolled": true
   },
   "outputs": [
    {
     "name": "stdout",
     "output_type": "stream",
     "text": [
      "Our test MSE is: 2.601609082889326\n",
      "beta 1 has coefficient: 2.0905291874486713\n",
      "beta 2 has coefficient: 1.4374915647667388\n",
      "beta 3 has coefficient: -0.10482101630489542\n",
      "beta 4 has coefficient: -0.26387234484823796\n"
     ]
    }
   ],
   "source": [
    "# your code here\n",
    "degree = 4 # chosen from bar plot in 6.2\n",
    "\n",
    "# Polynomial features on test set\n",
    "x_poly_train = PolynomialFeatures(degree=degree,include_bias=False).fit_transform(x_train.reshape(-1,1))\n",
    "x_poly_test = PolynomialFeatures(degree=degree,include_bias=False).fit_transform(x_test.reshape(-1,1))\n",
    "\n",
    "# Train a Lasso model with the best alpha computed above\n",
    "lasso = Lasso(alpha=best_alpha)\n",
    "lasso.fit(x_poly_train,y_train)\n",
    "\n",
    "# Predict on the test set\n",
    "y_pred = lasso.predict(x_poly_test)\n",
    "\n",
    "best_mse_dict[6.3] = mean_squared_error(y_test, y_pred)\n",
    "print(\"Our test MSE is: \" + str(best_mse_dict[6.3]))\n",
    "\n",
    "# Find and print the degrees of the polynomial that have coefficients with abs value greater than 0.1\n",
    "for i, beta in enumerate(lasso.coef_):\n",
    "    if abs(beta)>0.1:\n",
    "        print(\"beta \" + str(i+1) + \" has coefficient: \" + str(beta))"
   ]
  },
  {
   "cell_type": "code",
   "execution_count": 46,
   "metadata": {
    "deletable": false
   },
   "outputs": [],
   "source": [
    "# your code here\n"
   ]
  },
  {
   "cell_type": "code",
   "execution_count": 47,
   "metadata": {
    "deletable": false
   },
   "outputs": [],
   "source": [
    "# your code here\n"
   ]
  },
  {
   "cell_type": "markdown",
   "metadata": {
    "autograde": "6.4",
    "deletable": false,
    "editable": false
   },
   "source": [
    "<div class='exercise-r'>  \n",
    " \n",
    "**6.4** [5 pts] What are your observations?\n",
    " \n",
    " - Compare your `best_degree` from question 5 with your chosen degree in 6.3 above and comment on the difference.\n",
    " - Which degree coefficients in your best fit model from above are significant? If not all coefficients are significant, why?\n",
    " - Compare your test $MSE$ in this question with the result from question 5. Which one is smaller, and by how much?\n",
    " - Is your current model more reliable than the models in question 5 and prior? On what basis do you claim its robustness?\n",
    " \n",
    " \n",
    " </div>"
   ]
  },
  {
   "cell_type": "code",
   "execution_count": 48,
   "metadata": {
    "deletable": false
   },
   "outputs": [
    {
     "name": "stdout",
     "output_type": "stream",
     "text": [
      "Best MSE for question 5 is: 2.613010637353011\n",
      "Best MSE for question 6 is: 2.601609082889326\n"
     ]
    }
   ],
   "source": [
    "# your code here\n",
    "print(\"Best MSE for question 5 is: \" + str(best_mse_dict[5.3]))\n",
    "print(\"Best MSE for question 6 is: \" + str(best_mse_dict[6.3]))"
   ]
  },
  {
   "cell_type": "markdown",
   "metadata": {
    "deletable": false
   },
   "source": [
    "This time our best degree is 4 polynomial model, whereas for question 4 and 5 the best degree polynomial model was 8. Likely this is due to our lasso regularisation which has helped us avoid much of the overfitting problems that we had mentioned about our model with polynomial degree 8 because lasso regularisation includes a loss function for overfitting. We found that all of the degree coefficients in our best fit model above are significant (although beta 3 is very close to being insignificant). This model actually has a better test MSE than the result for question 5. Our new model has a MSE that is smaller by about 0.007. I would argue that this model is more reliable than the models in question 5 and prior. This is shown by the fact that this model actually has a better MSE when evaluated on our test data set than our previous models. In particular, this model suffers less from overfitting which is the main reason that I would argue that this model is more robust."
   ]
  },
  {
   "cell_type": "markdown",
   "metadata": {
    "cell_id": "fe903f84-5847-4e97-95c5-4424e57a375c",
    "deletable": false,
    "editable": false,
    "tags": []
   },
   "source": [
    "<div class='exercise'><b> Question 7:   Analyze your best test MSEs for each sub section of the homework [10 points total]</b></div>\n",
    "\n",
    "**7.1** [4 pts] Convert the `best_mse_dict` dictionary used to store the best MSE values from each section of the homework into a pandas dataframe. \n",
    "\n",
    "- Take a look at how the $MSE$ values have varied throughout the homework and plot these $MSE$ values in a bar chart, including proper labels and title.\n",
    "\n",
    "**7.2** [6 pts] Which model do you think is best, and why? What are some of its drawbacks compared to the other methods you tested? "
   ]
  },
  {
   "cell_type": "markdown",
   "metadata": {
    "deletable": false,
    "editable": false
   },
   "source": [
    "### Your Answers"
   ]
  },
  {
   "cell_type": "markdown",
   "metadata": {
    "autograde": "7.1",
    "deletable": false,
    "editable": false
   },
   "source": [
    "<div class='exercise-r'>  \n",
    " \n",
    "**7.1** [4 pts] Convert the `best_mse_dict` dictionary used to store the best MSE values from each section of the homework into a pandas dataframe.\n",
    " \n",
    " - Take a look at how the $MSE$ values have varied throughout the homework and plot these $MSE$ values in a bar chart, including proper labels and title.\n",
    " \n",
    " </div>"
   ]
  },
  {
   "cell_type": "code",
   "execution_count": 49,
   "metadata": {
    "deletable": false
   },
   "outputs": [
    {
     "data": {
      "text/html": [
       "<div>\n",
       "<style scoped>\n",
       "    .dataframe tbody tr th:only-of-type {\n",
       "        vertical-align: middle;\n",
       "    }\n",
       "\n",
       "    .dataframe tbody tr th {\n",
       "        vertical-align: top;\n",
       "    }\n",
       "\n",
       "    .dataframe thead th {\n",
       "        text-align: right;\n",
       "    }\n",
       "</style>\n",
       "<table border=\"1\" class=\"dataframe\">\n",
       "  <thead>\n",
       "    <tr style=\"text-align: right;\">\n",
       "      <th></th>\n",
       "      <th>0</th>\n",
       "    </tr>\n",
       "  </thead>\n",
       "  <tbody>\n",
       "    <tr>\n",
       "      <th>2.1</th>\n",
       "      <td>2.674863</td>\n",
       "    </tr>\n",
       "    <tr>\n",
       "      <th>3.2</th>\n",
       "      <td>2.736483</td>\n",
       "    </tr>\n",
       "    <tr>\n",
       "      <th>4.2</th>\n",
       "      <td>2.613011</td>\n",
       "    </tr>\n",
       "    <tr>\n",
       "      <th>5.3</th>\n",
       "      <td>2.613011</td>\n",
       "    </tr>\n",
       "    <tr>\n",
       "      <th>6.3</th>\n",
       "      <td>2.601609</td>\n",
       "    </tr>\n",
       "  </tbody>\n",
       "</table>\n",
       "</div>"
      ],
      "text/plain": [
       "            0\n",
       "2.1  2.674863\n",
       "3.2  2.736483\n",
       "4.2  2.613011\n",
       "5.3  2.613011\n",
       "6.3  2.601609"
      ]
     },
     "execution_count": 49,
     "metadata": {},
     "output_type": "execute_result"
    }
   ],
   "source": [
    "# your code here\n",
    "last_df = pd.DataFrame.from_dict(best_mse_dict, orient='index')\n",
    "last_df.head()"
   ]
  },
  {
   "cell_type": "code",
   "execution_count": 50,
   "metadata": {
    "deletable": false
   },
   "outputs": [
    {
     "data": {
      "text/plain": [
       "Text(0.5, 1.0, 'Best MSEs')"
      ]
     },
     "execution_count": 50,
     "metadata": {},
     "output_type": "execute_result"
    },
    {
     "data": {
      "image/png": "[encoded data removed]",
      "text/plain": [
       "<Figure size 432x288 with 1 Axes>"
      ]
     },
     "metadata": {
      "needs_background": "light"
     },
     "output_type": "display_data"
    }
   ],
   "source": [
    "# your code here\n",
    "ax = last_df.plot.bar()\n",
    "ax.set_ylim(2.58,2.75)\n",
    "ax.set_xlabel(\"Question Number\")\n",
    "ax.set_ylabel(\"Test MSE\")\n",
    "ax.set_title(\"Best MSEs\")"
   ]
  },
  {
   "cell_type": "markdown",
   "metadata": {
    "autograde": "7.2",
    "deletable": false,
    "editable": false
   },
   "source": [
    "**7.2** [6 pts] Which model do you think is best, and why? What are some of its drawbacks compared to the other methods you tested?"
   ]
  },
  {
   "cell_type": "markdown",
   "metadata": {
    "deletable": false
   },
   "source": [
    "The best model is the one from question 6.3 because it performs the best (when evaluated by MSE) on the test dataset. Clearly, our model with the guesstimated degree from question 2.1 is not the best model as it has a significantly higher MSE on the test dataset than any other model. That's to be expected since our data set has a lot of variance and a polynomial of degree 2 would not capture enough of the variation. Our model of degree 15 from question 3.2 would also definitely not be a good choice because it severly suffers from overfitting. As we also mentioned, our polynomial models of degree 8 from questions 4.2 and 5.3 also likely suffer from a lot of overfitting at the edges of our range of data which has caused it to have higher MSE on the test set than our polynomial of degree 4 that we selected from in question 6.3. This is because regularisation includes a loss term that punishes overfitting making our model more robust and thus a better fit when we evaluated on the test data set. One drawback would be that since the polynomial model does not have as high of a degree, this model likely does not fit the middle of our range of data values as well as our models of degree 8. As we mentioned, our model has significiant variability, so if we were only concerned with the middle of our range of data values and did not care about the fit at the edges of the range, then in fact we may prefer the model with a higher degree because more bends in our fitted model can allow it to fit more of the variation in the middle of the range of our data set."
   ]
  },
  {
   "cell_type": "markdown",
   "metadata": {
    "deletable": false,
    "editable": false
   },
   "source": [
    "#### THE END"
   ]
  },
  {
   "cell_type": "code",
   "execution_count": null,
   "metadata": {},
   "outputs": [],
   "source": []
  }
 ],
 "metadata": {
  "colab": {
   "collapsed_sections": [],
   "name": "Homework2.ipynb",
   "provenance": []
  },
  "deepnote_execution_queue": [
   {
    "cellId": "7925de61-e041-437e-ba6b-b1c3e1b2fb0c",
    "msgId": "81bcbf6f-fa59-42e6-9480-bc996bae8f99",
    "sessionId": "e7116124-0a70-4245-961a-e0041ff25d29"
   },
   {
    "cellId": "32ac05dc-6db8-4c64-8028-4a6e4c16ec1c",
    "msgId": "17b61e3a-31e9-45e0-b1c8-cba828b9a48d",
    "sessionId": "e7116124-0a70-4245-961a-e0041ff25d29"
   },
   {
    "cellId": "9e4ea6c6-2cb0-4aa1-b5bf-67be3a47ac87",
    "msgId": "66b23ef4-2198-4543-a34e-3b998d83f1c7",
    "sessionId": "e7116124-0a70-4245-961a-e0041ff25d29"
   },
   {
    "cellId": "0cdef907-9d0f-4057-a70b-71022017e321",
    "msgId": "125b9c17-7ffa-4214-9ca2-27e9e34df7c7",
    "sessionId": "e7116124-0a70-4245-961a-e0041ff25d29"
   },
   {
    "cellId": "2eefd92c-1d9f-49fe-a7f7-d7f0f4f59e95",
    "msgId": "81a1b165-ee3a-4ab0-afff-99f4dfa74eef",
    "sessionId": "e7116124-0a70-4245-961a-e0041ff25d29"
   },
   {
    "cellId": "40b93f58-240f-49bc-ab9c-a919d74b8e61",
    "msgId": "4b00a64e-a71b-4cf9-a228-cbabdbee0414",
    "sessionId": "e7116124-0a70-4245-961a-e0041ff25d29"
   },
   {
    "cellId": "2f3d3efa-8220-44b2-afbf-9600c2fea073",
    "msgId": "5bdcc501-f577-4908-9e85-aa52b44f652f",
    "sessionId": "e7116124-0a70-4245-961a-e0041ff25d29"
   },
   {
    "cellId": "2f3d3efa-8220-44b2-afbf-9600c2fea073",
    "msgId": "96fa923e-991c-409f-954b-1a9d036a7f0a",
    "sessionId": "e7116124-0a70-4245-961a-e0041ff25d29"
   },
   {
    "cellId": "cc0c9423-6587-41fb-88c4-5e7db61d7791",
    "msgId": "c4775dd8-e4e3-4505-865a-d2b54022e97c",
    "sessionId": "e7116124-0a70-4245-961a-e0041ff25d29"
   },
   {
    "cellId": "4f9d6f96-a6b7-4951-a98a-f29e0351a113",
    "msgId": "2721b704-5efa-4783-a128-ea0b813e202f",
    "sessionId": "e7116124-0a70-4245-961a-e0041ff25d29"
   },
   {
    "cellId": "4f9d6f96-a6b7-4951-a98a-f29e0351a113",
    "msgId": "14cd3ada-ede8-4693-b8ce-b1254e5357cb",
    "sessionId": "e7116124-0a70-4245-961a-e0041ff25d29"
   },
   {
    "cellId": "1e847ea0-95b4-47fa-8c71-09636de2c913",
    "msgId": "a53842aa-e7d2-4787-a474-04717a13bf12",
    "sessionId": "e7116124-0a70-4245-961a-e0041ff25d29"
   },
   {
    "cellId": "4b9d11b1-bc81-4937-8924-eda535bbe287",
    "msgId": "f9fa1ff3-ed3e-4876-8bb3-239ee4ec0279",
    "sessionId": "e7116124-0a70-4245-961a-e0041ff25d29"
   },
   {
    "cellId": "8e836c0a-f87f-43f5-9448-838d0028b904",
    "msgId": "f7641d44-aaf7-4676-bbd4-439a47d4db1f",
    "sessionId": "e7116124-0a70-4245-961a-e0041ff25d29"
   },
   {
    "cellId": "c72943b7-5e58-4fe3-9225-fa0beeff3654",
    "msgId": "1878748e-321b-484f-bee1-344ec8caf68e",
    "sessionId": "e7116124-0a70-4245-961a-e0041ff25d29"
   },
   {
    "cellId": "c4bd7d98-380a-4853-8114-51d41f0cfd95",
    "msgId": "af49c97c-7c7c-4b0c-9543-5c38d238fffb",
    "sessionId": "e7116124-0a70-4245-961a-e0041ff25d29"
   },
   {
    "cellId": "c4bd7d98-380a-4853-8114-51d41f0cfd95",
    "msgId": "691b283d-e47a-4686-9e73-4f457365a32a",
    "sessionId": "e7116124-0a70-4245-961a-e0041ff25d29"
   }
  ],
  "deepnote_notebook_id": "80dec77d-caa5-42a3-a211-a1492a1ab3e6",
  "kernelspec": {
   "display_name": "Python 3",
   "language": "python",
   "name": "python3"
  },
  "language_info": {
   "codemirror_mode": {
    "name": "ipython",
    "version": 3
   },
   "file_extension": ".py",
   "mimetype": "text/x-python",
   "name": "python",
   "nbconvert_exporter": "python",
   "pygments_lexer": "ipython3",
   "version": "3.7.4"
  }
 },
 "nbformat": 4,
 "nbformat_minor": 4
}
